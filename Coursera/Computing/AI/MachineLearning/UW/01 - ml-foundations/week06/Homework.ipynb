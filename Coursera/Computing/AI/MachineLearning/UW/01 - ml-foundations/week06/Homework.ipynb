{
 "cells": [
  {
   "cell_type": "markdown",
   "metadata": {},
   "source": [
    "# Homework"
   ]
  },
  {
   "cell_type": "code",
   "execution_count": 1,
   "metadata": {
    "collapsed": true
   },
   "outputs": [],
   "source": [
    "import graphlab"
   ]
  },
  {
   "cell_type": "code",
   "execution_count": 45,
   "metadata": {
    "collapsed": false
   },
   "outputs": [],
   "source": [
    "image_train = graphlab.SFrame('image_train_data/')\n",
    "image_test = graphlab.SFrame('image_test_data/')\n",
    "graphlab.canvas.set_target('ipynb')"
   ]
  },
  {
   "cell_type": "code",
   "execution_count": 46,
   "metadata": {
    "collapsed": false
   },
   "outputs": [
    {
     "data": {
      "text/html": [
       "<div style=\"max-height:1000px;max-width:1500px;overflow:auto;\"><table frame=\"box\" rules=\"cols\">\n",
       "    <tr>\n",
       "        <th style=\"padding-left: 1em; padding-right: 1em; text-align: center\">id</th>\n",
       "        <th style=\"padding-left: 1em; padding-right: 1em; text-align: center\">image</th>\n",
       "        <th style=\"padding-left: 1em; padding-right: 1em; text-align: center\">label</th>\n",
       "        <th style=\"padding-left: 1em; padding-right: 1em; text-align: center\">deep_features</th>\n",
       "        <th style=\"padding-left: 1em; padding-right: 1em; text-align: center\">image_array</th>\n",
       "    </tr>\n",
       "    <tr>\n",
       "        <td style=\"padding-left: 1em; padding-right: 1em; text-align: center; vertical-align: top\">24</td>\n",
       "        <td style=\"padding-left: 1em; padding-right: 1em; text-align: center; vertical-align: top\">Height: 32 Width: 32</td>\n",
       "        <td style=\"padding-left: 1em; padding-right: 1em; text-align: center; vertical-align: top\">bird</td>\n",
       "        <td style=\"padding-left: 1em; padding-right: 1em; text-align: center; vertical-align: top\">[0.242871761322,<br>1.09545373917, 0.0, ...</td>\n",
       "        <td style=\"padding-left: 1em; padding-right: 1em; text-align: center; vertical-align: top\">[73.0, 77.0, 58.0, 71.0,<br>68.0, 50.0, 77.0, 69.0, ...</td>\n",
       "    </tr>\n",
       "    <tr>\n",
       "        <td style=\"padding-left: 1em; padding-right: 1em; text-align: center; vertical-align: top\">33</td>\n",
       "        <td style=\"padding-left: 1em; padding-right: 1em; text-align: center; vertical-align: top\">Height: 32 Width: 32</td>\n",
       "        <td style=\"padding-left: 1em; padding-right: 1em; text-align: center; vertical-align: top\">cat</td>\n",
       "        <td style=\"padding-left: 1em; padding-right: 1em; text-align: center; vertical-align: top\">[0.525087952614, 0.0,<br>0.0, 0.0, 0.0, 0.0, ...</td>\n",
       "        <td style=\"padding-left: 1em; padding-right: 1em; text-align: center; vertical-align: top\">[7.0, 5.0, 8.0, 7.0, 5.0,<br>8.0, 5.0, 4.0, 6.0, 7.0, ...</td>\n",
       "    </tr>\n",
       "    <tr>\n",
       "        <td style=\"padding-left: 1em; padding-right: 1em; text-align: center; vertical-align: top\">36</td>\n",
       "        <td style=\"padding-left: 1em; padding-right: 1em; text-align: center; vertical-align: top\">Height: 32 Width: 32</td>\n",
       "        <td style=\"padding-left: 1em; padding-right: 1em; text-align: center; vertical-align: top\">cat</td>\n",
       "        <td style=\"padding-left: 1em; padding-right: 1em; text-align: center; vertical-align: top\">[0.566015958786, 0.0,<br>0.0, 0.0, 0.0, 0.0, ...</td>\n",
       "        <td style=\"padding-left: 1em; padding-right: 1em; text-align: center; vertical-align: top\">[169.0, 122.0, 65.0,<br>131.0, 108.0, 75.0, ...</td>\n",
       "    </tr>\n",
       "    <tr>\n",
       "        <td style=\"padding-left: 1em; padding-right: 1em; text-align: center; vertical-align: top\">70</td>\n",
       "        <td style=\"padding-left: 1em; padding-right: 1em; text-align: center; vertical-align: top\">Height: 32 Width: 32</td>\n",
       "        <td style=\"padding-left: 1em; padding-right: 1em; text-align: center; vertical-align: top\">dog</td>\n",
       "        <td style=\"padding-left: 1em; padding-right: 1em; text-align: center; vertical-align: top\">[1.12979578972, 0.0, 0.0,<br>0.778194487095, 0.0, ...</td>\n",
       "        <td style=\"padding-left: 1em; padding-right: 1em; text-align: center; vertical-align: top\">[154.0, 179.0, 152.0,<br>159.0, 183.0, 157.0, ...</td>\n",
       "    </tr>\n",
       "    <tr>\n",
       "        <td style=\"padding-left: 1em; padding-right: 1em; text-align: center; vertical-align: top\">90</td>\n",
       "        <td style=\"padding-left: 1em; padding-right: 1em; text-align: center; vertical-align: top\">Height: 32 Width: 32</td>\n",
       "        <td style=\"padding-left: 1em; padding-right: 1em; text-align: center; vertical-align: top\">bird</td>\n",
       "        <td style=\"padding-left: 1em; padding-right: 1em; text-align: center; vertical-align: top\">[1.71786928177, 0.0, 0.0,<br>0.0, 0.0, 0.0, ...</td>\n",
       "        <td style=\"padding-left: 1em; padding-right: 1em; text-align: center; vertical-align: top\">[216.0, 195.0, 180.0,<br>201.0, 178.0, 160.0, ...</td>\n",
       "    </tr>\n",
       "    <tr>\n",
       "        <td style=\"padding-left: 1em; padding-right: 1em; text-align: center; vertical-align: top\">97</td>\n",
       "        <td style=\"padding-left: 1em; padding-right: 1em; text-align: center; vertical-align: top\">Height: 32 Width: 32</td>\n",
       "        <td style=\"padding-left: 1em; padding-right: 1em; text-align: center; vertical-align: top\">automobile</td>\n",
       "        <td style=\"padding-left: 1em; padding-right: 1em; text-align: center; vertical-align: top\">[1.57818555832, 0.0, 0.0,<br>0.0, 0.0, 0.0, ...</td>\n",
       "        <td style=\"padding-left: 1em; padding-right: 1em; text-align: center; vertical-align: top\">[33.0, 44.0, 27.0, 29.0,<br>44.0, 31.0, 32.0, 45.0, ...</td>\n",
       "    </tr>\n",
       "    <tr>\n",
       "        <td style=\"padding-left: 1em; padding-right: 1em; text-align: center; vertical-align: top\">107</td>\n",
       "        <td style=\"padding-left: 1em; padding-right: 1em; text-align: center; vertical-align: top\">Height: 32 Width: 32</td>\n",
       "        <td style=\"padding-left: 1em; padding-right: 1em; text-align: center; vertical-align: top\">dog</td>\n",
       "        <td style=\"padding-left: 1em; padding-right: 1em; text-align: center; vertical-align: top\">[0.0, 0.0,<br>0.220677852631, 0.0,  ...</td>\n",
       "        <td style=\"padding-left: 1em; padding-right: 1em; text-align: center; vertical-align: top\">[97.0, 51.0, 31.0, 104.0,<br>58.0, 38.0, 107.0, 61.0, ...</td>\n",
       "    </tr>\n",
       "    <tr>\n",
       "        <td style=\"padding-left: 1em; padding-right: 1em; text-align: center; vertical-align: top\">121</td>\n",
       "        <td style=\"padding-left: 1em; padding-right: 1em; text-align: center; vertical-align: top\">Height: 32 Width: 32</td>\n",
       "        <td style=\"padding-left: 1em; padding-right: 1em; text-align: center; vertical-align: top\">bird</td>\n",
       "        <td style=\"padding-left: 1em; padding-right: 1em; text-align: center; vertical-align: top\">[0.0, 0.23753464222, 0.0,<br>0.0, 0.0, 0.0, ...</td>\n",
       "        <td style=\"padding-left: 1em; padding-right: 1em; text-align: center; vertical-align: top\">[93.0, 96.0, 88.0, 102.0,<br>106.0, 97.0, 117.0, ...</td>\n",
       "    </tr>\n",
       "    <tr>\n",
       "        <td style=\"padding-left: 1em; padding-right: 1em; text-align: center; vertical-align: top\">136</td>\n",
       "        <td style=\"padding-left: 1em; padding-right: 1em; text-align: center; vertical-align: top\">Height: 32 Width: 32</td>\n",
       "        <td style=\"padding-left: 1em; padding-right: 1em; text-align: center; vertical-align: top\">automobile</td>\n",
       "        <td style=\"padding-left: 1em; padding-right: 1em; text-align: center; vertical-align: top\">[0.0, 0.0, 0.0, 0.0, 0.0,<br>0.0, 7.5737862587, 0.0, ...</td>\n",
       "        <td style=\"padding-left: 1em; padding-right: 1em; text-align: center; vertical-align: top\">[35.0, 59.0, 53.0, 36.0,<br>56.0, 56.0, 42.0, 62.0, ...</td>\n",
       "    </tr>\n",
       "    <tr>\n",
       "        <td style=\"padding-left: 1em; padding-right: 1em; text-align: center; vertical-align: top\">138</td>\n",
       "        <td style=\"padding-left: 1em; padding-right: 1em; text-align: center; vertical-align: top\">Height: 32 Width: 32</td>\n",
       "        <td style=\"padding-left: 1em; padding-right: 1em; text-align: center; vertical-align: top\">bird</td>\n",
       "        <td style=\"padding-left: 1em; padding-right: 1em; text-align: center; vertical-align: top\">[0.658935725689, 0.0,<br>0.0, 0.0, 0.0, 0.0, ...</td>\n",
       "        <td style=\"padding-left: 1em; padding-right: 1em; text-align: center; vertical-align: top\">[205.0, 193.0, 195.0,<br>200.0, 187.0, 193.0, ...</td>\n",
       "    </tr>\n",
       "</table>\n",
       "[10 rows x 5 columns]<br/>\n",
       "</div>"
      ],
      "text/plain": [
       "Columns:\n",
       "\tid\tint\n",
       "\timage\tImage\n",
       "\tlabel\tstr\n",
       "\tdeep_features\tarray\n",
       "\timage_array\tarray\n",
       "\n",
       "Rows: 10\n",
       "\n",
       "Data:\n",
       "+-----+----------------------+------------+-------------------------------+\n",
       "|  id |        image         |   label    |         deep_features         |\n",
       "+-----+----------------------+------------+-------------------------------+\n",
       "|  24 | Height: 32 Width: 32 |    bird    | [0.242871761322, 1.0954537... |\n",
       "|  33 | Height: 32 Width: 32 |    cat     | [0.525087952614, 0.0, 0.0,... |\n",
       "|  36 | Height: 32 Width: 32 |    cat     | [0.566015958786, 0.0, 0.0,... |\n",
       "|  70 | Height: 32 Width: 32 |    dog     | [1.12979578972, 0.0, 0.0, ... |\n",
       "|  90 | Height: 32 Width: 32 |    bird    | [1.71786928177, 0.0, 0.0, ... |\n",
       "|  97 | Height: 32 Width: 32 | automobile | [1.57818555832, 0.0, 0.0, ... |\n",
       "| 107 | Height: 32 Width: 32 |    dog     | [0.0, 0.0, 0.220677852631,... |\n",
       "| 121 | Height: 32 Width: 32 |    bird    | [0.0, 0.23753464222, 0.0, ... |\n",
       "| 136 | Height: 32 Width: 32 | automobile | [0.0, 0.0, 0.0, 0.0, 0.0, ... |\n",
       "| 138 | Height: 32 Width: 32 |    bird    | [0.658935725689, 0.0, 0.0,... |\n",
       "+-----+----------------------+------------+-------------------------------+\n",
       "+-------------------------------+\n",
       "|          image_array          |\n",
       "+-------------------------------+\n",
       "| [73.0, 77.0, 58.0, 71.0, 6... |\n",
       "| [7.0, 5.0, 8.0, 7.0, 5.0, ... |\n",
       "| [169.0, 122.0, 65.0, 131.0... |\n",
       "| [154.0, 179.0, 152.0, 159.... |\n",
       "| [216.0, 195.0, 180.0, 201.... |\n",
       "| [33.0, 44.0, 27.0, 29.0, 4... |\n",
       "| [97.0, 51.0, 31.0, 104.0, ... |\n",
       "| [93.0, 96.0, 88.0, 102.0, ... |\n",
       "| [35.0, 59.0, 53.0, 36.0, 5... |\n",
       "| [205.0, 193.0, 195.0, 200.... |\n",
       "+-------------------------------+\n",
       "[10 rows x 5 columns]"
      ]
     },
     "execution_count": 46,
     "metadata": {},
     "output_type": "execute_result"
    }
   ],
   "source": [
    "image_train.head()"
   ]
  },
  {
   "cell_type": "markdown",
   "metadata": {},
   "source": [
    "** 1. Computing summary statistics of the data:** Sketch summaries are techniques for computing summary statistics of data very quickly. In GraphLab Create, SFrames and SArrays include a method: `.sketch_summary()` which computes such summary statistics. Using the training data, compute the sketch summary of the `label` column and interpret the results. What’s the least common category in the training data?"
   ]
  },
  {
   "cell_type": "code",
   "execution_count": 3,
   "metadata": {
    "collapsed": false
   },
   "outputs": [
    {
     "data": {
      "text/plain": [
       "\n",
       "+------------------+-------+----------+\n",
       "|       item       | value | is exact |\n",
       "+------------------+-------+----------+\n",
       "|      Length      |  2005 |   Yes    |\n",
       "| # Missing Values |   0   |   Yes    |\n",
       "| # unique values  |   4   |    No    |\n",
       "+------------------+-------+----------+\n",
       "\n",
       "Most frequent items:\n",
       "+-------+------------+-----+-----+------+\n",
       "| value | automobile | cat | dog | bird |\n",
       "+-------+------------+-----+-----+------+\n",
       "| count |    509     | 509 | 509 | 478  |\n",
       "+-------+------------+-----+-----+------+\n"
      ]
     },
     "execution_count": 3,
     "metadata": {},
     "output_type": "execute_result"
    }
   ],
   "source": [
    "image_train['label'].sketch_summary()"
   ]
  },
  {
   "cell_type": "markdown",
   "metadata": {},
   "source": [
    "** 2. Creating category-specific image retrieval models:** In most retrieval tasks, the data we have is unlabeled, thus we call these unsupervised learning problems. However, we have labels in this image dataset, and will use these to create one model for each of the 4 image categories, `{‘dog’,’cat’,’automobile’,bird’}`. To start, follow these steps:\n",
    "\n",
    "* Split the SFrame with the training data into 4 different SFrames. Each of these will contain data for 1 of the 4 categories above. Hint: if you use a logical filter to select the rows where the `label` column equals `dog`, you can create an SFrame with only the data for images labeled `dog`.\n",
    "\n",
    "* Similarly to the image retrieval notebook you downloaded, you are going to create a nearest neighbor model using the `deep_features` as the features, but this time create one such model for each category, using the corresponding subset of the training_data. You can call the model with the `dog` data the `dog_model`, the one with the `cat` data the `cat_model`, as so on.\n",
    "\n",
    "Using these models, answer the following questions"
   ]
  },
  {
   "cell_type": "code",
   "execution_count": 4,
   "metadata": {
    "collapsed": false
   },
   "outputs": [
    {
     "name": "stdout",
     "output_type": "stream",
     "text": [
      "+-------+------------+-----+-----+------+\n",
      "| value | automobile | cat | dog | bird |\n",
      "+-------+------------+-----+-----+------+\n",
      "| count |    509     | 509 | 509 | 478  |\n",
      "+-------+------------+-----+-----+------+\n"
     ]
    }
   ],
   "source": [
    "dog_data = image_train[image_train['label'] == 'dog']\n",
    "cat_data = image_train[image_train['label'] == 'cat']\n",
    "bird_data = image_train[image_train['label'] == 'bird']\n",
    "automobile_data = image_train[image_train['label'] == 'automobile']\n",
    "\n",
    "lengths = (len(automobile_data), len(cat_data), len(dog_data), len(bird_data))\n",
    "\n",
    "print '+-------+------------+-----+-----+------+'\n",
    "print '| value | automobile | cat | dog | bird |'\n",
    "print '+-------+------------+-----+-----+------+'\n",
    "print '| count |    %d     | %d | %d | %d  |' % lengths\n",
    "print '+-------+------------+-----+-----+------+'"
   ]
  },
  {
   "cell_type": "code",
   "execution_count": 5,
   "metadata": {
    "collapsed": false
   },
   "outputs": [
    {
     "data": {
      "text/html": [
       "<pre>Starting brute force nearest neighbors model training.</pre>"
      ],
      "text/plain": [
       "Starting brute force nearest neighbors model training."
      ]
     },
     "metadata": {},
     "output_type": "display_data"
    }
   ],
   "source": [
    "dog_model = graphlab.nearest_neighbors.create(dog_data, features=['deep_features'], label='id')"
   ]
  },
  {
   "cell_type": "code",
   "execution_count": 6,
   "metadata": {
    "collapsed": false
   },
   "outputs": [
    {
     "data": {
      "text/html": [
       "<pre>Starting brute force nearest neighbors model training.</pre>"
      ],
      "text/plain": [
       "Starting brute force nearest neighbors model training."
      ]
     },
     "metadata": {},
     "output_type": "display_data"
    }
   ],
   "source": [
    "cat_model = graphlab.nearest_neighbors.create(cat_data, features=['deep_features'], label='id')"
   ]
  },
  {
   "cell_type": "code",
   "execution_count": 7,
   "metadata": {
    "collapsed": false
   },
   "outputs": [
    {
     "data": {
      "text/html": [
       "<pre>Starting brute force nearest neighbors model training.</pre>"
      ],
      "text/plain": [
       "Starting brute force nearest neighbors model training."
      ]
     },
     "metadata": {},
     "output_type": "display_data"
    }
   ],
   "source": [
    "bird_model = graphlab.nearest_neighbors.create(bird_data, features=['deep_features'], label='id')"
   ]
  },
  {
   "cell_type": "code",
   "execution_count": 8,
   "metadata": {
    "collapsed": false
   },
   "outputs": [
    {
     "data": {
      "text/html": [
       "<pre>Starting brute force nearest neighbors model training.</pre>"
      ],
      "text/plain": [
       "Starting brute force nearest neighbors model training."
      ]
     },
     "metadata": {},
     "output_type": "display_data"
    }
   ],
   "source": [
    "automobile_model = graphlab.nearest_neighbors.create(automobile_data, features=['deep_features'], label='id')"
   ]
  },
  {
   "cell_type": "markdown",
   "metadata": {},
   "source": [
    "* What is the nearest `cat` labeled image in the training data to the first image of the first image in the test data?"
   ]
  },
  {
   "cell_type": "code",
   "execution_count": 9,
   "metadata": {
    "collapsed": false
   },
   "outputs": [
    {
     "data": {
      "application/javascript": [
       "$(\"head\").append($(\"<link/>\").attr({\n",
       "  rel:  \"stylesheet\",\n",
       "  type: \"text/css\",\n",
       "  href: \"//cdnjs.cloudflare.com/ajax/libs/font-awesome/4.1.0/css/font-awesome.min.css\"\n",
       "}));\n",
       "$(\"head\").append($(\"<link/>\").attr({\n",
       "  rel:  \"stylesheet\",\n",
       "  type: \"text/css\",\n",
       "  href: \"https://static.turi.com/products/graphlab-create/2.1/canvas/css/canvas.css\"\n",
       "}));\n",
       "\n",
       "            (function(){\n",
       "\n",
       "                var e = null;\n",
       "                if (typeof element == 'undefined') {\n",
       "                    var scripts = document.getElementsByTagName('script');\n",
       "                    var thisScriptTag = scripts[scripts.length-1];\n",
       "                    var parentDiv = thisScriptTag.parentNode;\n",
       "                    e = document.createElement('div');\n",
       "                    parentDiv.appendChild(e);\n",
       "                } else {\n",
       "                    e = element[0];\n",
       "                }\n",
       "\n",
       "                if (typeof requirejs !== 'undefined') {\n",
       "                    // disable load timeout; ipython_app.js is large and can take a while to load.\n",
       "                    requirejs.config({waitSeconds: 0});\n",
       "                }\n",
       "\n",
       "                require(['https://static.turi.com/products/graphlab-create/2.1/canvas/js/ipython_app.js'], function(IPythonApp){\n",
       "                    var app = new IPythonApp();\n",
       "                    app.attachView('sframe','Summary', {\"ipython\": true, \"sketch\": {\"deep_features\": {\"std\": 0.8288828889275912, \"complete\": true, \"min\": 0.0, \"max\": 9.353598594665527, \"quantile\": [0.0, 0.0, 0.0, 0.0, 0.0, 0.0, 0.0, 0.0, 0.0, 0.0, 0.0, 0.0, 0.0, 0.0, 0.0, 0.0, 0.0, 0.0, 0.0, 0.0, 0.0, 0.0, 0.0, 0.0, 0.0, 0.0, 0.0, 0.0, 0.0, 0.0, 0.0, 0.0, 0.0, 0.0, 0.0, 0.0, 0.0, 0.0, 0.0, 0.0, 0.0, 0.0, 0.0, 0.0, 0.0, 0.0, 0.0, 0.0, 0.0, 0.0, 0.0, 0.0, 0.0, 0.0, 0.0, 0.0, 0.0, 0.0, 0.0, 0.0, 0.0, 0.0, 0.0, 0.0, 0.0, 0.0, 0.0, 0.0, 0.0, 0.03717827796936035, 0.06813293695449829, 0.10979866981506348, 0.16188031435012817, 0.20940285921096802, 0.24921339750289917, 0.2975621223449707, 0.34616994857788086, 0.3842622637748718, 0.43705981969833374, 0.49249914288520813, 0.566623330116272, 0.6170889735221863, 0.6736264228820801, 0.7404013872146606, 0.8078051209449768, 0.8665962815284729, 0.9420584440231323, 1.0147778987884521, 1.1024317741394043, 1.1771767139434814, 1.286897897720337, 1.4062825441360474, 1.5203272104263306, 1.6295173168182373, 1.7874908447265625, 2.004812240600586, 2.2710518836975098, 2.5182478427886963, 2.9435696601867676, 3.803304672241211, 9.353598594665527], \"median\": 0.0, \"numeric\": true, \"num_unique\": 1301, \"num_undefined\": 0, \"var\": 0.6870468435569494, \"progress\": 1.0, \"size\": 4096, \"frequent_items\": {\"0.0\": {\"frequency\": 2793, \"value\": 0.0}, \"0.7023181915283203\": {\"frequency\": 1, \"value\": 0.7023181915283203}, \"1.0504378080368042\": {\"frequency\": 1, \"value\": 1.0504378080368042}, \"1.5510902404785156\": {\"frequency\": 1, \"value\": 1.5510902404785156}, \"0.913668155670166\": {\"frequency\": 1, \"value\": 0.913668155670166}, \"1.441542387008667\": {\"frequency\": 1, \"value\": 1.441542387008667}, \"0.03388404846191406\": {\"frequency\": 1, \"value\": 0.03388404846191406}, \"3.343876361846924\": {\"frequency\": 1, \"value\": 3.343876361846924}, \"0.5343070030212402\": {\"frequency\": 1, \"value\": 0.5343070030212402}, \"1.3438012599945068\": {\"frequency\": 1, \"value\": 1.3438012599945068}, \"1.1768437623977661\": {\"frequency\": 1, \"value\": 1.1768437623977661}, \"1.4338555335998535\": {\"frequency\": 1, \"value\": 1.4338555335998535}, \"0.393784761428833\": {\"frequency\": 1, \"value\": 0.393784761428833}, \"1.0211474895477295\": {\"frequency\": 1, \"value\": 1.0211474895477295}, \"0.7018892765045166\": {\"frequency\": 1, \"value\": 0.7018892765045166}, \"2.0918424129486084\": {\"frequency\": 1, \"value\": 2.0918424129486084}, \"1.0106449127197266\": {\"frequency\": 1, \"value\": 1.0106449127197266}, \"0.705341637134552\": {\"frequency\": 1, \"value\": 0.705341637134552}, \"0.40480339527130127\": {\"frequency\": 1, \"value\": 0.40480339527130127}, \"2.3313918113708496\": {\"frequency\": 1, \"value\": 2.3313918113708496}, \"0.8021998405456543\": {\"frequency\": 1, \"value\": 0.8021998405456543}, \"0.6878480315208435\": {\"frequency\": 1, \"value\": 0.6878480315208435}, \"1.5203272104263306\": {\"frequency\": 1, \"value\": 1.5203272104263306}, \"2.067873001098633\": {\"frequency\": 1, \"value\": 2.067873001098633}, \"1.0096217393875122\": {\"frequency\": 1, \"value\": 1.0096217393875122}, \"1.3819177150726318\": {\"frequency\": 1, \"value\": 1.3819177150726318}, \"0.16788464784622192\": {\"frequency\": 1, \"value\": 0.16788464784622192}, \"1.529710054397583\": {\"frequency\": 1, \"value\": 1.529710054397583}, \"0.33149105310440063\": {\"frequency\": 1, \"value\": 0.33149105310440063}, \"3.1819190979003906\": {\"frequency\": 1, \"value\": 3.1819190979003906}, \"0.6354844570159912\": {\"frequency\": 1, \"value\": 0.6354844570159912}, \"1.898282766342163\": {\"frequency\": 1, \"value\": 1.898282766342163}, \"0.296048641204834\": {\"frequency\": 1, \"value\": 0.296048641204834}, \"0.27911412715911865\": {\"frequency\": 1, \"value\": 0.27911412715911865}, \"5.310577869415283\": {\"frequency\": 1, \"value\": 5.310577869415283}, \"0.5249416828155518\": {\"frequency\": 1, \"value\": 0.5249416828155518}, \"0.5415886640548706\": {\"frequency\": 1, \"value\": 0.5415886640548706}, \"2.5774998664855957\": {\"frequency\": 1, \"value\": 2.5774998664855957}, \"0.6847498416900635\": {\"frequency\": 1, \"value\": 0.6847498416900635}, \"0.9093367457389832\": {\"frequency\": 1, \"value\": 0.9093367457389832}, \"0.1485689878463745\": {\"frequency\": 1, \"value\": 0.1485689878463745}, \"0.03664976358413696\": {\"frequency\": 1, \"value\": 0.03664976358413696}, \"0.12525862455368042\": {\"frequency\": 1, \"value\": 0.12525862455368042}, \"0.056079208850860596\": {\"frequency\": 1, \"value\": 0.056079208850860596}, \"2.1071970462799072\": {\"frequency\": 1, \"value\": 2.1071970462799072}, \"0.9803013205528259\": {\"frequency\": 1, \"value\": 0.9803013205528259}, \"0.20495057106018066\": {\"frequency\": 1, \"value\": 0.20495057106018066}, \"3.3635706901550293\": {\"frequency\": 1, \"value\": 3.3635706901550293}, \"2.596836566925049\": {\"frequency\": 1, \"value\": 2.596836566925049}, \"0.1414318084716797\": {\"frequency\": 1, \"value\": 0.1414318084716797}, \"0.8911041021347046\": {\"frequency\": 1, \"value\": 0.8911041021347046}, \"4.500796794891357\": {\"frequency\": 1, \"value\": 4.500796794891357}, \"1.8551489114761353\": {\"frequency\": 1, \"value\": 1.8551489114761353}, \"0.5294548869132996\": {\"frequency\": 1, \"value\": 0.5294548869132996}, \"0.21078139543533325\": {\"frequency\": 1, \"value\": 0.21078139543533325}, \"0.23651808500289917\": {\"frequency\": 1, \"value\": 0.23651808500289917}, \"0.6162922978401184\": {\"frequency\": 1, \"value\": 0.6162922978401184}, \"0.7780722975730896\": {\"frequency\": 1, \"value\": 0.7780722975730896}, \"0.6231931447982788\": {\"frequency\": 1, \"value\": 0.6231931447982788}, \"1.1515848636627197\": {\"frequency\": 1, \"value\": 1.1515848636627197}, \"0.9039587378501892\": {\"frequency\": 1, \"value\": 0.9039587378501892}, \"0.5920017957687378\": {\"frequency\": 1, \"value\": 0.5920017957687378}, \"1.2899503707885742\": {\"frequency\": 1, \"value\": 1.2899503707885742}, \"4.92692232131958\": {\"frequency\": 1, \"value\": 4.92692232131958}, \"0.38189560174942017\": {\"frequency\": 1, \"value\": 0.38189560174942017}, \"0.9423309564590454\": {\"frequency\": 1, \"value\": 0.9423309564590454}, \"1.2798330783843994\": {\"frequency\": 1, \"value\": 1.2798330783843994}, \"0.07060414552688599\": {\"frequency\": 1, \"value\": 0.07060414552688599}, \"0.7243516445159912\": {\"frequency\": 1, \"value\": 0.7243516445159912}, \"0.5392265319824219\": {\"frequency\": 1, \"value\": 0.5392265319824219}, \"2.3057432174682617\": {\"frequency\": 1, \"value\": 2.3057432174682617}, \"1.3003650903701782\": {\"frequency\": 1, \"value\": 1.3003650903701782}, \"1.64170503616333\": {\"frequency\": 1, \"value\": 1.64170503616333}, \"1.3364534378051758\": {\"frequency\": 1, \"value\": 1.3364534378051758}, \"1.3883204460144043\": {\"frequency\": 1, \"value\": 1.3883204460144043}, \"0.9673961400985718\": {\"frequency\": 1, \"value\": 0.9673961400985718}, \"0.4059505760669708\": {\"frequency\": 1, \"value\": 0.4059505760669708}, \"0.2975621223449707\": {\"frequency\": 1, \"value\": 0.2975621223449707}, \"1.4159811735153198\": {\"frequency\": 1, \"value\": 1.4159811735153198}, \"0.10885077714920044\": {\"frequency\": 1, \"value\": 0.10885077714920044}, \"0.2462162971496582\": {\"frequency\": 1, \"value\": 0.2462162971496582}, \"0.011932671070098877\": {\"frequency\": 1, \"value\": 0.011932671070098877}, \"2.3374361991882324\": {\"frequency\": 1, \"value\": 2.3374361991882324}, \"0.34225189685821533\": {\"frequency\": 1, \"value\": 0.34225189685821533}, \"0.17904961109161377\": {\"frequency\": 1, \"value\": 0.17904961109161377}, \"1.6424459218978882\": {\"frequency\": 1, \"value\": 1.6424459218978882}, \"0.6010533571243286\": {\"frequency\": 1, \"value\": 0.6010533571243286}, \"0.9591954946517944\": {\"frequency\": 1, \"value\": 0.9591954946517944}, \"1.013485312461853\": {\"frequency\": 1, \"value\": 1.013485312461853}, \"3.1153039932250977\": {\"frequency\": 1, \"value\": 3.1153039932250977}, \"2.517045021057129\": {\"frequency\": 1, \"value\": 2.517045021057129}, \"0.34616994857788086\": {\"frequency\": 1, \"value\": 0.34616994857788086}, \"0.1695702075958252\": {\"frequency\": 1, \"value\": 0.1695702075958252}, \"0.7984526753425598\": {\"frequency\": 1, \"value\": 0.7984526753425598}, \"1.5854475498199463\": {\"frequency\": 1, \"value\": 1.5854475498199463}, \"0.16328775882720947\": {\"frequency\": 1, \"value\": 0.16328775882720947}, \"1.1150100231170654\": {\"frequency\": 1, \"value\": 1.1150100231170654}, \"0.15218907594680786\": {\"frequency\": 1, \"value\": 0.15218907594680786}, \"0.1625773310661316\": {\"frequency\": 1, \"value\": 0.1625773310661316}, \"0.28510403633117676\": {\"frequency\": 1, \"value\": 0.28510403633117676}, \"0.47466784715652466\": {\"frequency\": 1, \"value\": 0.47466784715652466}, \"0.5398738384246826\": {\"frequency\": 1, \"value\": 0.5398738384246826}, \"0.2911531329154968\": {\"frequency\": 1, \"value\": 0.2911531329154968}, \"1.406174898147583\": {\"frequency\": 1, \"value\": 1.406174898147583}, \"2.519580841064453\": {\"frequency\": 1, \"value\": 2.519580841064453}, \"2.958705186843872\": {\"frequency\": 1, \"value\": 2.958705186843872}, \"0.3582758903503418\": {\"frequency\": 1, \"value\": 0.3582758903503418}, \"0.43646758794784546\": {\"frequency\": 1, \"value\": 0.43646758794784546}, \"0.0004361867904663086\": {\"frequency\": 1, \"value\": 0.0004361867904663086}, \"4.8482584953308105\": {\"frequency\": 1, \"value\": 4.8482584953308105}, \"0.780947208404541\": {\"frequency\": 1, \"value\": 0.780947208404541}, \"0.42122793197631836\": {\"frequency\": 1, \"value\": 0.42122793197631836}, \"0.06488841772079468\": {\"frequency\": 1, \"value\": 0.06488841772079468}, \"0.43221336603164673\": {\"frequency\": 1, \"value\": 0.43221336603164673}, \"0.9082098603248596\": {\"frequency\": 1, \"value\": 0.9082098603248596}, \"0.4894890785217285\": {\"frequency\": 1, \"value\": 0.4894890785217285}, \"0.6276716589927673\": {\"frequency\": 1, \"value\": 0.6276716589927673}, \"0.947550892829895\": {\"frequency\": 1, \"value\": 0.947550892829895}, \"0.030377626419067383\": {\"frequency\": 1, \"value\": 0.030377626419067383}, \"1.1676009893417358\": {\"frequency\": 1, \"value\": 1.1676009893417358}, \"0.019625961780548096\": {\"frequency\": 1, \"value\": 0.019625961780548096}, \"0.5833046436309814\": {\"frequency\": 1, \"value\": 0.5833046436309814}, \"0.5470154285430908\": {\"frequency\": 1, \"value\": 0.5470154285430908}, \"1.1037437915802002\": {\"frequency\": 1, \"value\": 1.1037437915802002}, \"0.7654337286949158\": {\"frequency\": 1, \"value\": 0.7654337286949158}, \"0.8048623204231262\": {\"frequency\": 1, \"value\": 0.8048623204231262}, \"0.6112240552902222\": {\"frequency\": 1, \"value\": 0.6112240552902222}, \"3.7790350914001465\": {\"frequency\": 1, \"value\": 3.7790350914001465}, \"0.6327524185180664\": {\"frequency\": 1, \"value\": 0.6327524185180664}, \"2.4075374603271484\": {\"frequency\": 1, \"value\": 2.4075374603271484}, \"5.6915178298950195\": {\"frequency\": 1, \"value\": 5.6915178298950195}, \"0.43853163719177246\": {\"frequency\": 1, \"value\": 0.43853163719177246}, \"0.034273386001586914\": {\"frequency\": 1, \"value\": 0.034273386001586914}, \"0.12678879499435425\": {\"frequency\": 1, \"value\": 0.12678879499435425}, \"0.03491634130477905\": {\"frequency\": 1, \"value\": 0.03491634130477905}, \"1.3206703662872314\": {\"frequency\": 1, \"value\": 1.3206703662872314}, \"1.061051368713379\": {\"frequency\": 1, \"value\": 1.061051368713379}, \"0.3663872480392456\": {\"frequency\": 1, \"value\": 0.3663872480392456}, \"0.8787686228752136\": {\"frequency\": 1, \"value\": 0.8787686228752136}, \"1.6452828645706177\": {\"frequency\": 1, \"value\": 1.6452828645706177}, \"0.8822126388549805\": {\"frequency\": 1, \"value\": 0.8822126388549805}, \"1.832770824432373\": {\"frequency\": 1, \"value\": 1.832770824432373}, \"0.06778287887573242\": {\"frequency\": 1, \"value\": 0.06778287887573242}, \"1.8511290550231934\": {\"frequency\": 1, \"value\": 1.8511290550231934}, \"1.2355643510818481\": {\"frequency\": 1, \"value\": 1.2355643510818481}, \"0.27724283933639526\": {\"frequency\": 1, \"value\": 0.27724283933639526}, \"1.5210187435150146\": {\"frequency\": 1, \"value\": 1.5210187435150146}, \"1.414947748184204\": {\"frequency\": 1, \"value\": 1.414947748184204}, \"0.8793465495109558\": {\"frequency\": 1, \"value\": 0.8793465495109558}, \"0.04382157325744629\": {\"frequency\": 1, \"value\": 0.04382157325744629}, \"0.656196653842926\": {\"frequency\": 1, \"value\": 0.656196653842926}, \"0.4333682060241699\": {\"frequency\": 1, \"value\": 0.4333682060241699}, \"0.4130992293357849\": {\"frequency\": 1, \"value\": 0.4130992293357849}, \"1.300339698791504\": {\"frequency\": 1, \"value\": 1.300339698791504}, \"1.2617801427841187\": {\"frequency\": 1, \"value\": 1.2617801427841187}, \"0.3308079242706299\": {\"frequency\": 1, \"value\": 0.3308079242706299}, \"0.1865740418434143\": {\"frequency\": 1, \"value\": 0.1865740418434143}, \"0.9295275807380676\": {\"frequency\": 1, \"value\": 0.9295275807380676}, \"0.05868518352508545\": {\"frequency\": 1, \"value\": 0.05868518352508545}, \"1.141136884689331\": {\"frequency\": 1, \"value\": 1.141136884689331}, \"1.845916748046875\": {\"frequency\": 1, \"value\": 1.845916748046875}, \"0.17982876300811768\": {\"frequency\": 1, \"value\": 0.17982876300811768}, \"0.11865437030792236\": {\"frequency\": 1, \"value\": 0.11865437030792236}, \"0.7872318625450134\": {\"frequency\": 1, \"value\": 0.7872318625450134}, \"0.9645541310310364\": {\"frequency\": 1, \"value\": 0.9645541310310364}, \"0.5101633667945862\": {\"frequency\": 1, \"value\": 0.5101633667945862}, \"0.6512731909751892\": {\"frequency\": 1, \"value\": 0.6512731909751892}, \"0.08991867303848267\": {\"frequency\": 1, \"value\": 0.08991867303848267}, \"0.644632875919342\": {\"frequency\": 1, \"value\": 0.644632875919342}, \"1.1393290758132935\": {\"frequency\": 1, \"value\": 1.1393290758132935}, \"0.28712302446365356\": {\"frequency\": 1, \"value\": 0.28712302446365356}, \"0.8435271382331848\": {\"frequency\": 1, \"value\": 0.8435271382331848}, \"0.3394036889076233\": {\"frequency\": 1, \"value\": 0.3394036889076233}, \"0.5812010765075684\": {\"frequency\": 1, \"value\": 0.5812010765075684}, \"2.1036758422851562\": {\"frequency\": 1, \"value\": 2.1036758422851562}, \"2.0208311080932617\": {\"frequency\": 1, \"value\": 2.0208311080932617}, \"1.6295173168182373\": {\"frequency\": 1, \"value\": 1.6295173168182373}, \"0.12503361701965332\": {\"frequency\": 1, \"value\": 0.12503361701965332}, \"1.475611686706543\": {\"frequency\": 1, \"value\": 1.475611686706543}, \"0.9685088992118835\": {\"frequency\": 1, \"value\": 0.9685088992118835}, \"0.07042437791824341\": {\"frequency\": 1, \"value\": 0.07042437791824341}, \"0.7541247606277466\": {\"frequency\": 1, \"value\": 0.7541247606277466}, \"0.8374909162521362\": {\"frequency\": 1, \"value\": 0.8374909162521362}, \"5.202037811279297\": {\"frequency\": 1, \"value\": 5.202037811279297}, \"1.9654579162597656\": {\"frequency\": 1, \"value\": 1.9654579162597656}, \"0.49305081367492676\": {\"frequency\": 1, \"value\": 0.49305081367492676}, \"0.8126303553581238\": {\"frequency\": 1, \"value\": 0.8126303553581238}, \"0.164139986038208\": {\"frequency\": 1, \"value\": 0.164139986038208}, \"2.748826026916504\": {\"frequency\": 1, \"value\": 2.748826026916504}, \"3.2426633834838867\": {\"frequency\": 1, \"value\": 3.2426633834838867}, \"1.0225777626037598\": {\"frequency\": 1, \"value\": 1.0225777626037598}, \"1.9062367677688599\": {\"frequency\": 1, \"value\": 1.9062367677688599}, \"0.7038825750350952\": {\"frequency\": 1, \"value\": 0.7038825750350952}, \"0.3533053398132324\": {\"frequency\": 1, \"value\": 0.3533053398132324}, \"0.31274276971817017\": {\"frequency\": 1, \"value\": 0.31274276971817017}, \"0.9745427966117859\": {\"frequency\": 1, \"value\": 0.9745427966117859}, \"2.784334182739258\": {\"frequency\": 1, \"value\": 2.784334182739258}, \"0.32061249017715454\": {\"frequency\": 1, \"value\": 0.32061249017715454}, \"0.720159649848938\": {\"frequency\": 1, \"value\": 0.720159649848938}, \"0.9971516132354736\": {\"frequency\": 1, \"value\": 0.9971516132354736}, \"1.6556117534637451\": {\"frequency\": 1, \"value\": 1.6556117534637451}, \"0.641106903553009\": {\"frequency\": 1, \"value\": 0.641106903553009}, \"0.40292656421661377\": {\"frequency\": 1, \"value\": 0.40292656421661377}, \"1.2061337232589722\": {\"frequency\": 1, \"value\": 1.2061337232589722}, \"1.2835948467254639\": {\"frequency\": 1, \"value\": 1.2835948467254639}, \"0.9912080764770508\": {\"frequency\": 1, \"value\": 0.9912080764770508}, \"0.36036086082458496\": {\"frequency\": 1, \"value\": 0.36036086082458496}, \"0.49475929141044617\": {\"frequency\": 1, \"value\": 0.49475929141044617}, \"2.6719326972961426\": {\"frequency\": 1, \"value\": 2.6719326972961426}, \"0.37128710746765137\": {\"frequency\": 1, \"value\": 0.37128710746765137}, \"2.3413784503936768\": {\"frequency\": 1, \"value\": 2.3413784503936768}, \"0.605695366859436\": {\"frequency\": 1, \"value\": 0.605695366859436}, \"2.124803066253662\": {\"frequency\": 1, \"value\": 2.124803066253662}, \"1.0795764923095703\": {\"frequency\": 1, \"value\": 1.0795764923095703}, \"0.9369065165519714\": {\"frequency\": 1, \"value\": 0.9369065165519714}, \"2.0728087425231934\": {\"frequency\": 1, \"value\": 2.0728087425231934}, \"2.0404305458068848\": {\"frequency\": 1, \"value\": 2.0404305458068848}, \"0.7309064865112305\": {\"frequency\": 1, \"value\": 0.7309064865112305}, \"0.14145416021347046\": {\"frequency\": 1, \"value\": 0.14145416021347046}, \"3.0051894187927246\": {\"frequency\": 1, \"value\": 3.0051894187927246}, \"1.691389799118042\": {\"frequency\": 1, \"value\": 1.691389799118042}, \"0.05255401134490967\": {\"frequency\": 1, \"value\": 0.05255401134490967}, \"0.2209700345993042\": {\"frequency\": 1, \"value\": 0.2209700345993042}, \"0.8341654539108276\": {\"frequency\": 1, \"value\": 0.8341654539108276}, \"1.1321824789047241\": {\"frequency\": 1, \"value\": 1.1321824789047241}, \"0.5519983172416687\": {\"frequency\": 1, \"value\": 0.5519983172416687}, \"0.03928095102310181\": {\"frequency\": 1, \"value\": 0.03928095102310181}, \"0.1279224157333374\": {\"frequency\": 1, \"value\": 0.1279224157333374}, \"0.9243113994598389\": {\"frequency\": 1, \"value\": 0.9243113994598389}, \"0.21463918685913086\": {\"frequency\": 1, \"value\": 0.21463918685913086}, \"1.4842708110809326\": {\"frequency\": 1, \"value\": 1.4842708110809326}, \"0.7453191876411438\": {\"frequency\": 1, \"value\": 0.7453191876411438}, \"0.9839696884155273\": {\"frequency\": 1, \"value\": 0.9839696884155273}, \"0.29275423288345337\": {\"frequency\": 1, \"value\": 0.29275423288345337}, \"0.6187903881072998\": {\"frequency\": 1, \"value\": 0.6187903881072998}, \"1.0353435277938843\": {\"frequency\": 1, \"value\": 1.0353435277938843}, \"0.10615092515945435\": {\"frequency\": 1, \"value\": 0.10615092515945435}, \"0.6597559452056885\": {\"frequency\": 1, \"value\": 0.6597559452056885}, \"1.782055377960205\": {\"frequency\": 1, \"value\": 1.782055377960205}, \"0.032085537910461426\": {\"frequency\": 1, \"value\": 0.032085537910461426}, \"0.40950632095336914\": {\"frequency\": 1, \"value\": 0.40950632095336914}, \"0.4899643063545227\": {\"frequency\": 1, \"value\": 0.4899643063545227}, \"0.7492114901542664\": {\"frequency\": 1, \"value\": 0.7492114901542664}, \"0.5112899541854858\": {\"frequency\": 1, \"value\": 0.5112899541854858}, \"0.33288300037384033\": {\"frequency\": 1, \"value\": 0.33288300037384033}, \"1.5107163190841675\": {\"frequency\": 1, \"value\": 1.5107163190841675}, \"0.051143765449523926\": {\"frequency\": 1, \"value\": 0.051143765449523926}, \"2.0858564376831055\": {\"frequency\": 1, \"value\": 2.0858564376831055}, \"2.6768102645874023\": {\"frequency\": 1, \"value\": 2.6768102645874023}, \"0.48050999641418457\": {\"frequency\": 1, \"value\": 0.48050999641418457}, \"0.18154239654541016\": {\"frequency\": 1, \"value\": 0.18154239654541016}, \"1.6744701862335205\": {\"frequency\": 1, \"value\": 1.6744701862335205}, \"0.43722009658813477\": {\"frequency\": 1, \"value\": 0.43722009658813477}, \"1.075978398323059\": {\"frequency\": 1, \"value\": 1.075978398323059}, \"3.5506184101104736\": {\"frequency\": 1, \"value\": 3.5506184101104736}, \"2.2710518836975098\": {\"frequency\": 1, \"value\": 2.2710518836975098}, \"0.4355278015136719\": {\"frequency\": 1, \"value\": 0.4355278015136719}, \"1.5092824697494507\": {\"frequency\": 1, \"value\": 1.5092824697494507}, \"0.2399412989616394\": {\"frequency\": 1, \"value\": 0.2399412989616394}, \"0.9995639324188232\": {\"frequency\": 1, \"value\": 0.9995639324188232}, \"0.8453904390335083\": {\"frequency\": 1, \"value\": 0.8453904390335083}, \"0.48314130306243896\": {\"frequency\": 1, \"value\": 0.48314130306243896}, \"0.38391822576522827\": {\"frequency\": 1, \"value\": 0.38391822576522827}, \"0.006330966949462891\": {\"frequency\": 1, \"value\": 0.006330966949462891}, \"2.6036298274993896\": {\"frequency\": 1, \"value\": 2.6036298274993896}, \"0.37980008125305176\": {\"frequency\": 1, \"value\": 0.37980008125305176}, \"2.583096981048584\": {\"frequency\": 1, \"value\": 2.583096981048584}, \"0.06799209117889404\": {\"frequency\": 1, \"value\": 0.06799209117889404}, \"1.8029944896697998\": {\"frequency\": 1, \"value\": 1.8029944896697998}, \"2.3582723140716553\": {\"frequency\": 1, \"value\": 2.3582723140716553}, \"0.9476729035377502\": {\"frequency\": 1, \"value\": 0.9476729035377502}, \"1.8135426044464111\": {\"frequency\": 1, \"value\": 1.8135426044464111}, \"0.4415019750595093\": {\"frequency\": 1, \"value\": 0.4415019750595093}, \"1.1770613193511963\": {\"frequency\": 1, \"value\": 1.1770613193511963}, \"0.07726198434829712\": {\"frequency\": 1, \"value\": 0.07726198434829712}, \"0.854663074016571\": {\"frequency\": 1, \"value\": 0.854663074016571}, \"0.08156704902648926\": {\"frequency\": 1, \"value\": 0.08156704902648926}, \"0.6206765174865723\": {\"frequency\": 1, \"value\": 0.6206765174865723}, \"1.547010898590088\": {\"frequency\": 1, \"value\": 1.547010898590088}, \"0.2330523133277893\": {\"frequency\": 1, \"value\": 0.2330523133277893}, \"0.9026444554328918\": {\"frequency\": 1, \"value\": 0.9026444554328918}, \"0.35646194219589233\": {\"frequency\": 1, \"value\": 0.35646194219589233}, \"0.7417999505996704\": {\"frequency\": 1, \"value\": 0.7417999505996704}, \"0.3578717112541199\": {\"frequency\": 1, \"value\": 0.3578717112541199}, \"0.36135387420654297\": {\"frequency\": 1, \"value\": 0.36135387420654297}, \"0.5697451829910278\": {\"frequency\": 1, \"value\": 0.5697451829910278}, \"1.6245733499526978\": {\"frequency\": 1, \"value\": 1.6245733499526978}, \"1.915632963180542\": {\"frequency\": 1, \"value\": 1.915632963180542}, \"0.3320729732513428\": {\"frequency\": 1, \"value\": 0.3320729732513428}, \"0.8733059167861938\": {\"frequency\": 1, \"value\": 0.8733059167861938}, \"0.21543705463409424\": {\"frequency\": 1, \"value\": 0.21543705463409424}, \"1.2321847677230835\": {\"frequency\": 1, \"value\": 1.2321847677230835}, \"0.2790656089782715\": {\"frequency\": 1, \"value\": 0.2790656089782715}, \"0.2023600935935974\": {\"frequency\": 1, \"value\": 0.2023600935935974}, \"0.01213759183883667\": {\"frequency\": 1, \"value\": 0.01213759183883667}, \"1.620444893836975\": {\"frequency\": 1, \"value\": 1.620444893836975}, \"1.6123406887054443\": {\"frequency\": 1, \"value\": 1.6123406887054443}, \"0.9268888831138611\": {\"frequency\": 1, \"value\": 0.9268888831138611}, \"0.2533950209617615\": {\"frequency\": 1, \"value\": 0.2533950209617615}, \"0.1676977276802063\": {\"frequency\": 1, \"value\": 0.1676977276802063}, \"0.6500557661056519\": {\"frequency\": 1, \"value\": 0.6500557661056519}, \"0.2297443151473999\": {\"frequency\": 1, \"value\": 0.2297443151473999}, \"0.10979866981506348\": {\"frequency\": 1, \"value\": 0.10979866981506348}, \"1.3577854633331299\": {\"frequency\": 1, \"value\": 1.3577854633331299}, \"0.20310372114181519\": {\"frequency\": 1, \"value\": 0.20310372114181519}, \"4.53485107421875\": {\"frequency\": 1, \"value\": 4.53485107421875}, \"0.02777683734893799\": {\"frequency\": 1, \"value\": 0.02777683734893799}, \"0.9751324653625488\": {\"frequency\": 1, \"value\": 0.9751324653625488}, \"1.5706101655960083\": {\"frequency\": 1, \"value\": 1.5706101655960083}, \"0.07756227254867554\": {\"frequency\": 1, \"value\": 0.07756227254867554}, \"0.3428345322608948\": {\"frequency\": 1, \"value\": 0.3428345322608948}, \"2.7706403732299805\": {\"frequency\": 1, \"value\": 2.7706403732299805}, \"0.4195901155471802\": {\"frequency\": 1, \"value\": 0.4195901155471802}, \"0.05748450756072998\": {\"frequency\": 1, \"value\": 0.05748450756072998}, \"1.1175771951675415\": {\"frequency\": 1, \"value\": 1.1175771951675415}, \"0.8686030507087708\": {\"frequency\": 1, \"value\": 0.8686030507087708}, \"1.5990912914276123\": {\"frequency\": 1, \"value\": 1.5990912914276123}, \"1.0190083980560303\": {\"frequency\": 1, \"value\": 1.0190083980560303}, \"0.3340708613395691\": {\"frequency\": 1, \"value\": 0.3340708613395691}, \"1.449746012687683\": {\"frequency\": 1, \"value\": 1.449746012687683}, \"0.04418957233428955\": {\"frequency\": 1, \"value\": 0.04418957233428955}, \"0.16693317890167236\": {\"frequency\": 1, \"value\": 0.16693317890167236}, \"1.9591363668441772\": {\"frequency\": 1, \"value\": 1.9591363668441772}, \"0.9334524869918823\": {\"frequency\": 1, \"value\": 0.9334524869918823}, \"0.5424658060073853\": {\"frequency\": 1, \"value\": 0.5424658060073853}, \"0.25421011447906494\": {\"frequency\": 1, \"value\": 0.25421011447906494}, \"4.326606750488281\": {\"frequency\": 1, \"value\": 4.326606750488281}, \"1.3618345260620117\": {\"frequency\": 1, \"value\": 1.3618345260620117}, \"1.9916961193084717\": {\"frequency\": 1, \"value\": 1.9916961193084717}, \"0.6929052472114563\": {\"frequency\": 1, \"value\": 0.6929052472114563}, \"0.160627543926239\": {\"frequency\": 1, \"value\": 0.160627543926239}, \"0.23949557542800903\": {\"frequency\": 1, \"value\": 0.23949557542800903}, \"0.7691009640693665\": {\"frequency\": 1, \"value\": 0.7691009640693665}, \"1.5393657684326172\": {\"frequency\": 1, \"value\": 1.5393657684326172}, \"0.9636406302452087\": {\"frequency\": 1, \"value\": 0.9636406302452087}, \"0.3328480124473572\": {\"frequency\": 1, \"value\": 0.3328480124473572}, \"1.0996391773223877\": {\"frequency\": 1, \"value\": 1.0996391773223877}, \"1.6219881772994995\": {\"frequency\": 1, \"value\": 1.6219881772994995}, \"0.33856552839279175\": {\"frequency\": 1, \"value\": 0.33856552839279175}, \"0.09593498706817627\": {\"frequency\": 1, \"value\": 0.09593498706817627}, \"1.1032048463821411\": {\"frequency\": 1, \"value\": 1.1032048463821411}, \"1.9171802997589111\": {\"frequency\": 1, \"value\": 1.9171802997589111}, \"0.6944438219070435\": {\"frequency\": 1, \"value\": 0.6944438219070435}, \"0.09638160467147827\": {\"frequency\": 1, \"value\": 0.09638160467147827}, \"2.3245437145233154\": {\"frequency\": 1, \"value\": 2.3245437145233154}, \"2.359102964401245\": {\"frequency\": 1, \"value\": 2.359102964401245}, \"0.3770214915275574\": {\"frequency\": 1, \"value\": 0.3770214915275574}, \"0.2552686929702759\": {\"frequency\": 1, \"value\": 0.2552686929702759}, \"0.6072180867195129\": {\"frequency\": 1, \"value\": 0.6072180867195129}, \"0.9081395268440247\": {\"frequency\": 1, \"value\": 0.9081395268440247}, \"0.744394063949585\": {\"frequency\": 1, \"value\": 0.744394063949585}, \"0.7457691431045532\": {\"frequency\": 1, \"value\": 0.7457691431045532}, \"0.7144483327865601\": {\"frequency\": 1, \"value\": 0.7144483327865601}, \"0.27841371297836304\": {\"frequency\": 1, \"value\": 0.27841371297836304}, \"1.8555538654327393\": {\"frequency\": 1, \"value\": 1.8555538654327393}, \"1.3191717863082886\": {\"frequency\": 1, \"value\": 1.3191717863082886}, \"9.353598594665527\": {\"frequency\": 1, \"value\": 9.353598594665527}, \"0.6334351897239685\": {\"frequency\": 1, \"value\": 0.6334351897239685}, \"0.7404013872146606\": {\"frequency\": 1, \"value\": 0.7404013872146606}, \"3.0611934661865234\": {\"frequency\": 1, \"value\": 3.0611934661865234}, \"0.024253487586975098\": {\"frequency\": 1, \"value\": 0.024253487586975098}, \"0.7471508979797363\": {\"frequency\": 1, \"value\": 0.7471508979797363}, \"0.4822986423969269\": {\"frequency\": 1, \"value\": 0.4822986423969269}, \"0.8345087766647339\": {\"frequency\": 1, \"value\": 0.8345087766647339}, \"1.0757399797439575\": {\"frequency\": 1, \"value\": 1.0757399797439575}, \"7.9584503173828125\": {\"frequency\": 1, \"value\": 7.9584503173828125}, \"0.15091556310653687\": {\"frequency\": 1, \"value\": 0.15091556310653687}, \"0.4680103659629822\": {\"frequency\": 1, \"value\": 0.4680103659629822}, \"1.0013691186904907\": {\"frequency\": 1, \"value\": 1.0013691186904907}, \"0.3838491439819336\": {\"frequency\": 1, \"value\": 0.3838491439819336}, \"1.1771767139434814\": {\"frequency\": 1, \"value\": 1.1771767139434814}, \"1.3395469188690186\": {\"frequency\": 1, \"value\": 1.3395469188690186}, \"1.1596571207046509\": {\"frequency\": 1, \"value\": 1.1596571207046509}, \"0.5319417715072632\": {\"frequency\": 1, \"value\": 0.5319417715072632}, \"1.1912649869918823\": {\"frequency\": 1, \"value\": 1.1912649869918823}, \"0.21955817937850952\": {\"frequency\": 1, \"value\": 0.21955817937850952}, \"2.385260581970215\": {\"frequency\": 1, \"value\": 2.385260581970215}, \"0.03568708896636963\": {\"frequency\": 1, \"value\": 0.03568708896636963}, \"1.0427467823028564\": {\"frequency\": 1, \"value\": 1.0427467823028564}, \"2.424736261367798\": {\"frequency\": 1, \"value\": 2.424736261367798}, \"1.6800882816314697\": {\"frequency\": 1, \"value\": 1.6800882816314697}, \"0.5773488283157349\": {\"frequency\": 1, \"value\": 0.5773488283157349}, \"0.05698347091674805\": {\"frequency\": 1, \"value\": 0.05698347091674805}, \"1.5846359729766846\": {\"frequency\": 1, \"value\": 1.5846359729766846}, \"0.5955290794372559\": {\"frequency\": 1, \"value\": 0.5955290794372559}, \"0.3099033832550049\": {\"frequency\": 1, \"value\": 0.3099033832550049}, \"0.4891508221626282\": {\"frequency\": 1, \"value\": 0.4891508221626282}, \"0.8221685886383057\": {\"frequency\": 1, \"value\": 0.8221685886383057}, \"2.607344150543213\": {\"frequency\": 1, \"value\": 2.607344150543213}, \"1.2799615859985352\": {\"frequency\": 1, \"value\": 1.2799615859985352}, \"0.05174809694290161\": {\"frequency\": 1, \"value\": 0.05174809694290161}, \"0.2850285768508911\": {\"frequency\": 1, \"value\": 0.2850285768508911}, \"0.6503697633743286\": {\"frequency\": 1, \"value\": 0.6503697633743286}, \"0.4894612431526184\": {\"frequency\": 1, \"value\": 0.4894612431526184}, \"0.420993447303772\": {\"frequency\": 1, \"value\": 0.420993447303772}, \"0.5221580266952515\": {\"frequency\": 1, \"value\": 0.5221580266952515}, \"0.029583454132080078\": {\"frequency\": 1, \"value\": 0.029583454132080078}, \"0.8390207290649414\": {\"frequency\": 1, \"value\": 0.8390207290649414}, \"0.8572449088096619\": {\"frequency\": 1, \"value\": 0.8572449088096619}, \"1.6063737869262695\": {\"frequency\": 1, \"value\": 1.6063737869262695}, \"1.540295958518982\": {\"frequency\": 1, \"value\": 1.540295958518982}, \"0.9651504755020142\": {\"frequency\": 1, \"value\": 0.9651504755020142}, \"0.710727334022522\": {\"frequency\": 1, \"value\": 0.710727334022522}, \"3.3613991737365723\": {\"frequency\": 1, \"value\": 3.3613991737365723}, \"0.3148423433303833\": {\"frequency\": 1, \"value\": 0.3148423433303833}, \"0.4567911624908447\": {\"frequency\": 1, \"value\": 0.4567911624908447}, \"1.7363924980163574\": {\"frequency\": 1, \"value\": 1.7363924980163574}, \"1.576627492904663\": {\"frequency\": 1, \"value\": 1.576627492904663}, \"0.18417233228683472\": {\"frequency\": 1, \"value\": 0.18417233228683472}, \"3.659186840057373\": {\"frequency\": 1, \"value\": 3.659186840057373}, \"0.6200673580169678\": {\"frequency\": 1, \"value\": 0.6200673580169678}, \"1.6721338033676147\": {\"frequency\": 1, \"value\": 1.6721338033676147}, \"1.6695916652679443\": {\"frequency\": 1, \"value\": 1.6695916652679443}, \"1.9182970523834229\": {\"frequency\": 1, \"value\": 1.9182970523834229}, \"0.884229302406311\": {\"frequency\": 1, \"value\": 0.884229302406311}, \"2.076213836669922\": {\"frequency\": 1, \"value\": 2.076213836669922}, \"1.9360511302947998\": {\"frequency\": 1, \"value\": 1.9360511302947998}, \"0.41987788677215576\": {\"frequency\": 1, \"value\": 0.41987788677215576}, \"0.7989438772201538\": {\"frequency\": 1, \"value\": 0.7989438772201538}, \"0.6909018158912659\": {\"frequency\": 1, \"value\": 0.6909018158912659}, \"0.8724550008773804\": {\"frequency\": 1, \"value\": 0.8724550008773804}, \"2.5942139625549316\": {\"frequency\": 1, \"value\": 2.5942139625549316}, \"1.3989317417144775\": {\"frequency\": 1, \"value\": 1.3989317417144775}, \"1.028588056564331\": {\"frequency\": 1, \"value\": 1.028588056564331}, \"2.693488121032715\": {\"frequency\": 1, \"value\": 2.693488121032715}, \"0.4969654083251953\": {\"frequency\": 1, \"value\": 0.4969654083251953}, \"0.21076852083206177\": {\"frequency\": 1, \"value\": 0.21076852083206177}, \"0.6108530163764954\": {\"frequency\": 1, \"value\": 0.6108530163764954}, \"0.8738374710083008\": {\"frequency\": 1, \"value\": 0.8738374710083008}, \"2.231947183609009\": {\"frequency\": 1, \"value\": 2.231947183609009}, \"1.050466775894165\": {\"frequency\": 1, \"value\": 1.050466775894165}, \"1.3387210369110107\": {\"frequency\": 1, \"value\": 1.3387210369110107}, \"0.029279232025146484\": {\"frequency\": 1, \"value\": 0.029279232025146484}, \"0.04703032970428467\": {\"frequency\": 1, \"value\": 0.04703032970428467}, \"0.9513315558433533\": {\"frequency\": 1, \"value\": 0.9513315558433533}, \"3.221842050552368\": {\"frequency\": 1, \"value\": 3.221842050552368}, \"0.1848146915435791\": {\"frequency\": 1, \"value\": 0.1848146915435791}, \"1.220564603805542\": {\"frequency\": 1, \"value\": 1.220564603805542}, \"0.2931954860687256\": {\"frequency\": 1, \"value\": 0.2931954860687256}, \"0.8414828181266785\": {\"frequency\": 1, \"value\": 0.8414828181266785}, \"0.6690517067909241\": {\"frequency\": 1, \"value\": 0.6690517067909241}, \"0.2512180209159851\": {\"frequency\": 1, \"value\": 0.2512180209159851}, \"0.05763667821884155\": {\"frequency\": 1, \"value\": 0.05763667821884155}, \"0.3812883496284485\": {\"frequency\": 1, \"value\": 0.3812883496284485}, \"0.1968097686767578\": {\"frequency\": 1, \"value\": 0.1968097686767578}, \"0.7658001780509949\": {\"frequency\": 1, \"value\": 0.7658001780509949}, \"0.39499032497406006\": {\"frequency\": 1, \"value\": 0.39499032497406006}, \"0.579259991645813\": {\"frequency\": 1, \"value\": 0.579259991645813}, \"0.6964681148529053\": {\"frequency\": 1, \"value\": 0.6964681148529053}, \"0.8604522943496704\": {\"frequency\": 1, \"value\": 0.8604522943496704}, \"2.1049461364746094\": {\"frequency\": 1, \"value\": 2.1049461364746094}, \"0.8078051209449768\": {\"frequency\": 1, \"value\": 0.8078051209449768}, \"0.9581640958786011\": {\"frequency\": 1, \"value\": 0.9581640958786011}, \"1.1584327220916748\": {\"frequency\": 1, \"value\": 1.1584327220916748}, \"0.7585259079933167\": {\"frequency\": 1, \"value\": 0.7585259079933167}, \"2.422393560409546\": {\"frequency\": 1, \"value\": 2.422393560409546}, \"0.17680203914642334\": {\"frequency\": 1, \"value\": 0.17680203914642334}, \"0.15293574333190918\": {\"frequency\": 1, \"value\": 0.15293574333190918}, \"0.6632194519042969\": {\"frequency\": 1, \"value\": 0.6632194519042969}, \"1.5168848037719727\": {\"frequency\": 1, \"value\": 1.5168848037719727}, \"6.07493782043457\": {\"frequency\": 1, \"value\": 6.07493782043457}, \"1.6900103092193604\": {\"frequency\": 1, \"value\": 1.6900103092193604}, \"2.033799648284912\": {\"frequency\": 1, \"value\": 2.033799648284912}, \"2.4748237133026123\": {\"frequency\": 1, \"value\": 2.4748237133026123}, \"0.11512935161590576\": {\"frequency\": 1, \"value\": 0.11512935161590576}, \"1.251854419708252\": {\"frequency\": 1, \"value\": 1.251854419708252}, \"0.3547041416168213\": {\"frequency\": 1, \"value\": 0.3547041416168213}, \"2.2029027938842773\": {\"frequency\": 1, \"value\": 2.2029027938842773}, \"1.7914817333221436\": {\"frequency\": 1, \"value\": 1.7914817333221436}, \"0.7320071458816528\": {\"frequency\": 1, \"value\": 0.7320071458816528}, \"0.4764825999736786\": {\"frequency\": 1, \"value\": 0.4764825999736786}, \"1.3581221103668213\": {\"frequency\": 1, \"value\": 1.3581221103668213}, \"0.7960324287414551\": {\"frequency\": 1, \"value\": 0.7960324287414551}, \"0.06267613172531128\": {\"frequency\": 1, \"value\": 0.06267613172531128}, \"0.7723851799964905\": {\"frequency\": 1, \"value\": 0.7723851799964905}, \"0.48903724551200867\": {\"frequency\": 1, \"value\": 0.48903724551200867}, \"0.5304456949234009\": {\"frequency\": 1, \"value\": 0.5304456949234009}, \"0.32550662755966187\": {\"frequency\": 1, \"value\": 0.32550662755966187}, \"0.15391725301742554\": {\"frequency\": 1, \"value\": 0.15391725301742554}, \"0.5375651121139526\": {\"frequency\": 1, \"value\": 0.5375651121139526}, \"2.012813091278076\": {\"frequency\": 1, \"value\": 2.012813091278076}, \"1.437296748161316\": {\"frequency\": 1, \"value\": 1.437296748161316}, \"0.6162383556365967\": {\"frequency\": 1, \"value\": 0.6162383556365967}, \"4.301895618438721\": {\"frequency\": 1, \"value\": 4.301895618438721}, \"0.1266300082206726\": {\"frequency\": 1, \"value\": 0.1266300082206726}, \"0.03774529695510864\": {\"frequency\": 1, \"value\": 0.03774529695510864}, \"0.8555915951728821\": {\"frequency\": 1, \"value\": 0.8555915951728821}, \"0.3824867606163025\": {\"frequency\": 1, \"value\": 0.3824867606163025}, \"1.0313706398010254\": {\"frequency\": 1, \"value\": 1.0313706398010254}, \"0.8686303496360779\": {\"frequency\": 1, \"value\": 0.8686303496360779}, \"1.7877781391143799\": {\"frequency\": 1, \"value\": 1.7877781391143799}, \"1.0266674757003784\": {\"frequency\": 1, \"value\": 1.0266674757003784}, \"0.07765543460845947\": {\"frequency\": 1, \"value\": 0.07765543460845947}, \"0.33788883686065674\": {\"frequency\": 1, \"value\": 0.33788883686065674}, \"0.8698800802230835\": {\"frequency\": 1, \"value\": 0.8698800802230835}, \"1.4145886898040771\": {\"frequency\": 1, \"value\": 1.4145886898040771}, \"2.967391014099121\": {\"frequency\": 1, \"value\": 2.967391014099121}, \"0.5238099098205566\": {\"frequency\": 1, \"value\": 0.5238099098205566}, \"1.1232521533966064\": {\"frequency\": 1, \"value\": 1.1232521533966064}, \"1.0216772556304932\": {\"frequency\": 1, \"value\": 1.0216772556304932}, \"1.9906320571899414\": {\"frequency\": 1, \"value\": 1.9906320571899414}, \"1.3978570699691772\": {\"frequency\": 1, \"value\": 1.3978570699691772}, \"1.9887802600860596\": {\"frequency\": 1, \"value\": 1.9887802600860596}, \"2.424461841583252\": {\"frequency\": 1, \"value\": 2.424461841583252}, \"0.36577391624450684\": {\"frequency\": 1, \"value\": 0.36577391624450684}, \"1.5100350379943848\": {\"frequency\": 1, \"value\": 1.5100350379943848}, \"3.566899538040161\": {\"frequency\": 1, \"value\": 3.566899538040161}, \"1.8516733646392822\": {\"frequency\": 1, \"value\": 1.8516733646392822}, \"0.8653702735900879\": {\"frequency\": 1, \"value\": 0.8653702735900879}, \"0.2660776972770691\": {\"frequency\": 1, \"value\": 0.2660776972770691}, \"0.04611015319824219\": {\"frequency\": 1, \"value\": 0.04611015319824219}, \"2.1756951808929443\": {\"frequency\": 1, \"value\": 2.1756951808929443}, \"0.15027940273284912\": {\"frequency\": 1, \"value\": 0.15027940273284912}, \"0.3793404698371887\": {\"frequency\": 1, \"value\": 0.3793404698371887}, \"0.9353802800178528\": {\"frequency\": 1, \"value\": 0.9353802800178528}, \"2.004812240600586\": {\"frequency\": 1, \"value\": 2.004812240600586}, \"0.3692169785499573\": {\"frequency\": 1, \"value\": 0.3692169785499573}, \"0.3385469317436218\": {\"frequency\": 1, \"value\": 0.3385469317436218}, \"0.2091783881187439\": {\"frequency\": 1, \"value\": 0.2091783881187439}, \"0.6267873048782349\": {\"frequency\": 1, \"value\": 0.6267873048782349}, \"0.7654320001602173\": {\"frequency\": 1, \"value\": 0.7654320001602173}, \"0.8994690775871277\": {\"frequency\": 1, \"value\": 0.8994690775871277}, \"0.10240483283996582\": {\"frequency\": 1, \"value\": 0.10240483283996582}, \"0.8652217388153076\": {\"frequency\": 1, \"value\": 0.8652217388153076}, \"0.18015235662460327\": {\"frequency\": 1, \"value\": 0.18015235662460327}, \"1.592563271522522\": {\"frequency\": 1, \"value\": 1.592563271522522}, \"6.518374443054199\": {\"frequency\": 1, \"value\": 6.518374443054199}, \"1.6637380123138428\": {\"frequency\": 1, \"value\": 1.6637380123138428}, \"0.5611233115196228\": {\"frequency\": 1, \"value\": 0.5611233115196228}, \"2.540806770324707\": {\"frequency\": 1, \"value\": 2.540806770324707}, \"0.6145075559616089\": {\"frequency\": 1, \"value\": 0.6145075559616089}, \"6.461356163024902\": {\"frequency\": 1, \"value\": 6.461356163024902}, \"0.22581052780151367\": {\"frequency\": 1, \"value\": 0.22581052780151367}, \"0.24593067169189453\": {\"frequency\": 1, \"value\": 0.24593067169189453}, \"0.3968777060508728\": {\"frequency\": 1, \"value\": 0.3968777060508728}, \"1.8283730745315552\": {\"frequency\": 1, \"value\": 1.8283730745315552}, \"0.8385674357414246\": {\"frequency\": 1, \"value\": 0.8385674357414246}, \"0.5981895923614502\": {\"frequency\": 1, \"value\": 0.5981895923614502}, \"2.172447681427002\": {\"frequency\": 1, \"value\": 2.172447681427002}, \"1.242075800895691\": {\"frequency\": 1, \"value\": 1.242075800895691}, \"1.3573192358016968\": {\"frequency\": 1, \"value\": 1.3573192358016968}, \"1.808025598526001\": {\"frequency\": 1, \"value\": 1.808025598526001}, \"1.0476338863372803\": {\"frequency\": 1, \"value\": 1.0476338863372803}, \"2.136312961578369\": {\"frequency\": 1, \"value\": 2.136312961578369}, \"0.7902306914329529\": {\"frequency\": 1, \"value\": 0.7902306914329529}, \"1.4301202297210693\": {\"frequency\": 1, \"value\": 1.4301202297210693}, \"0.15461766719818115\": {\"frequency\": 1, \"value\": 0.15461766719818115}, \"0.9062647819519043\": {\"frequency\": 1, \"value\": 0.9062647819519043}, \"1.4070807695388794\": {\"frequency\": 1, \"value\": 1.4070807695388794}, \"0.8834022879600525\": {\"frequency\": 1, \"value\": 0.8834022879600525}, \"0.3974221348762512\": {\"frequency\": 1, \"value\": 0.3974221348762512}, \"0.20940285921096802\": {\"frequency\": 1, \"value\": 0.20940285921096802}, \"1.2047700881958008\": {\"frequency\": 1, \"value\": 1.2047700881958008}, \"0.1325637698173523\": {\"frequency\": 1, \"value\": 0.1325637698173523}, \"1.2241737842559814\": {\"frequency\": 1, \"value\": 1.2241737842559814}, \"0.9521215558052063\": {\"frequency\": 1, \"value\": 0.9521215558052063}, \"1.262937068939209\": {\"frequency\": 1, \"value\": 1.262937068939209}, \"0.5147005319595337\": {\"frequency\": 1, \"value\": 0.5147005319595337}, \"1.137200117111206\": {\"frequency\": 1, \"value\": 1.137200117111206}, \"1.0244405269622803\": {\"frequency\": 1, \"value\": 1.0244405269622803}, \"2.7030744552612305\": {\"frequency\": 1, \"value\": 2.7030744552612305}, \"1.8172364234924316\": {\"frequency\": 1, \"value\": 1.8172364234924316}, \"0.17313355207443237\": {\"frequency\": 1, \"value\": 0.17313355207443237}, \"1.1420917510986328\": {\"frequency\": 1, \"value\": 1.1420917510986328}, \"0.47266221046447754\": {\"frequency\": 1, \"value\": 0.47266221046447754}, \"0.5134516954421997\": {\"frequency\": 1, \"value\": 0.5134516954421997}, \"0.4356832504272461\": {\"frequency\": 1, \"value\": 0.4356832504272461}, \"1.6232280731201172\": {\"frequency\": 1, \"value\": 1.6232280731201172}, \"3.712888717651367\": {\"frequency\": 1, \"value\": 3.712888717651367}, \"0.35011500120162964\": {\"frequency\": 1, \"value\": 0.35011500120162964}, \"0.9727263450622559\": {\"frequency\": 1, \"value\": 0.9727263450622559}, \"3.1766774654388428\": {\"frequency\": 1, \"value\": 3.1766774654388428}, \"1.4347318410873413\": {\"frequency\": 1, \"value\": 1.4347318410873413}, \"1.1088207960128784\": {\"frequency\": 1, \"value\": 1.1088207960128784}, \"0.19432425498962402\": {\"frequency\": 1, \"value\": 0.19432425498962402}, \"0.0785374641418457\": {\"frequency\": 1, \"value\": 0.0785374641418457}, \"3.5536060333251953\": {\"frequency\": 1, \"value\": 3.5536060333251953}, \"0.44868338108062744\": {\"frequency\": 1, \"value\": 0.44868338108062744}, \"0.6057005524635315\": {\"frequency\": 1, \"value\": 0.6057005524635315}, \"0.7973084449768066\": {\"frequency\": 1, \"value\": 0.7973084449768066}, \"2.8247289657592773\": {\"frequency\": 1, \"value\": 2.8247289657592773}, \"0.6415320634841919\": {\"frequency\": 1, \"value\": 0.6415320634841919}, \"0.007315218448638916\": {\"frequency\": 1, \"value\": 0.007315218448638916}, \"2.223245620727539\": {\"frequency\": 1, \"value\": 2.223245620727539}, \"2.175518751144409\": {\"frequency\": 1, \"value\": 2.175518751144409}, \"1.9357342720031738\": {\"frequency\": 1, \"value\": 1.9357342720031738}, \"1.7808732986450195\": {\"frequency\": 1, \"value\": 1.7808732986450195}, \"0.39026403427124023\": {\"frequency\": 1, \"value\": 0.39026403427124023}, \"0.16188031435012817\": {\"frequency\": 1, \"value\": 0.16188031435012817}, \"5.710060119628906\": {\"frequency\": 1, \"value\": 5.710060119628906}, \"0.9552949070930481\": {\"frequency\": 1, \"value\": 0.9552949070930481}, \"0.3354659080505371\": {\"frequency\": 1, \"value\": 0.3354659080505371}, \"1.1667262315750122\": {\"frequency\": 1, \"value\": 1.1667262315750122}, \"0.09298199415206909\": {\"frequency\": 1, \"value\": 0.09298199415206909}, \"1.763289213180542\": {\"frequency\": 1, \"value\": 1.763289213180542}, \"1.5246495008468628\": {\"frequency\": 1, \"value\": 1.5246495008468628}, \"0.06159794330596924\": {\"frequency\": 1, \"value\": 0.06159794330596924}, \"0.4822899103164673\": {\"frequency\": 1, \"value\": 0.4822899103164673}, \"0.24287784099578857\": {\"frequency\": 1, \"value\": 0.24287784099578857}, \"2.2844390869140625\": {\"frequency\": 1, \"value\": 2.2844390869140625}, \"0.23161303997039795\": {\"frequency\": 1, \"value\": 0.23161303997039795}, \"0.1550077199935913\": {\"frequency\": 1, \"value\": 0.1550077199935913}, \"0.6208373308181763\": {\"frequency\": 1, \"value\": 0.6208373308181763}, \"0.3495519757270813\": {\"frequency\": 1, \"value\": 0.3495519757270813}, \"1.317038893699646\": {\"frequency\": 1, \"value\": 1.317038893699646}, \"0.17430353164672852\": {\"frequency\": 1, \"value\": 0.17430353164672852}, \"0.5308489799499512\": {\"frequency\": 1, \"value\": 0.5308489799499512}, \"0.4097324013710022\": {\"frequency\": 1, \"value\": 0.4097324013710022}, \"0.5681760311126709\": {\"frequency\": 1, \"value\": 0.5681760311126709}, \"0.7411535382270813\": {\"frequency\": 1, \"value\": 0.7411535382270813}, \"0.6736264228820801\": {\"frequency\": 1, \"value\": 0.6736264228820801}, \"0.7550538778305054\": {\"frequency\": 1, \"value\": 0.7550538778305054}, \"0.2975730299949646\": {\"frequency\": 1, \"value\": 0.2975730299949646}, \"0.15088975429534912\": {\"frequency\": 1, \"value\": 0.15088975429534912}, \"0.3772240877151489\": {\"frequency\": 1, \"value\": 0.3772240877151489}, \"1.3895796537399292\": {\"frequency\": 1, \"value\": 1.3895796537399292}, \"0.7977286577224731\": {\"frequency\": 1, \"value\": 0.7977286577224731}, \"0.20500564575195312\": {\"frequency\": 1, \"value\": 0.20500564575195312}, \"1.4283524751663208\": {\"frequency\": 1, \"value\": 1.4283524751663208}, \"3.485241413116455\": {\"frequency\": 1, \"value\": 3.485241413116455}, \"0.6052476167678833\": {\"frequency\": 1, \"value\": 0.6052476167678833}, \"0.4080848693847656\": {\"frequency\": 1, \"value\": 0.4080848693847656}, \"0.568650484085083\": {\"frequency\": 1, \"value\": 0.568650484085083}, \"0.9571055173873901\": {\"frequency\": 1, \"value\": 0.9571055173873901}, \"4.328007221221924\": {\"frequency\": 1, \"value\": 4.328007221221924}, \"0.24114996194839478\": {\"frequency\": 1, \"value\": 0.24114996194839478}, \"1.6997720003128052\": {\"frequency\": 1, \"value\": 1.6997720003128052}, \"1.6894862651824951\": {\"frequency\": 1, \"value\": 1.6894862651824951}, \"3.007096529006958\": {\"frequency\": 1, \"value\": 3.007096529006958}, \"1.038993239402771\": {\"frequency\": 1, \"value\": 1.038993239402771}, \"0.7931962013244629\": {\"frequency\": 1, \"value\": 0.7931962013244629}, \"0.5954364538192749\": {\"frequency\": 1, \"value\": 0.5954364538192749}, \"0.49730047583580017\": {\"frequency\": 1, \"value\": 0.49730047583580017}, \"0.9352230429649353\": {\"frequency\": 1, \"value\": 0.9352230429649353}, \"0.05232250690460205\": {\"frequency\": 1, \"value\": 0.05232250690460205}, \"0.29634636640548706\": {\"frequency\": 1, \"value\": 0.29634636640548706}, \"0.4602510929107666\": {\"frequency\": 1, \"value\": 0.4602510929107666}, \"1.748474359512329\": {\"frequency\": 1, \"value\": 1.748474359512329}, \"1.386148452758789\": {\"frequency\": 1, \"value\": 1.386148452758789}, \"0.214483380317688\": {\"frequency\": 1, \"value\": 0.214483380317688}, \"2.928682804107666\": {\"frequency\": 1, \"value\": 2.928682804107666}, \"0.06719321012496948\": {\"frequency\": 1, \"value\": 0.06719321012496948}, \"2.5182478427886963\": {\"frequency\": 1, \"value\": 2.5182478427886963}, \"0.060913681983947754\": {\"frequency\": 1, \"value\": 0.060913681983947754}, \"2.896808385848999\": {\"frequency\": 1, \"value\": 2.896808385848999}, \"1.465362310409546\": {\"frequency\": 1, \"value\": 1.465362310409546}, \"0.08602094650268555\": {\"frequency\": 1, \"value\": 0.08602094650268555}, \"0.8203701972961426\": {\"frequency\": 1, \"value\": 0.8203701972961426}, \"0.8563888669013977\": {\"frequency\": 1, \"value\": 0.8563888669013977}, \"2.32814884185791\": {\"frequency\": 1, \"value\": 2.32814884185791}, \"0.0893518328666687\": {\"frequency\": 1, \"value\": 0.0893518328666687}, \"0.17124241590499878\": {\"frequency\": 1, \"value\": 0.17124241590499878}, \"2.7563815116882324\": {\"frequency\": 1, \"value\": 2.7563815116882324}, \"0.8627442717552185\": {\"frequency\": 1, \"value\": 0.8627442717552185}, \"0.4349210262298584\": {\"frequency\": 1, \"value\": 0.4349210262298584}, \"0.17927056550979614\": {\"frequency\": 1, \"value\": 0.17927056550979614}, \"0.03924280405044556\": {\"frequency\": 1, \"value\": 0.03924280405044556}, \"2.5078494548797607\": {\"frequency\": 1, \"value\": 2.5078494548797607}, \"0.3624943494796753\": {\"frequency\": 1, \"value\": 0.3624943494796753}, \"0.8390796184539795\": {\"frequency\": 1, \"value\": 0.8390796184539795}, \"0.7487727403640747\": {\"frequency\": 1, \"value\": 0.7487727403640747}, \"1.6207151412963867\": {\"frequency\": 1, \"value\": 1.6207151412963867}, \"1.6033034324645996\": {\"frequency\": 1, \"value\": 1.6033034324645996}, \"3.3801162242889404\": {\"frequency\": 1, \"value\": 3.3801162242889404}, \"1.7590773105621338\": {\"frequency\": 1, \"value\": 1.7590773105621338}, \"1.475924015045166\": {\"frequency\": 1, \"value\": 1.475924015045166}, \"0.4888083338737488\": {\"frequency\": 1, \"value\": 0.4888083338737488}, \"1.4263970851898193\": {\"frequency\": 1, \"value\": 1.4263970851898193}, \"1.7154414653778076\": {\"frequency\": 1, \"value\": 1.7154414653778076}, \"0.3849242329597473\": {\"frequency\": 1, \"value\": 0.3849242329597473}, \"3.9036903381347656\": {\"frequency\": 1, \"value\": 3.9036903381347656}, \"0.6542486548423767\": {\"frequency\": 1, \"value\": 0.6542486548423767}, \"2.5358963012695312\": {\"frequency\": 1, \"value\": 2.5358963012695312}, \"0.4471442699432373\": {\"frequency\": 1, \"value\": 0.4471442699432373}, \"1.1346900463104248\": {\"frequency\": 1, \"value\": 1.1346900463104248}, \"3.938581705093384\": {\"frequency\": 1, \"value\": 3.938581705093384}, \"1.44233238697052\": {\"frequency\": 1, \"value\": 1.44233238697052}, \"0.4592483639717102\": {\"frequency\": 1, \"value\": 0.4592483639717102}, \"1.4534862041473389\": {\"frequency\": 1, \"value\": 1.4534862041473389}, \"0.6631752848625183\": {\"frequency\": 1, \"value\": 0.6631752848625183}, \"0.4150688052177429\": {\"frequency\": 1, \"value\": 0.4150688052177429}, \"1.276968002319336\": {\"frequency\": 1, \"value\": 1.276968002319336}, \"0.6291520595550537\": {\"frequency\": 1, \"value\": 0.6291520595550537}, \"0.600044846534729\": {\"frequency\": 1, \"value\": 0.600044846534729}, \"0.8535632491111755\": {\"frequency\": 1, \"value\": 0.8535632491111755}, \"0.294461190700531\": {\"frequency\": 1, \"value\": 0.294461190700531}, \"2.09981369972229\": {\"frequency\": 1, \"value\": 2.09981369972229}, \"0.2801523208618164\": {\"frequency\": 1, \"value\": 0.2801523208618164}, \"0.08035683631896973\": {\"frequency\": 1, \"value\": 0.08035683631896973}, \"0.6799155473709106\": {\"frequency\": 1, \"value\": 0.6799155473709106}, \"0.2494443655014038\": {\"frequency\": 1, \"value\": 0.2494443655014038}, \"0.5595744252204895\": {\"frequency\": 1, \"value\": 0.5595744252204895}, \"0.6380034685134888\": {\"frequency\": 1, \"value\": 0.6380034685134888}, \"2.9435696601867676\": {\"frequency\": 1, \"value\": 2.9435696601867676}, \"0.15946954488754272\": {\"frequency\": 1, \"value\": 0.15946954488754272}, \"3.799557685852051\": {\"frequency\": 1, \"value\": 3.799557685852051}, \"1.4780611991882324\": {\"frequency\": 1, \"value\": 1.4780611991882324}, \"0.24991673231124878\": {\"frequency\": 1, \"value\": 0.24991673231124878}, \"1.1261944770812988\": {\"frequency\": 1, \"value\": 1.1261944770812988}, \"0.22074782848358154\": {\"frequency\": 1, \"value\": 0.22074782848358154}, \"0.09075897932052612\": {\"frequency\": 1, \"value\": 0.09075897932052612}, \"0.5437695384025574\": {\"frequency\": 1, \"value\": 0.5437695384025574}, \"1.0165297985076904\": {\"frequency\": 1, \"value\": 1.0165297985076904}, \"0.5829930305480957\": {\"frequency\": 1, \"value\": 0.5829930305480957}, \"0.8426956534385681\": {\"frequency\": 1, \"value\": 0.8426956534385681}, \"2.4147517681121826\": {\"frequency\": 1, \"value\": 2.4147517681121826}, \"0.374161958694458\": {\"frequency\": 1, \"value\": 0.374161958694458}, \"0.056486427783966064\": {\"frequency\": 1, \"value\": 0.056486427783966064}, \"0.6874299645423889\": {\"frequency\": 1, \"value\": 0.6874299645423889}, \"2.539235830307007\": {\"frequency\": 1, \"value\": 2.539235830307007}, \"1.707135558128357\": {\"frequency\": 1, \"value\": 1.707135558128357}, \"0.4919179081916809\": {\"frequency\": 1, \"value\": 0.4919179081916809}, \"0.7682381868362427\": {\"frequency\": 1, \"value\": 0.7682381868362427}, \"0.22556334733963013\": {\"frequency\": 1, \"value\": 0.22556334733963013}, \"0.8392321467399597\": {\"frequency\": 1, \"value\": 0.8392321467399597}, \"1.0728790760040283\": {\"frequency\": 1, \"value\": 1.0728790760040283}, \"1.6949529647827148\": {\"frequency\": 1, \"value\": 1.6949529647827148}, \"1.4062825441360474\": {\"frequency\": 1, \"value\": 1.4062825441360474}, \"0.22762364149093628\": {\"frequency\": 1, \"value\": 0.22762364149093628}, \"0.08159488439559937\": {\"frequency\": 1, \"value\": 0.08159488439559937}, \"0.28571152687072754\": {\"frequency\": 1, \"value\": 0.28571152687072754}, \"0.4695115089416504\": {\"frequency\": 1, \"value\": 0.4695115089416504}, \"0.3599196672439575\": {\"frequency\": 1, \"value\": 0.3599196672439575}, \"1.1729028224945068\": {\"frequency\": 1, \"value\": 1.1729028224945068}, \"2.6078555583953857\": {\"frequency\": 1, \"value\": 2.6078555583953857}, \"0.7285054922103882\": {\"frequency\": 1, \"value\": 0.7285054922103882}, \"2.0991780757904053\": {\"frequency\": 1, \"value\": 2.0991780757904053}, \"0.7324939966201782\": {\"frequency\": 1, \"value\": 0.7324939966201782}, \"0.15196681022644043\": {\"frequency\": 1, \"value\": 0.15196681022644043}, \"0.9521688222885132\": {\"frequency\": 1, \"value\": 0.9521688222885132}, \"0.2558407187461853\": {\"frequency\": 1, \"value\": 0.2558407187461853}, \"0.6132938861846924\": {\"frequency\": 1, \"value\": 0.6132938861846924}, \"1.0581799745559692\": {\"frequency\": 1, \"value\": 1.0581799745559692}, \"1.464145541191101\": {\"frequency\": 1, \"value\": 1.464145541191101}, \"2.4398794174194336\": {\"frequency\": 1, \"value\": 2.4398794174194336}, \"1.4699184894561768\": {\"frequency\": 1, \"value\": 1.4699184894561768}, \"1.2500402927398682\": {\"frequency\": 1, \"value\": 1.2500402927398682}, \"1.3374972343444824\": {\"frequency\": 1, \"value\": 1.3374972343444824}, \"0.28688526153564453\": {\"frequency\": 1, \"value\": 0.28688526153564453}, \"2.8473212718963623\": {\"frequency\": 1, \"value\": 2.8473212718963623}, \"1.8223023414611816\": {\"frequency\": 1, \"value\": 1.8223023414611816}, \"0.6315592527389526\": {\"frequency\": 1, \"value\": 0.6315592527389526}, \"0.2843574285507202\": {\"frequency\": 1, \"value\": 0.2843574285507202}, \"1.7481225728988647\": {\"frequency\": 1, \"value\": 1.7481225728988647}, \"0.5347664952278137\": {\"frequency\": 1, \"value\": 0.5347664952278137}, \"2.0204243659973145\": {\"frequency\": 1, \"value\": 2.0204243659973145}, \"5.2568745613098145\": {\"frequency\": 1, \"value\": 5.2568745613098145}, \"1.0064609050750732\": {\"frequency\": 1, \"value\": 1.0064609050750732}, \"4.661006927490234\": {\"frequency\": 1, \"value\": 4.661006927490234}, \"1.2051653861999512\": {\"frequency\": 1, \"value\": 1.2051653861999512}, \"1.352782130241394\": {\"frequency\": 1, \"value\": 1.352782130241394}, \"1.7819030284881592\": {\"frequency\": 1, \"value\": 1.7819030284881592}, \"0.09283614158630371\": {\"frequency\": 1, \"value\": 0.09283614158630371}, \"0.23009192943572998\": {\"frequency\": 1, \"value\": 0.23009192943572998}, \"1.1561660766601562\": {\"frequency\": 1, \"value\": 1.1561660766601562}, \"0.19604480266571045\": {\"frequency\": 1, \"value\": 0.19604480266571045}, \"0.23018234968185425\": {\"frequency\": 1, \"value\": 0.23018234968185425}, \"1.0783225297927856\": {\"frequency\": 1, \"value\": 1.0783225297927856}, \"0.11910510063171387\": {\"frequency\": 1, \"value\": 0.11910510063171387}, \"0.31990569829940796\": {\"frequency\": 1, \"value\": 0.31990569829940796}, \"0.8256902694702148\": {\"frequency\": 1, \"value\": 0.8256902694702148}, \"0.8592792749404907\": {\"frequency\": 1, \"value\": 0.8592792749404907}, \"0.9463803172111511\": {\"frequency\": 1, \"value\": 0.9463803172111511}, \"0.05731832981109619\": {\"frequency\": 1, \"value\": 0.05731832981109619}, \"0.9947018027305603\": {\"frequency\": 1, \"value\": 0.9947018027305603}, \"1.601539134979248\": {\"frequency\": 1, \"value\": 1.601539134979248}, \"0.9071369767189026\": {\"frequency\": 1, \"value\": 0.9071369767189026}, \"2.5299901962280273\": {\"frequency\": 1, \"value\": 2.5299901962280273}, \"0.16612577438354492\": {\"frequency\": 1, \"value\": 0.16612577438354492}, \"0.5321377515792847\": {\"frequency\": 1, \"value\": 0.5321377515792847}, \"0.9420584440231323\": {\"frequency\": 1, \"value\": 0.9420584440231323}, \"0.002922952175140381\": {\"frequency\": 1, \"value\": 0.002922952175140381}, \"1.2080109119415283\": {\"frequency\": 1, \"value\": 1.2080109119415283}, \"1.280664324760437\": {\"frequency\": 1, \"value\": 1.280664324760437}, \"0.17818117141723633\": {\"frequency\": 1, \"value\": 0.17818117141723633}, \"2.5919747352600098\": {\"frequency\": 1, \"value\": 2.5919747352600098}, \"0.22899341583251953\": {\"frequency\": 1, \"value\": 0.22899341583251953}, \"0.276403546333313\": {\"frequency\": 1, \"value\": 0.276403546333313}, \"2.0303452014923096\": {\"frequency\": 1, \"value\": 2.0303452014923096}, \"4.516174793243408\": {\"frequency\": 1, \"value\": 4.516174793243408}, \"3.5327775478363037\": {\"frequency\": 1, \"value\": 3.5327775478363037}, \"2.2961461544036865\": {\"frequency\": 1, \"value\": 2.2961461544036865}, \"3.4839940071105957\": {\"frequency\": 1, \"value\": 3.4839940071105957}, \"0.4891899824142456\": {\"frequency\": 1, \"value\": 0.4891899824142456}, \"1.353084921836853\": {\"frequency\": 1, \"value\": 1.353084921836853}, \"0.07817971706390381\": {\"frequency\": 1, \"value\": 0.07817971706390381}, \"1.5141987800598145\": {\"frequency\": 1, \"value\": 1.5141987800598145}, \"1.1978614330291748\": {\"frequency\": 1, \"value\": 1.1978614330291748}, \"1.5998866558074951\": {\"frequency\": 1, \"value\": 1.5998866558074951}, \"1.4100805521011353\": {\"frequency\": 1, \"value\": 1.4100805521011353}, \"0.0649493932723999\": {\"frequency\": 1, \"value\": 0.0649493932723999}, \"2.6823525428771973\": {\"frequency\": 1, \"value\": 2.6823525428771973}, \"0.5249477028846741\": {\"frequency\": 1, \"value\": 0.5249477028846741}, \"0.7813228368759155\": {\"frequency\": 1, \"value\": 0.7813228368759155}, \"0.12347614765167236\": {\"frequency\": 1, \"value\": 0.12347614765167236}, \"2.2940080165863037\": {\"frequency\": 1, \"value\": 2.2940080165863037}, \"0.5417351722717285\": {\"frequency\": 1, \"value\": 0.5417351722717285}, \"0.41850513219833374\": {\"frequency\": 1, \"value\": 0.41850513219833374}, \"2.5116748809814453\": {\"frequency\": 1, \"value\": 2.5116748809814453}, \"0.10857826471328735\": {\"frequency\": 1, \"value\": 0.10857826471328735}, \"2.443086862564087\": {\"frequency\": 1, \"value\": 2.443086862564087}, \"0.7992453575134277\": {\"frequency\": 1, \"value\": 0.7992453575134277}, \"1.3822262287139893\": {\"frequency\": 1, \"value\": 1.3822262287139893}, \"0.7975748777389526\": {\"frequency\": 1, \"value\": 0.7975748777389526}, \"0.3341315984725952\": {\"frequency\": 1, \"value\": 0.3341315984725952}, \"1.4176398515701294\": {\"frequency\": 1, \"value\": 1.4176398515701294}, \"1.0208390951156616\": {\"frequency\": 1, \"value\": 1.0208390951156616}, \"0.9967079758644104\": {\"frequency\": 1, \"value\": 0.9967079758644104}, \"5.022604942321777\": {\"frequency\": 1, \"value\": 5.022604942321777}, \"0.6437500715255737\": {\"frequency\": 1, \"value\": 0.6437500715255737}, \"0.022406578063964844\": {\"frequency\": 1, \"value\": 0.022406578063964844}, \"1.1654788255691528\": {\"frequency\": 1, \"value\": 1.1654788255691528}, \"1.127699613571167\": {\"frequency\": 1, \"value\": 1.127699613571167}, \"1.1581015586853027\": {\"frequency\": 1, \"value\": 1.1581015586853027}, \"2.830899715423584\": {\"frequency\": 1, \"value\": 2.830899715423584}, \"2.542682647705078\": {\"frequency\": 1, \"value\": 2.542682647705078}, \"0.6994008421897888\": {\"frequency\": 1, \"value\": 0.6994008421897888}, \"1.2325387001037598\": {\"frequency\": 1, \"value\": 1.2325387001037598}, \"2.342794418334961\": {\"frequency\": 1, \"value\": 2.342794418334961}, \"0.01753675937652588\": {\"frequency\": 1, \"value\": 0.01753675937652588}, \"8.397029876708984\": {\"frequency\": 1, \"value\": 8.397029876708984}, \"0.5888644456863403\": {\"frequency\": 1, \"value\": 0.5888644456863403}, \"1.9864904880523682\": {\"frequency\": 1, \"value\": 1.9864904880523682}, \"1.2310508489608765\": {\"frequency\": 1, \"value\": 1.2310508489608765}, \"0.993108868598938\": {\"frequency\": 1, \"value\": 0.993108868598938}, \"0.09478509426116943\": {\"frequency\": 1, \"value\": 0.09478509426116943}, \"0.17208224534988403\": {\"frequency\": 1, \"value\": 0.17208224534988403}, \"0.5193464159965515\": {\"frequency\": 1, \"value\": 0.5193464159965515}, \"0.24921339750289917\": {\"frequency\": 1, \"value\": 0.24921339750289917}, \"0.6668945550918579\": {\"frequency\": 1, \"value\": 0.6668945550918579}, \"1.3100178241729736\": {\"frequency\": 1, \"value\": 1.3100178241729736}, \"0.3747745752334595\": {\"frequency\": 1, \"value\": 0.3747745752334595}, \"1.4683177471160889\": {\"frequency\": 1, \"value\": 1.4683177471160889}, \"2.2718653678894043\": {\"frequency\": 1, \"value\": 2.2718653678894043}, \"0.274319052696228\": {\"frequency\": 1, \"value\": 0.274319052696228}, \"0.6921858191490173\": {\"frequency\": 1, \"value\": 0.6921858191490173}, \"1.2325024604797363\": {\"frequency\": 1, \"value\": 1.2325024604797363}, \"3.803304672241211\": {\"frequency\": 1, \"value\": 3.803304672241211}, \"1.7341963052749634\": {\"frequency\": 1, \"value\": 1.7341963052749634}, \"0.28776222467422485\": {\"frequency\": 1, \"value\": 0.28776222467422485}, \"0.3938509225845337\": {\"frequency\": 1, \"value\": 0.3938509225845337}, \"2.267899751663208\": {\"frequency\": 1, \"value\": 2.267899751663208}, \"0.09065139293670654\": {\"frequency\": 1, \"value\": 0.09065139293670654}, \"0.5898414850234985\": {\"frequency\": 1, \"value\": 0.5898414850234985}, \"0.21443259716033936\": {\"frequency\": 1, \"value\": 0.21443259716033936}, \"0.17864221334457397\": {\"frequency\": 1, \"value\": 0.17864221334457397}, \"0.6317201852798462\": {\"frequency\": 1, \"value\": 0.6317201852798462}, \"1.542837142944336\": {\"frequency\": 1, \"value\": 1.542837142944336}, \"1.6959643363952637\": {\"frequency\": 1, \"value\": 1.6959643363952637}, \"3.3083949089050293\": {\"frequency\": 1, \"value\": 3.3083949089050293}, \"0.8593032360076904\": {\"frequency\": 1, \"value\": 0.8593032360076904}, \"1.6145620346069336\": {\"frequency\": 1, \"value\": 1.6145620346069336}, \"0.3666675090789795\": {\"frequency\": 1, \"value\": 0.3666675090789795}, \"1.1024317741394043\": {\"frequency\": 1, \"value\": 1.1024317741394043}, \"0.253997802734375\": {\"frequency\": 1, \"value\": 0.253997802734375}, \"2.2372500896453857\": {\"frequency\": 1, \"value\": 2.2372500896453857}, \"0.9239095449447632\": {\"frequency\": 1, \"value\": 0.9239095449447632}, \"3.130195379257202\": {\"frequency\": 1, \"value\": 3.130195379257202}, \"1.9092907905578613\": {\"frequency\": 1, \"value\": 1.9092907905578613}, \"2.401334285736084\": {\"frequency\": 1, \"value\": 2.401334285736084}, \"0.02530592679977417\": {\"frequency\": 1, \"value\": 0.02530592679977417}, \"0.19465166330337524\": {\"frequency\": 1, \"value\": 0.19465166330337524}, \"0.808111846446991\": {\"frequency\": 1, \"value\": 0.808111846446991}, \"0.05502063035964966\": {\"frequency\": 1, \"value\": 0.05502063035964966}, \"1.2777901887893677\": {\"frequency\": 1, \"value\": 1.2777901887893677}, \"1.074440598487854\": {\"frequency\": 1, \"value\": 1.074440598487854}, \"0.4189944267272949\": {\"frequency\": 1, \"value\": 0.4189944267272949}, \"0.3978949189186096\": {\"frequency\": 1, \"value\": 0.3978949189186096}, \"0.11917805671691895\": {\"frequency\": 1, \"value\": 0.11917805671691895}, \"0.8564473986625671\": {\"frequency\": 1, \"value\": 0.8564473986625671}, \"0.32794666290283203\": {\"frequency\": 1, \"value\": 0.32794666290283203}, \"0.18492275476455688\": {\"frequency\": 1, \"value\": 0.18492275476455688}, \"0.4898976683616638\": {\"frequency\": 1, \"value\": 0.4898976683616638}, \"1.1807752847671509\": {\"frequency\": 1, \"value\": 1.1807752847671509}, \"4.696841716766357\": {\"frequency\": 1, \"value\": 4.696841716766357}, \"0.6596255302429199\": {\"frequency\": 1, \"value\": 0.6596255302429199}, \"0.3416892886161804\": {\"frequency\": 1, \"value\": 0.3416892886161804}, \"0.2219638228416443\": {\"frequency\": 1, \"value\": 0.2219638228416443}, \"2.257200241088867\": {\"frequency\": 1, \"value\": 2.257200241088867}, \"0.8389763236045837\": {\"frequency\": 1, \"value\": 0.8389763236045837}, \"0.3706085681915283\": {\"frequency\": 1, \"value\": 0.3706085681915283}, \"0.8446829915046692\": {\"frequency\": 1, \"value\": 0.8446829915046692}, \"1.782521367073059\": {\"frequency\": 1, \"value\": 1.782521367073059}, \"1.5785621404647827\": {\"frequency\": 1, \"value\": 1.5785621404647827}, \"1.077839970588684\": {\"frequency\": 1, \"value\": 1.077839970588684}, \"0.6648658514022827\": {\"frequency\": 1, \"value\": 0.6648658514022827}, \"0.04361957311630249\": {\"frequency\": 1, \"value\": 0.04361957311630249}, \"2.9370064735412598\": {\"frequency\": 1, \"value\": 2.9370064735412598}, \"0.6820076704025269\": {\"frequency\": 1, \"value\": 0.6820076704025269}, \"0.10568350553512573\": {\"frequency\": 1, \"value\": 0.10568350553512573}, \"0.463137686252594\": {\"frequency\": 1, \"value\": 0.463137686252594}, \"0.44412732124328613\": {\"frequency\": 1, \"value\": 0.44412732124328613}, \"4.747217178344727\": {\"frequency\": 1, \"value\": 4.747217178344727}, \"1.5392889976501465\": {\"frequency\": 1, \"value\": 1.5392889976501465}, \"0.960645318031311\": {\"frequency\": 1, \"value\": 0.960645318031311}, \"0.8458965420722961\": {\"frequency\": 1, \"value\": 0.8458965420722961}, \"0.2359527349472046\": {\"frequency\": 1, \"value\": 0.2359527349472046}, \"0.24660664796829224\": {\"frequency\": 1, \"value\": 0.24660664796829224}, \"0.00839686393737793\": {\"frequency\": 1, \"value\": 0.00839686393737793}, \"1.3465909957885742\": {\"frequency\": 1, \"value\": 1.3465909957885742}, \"2.711249589920044\": {\"frequency\": 1, \"value\": 2.711249589920044}, \"0.3857951760292053\": {\"frequency\": 1, \"value\": 0.3857951760292053}, \"0.04801696538925171\": {\"frequency\": 1, \"value\": 0.04801696538925171}, \"1.580374002456665\": {\"frequency\": 1, \"value\": 1.580374002456665}, \"6.009605884552002\": {\"frequency\": 1, \"value\": 6.009605884552002}, \"0.45099741220474243\": {\"frequency\": 1, \"value\": 0.45099741220474243}, \"1.4937422275543213\": {\"frequency\": 1, \"value\": 1.4937422275543213}, \"1.172853946685791\": {\"frequency\": 1, \"value\": 1.172853946685791}, \"1.7524983882904053\": {\"frequency\": 1, \"value\": 1.7524983882904053}, \"0.7875276803970337\": {\"frequency\": 1, \"value\": 0.7875276803970337}, \"0.7009674310684204\": {\"frequency\": 1, \"value\": 0.7009674310684204}, \"0.2694355249404907\": {\"frequency\": 1, \"value\": 0.2694355249404907}, \"1.7423663139343262\": {\"frequency\": 1, \"value\": 1.7423663139343262}, \"1.1093050241470337\": {\"frequency\": 1, \"value\": 1.1093050241470337}, \"2.959531307220459\": {\"frequency\": 1, \"value\": 2.959531307220459}, \"0.011227607727050781\": {\"frequency\": 1, \"value\": 0.011227607727050781}, \"0.8904375433921814\": {\"frequency\": 1, \"value\": 0.8904375433921814}, \"0.9952577948570251\": {\"frequency\": 1, \"value\": 0.9952577948570251}, \"1.7032274007797241\": {\"frequency\": 1, \"value\": 1.7032274007797241}, \"0.23470866680145264\": {\"frequency\": 1, \"value\": 0.23470866680145264}, \"2.218486785888672\": {\"frequency\": 1, \"value\": 2.218486785888672}, \"0.15565216541290283\": {\"frequency\": 1, \"value\": 0.15565216541290283}, \"0.10644400119781494\": {\"frequency\": 1, \"value\": 0.10644400119781494}, \"1.526572346687317\": {\"frequency\": 1, \"value\": 1.526572346687317}, \"0.2383670210838318\": {\"frequency\": 1, \"value\": 0.2383670210838318}, \"8.033197402954102\": {\"frequency\": 1, \"value\": 8.033197402954102}, \"0.3038754463195801\": {\"frequency\": 1, \"value\": 0.3038754463195801}, \"2.9678874015808105\": {\"frequency\": 1, \"value\": 2.9678874015808105}, \"1.008137822151184\": {\"frequency\": 1, \"value\": 1.008137822151184}, \"1.5416102409362793\": {\"frequency\": 1, \"value\": 1.5416102409362793}, \"0.18032175302505493\": {\"frequency\": 1, \"value\": 0.18032175302505493}, \"0.7745590209960938\": {\"frequency\": 1, \"value\": 0.7745590209960938}, \"0.37572938203811646\": {\"frequency\": 1, \"value\": 0.37572938203811646}, \"0.3742213249206543\": {\"frequency\": 1, \"value\": 0.3742213249206543}, \"0.623000979423523\": {\"frequency\": 1, \"value\": 0.623000979423523}, \"0.3825157880783081\": {\"frequency\": 1, \"value\": 0.3825157880783081}, \"2.697784900665283\": {\"frequency\": 1, \"value\": 2.697784900665283}, \"1.0503615140914917\": {\"frequency\": 1, \"value\": 1.0503615140914917}, \"0.10390925407409668\": {\"frequency\": 1, \"value\": 0.10390925407409668}, \"0.006350576877593994\": {\"frequency\": 1, \"value\": 0.006350576877593994}, \"1.9961328506469727\": {\"frequency\": 1, \"value\": 1.9961328506469727}, \"0.3264031410217285\": {\"frequency\": 1, \"value\": 0.3264031410217285}, \"2.2276461124420166\": {\"frequency\": 1, \"value\": 2.2276461124420166}, \"0.47022926807403564\": {\"frequency\": 1, \"value\": 0.47022926807403564}, \"1.8451356887817383\": {\"frequency\": 1, \"value\": 1.8451356887817383}, \"1.4586777687072754\": {\"frequency\": 1, \"value\": 1.4586777687072754}, \"0.339790403842926\": {\"frequency\": 1, \"value\": 0.339790403842926}, \"0.5884525775909424\": {\"frequency\": 1, \"value\": 0.5884525775909424}, \"0.14833343029022217\": {\"frequency\": 1, \"value\": 0.14833343029022217}, \"1.086769461631775\": {\"frequency\": 1, \"value\": 1.086769461631775}, \"0.9533173441886902\": {\"frequency\": 1, \"value\": 0.9533173441886902}, \"5.6907243728637695\": {\"frequency\": 1, \"value\": 5.6907243728637695}, \"0.16443830728530884\": {\"frequency\": 1, \"value\": 0.16443830728530884}, \"0.1100887656211853\": {\"frequency\": 1, \"value\": 0.1100887656211853}, \"1.8583769798278809\": {\"frequency\": 1, \"value\": 1.8583769798278809}, \"1.1848684549331665\": {\"frequency\": 1, \"value\": 1.1848684549331665}, \"0.6453500986099243\": {\"frequency\": 1, \"value\": 0.6453500986099243}, \"0.3014371395111084\": {\"frequency\": 1, \"value\": 0.3014371395111084}, \"0.006155848503112793\": {\"frequency\": 1, \"value\": 0.006155848503112793}, \"0.6659018993377686\": {\"frequency\": 1, \"value\": 0.6659018993377686}, \"1.143990397453308\": {\"frequency\": 1, \"value\": 1.143990397453308}, \"1.8090475797653198\": {\"frequency\": 1, \"value\": 1.8090475797653198}, \"0.2457181215286255\": {\"frequency\": 1, \"value\": 0.2457181215286255}, \"0.6583904027938843\": {\"frequency\": 1, \"value\": 0.6583904027938843}, \"0.241013765335083\": {\"frequency\": 1, \"value\": 0.241013765335083}, \"2.0745718479156494\": {\"frequency\": 1, \"value\": 2.0745718479156494}, \"1.7756998538970947\": {\"frequency\": 1, \"value\": 1.7756998538970947}, \"2.4085869789123535\": {\"frequency\": 1, \"value\": 2.4085869789123535}, \"0.8112493753433228\": {\"frequency\": 1, \"value\": 0.8112493753433228}, \"0.9050060510635376\": {\"frequency\": 1, \"value\": 0.9050060510635376}, \"2.2606115341186523\": {\"frequency\": 1, \"value\": 2.2606115341186523}, \"0.09013664722442627\": {\"frequency\": 1, \"value\": 0.09013664722442627}, \"1.3175443410873413\": {\"frequency\": 1, \"value\": 1.3175443410873413}, \"0.4385259747505188\": {\"frequency\": 1, \"value\": 0.4385259747505188}, \"2.422177791595459\": {\"frequency\": 1, \"value\": 2.422177791595459}, \"0.7244346141815186\": {\"frequency\": 1, \"value\": 0.7244346141815186}, \"0.3842622637748718\": {\"frequency\": 1, \"value\": 0.3842622637748718}, \"0.03717827796936035\": {\"frequency\": 1, \"value\": 0.03717827796936035}, \"0.3132772445678711\": {\"frequency\": 1, \"value\": 0.3132772445678711}, \"6.034437656402588\": {\"frequency\": 1, \"value\": 6.034437656402588}, \"1.1764543056488037\": {\"frequency\": 1, \"value\": 1.1764543056488037}, \"1.5048503875732422\": {\"frequency\": 1, \"value\": 1.5048503875732422}, \"1.3784630298614502\": {\"frequency\": 1, \"value\": 1.3784630298614502}, \"3.031386137008667\": {\"frequency\": 1, \"value\": 3.031386137008667}, \"2.367584466934204\": {\"frequency\": 1, \"value\": 2.367584466934204}, \"0.7195696830749512\": {\"frequency\": 1, \"value\": 0.7195696830749512}, \"3.0751075744628906\": {\"frequency\": 1, \"value\": 3.0751075744628906}, \"0.575078010559082\": {\"frequency\": 1, \"value\": 0.575078010559082}, \"0.8356435298919678\": {\"frequency\": 1, \"value\": 0.8356435298919678}, \"0.4411810636520386\": {\"frequency\": 1, \"value\": 0.4411810636520386}, \"0.9689351916313171\": {\"frequency\": 1, \"value\": 0.9689351916313171}, \"0.6409578919410706\": {\"frequency\": 1, \"value\": 0.6409578919410706}, \"1.532869577407837\": {\"frequency\": 1, \"value\": 1.532869577407837}, \"0.28264695405960083\": {\"frequency\": 1, \"value\": 0.28264695405960083}, \"0.30280786752700806\": {\"frequency\": 1, \"value\": 0.30280786752700806}, \"2.4642066955566406\": {\"frequency\": 1, \"value\": 2.4642066955566406}, \"2.6692423820495605\": {\"frequency\": 1, \"value\": 2.6692423820495605}, \"0.28715044260025024\": {\"frequency\": 1, \"value\": 0.28715044260025024}, \"0.6199672222137451\": {\"frequency\": 1, \"value\": 0.6199672222137451}, \"1.2361321449279785\": {\"frequency\": 1, \"value\": 1.2361321449279785}, \"0.8466169238090515\": {\"frequency\": 1, \"value\": 0.8466169238090515}, \"0.7318852543830872\": {\"frequency\": 1, \"value\": 0.7318852543830872}, \"1.2086580991744995\": {\"frequency\": 1, \"value\": 1.2086580991744995}, \"0.36779850721359253\": {\"frequency\": 1, \"value\": 0.36779850721359253}, \"0.711997389793396\": {\"frequency\": 1, \"value\": 0.711997389793396}, \"4.020546913146973\": {\"frequency\": 1, \"value\": 4.020546913146973}, \"3.029500722885132\": {\"frequency\": 1, \"value\": 3.029500722885132}, \"0.16154366731643677\": {\"frequency\": 1, \"value\": 0.16154366731643677}, \"1.5688145160675049\": {\"frequency\": 1, \"value\": 1.5688145160675049}, \"1.5920896530151367\": {\"frequency\": 1, \"value\": 1.5920896530151367}, \"1.9036436080932617\": {\"frequency\": 1, \"value\": 1.9036436080932617}, \"0.7371128797531128\": {\"frequency\": 1, \"value\": 0.7371128797531128}, \"0.6333708763122559\": {\"frequency\": 1, \"value\": 0.6333708763122559}, \"1.1878387928009033\": {\"frequency\": 1, \"value\": 1.1878387928009033}, \"3.88161039352417\": {\"frequency\": 1, \"value\": 3.88161039352417}, \"0.7960996031761169\": {\"frequency\": 1, \"value\": 0.7960996031761169}, \"2.7124240398406982\": {\"frequency\": 1, \"value\": 2.7124240398406982}, \"1.262902021408081\": {\"frequency\": 1, \"value\": 1.262902021408081}, \"0.20169156789779663\": {\"frequency\": 1, \"value\": 0.20169156789779663}, \"0.928354024887085\": {\"frequency\": 1, \"value\": 0.928354024887085}, \"0.42192280292510986\": {\"frequency\": 1, \"value\": 0.42192280292510986}, \"1.303297996520996\": {\"frequency\": 1, \"value\": 1.303297996520996}, \"0.6807913780212402\": {\"frequency\": 1, \"value\": 0.6807913780212402}, \"0.8467087745666504\": {\"frequency\": 1, \"value\": 0.8467087745666504}, \"0.33634650707244873\": {\"frequency\": 1, \"value\": 0.33634650707244873}, \"1.2663609981536865\": {\"frequency\": 1, \"value\": 1.2663609981536865}, \"0.013769388198852539\": {\"frequency\": 1, \"value\": 0.013769388198852539}, \"2.2411720752716064\": {\"frequency\": 1, \"value\": 2.2411720752716064}, \"3.889927864074707\": {\"frequency\": 1, \"value\": 3.889927864074707}, \"1.1811636686325073\": {\"frequency\": 1, \"value\": 1.1811636686325073}, \"0.5979723930358887\": {\"frequency\": 1, \"value\": 0.5979723930358887}, \"1.2248129844665527\": {\"frequency\": 1, \"value\": 1.2248129844665527}, \"2.976735830307007\": {\"frequency\": 1, \"value\": 2.976735830307007}, \"0.04210054874420166\": {\"frequency\": 1, \"value\": 0.04210054874420166}, \"0.0179368257522583\": {\"frequency\": 1, \"value\": 0.0179368257522583}, \"0.06813293695449829\": {\"frequency\": 1, \"value\": 0.06813293695449829}, \"0.113228440284729\": {\"frequency\": 1, \"value\": 0.113228440284729}, \"1.710425615310669\": {\"frequency\": 1, \"value\": 1.710425615310669}, \"4.201099395751953\": {\"frequency\": 1, \"value\": 4.201099395751953}, \"0.23690789937973022\": {\"frequency\": 1, \"value\": 0.23690789937973022}, \"0.0018166303634643555\": {\"frequency\": 1, \"value\": 0.0018166303634643555}, \"1.6787660121917725\": {\"frequency\": 1, \"value\": 1.6787660121917725}, \"1.120802640914917\": {\"frequency\": 1, \"value\": 1.120802640914917}, \"0.34876739978790283\": {\"frequency\": 1, \"value\": 0.34876739978790283}, \"1.0519448518753052\": {\"frequency\": 1, \"value\": 1.0519448518753052}, \"0.06615567207336426\": {\"frequency\": 1, \"value\": 0.06615567207336426}, \"1.2152279615402222\": {\"frequency\": 1, \"value\": 1.2152279615402222}, \"0.812609076499939\": {\"frequency\": 1, \"value\": 0.812609076499939}, \"0.00994729995727539\": {\"frequency\": 1, \"value\": 0.00994729995727539}, \"1.5574262142181396\": {\"frequency\": 1, \"value\": 1.5574262142181396}, \"0.3170064687728882\": {\"frequency\": 1, \"value\": 0.3170064687728882}, \"0.3754589557647705\": {\"frequency\": 1, \"value\": 0.3754589557647705}, \"0.5688715577125549\": {\"frequency\": 1, \"value\": 0.5688715577125549}, \"0.11664706468582153\": {\"frequency\": 1, \"value\": 0.11664706468582153}, \"0.19048404693603516\": {\"frequency\": 1, \"value\": 0.19048404693603516}, \"0.9991671442985535\": {\"frequency\": 1, \"value\": 0.9991671442985535}, \"1.1548129320144653\": {\"frequency\": 1, \"value\": 1.1548129320144653}, \"0.020415008068084717\": {\"frequency\": 1, \"value\": 0.020415008068084717}, \"2.6692919731140137\": {\"frequency\": 1, \"value\": 2.6692919731140137}, \"0.07235991954803467\": {\"frequency\": 1, \"value\": 0.07235991954803467}, \"3.9405617713928223\": {\"frequency\": 1, \"value\": 3.9405617713928223}, \"2.1638855934143066\": {\"frequency\": 1, \"value\": 2.1638855934143066}, \"0.12819945812225342\": {\"frequency\": 1, \"value\": 0.12819945812225342}, \"0.344535768032074\": {\"frequency\": 1, \"value\": 0.344535768032074}, \"3.525200605392456\": {\"frequency\": 1, \"value\": 3.525200605392456}, \"3.3966431617736816\": {\"frequency\": 1, \"value\": 3.3966431617736816}, \"2.1556549072265625\": {\"frequency\": 1, \"value\": 2.1556549072265625}, \"0.02944493293762207\": {\"frequency\": 1, \"value\": 0.02944493293762207}, \"0.45031875371932983\": {\"frequency\": 1, \"value\": 0.45031875371932983}, \"0.2750701904296875\": {\"frequency\": 1, \"value\": 0.2750701904296875}, \"6.93570613861084\": {\"frequency\": 1, \"value\": 6.93570613861084}, \"0.9123893976211548\": {\"frequency\": 1, \"value\": 0.9123893976211548}, \"0.7969573736190796\": {\"frequency\": 1, \"value\": 0.7969573736190796}, \"2.267502784729004\": {\"frequency\": 1, \"value\": 2.267502784729004}, \"2.7677431106567383\": {\"frequency\": 1, \"value\": 2.7677431106567383}, \"0.08823907375335693\": {\"frequency\": 1, \"value\": 0.08823907375335693}, \"0.5896228551864624\": {\"frequency\": 1, \"value\": 0.5896228551864624}, \"0.9395794868469238\": {\"frequency\": 1, \"value\": 0.9395794868469238}, \"1.286897897720337\": {\"frequency\": 1, \"value\": 1.286897897720337}, \"0.2628639340400696\": {\"frequency\": 1, \"value\": 0.2628639340400696}, \"0.05086874961853027\": {\"frequency\": 1, \"value\": 0.05086874961853027}, \"1.7144594192504883\": {\"frequency\": 1, \"value\": 1.7144594192504883}, \"1.5360745191574097\": {\"frequency\": 1, \"value\": 1.5360745191574097}, \"1.1229612827301025\": {\"frequency\": 1, \"value\": 1.1229612827301025}, \"0.45324546098709106\": {\"frequency\": 1, \"value\": 0.45324546098709106}, \"2.2939648628234863\": {\"frequency\": 1, \"value\": 2.2939648628234863}, \"1.1053298711776733\": {\"frequency\": 1, \"value\": 1.1053298711776733}, \"1.2723346948623657\": {\"frequency\": 1, \"value\": 1.2723346948623657}, \"0.08315372467041016\": {\"frequency\": 1, \"value\": 0.08315372467041016}, \"0.37133562564849854\": {\"frequency\": 1, \"value\": 0.37133562564849854}, \"0.04104781150817871\": {\"frequency\": 1, \"value\": 0.04104781150817871}, \"3.7014341354370117\": {\"frequency\": 1, \"value\": 3.7014341354370117}, \"1.1737630367279053\": {\"frequency\": 1, \"value\": 1.1737630367279053}, \"0.33926481008529663\": {\"frequency\": 1, \"value\": 0.33926481008529663}, \"0.5835608243942261\": {\"frequency\": 1, \"value\": 0.5835608243942261}, \"0.33227723836898804\": {\"frequency\": 1, \"value\": 0.33227723836898804}, \"0.07810157537460327\": {\"frequency\": 1, \"value\": 0.07810157537460327}, \"0.4685729146003723\": {\"frequency\": 1, \"value\": 0.4685729146003723}, \"0.055770933628082275\": {\"frequency\": 1, \"value\": 0.055770933628082275}, \"1.1560810804367065\": {\"frequency\": 1, \"value\": 1.1560810804367065}, \"0.9338976144790649\": {\"frequency\": 1, \"value\": 0.9338976144790649}, \"0.06333678960800171\": {\"frequency\": 1, \"value\": 0.06333678960800171}, \"2.3161513805389404\": {\"frequency\": 1, \"value\": 2.3161513805389404}, \"1.5189378261566162\": {\"frequency\": 1, \"value\": 1.5189378261566162}, \"0.34530705213546753\": {\"frequency\": 1, \"value\": 0.34530705213546753}, \"0.2709677219390869\": {\"frequency\": 1, \"value\": 0.2709677219390869}, \"1.7457964420318604\": {\"frequency\": 1, \"value\": 1.7457964420318604}, \"0.5480611324310303\": {\"frequency\": 1, \"value\": 0.5480611324310303}, \"0.6316636800765991\": {\"frequency\": 1, \"value\": 0.6316636800765991}, \"1.436499834060669\": {\"frequency\": 1, \"value\": 1.436499834060669}, \"0.24784880876541138\": {\"frequency\": 1, \"value\": 0.24784880876541138}, \"0.28708547353744507\": {\"frequency\": 1, \"value\": 0.28708547353744507}, \"2.5481505393981934\": {\"frequency\": 1, \"value\": 2.5481505393981934}, \"1.5391666889190674\": {\"frequency\": 1, \"value\": 1.5391666889190674}, \"7.417448043823242\": {\"frequency\": 1, \"value\": 7.417448043823242}, \"0.5244601964950562\": {\"frequency\": 1, \"value\": 0.5244601964950562}, \"1.4598710536956787\": {\"frequency\": 1, \"value\": 1.4598710536956787}, \"0.6788480877876282\": {\"frequency\": 1, \"value\": 0.6788480877876282}, \"0.09506702423095703\": {\"frequency\": 1, \"value\": 0.09506702423095703}, \"0.6115840673446655\": {\"frequency\": 1, \"value\": 0.6115840673446655}, \"1.1119458675384521\": {\"frequency\": 1, \"value\": 1.1119458675384521}, \"3.0343966484069824\": {\"frequency\": 1, \"value\": 3.0343966484069824}, \"3.369584321975708\": {\"frequency\": 1, \"value\": 3.369584321975708}, \"0.46191293001174927\": {\"frequency\": 1, \"value\": 0.46191293001174927}, \"0.614717960357666\": {\"frequency\": 1, \"value\": 0.614717960357666}, \"1.607313871383667\": {\"frequency\": 1, \"value\": 1.607313871383667}, \"0.04244589805603027\": {\"frequency\": 1, \"value\": 0.04244589805603027}, \"0.7940157651901245\": {\"frequency\": 1, \"value\": 0.7940157651901245}, \"1.2669075727462769\": {\"frequency\": 1, \"value\": 1.2669075727462769}, \"0.5913684368133545\": {\"frequency\": 1, \"value\": 0.5913684368133545}, \"2.2626609802246094\": {\"frequency\": 1, \"value\": 2.2626609802246094}, \"0.5908852815628052\": {\"frequency\": 1, \"value\": 0.5908852815628052}, \"0.26767557859420776\": {\"frequency\": 1, \"value\": 0.26767557859420776}, \"0.11223065853118896\": {\"frequency\": 1, \"value\": 0.11223065853118896}, \"0.152515709400177\": {\"frequency\": 1, \"value\": 0.152515709400177}, \"0.5109941363334656\": {\"frequency\": 1, \"value\": 0.5109941363334656}, \"0.32674700021743774\": {\"frequency\": 1, \"value\": 0.32674700021743774}, \"3.067854642868042\": {\"frequency\": 1, \"value\": 3.067854642868042}, \"0.4105145335197449\": {\"frequency\": 1, \"value\": 0.4105145335197449}, \"1.0508947372436523\": {\"frequency\": 1, \"value\": 1.0508947372436523}, \"2.4480602741241455\": {\"frequency\": 1, \"value\": 2.4480602741241455}, \"0.5246593356132507\": {\"frequency\": 1, \"value\": 0.5246593356132507}, \"1.2161338329315186\": {\"frequency\": 1, \"value\": 1.2161338329315186}, \"1.1472089290618896\": {\"frequency\": 1, \"value\": 1.1472089290618896}, \"1.609361171722412\": {\"frequency\": 1, \"value\": 1.609361171722412}, \"1.2722954750061035\": {\"frequency\": 1, \"value\": 1.2722954750061035}, \"2.728384494781494\": {\"frequency\": 1, \"value\": 2.728384494781494}, \"1.401599645614624\": {\"frequency\": 1, \"value\": 1.401599645614624}, \"0.6852519512176514\": {\"frequency\": 1, \"value\": 0.6852519512176514}, \"0.4991230368614197\": {\"frequency\": 1, \"value\": 0.4991230368614197}, \"1.9738397598266602\": {\"frequency\": 1, \"value\": 1.9738397598266602}, \"0.03279519081115723\": {\"frequency\": 1, \"value\": 0.03279519081115723}, \"0.31304407119750977\": {\"frequency\": 1, \"value\": 0.31304407119750977}, \"0.45764052867889404\": {\"frequency\": 1, \"value\": 0.45764052867889404}, \"0.2667691707611084\": {\"frequency\": 1, \"value\": 0.2667691707611084}, \"0.6170889735221863\": {\"frequency\": 1, \"value\": 0.6170889735221863}, \"3.5342063903808594\": {\"frequency\": 1, \"value\": 3.5342063903808594}, \"0.5621992349624634\": {\"frequency\": 1, \"value\": 0.5621992349624634}, \"2.368929624557495\": {\"frequency\": 1, \"value\": 2.368929624557495}, \"1.524730920791626\": {\"frequency\": 1, \"value\": 1.524730920791626}, \"1.0558286905288696\": {\"frequency\": 1, \"value\": 1.0558286905288696}, \"0.566623330116272\": {\"frequency\": 1, \"value\": 0.566623330116272}, \"1.3905577659606934\": {\"frequency\": 1, \"value\": 1.3905577659606934}, \"0.6792066097259521\": {\"frequency\": 1, \"value\": 0.6792066097259521}, \"0.8890348076820374\": {\"frequency\": 1, \"value\": 0.8890348076820374}, \"0.05150872468948364\": {\"frequency\": 1, \"value\": 0.05150872468948364}, \"0.7585609555244446\": {\"frequency\": 1, \"value\": 0.7585609555244446}, \"2.5455856323242188\": {\"frequency\": 1, \"value\": 2.5455856323242188}, \"0.43705981969833374\": {\"frequency\": 1, \"value\": 0.43705981969833374}, \"0.45726221799850464\": {\"frequency\": 1, \"value\": 0.45726221799850464}, \"2.085822105407715\": {\"frequency\": 1, \"value\": 2.085822105407715}, \"2.0621068477630615\": {\"frequency\": 1, \"value\": 2.0621068477630615}, \"1.0851095914840698\": {\"frequency\": 1, \"value\": 1.0851095914840698}, \"0.6632871031761169\": {\"frequency\": 1, \"value\": 0.6632871031761169}, \"1.1651859283447266\": {\"frequency\": 1, \"value\": 1.1651859283447266}, \"0.7830432653427124\": {\"frequency\": 1, \"value\": 0.7830432653427124}, \"2.5698118209838867\": {\"frequency\": 1, \"value\": 2.5698118209838867}, \"1.3079402446746826\": {\"frequency\": 1, \"value\": 1.3079402446746826}, \"1.3024617433547974\": {\"frequency\": 1, \"value\": 1.3024617433547974}, \"0.8180590867996216\": {\"frequency\": 1, \"value\": 0.8180590867996216}, \"0.050488948822021484\": {\"frequency\": 1, \"value\": 0.050488948822021484}, \"2.3550591468811035\": {\"frequency\": 1, \"value\": 2.3550591468811035}, \"0.4550473690032959\": {\"frequency\": 1, \"value\": 0.4550473690032959}, \"0.39920151233673096\": {\"frequency\": 1, \"value\": 0.39920151233673096}, \"1.6546974182128906\": {\"frequency\": 1, \"value\": 1.6546974182128906}, \"0.5846683979034424\": {\"frequency\": 1, \"value\": 0.5846683979034424}, \"0.38635456562042236\": {\"frequency\": 1, \"value\": 0.38635456562042236}, \"0.8216673135757446\": {\"frequency\": 1, \"value\": 0.8216673135757446}, \"1.0305811166763306\": {\"frequency\": 1, \"value\": 1.0305811166763306}, \"0.8665962815284729\": {\"frequency\": 1, \"value\": 0.8665962815284729}, \"0.7099558115005493\": {\"frequency\": 1, \"value\": 0.7099558115005493}, \"0.47102612257003784\": {\"frequency\": 1, \"value\": 0.47102612257003784}, \"0.6582434177398682\": {\"frequency\": 1, \"value\": 0.6582434177398682}, \"0.17757809162139893\": {\"frequency\": 1, \"value\": 0.17757809162139893}, \"0.11874973773956299\": {\"frequency\": 1, \"value\": 0.11874973773956299}, \"2.1875970363616943\": {\"frequency\": 1, \"value\": 2.1875970363616943}, \"0.3587947487831116\": {\"frequency\": 1, \"value\": 0.3587947487831116}, \"0.1375989317893982\": {\"frequency\": 1, \"value\": 0.1375989317893982}, \"0.9358424544334412\": {\"frequency\": 1, \"value\": 0.9358424544334412}, \"0.49249914288520813\": {\"frequency\": 1, \"value\": 0.49249914288520813}, \"0.9412131905555725\": {\"frequency\": 1, \"value\": 0.9412131905555725}, \"0.6047892570495605\": {\"frequency\": 1, \"value\": 0.6047892570495605}, \"0.9140596985816956\": {\"frequency\": 1, \"value\": 0.9140596985816956}, \"0.7393852472305298\": {\"frequency\": 1, \"value\": 0.7393852472305298}, \"0.10481923818588257\": {\"frequency\": 1, \"value\": 0.10481923818588257}, \"0.055027544498443604\": {\"frequency\": 1, \"value\": 0.055027544498443604}, \"3.9145877361297607\": {\"frequency\": 1, \"value\": 3.9145877361297607}, \"0.28700757026672363\": {\"frequency\": 1, \"value\": 0.28700757026672363}, \"1.6638414859771729\": {\"frequency\": 1, \"value\": 1.6638414859771729}, \"1.5023150444030762\": {\"frequency\": 1, \"value\": 1.5023150444030762}, \"0.4326361417770386\": {\"frequency\": 1, \"value\": 0.4326361417770386}, \"0.0906902551651001\": {\"frequency\": 1, \"value\": 0.0906902551651001}, \"1.322269082069397\": {\"frequency\": 1, \"value\": 1.322269082069397}, \"2.365488052368164\": {\"frequency\": 1, \"value\": 2.365488052368164}, \"0.10671406984329224\": {\"frequency\": 1, \"value\": 0.10671406984329224}, \"0.10432422161102295\": {\"frequency\": 1, \"value\": 0.10432422161102295}, \"0.41815465688705444\": {\"frequency\": 1, \"value\": 0.41815465688705444}, \"0.7114447951316833\": {\"frequency\": 1, \"value\": 0.7114447951316833}, \"1.6515753269195557\": {\"frequency\": 1, \"value\": 1.6515753269195557}, \"1.4294012784957886\": {\"frequency\": 1, \"value\": 1.4294012784957886}, \"0.06958043575286865\": {\"frequency\": 1, \"value\": 0.06958043575286865}, \"0.03075927495956421\": {\"frequency\": 1, \"value\": 0.03075927495956421}, \"8.163272857666016\": {\"frequency\": 1, \"value\": 8.163272857666016}, \"0.7558613419532776\": {\"frequency\": 1, \"value\": 0.7558613419532776}, \"1.943181037902832\": {\"frequency\": 1, \"value\": 1.943181037902832}, \"0.32793718576431274\": {\"frequency\": 1, \"value\": 0.32793718576431274}, \"1.303185224533081\": {\"frequency\": 1, \"value\": 1.303185224533081}, \"1.0352061986923218\": {\"frequency\": 1, \"value\": 1.0352061986923218}, \"4.6115264892578125\": {\"frequency\": 1, \"value\": 4.6115264892578125}, \"0.32345736026763916\": {\"frequency\": 1, \"value\": 0.32345736026763916}, \"0.7068617343902588\": {\"frequency\": 1, \"value\": 0.7068617343902588}, \"0.13435083627700806\": {\"frequency\": 1, \"value\": 0.13435083627700806}, \"0.3574381470680237\": {\"frequency\": 1, \"value\": 0.3574381470680237}, \"1.0258833169937134\": {\"frequency\": 1, \"value\": 1.0258833169937134}, \"0.7400209307670593\": {\"frequency\": 1, \"value\": 0.7400209307670593}, \"1.6885830163955688\": {\"frequency\": 1, \"value\": 1.6885830163955688}, \"0.3860013484954834\": {\"frequency\": 1, \"value\": 0.3860013484954834}, \"0.0030405521392822266\": {\"frequency\": 1, \"value\": 0.0030405521392822266}, \"1.6704552173614502\": {\"frequency\": 1, \"value\": 1.6704552173614502}, \"0.13468217849731445\": {\"frequency\": 1, \"value\": 0.13468217849731445}, \"1.5691196918487549\": {\"frequency\": 1, \"value\": 1.5691196918487549}, \"0.9344016313552856\": {\"frequency\": 1, \"value\": 0.9344016313552856}, \"0.37474751472473145\": {\"frequency\": 1, \"value\": 0.37474751472473145}, \"0.08113247156143188\": {\"frequency\": 1, \"value\": 0.08113247156143188}, \"0.3511797785758972\": {\"frequency\": 1, \"value\": 0.3511797785758972}, \"0.49913910031318665\": {\"frequency\": 1, \"value\": 0.49913910031318665}, \"0.4035044312477112\": {\"frequency\": 1, \"value\": 0.4035044312477112}, \"1.0943866968154907\": {\"frequency\": 1, \"value\": 1.0943866968154907}, \"1.4012404680252075\": {\"frequency\": 1, \"value\": 1.4012404680252075}, \"1.07021164894104\": {\"frequency\": 1, \"value\": 1.07021164894104}, \"0.15303725004196167\": {\"frequency\": 1, \"value\": 0.15303725004196167}, \"0.3990452289581299\": {\"frequency\": 1, \"value\": 0.3990452289581299}, \"1.049028992652893\": {\"frequency\": 1, \"value\": 1.049028992652893}, \"2.320490837097168\": {\"frequency\": 1, \"value\": 2.320490837097168}, \"0.5427591800689697\": {\"frequency\": 1, \"value\": 0.5427591800689697}, \"2.4680893421173096\": {\"frequency\": 1, \"value\": 2.4680893421173096}, \"1.9581298828125\": {\"frequency\": 1, \"value\": 1.9581298828125}, \"2.504180908203125\": {\"frequency\": 1, \"value\": 2.504180908203125}, \"1.3552377223968506\": {\"frequency\": 1, \"value\": 1.3552377223968506}, \"1.182755947113037\": {\"frequency\": 1, \"value\": 1.182755947113037}, \"1.8150043487548828\": {\"frequency\": 1, \"value\": 1.8150043487548828}, \"1.4204310178756714\": {\"frequency\": 1, \"value\": 1.4204310178756714}, \"0.7267017364501953\": {\"frequency\": 1, \"value\": 0.7267017364501953}, \"2.4341397285461426\": {\"frequency\": 1, \"value\": 2.4341397285461426}, \"1.425856351852417\": {\"frequency\": 1, \"value\": 1.425856351852417}, \"0.32703351974487305\": {\"frequency\": 1, \"value\": 0.32703351974487305}, \"0.2298060655593872\": {\"frequency\": 1, \"value\": 0.2298060655593872}, \"1.4046767950057983\": {\"frequency\": 1, \"value\": 1.4046767950057983}, \"1.795873761177063\": {\"frequency\": 1, \"value\": 1.795873761177063}, \"0.2960522770881653\": {\"frequency\": 1, \"value\": 0.2960522770881653}, \"0.061610639095306396\": {\"frequency\": 1, \"value\": 0.061610639095306396}, \"0.7258063554763794\": {\"frequency\": 1, \"value\": 0.7258063554763794}, \"1.7874908447265625\": {\"frequency\": 1, \"value\": 1.7874908447265625}, \"0.9933268427848816\": {\"frequency\": 1, \"value\": 0.9933268427848816}, \"0.608368992805481\": {\"frequency\": 1, \"value\": 0.608368992805481}, \"3.379350423812866\": {\"frequency\": 1, \"value\": 3.379350423812866}, \"1.416333556175232\": {\"frequency\": 1, \"value\": 1.416333556175232}, \"1.8921408653259277\": {\"frequency\": 1, \"value\": 1.8921408653259277}, \"0.15314847230911255\": {\"frequency\": 1, \"value\": 0.15314847230911255}, \"0.24512779712677002\": {\"frequency\": 1, \"value\": 0.24512779712677002}, \"1.1700502634048462\": {\"frequency\": 1, \"value\": 1.1700502634048462}, \"1.9415315389633179\": {\"frequency\": 1, \"value\": 1.9415315389633179}, \"0.20821934938430786\": {\"frequency\": 1, \"value\": 0.20821934938430786}, \"0.39313095808029175\": {\"frequency\": 1, \"value\": 0.39313095808029175}, \"0.8158698081970215\": {\"frequency\": 1, \"value\": 0.8158698081970215}, \"1.1576145887374878\": {\"frequency\": 1, \"value\": 1.1576145887374878}, \"0.6035290956497192\": {\"frequency\": 1, \"value\": 0.6035290956497192}, \"0.22090405225753784\": {\"frequency\": 1, \"value\": 0.22090405225753784}, \"2.705686569213867\": {\"frequency\": 1, \"value\": 2.705686569213867}, \"1.0965299606323242\": {\"frequency\": 1, \"value\": 1.0965299606323242}, \"0.2380315661430359\": {\"frequency\": 1, \"value\": 0.2380315661430359}, \"1.3807746171951294\": {\"frequency\": 1, \"value\": 1.3807746171951294}, \"0.8587819337844849\": {\"frequency\": 1, \"value\": 0.8587819337844849}, \"0.17478346824645996\": {\"frequency\": 1, \"value\": 0.17478346824645996}, \"2.2079148292541504\": {\"frequency\": 1, \"value\": 2.2079148292541504}, \"0.3724653124809265\": {\"frequency\": 1, \"value\": 0.3724653124809265}, \"0.40978091955184937\": {\"frequency\": 1, \"value\": 0.40978091955184937}, \"0.09492409229278564\": {\"frequency\": 1, \"value\": 0.09492409229278564}, \"0.21626746654510498\": {\"frequency\": 1, \"value\": 0.21626746654510498}, \"4.222809791564941\": {\"frequency\": 1, \"value\": 4.222809791564941}, \"0.5612943172454834\": {\"frequency\": 1, \"value\": 0.5612943172454834}, \"1.1900707483291626\": {\"frequency\": 1, \"value\": 1.1900707483291626}, \"1.0147778987884521\": {\"frequency\": 1, \"value\": 1.0147778987884521}, \"1.0430593490600586\": {\"frequency\": 1, \"value\": 1.0430593490600586}}, \"mean\": 0.35769819015695276}, \"image\": {\"progress\": 1.0, \"num_undefined\": 0, \"complete\": true, \"samples\": [{\"format\": \"raw\", \"value\": [158, 112, 49, 159, 111, 47, 165, 116, 51, 166, 118, 53, 160, 112, 46, 156, 109, 41, 162, 115, 47, 159, 113, 45, 158, 111, 44, 159, 113, 41, 161, 116, 41, 160, 111, 52, 161, 111, 49, 166, 117, 41, 169, 117, 45, 170, 119, 44, 167, 117, 40, 162, 113, 38, 160, 111, 39, 160, 112, 43, 156, 109, 44, 149, 107, 45, 150, 107, 45, 148, 106, 43, 149, 107, 44, 143, 101, 39, 140, 98, 43, 141, 97, 41, 143, 97, 38, 137, 95, 36, 126, 91, 36, 116, 85, 33, 152, 112, 51, 151, 110, 40, 159, 114, 45, 166, 116, 56, 162, 112, 49, 160, 113, 43, 164, 117, 47, 162, 114, 45, 163, 116, 46, 156, 110, 38, 155, 111, 41, 159, 110, 54, 163, 113, 52, 170, 119, 41, 171, 117, 40, 171, 115, 33, 169, 115, 30, 160, 111, 33, 154, 112, 41, 151, 115, 50, 145, 110, 53, 139, 104, 55, 140, 102, 52, 141, 100, 48, 149, 105, 50, 147, 102, 46, 145, 102, 45, 142, 97, 38, 143, 98, 34, 136, 95, 31, 125, 91, 32, 119, 88, 34, 151, 110, 47, 151, 109, 33, 158, 111, 36, 167, 111, 48, 160, 106, 42, 163, 115, 44, 165, 117, 45, 165, 117, 45, 163, 115, 43, 162, 115, 43, 158, 114, 48, 157, 109, 57, 161, 111, 51, 166, 115, 38, 167, 114, 37, 169, 113, 35, 170, 116, 39, 159, 114, 47, 145, 111, 54, 121, 96, 49, 110, 90, 52, 98, 78, 50, 101, 77, 47, 114, 85, 50, 120, 86, 48, 134, 96, 55, 143, 103, 51, 140, 99, 39, 142, 99, 35, 139, 98, 34, 130, 95, 34, 120, 89, 33, 155, 107, 40, 155, 110, 32, 160, 109, 31, 174, 112, 44, 167, 110, 43, 167, 117, 46, 169, 120, 48, 169, 119, 48, 165, 115, 44, 165, 117, 45, 167, 123, 57, 191, 146, 95, 177, 130, 75, 157, 111, 41, 162, 115, 47, 164, 114, 54, 158, 112, 58, 149, 111, 67, 104, 80, 47, 103, 87, 65, 98, 90, 76, 92, 90, 84, 80, 75, 66, 74, 63, 50, 86, 70, 52, 83, 62, 39, 113, 85, 45, 132, 98, 46, 140, 102, 43, 140, 101, 39, 136, 99, 39, 127, 94, 36, 155, 107, 41, 156, 114, 48, 161, 115, 49, 170, 114, 47, 169, 114, 43, 163, 113, 40, 169, 120, 47, 166, 116, 44, 164, 113, 41, 164, 116, 42, 173, 128, 59, 246, 214, 164, 195, 156, 107, 151, 114, 56, 146, 111, 60, 142, 108, 71, 111, 80, 50, 78, 53, 31, 85, 69, 56, 113, 103, 98, 112, 110, 111, 106, 114, 118, 97, 102, 105, 93, 94, 93, 74, 72, 67, 84, 78, 70, 85, 73, 47, 105, 83, 45, 128, 96, 48, 138, 101, 46, 133, 94, 36, 129, 93, 36, 148, 109, 54, 133, 104, 64, 130, 100, 57, 147, 112, 53, 161, 115, 44, 165, 113, 39, 167, 116, 41, 167, 115, 41, 163, 111, 37, 165, 116, 39, 163, 118, 42, 180, 138, 85, 157, 122, 78, 128, 102, 58, 97, 75, 43, 66, 50, 31, 69, 58, 43, 66, 56, 45, 89, 83, 76, 118, 113, 110, 122, 121, 120, 119, 122, 122, 114, 116, 116, 94, 96, 96, 99, 100, 97, 91, 91, 86, 58, 58, 47, 67, 58, 37, 108, 84, 49, 140, 105, 58, 138, 98, 44, 134, 95, 40, 127, 100, 57, 109, 95, 80, 47, 37, 17, 88, 74, 28, 153, 117, 48, 170, 118, 43, 168, 115, 40, 170, 118, 43, 169, 117, 42, 166, 116, 37, 164, 120, 39, 147, 107, 52, 129, 98, 59, 127, 108, 75, 100, 87, 70, 68, 67, 57, 78, 83, 72, 72, 75, 64, 83, 84, 74, 132, 130, 121, 146, 142, 132, 124, 118, 108, 105, 99, 90, 107, 102, 94, 115, 111, 103, 85, 83, 77, 63, 71, 69, 46, 47, 39, 79, 61, 36, 132, 98, 58, 141, 99, 48, 134, 93, 39, 131, 115, 90, 99, 96, 92, 42, 43, 38, 70, 64, 41, 143, 111, 56, 167, 117, 42, 165, 114, 36, 168, 116, 39, 171, 119, 49, 161, 113, 51, 140, 109, 51, 120, 94, 49, 130, 110, 77, 144, 131, 107, 116, 106, 93, 88, 87, 79, 91, 95, 88, 85, 88, 82, 77, 77, 69, 124, 118, 107, 163, 153, 140, 136, 124, 112, 102, 93, 81, 106, 98, 88, 100, 93, 84, 85, 81, 74, 54, 60, 58, 49, 53, 49, 57, 47, 32, 107, 83, 50, 138, 103, 51, 136, 97, 39, 170, 161, 144, 103, 105, 105, 54, 58, 59, 124, 121, 113, 153, 124, 82, 161, 113, 43, 163, 117, 41, 166, 122, 50, 165, 121, 66, 174, 135, 95, 113, 89, 59, 125, 105, 78, 157, 141, 121, 156, 143, 128, 121, 111, 101, 86, 80, 74, 82, 81, 77, 84, 85, 82, 80, 78, 73, 81, 71, 61, 138, 125, 112, 146, 135, 123, 113, 103, 93, 87, 79, 70, 83, 77, 69, 86, 82, 76, 71, 73, 67, 56, 57, 53, 40, 35, 27, 74, 59, 35, 133, 106, 59, 137, 103, 45, 180, 176, 163, 134, 139, 143, 94, 100, 105, 154, 154, 149, 174, 149, 112, 158, 116, 51, 156, 116, 47, 153, 118, 60, 207, 180, 146, 237, 214, 198, 207, 180, 166, 156, 131, 119, 174, 153, 145, 148, 131, 125, 125, 110, 107, 93, 85, 79, 86, 84, 79, 74, 74, 71, 59, 57, 53, 76, 68, 58, 137, 125, 112, 143, 133, 122, 133, 124, 114, 106, 98, 89, 86, 81, 74, 87, 85, 78, 84, 85, 78, 75, 76, 71, 50, 49, 43, 40, 30, 15, 95, 75, 44, 132, 103, 57, 183, 183, 175, 108, 116, 122, 142, 151, 158, 165, 169, 168, 177, 156, 122, 155, 112, 50, 159, 118, 51, 122, 89, 47, 213, 197, 179, 237, 224, 226, 220, 191, 188, 164, 135, 131, 183, 159, 155, 156, 137, 132, 125, 108, 104, 120, 111, 104, 78, 76, 69, 80, 80, 77, 45, 44, 40, 91, 85, 77, 175, 165, 154, 157, 147, 137, 155, 147, 138, 107, 100, 92, 87, 83, 77, 103, 102, 96, 88, 88, 79, 78, 79, 73, 59, 59, 59, 41, 36, 33, 59, 46, 31, 104, 81, 46, 188, 191, 189, 100, 108, 116, 135, 144, 153, 170, 175, 178, 187, 167, 136, 166, 120, 59, 173, 123, 55, 134, 93, 44, 117, 95, 80, 194, 182, 188, 199, 171, 164, 170, 142, 133, 185, 161, 151, 189, 171, 159, 134, 119, 106, 117, 107, 95, 102, 98, 89, 84, 84, 79, 38, 38, 34, 125, 121, 113, 210, 201, 192, 160, 152, 142, 146, 139, 130, 93, 89, 82, 83, 80, 75, 94, 93, 88, 104, 104, 94, 85, 87, 81, 73, 75, 78, 55, 53, 55, 62, 55, 48, 76, 56, 26, 189, 194, 194, 90, 96, 105, 127, 134, 144, 175, 180, 185, 174, 156, 133, 166, 123, 68, 178, 123, 53, 159, 109, 47, 97, 68, 44, 168, 154, 152, 168, 144, 126, 137, 114, 94, 186, 166, 148, 216, 202, 183, 160, 149, 129, 123, 113, 98, 120, 114, 105, 115, 114, 109, 50, 50, 47, 150, 147, 140, 194, 187, 178, 155, 149, 140, 123, 118, 111, 91, 88, 83, 84, 83, 79, 84, 84, 80, 95, 95, 85, 86, 87, 81, 84, 87, 89, 73, 73, 73, 79, 74, 64, 73, 55, 24, 189, 192, 193, 93, 95, 103, 152, 154, 163, 185, 188, 192, 119, 110, 98, 136, 106, 66, 173, 124, 58, 167, 116, 50, 103, 72, 39, 147, 132, 120, 145, 125, 103, 167, 149, 127, 189, 174, 155, 226, 216, 200, 180, 172, 157, 141, 131, 117, 126, 117, 107, 117, 114, 109, 71, 71, 68, 154, 152, 147, 186, 181, 174, 149, 144, 136, 114, 110, 104, 87, 85, 80, 80, 80, 76, 72, 73, 70, 80, 80, 72, 99, 100, 94, 100, 101, 99, 90, 88, 81, 97, 89, 69, 94, 73, 34, 194, 196, 196, 108, 107, 112, 168, 167, 172, 186, 186, 188, 105, 109, 109, 99, 89, 67, 156, 119, 62, 167, 122, 55, 100, 74, 34, 115, 106, 88, 138, 123, 103, 198, 185, 169, 190, 180, 169, 172, 165, 159, 145, 140, 140, 154, 143, 134, 146, 136, 125, 103, 100, 95, 71, 71, 70, 152, 152, 149, 179, 175, 170, 137, 133, 127, 130, 128, 122, 110, 109, 105, 85, 86, 83, 91, 93, 91, 95, 96, 90, 109, 110, 104, 115, 116, 111, 100, 96, 80, 97, 85, 53, 117, 95, 47, 197, 197, 197, 132, 129, 136, 172, 167, 174, 184, 178, 181, 130, 137, 142, 78, 83, 77, 140, 120, 88, 155, 125, 77, 115, 94, 52, 130, 120, 93, 143, 131, 116, 230, 221, 211, 242, 236, 230, 145, 138, 137, 135, 130, 130, 131, 121, 112, 121, 112, 101, 108, 104, 95, 95, 88, 75, 144, 134, 118, 168, 159, 146, 152, 147, 138, 112, 108, 101, 87, 85, 80, 71, 72, 68, 87, 88, 87, 105, 104, 99, 112, 109, 99, 120, 110, 93, 103, 86, 54, 121, 96, 48, 136, 104, 48, 203, 203, 204, 146, 146, 160, 168, 164, 178, 191, 182, 188, 168, 170, 172, 78, 86, 90, 126, 125, 126, 138, 126, 113, 138, 121, 82, 96, 80, 37, 154, 143, 133, 173, 163, 155, 162, 152, 141, 140, 132, 117, 113, 106, 88, 113, 106, 90, 101, 101, 92, 105, 101, 87, 112, 90, 58, 171, 143, 104, 156, 138, 109, 148, 141, 126, 135, 130, 118, 109, 105, 97, 78, 76, 72, 79, 79, 77, 94, 93, 94, 101, 91, 82, 107, 83, 55, 125, 88, 45, 151, 108, 55, 144, 104, 46, 214, 215, 215, 163, 166, 180, 164, 167, 184, 183, 184, 194, 176, 182, 186, 94, 102, 105, 96, 96, 102, 156, 149, 145, 148, 137, 111, 106, 93, 61, 129, 116, 105, 118, 105, 95, 114, 102, 89, 116, 105, 89, 102, 91, 73, 115, 110, 98, 86, 91, 88, 101, 103, 95, 144, 128, 102, 118, 96, 64, 68, 56, 32, 128, 120, 105, 133, 126, 115, 75, 69, 61, 60, 56, 51, 58, 56, 53, 71, 70, 65, 102, 93, 78, 116, 94, 64, 143, 112, 68, 150, 116, 64, 140, 110, 54, 212, 211, 205, 178, 184, 192, 167, 175, 189, 173, 181, 193, 176, 184, 188, 124, 131, 133, 86, 88, 96, 141, 139, 143, 153, 148, 141, 135, 128, 111, 104, 90, 80, 77, 64, 55, 134, 121, 108, 124, 111, 96, 129, 117, 100, 147, 143, 133, 85, 92, 93, 92, 96, 93, 150, 139, 120, 132, 117, 93, 117, 109, 92, 107, 99, 86, 75, 68, 58, 64, 59, 52, 44, 41, 39, 65, 62, 60, 86, 69, 40, 133, 105, 59, 155, 119, 62, 160, 120, 54, 154, 115, 45, 151, 111, 46, 199, 192, 180, 187, 189, 187, 171, 176, 181, 174, 179, 185, 177, 182, 184, 144, 149, 152, 86, 90, 99, 119, 121, 132, 122, 124, 130, 137, 136, 135, 144, 134, 126, 70, 59, 51, 129, 118, 108, 108, 97, 86, 145, 134, 123, 184, 176, 168, 116, 118, 118, 73, 75, 73, 131, 119, 103, 137, 124, 105, 134, 129, 118, 89, 86, 78, 51, 49, 44, 52, 51, 50, 47, 49, 52, 90, 90, 93, 121, 91, 60, 163, 118, 68, 171, 121, 64, 164, 113, 52, 158, 111, 50, 149, 107, 46, 165, 156, 146, 195, 193, 187, 179, 178, 175, 177, 173, 172, 181, 181, 180, 152, 157, 160, 99, 103, 111, 131, 135, 146, 171, 175, 185, 103, 105, 111, 93, 90, 87, 80, 77, 73, 93, 90, 86, 122, 118, 116, 178, 173, 173, 191, 182, 177, 150, 148, 148, 100, 100, 101, 89, 78, 66, 87, 77, 63, 60, 61, 57, 46, 52, 54, 38, 46, 51, 24, 33, 41, 46, 57, 69, 60, 71, 83, 108, 100, 75, 144, 125, 82, 144, 123, 76, 128, 109, 61, 127, 113, 69, 120, 105, 63, 117, 120, 124, 195, 200, 200, 177, 178, 176, 178, 169, 168, 181, 179, 179, 138, 144, 147, 83, 87, 91, 150, 153, 159, 245, 247, 250, 219, 222, 225, 133, 140, 144, 134, 141, 147, 149, 156, 164, 176, 182, 192, 190, 196, 208, 194, 192, 197, 168, 172, 181, 125, 133, 143, 110, 109, 109, 61, 62, 62, 35, 49, 58, 34, 54, 68, 49, 70, 87, 58, 81, 102, 61, 85, 110, 58, 84, 111, 69, 99, 122, 72, 101, 119, 78, 104, 120, 69, 96, 112, 59, 92, 112, 55, 90, 115, 79, 105, 133, 175, 197, 213, 174, 183, 192, 176, 172, 177, 177, 177, 182, 140, 146, 150, 109, 112, 113, 211, 211, 209, 253, 252, 247, 252, 253, 252, 208, 224, 232, 124, 143, 157, 114, 132, 149, 124, 141, 162, 116, 133, 156, 122, 133, 152, 104, 124, 148, 68, 93, 119, 68, 87, 104, 60, 82, 101, 52, 84, 111, 50, 84, 110, 51, 85, 115, 56, 93, 125, 56, 94, 131, 51, 91, 130, 43, 96, 135, 51, 104, 141, 59, 108, 142, 48, 97, 132, 43, 97, 137, 42, 95, 132, 41, 89, 135, 96, 137, 168, 144, 168, 188, 168, 174, 188, 178, 182, 192, 165, 170, 174, 165, 166, 164, 246, 245, 237, 253, 251, 241, 227, 231, 228, 110, 136, 153, 60, 88, 111, 53, 80, 105, 49, 76, 105, 49, 75, 107, 48, 72, 101, 45, 79, 115, 42, 81, 120, 46, 81, 113, 42, 82, 116, 38, 86, 125, 46, 90, 125, 46, 89, 126, 43, 87, 128, 42, 89, 132, 46, 93, 139, 46, 94, 137, 50, 96, 137, 55, 96, 135, 53, 94, 134, 51, 95, 139, 45, 90, 133, 29, 91, 141, 29, 87, 130, 59, 102, 134, 131, 153, 176, 166, 179, 191, 132, 136, 137, 194, 189, 181, 254, 250, 242, 241, 245, 245, 141, 159, 175, 61, 94, 127, 50, 84, 118, 50, 84, 119, 51, 85, 121, 49, 83, 120, 50, 84, 116, 47, 86, 117, 42, 84, 117, 39, 82, 115, 34, 79, 113, 35, 83, 120, 39, 86, 125, 38, 85, 125, 42, 89, 130, 45, 92, 134, 56, 103, 145, 62, 103, 142, 59, 101, 142, 56, 102, 146, 50, 99, 144, 46, 94, 140, 51, 103, 149, 48, 111, 162, 30, 94, 140, 34, 85, 124, 73, 106, 136, 128, 148, 167, 128, 136, 143, 215, 213, 209, 255, 253, 249, 187, 198, 205, 66, 93, 118, 54, 91, 128, 50, 88, 125, 52, 90, 127, 52, 90, 127, 46, 83, 121, 45, 82, 115, 43, 82, 113, 41, 81, 112, 36, 80, 113, 39, 83, 117, 40, 86, 123, 40, 89, 131, 43, 92, 134, 46, 95, 138, 59, 108, 150, 62, 110, 152, 64, 109, 147, 59, 108, 149, 54, 108, 154, 50, 105, 152, 70, 123, 167, 83, 137, 182, 52, 114, 165, 35, 99, 147, 31, 86, 130, 41, 83, 122, 66, 95, 126, 128, 145, 164, 224, 229, 234, 240, 245, 247, 124, 143, 153, 58, 92, 114, 49, 87, 123, 56, 94, 131, 54, 92, 129, 44, 82, 119, 44, 82, 119, 47, 83, 119, 46, 84, 119, 43, 83, 119, 43, 86, 123, 44, 88, 127, 44, 90, 131, 45, 97, 141, 54, 106, 150, 58, 110, 154, 54, 105, 150, 46, 97, 141, 43, 95, 140, 36, 91, 138, 51, 108, 158, 73, 130, 178, 85, 138, 182, 76, 125, 169, 50, 110, 162, 35, 98, 149, 29, 89, 138, 35, 86, 133, 44, 83, 126, 78, 106, 138, 202, 219, 233, 211, 228, 234, 97, 126, 140, 65, 104, 126, 54, 94, 129, 48, 87, 124, 58, 97, 133, 48, 87, 123, 40, 80, 116, 45, 82, 119, 47, 84, 122, 48, 87, 126, 47, 89, 130, 46, 89, 132, 51, 97, 140, 39, 92, 138, 39, 93, 139, 48, 102, 148, 47, 101, 147, 39, 93, 139, 28, 85, 133, 40, 101, 153, 67, 129, 182, 67, 126, 176, 46, 98, 142, 51, 96, 139, 50, 108, 161, 35, 97, 147, 32, 92, 143, 33, 88, 141, 41, 88, 138, 46, 84, 125, 104, 133, 159, 170, 197, 211, 64, 100, 119, 54, 97, 121, 52, 94, 128, 53, 95, 130, 61, 103, 139, 58, 100, 135, 54, 96, 131, 45, 83, 120, 42, 79, 118, 41, 80, 120, 46, 88, 130, 49, 92, 135, 46, 92, 136, 42, 95, 139, 40, 93, 138, 39, 92, 136, 37, 90, 135, 40, 93, 138, 44, 102, 151, 63, 125, 178, 47, 110, 164, 31, 90, 140, 15, 60, 103, 51, 93, 136, 68, 124, 177, 42, 100, 148, 31, 88, 137, 38, 91, 146, 37, 87, 139, 43, 89, 132, 42, 79, 113, 71, 107, 133, 49, 89, 114, 31, 77, 105, 27, 71, 105, 38, 82, 117, 49, 93, 128, 56, 100, 135, 58, 102, 137, 53, 92, 128, 56, 94, 131, 60, 99, 137, 57, 99, 139, 53, 97, 138, 50, 95, 137, 45, 94, 136, 39, 88, 131, 33, 83, 125, 42, 91, 133, 62, 112, 154, 79, 132, 179, 73, 131, 181, 56, 116, 168, 38, 97, 146, 13, 64, 108, 40, 85, 127, 61, 116, 168, 49, 102, 148, 35, 85, 132, 43, 91, 143, 39, 90, 139, 42, 92, 134, 44, 88, 125, 40, 81, 112, 42, 85, 115, 27, 72, 104, 23, 67, 102, 30, 74, 109, 27, 71, 106, 29, 73, 108, 36, 80, 115, 47, 86, 120, 56, 95, 128, 62, 101, 135, 66, 109, 144, 75, 119, 156, 69, 113, 152, 49, 95, 134, 43, 88, 127, 43, 88, 127, 60, 105, 144, 85, 130, 170, 109, 156, 197, 93, 145, 190, 60, 115, 164, 26, 82, 130, 29, 82, 126, 20, 64, 107, 54, 107, 160, 56, 105, 149, 45, 89, 132, 43, 86, 134, 40, 89, 134, 40, 92, 132, 40, 87, 123, 38, 81, 115, 36, 79, 114, 26, 69, 105, 22, 66, 101, 29, 73, 108, 25, 69, 104, 29, 73, 108, 19, 63, 98, 18, 58, 89, 32, 70, 100, 47, 87, 118, 61, 104, 137, 74, 119, 152, 66, 111, 145, 53, 96, 131, 52, 95, 130, 45, 87, 123, 67, 109, 145, 89, 131, 167, 105, 146, 182, 89, 135, 175, 48, 99, 145, 24, 77, 124, 34, 84, 129, 21, 67, 110], \"height\": 32, \"channels\": 3, \"width\": 32, \"type\": \"image\", \"id\": 4581030096}]}, \"id\": {\"std\": 0.0, \"complete\": true, \"min\": 0.0, \"max\": 0.0, \"quantile\": [0.0, 0.0, 0.0, 0.0, 0.0, 0.0, 0.0, 0.0, 0.0, 0.0, 0.0, 0.0, 0.0, 0.0, 0.0, 0.0, 0.0, 0.0, 0.0, 0.0, 0.0, 0.0, 0.0, 0.0, 0.0, 0.0, 0.0, 0.0, 0.0, 0.0, 0.0, 0.0, 0.0, 0.0, 0.0, 0.0, 0.0, 0.0, 0.0, 0.0, 0.0, 0.0, 0.0, 0.0, 0.0, 0.0, 0.0, 0.0, 0.0, 0.0, 0.0, 0.0, 0.0, 0.0, 0.0, 0.0, 0.0, 0.0, 0.0, 0.0, 0.0, 0.0, 0.0, 0.0, 0.0, 0.0, 0.0, 0.0, 0.0, 0.0, 0.0, 0.0, 0.0, 0.0, 0.0, 0.0, 0.0, 0.0, 0.0, 0.0, 0.0, 0.0, 0.0, 0.0, 0.0, 0.0, 0.0, 0.0, 0.0, 0.0, 0.0, 0.0, 0.0, 0.0, 0.0, 0.0, 0.0, 0.0, 0.0, 0.0, 0.0], \"median\": 0.0, \"numeric\": true, \"num_unique\": 1, \"num_undefined\": 0, \"var\": 0.0, \"progress\": 1.0, \"size\": 1, \"frequent_items\": {\"0\": {\"frequency\": 1, \"value\": 0}}, \"mean\": 0.0}, \"image_array\": {\"std\": 46.644461294272844, \"complete\": true, \"min\": 13.0, \"max\": 255.0, \"quantile\": [13.0, 30.0, 34.0, 36.0, 39.0, 40.0, 41.0, 43.0, 44.0, 45.0, 46.0, 47.0, 49.0, 50.0, 51.0, 53.0, 54.0, 56.0, 58.0, 59.0, 62.0, 65.0, 68.0, 70.0, 73.0, 74.0, 76.0, 78.0, 80.0, 81.0, 83.0, 84.0, 85.0, 86.0, 87.0, 88.0, 89.0, 90.0, 92.0, 93.0, 94.0, 95.0, 96.0, 97.0, 99.0, 100.0, 101.0, 103.0, 104.0, 105.0, 106.0, 108.0, 109.0, 110.0, 111.0, 112.0, 113.0, 114.0, 115.0, 116.0, 117.0, 118.0, 119.0, 121.0, 122.0, 124.0, 125.0, 127.0, 129.0, 131.0, 132.0, 133.0, 135.0, 136.0, 138.0, 139.0, 141.0, 143.0, 144.0, 146.0, 148.0, 150.0, 152.0, 155.0, 157.0, 160.0, 163.0, 165.0, 167.0, 168.0, 170.0, 174.0, 177.0, 180.0, 183.0, 188.0, 192.0, 198.0, 214.0, 237.0, 255.0], \"median\": 106.0, \"numeric\": true, \"num_unique\": 231, \"num_undefined\": 0, \"var\": 2175.7057694329174, \"progress\": 1.0, \"size\": 3072, \"frequent_items\": {\"13.0\": {\"frequency\": 1, \"value\": 13.0}, \"15.0\": {\"frequency\": 2, \"value\": 15.0}, \"17.0\": {\"frequency\": 1, \"value\": 17.0}, \"18.0\": {\"frequency\": 1, \"value\": 18.0}, \"19.0\": {\"frequency\": 1, \"value\": 19.0}, \"20.0\": {\"frequency\": 1, \"value\": 20.0}, \"21.0\": {\"frequency\": 1, \"value\": 21.0}, \"22.0\": {\"frequency\": 1, \"value\": 22.0}, \"23.0\": {\"frequency\": 1, \"value\": 23.0}, \"24.0\": {\"frequency\": 3, \"value\": 24.0}, \"25.0\": {\"frequency\": 1, \"value\": 25.0}, \"26.0\": {\"frequency\": 3, \"value\": 26.0}, \"27.0\": {\"frequency\": 4, \"value\": 27.0}, \"28.0\": {\"frequency\": 2, \"value\": 28.0}, \"29.0\": {\"frequency\": 7, \"value\": 29.0}, \"30.0\": {\"frequency\": 4, \"value\": 30.0}, \"31.0\": {\"frequency\": 9, \"value\": 31.0}, \"32.0\": {\"frequency\": 6, \"value\": 32.0}, \"33.0\": {\"frequency\": 9, \"value\": 33.0}, \"34.0\": {\"frequency\": 11, \"value\": 34.0}, \"35.0\": {\"frequency\": 11, \"value\": 35.0}, \"36.0\": {\"frequency\": 13, \"value\": 36.0}, \"37.0\": {\"frequency\": 8, \"value\": 37.0}, \"38.0\": {\"frequency\": 15, \"value\": 38.0}, \"39.0\": {\"frequency\": 25, \"value\": 39.0}, \"40.0\": {\"frequency\": 22, \"value\": 40.0}, \"41.0\": {\"frequency\": 23, \"value\": 41.0}, \"42.0\": {\"frequency\": 19, \"value\": 42.0}, \"43.0\": {\"frequency\": 29, \"value\": 43.0}, \"44.0\": {\"frequency\": 23, \"value\": 44.0}, \"45.0\": {\"frequency\": 27, \"value\": 45.0}, \"46.0\": {\"frequency\": 30, \"value\": 46.0}, \"47.0\": {\"frequency\": 29, \"value\": 47.0}, \"48.0\": {\"frequency\": 21, \"value\": 48.0}, \"49.0\": {\"frequency\": 24, \"value\": 49.0}, \"50.0\": {\"frequency\": 27, \"value\": 50.0}, \"51.0\": {\"frequency\": 24, \"value\": 51.0}, \"52.0\": {\"frequency\": 18, \"value\": 52.0}, \"53.0\": {\"frequency\": 17, \"value\": 53.0}, \"54.0\": {\"frequency\": 20, \"value\": 54.0}, \"55.0\": {\"frequency\": 13, \"value\": 55.0}, \"56.0\": {\"frequency\": 20, \"value\": 56.0}, \"57.0\": {\"frequency\": 12, \"value\": 57.0}, \"58.0\": {\"frequency\": 24, \"value\": 58.0}, \"59.0\": {\"frequency\": 21, \"value\": 59.0}, \"60.0\": {\"frequency\": 14, \"value\": 60.0}, \"61.0\": {\"frequency\": 12, \"value\": 61.0}, \"62.0\": {\"frequency\": 11, \"value\": 62.0}, \"63.0\": {\"frequency\": 6, \"value\": 63.0}, \"64.0\": {\"frequency\": 14, \"value\": 64.0}, \"65.0\": {\"frequency\": 4, \"value\": 65.0}, \"66.0\": {\"frequency\": 11, \"value\": 66.0}, \"67.0\": {\"frequency\": 11, \"value\": 67.0}, \"68.0\": {\"frequency\": 14, \"value\": 68.0}, \"69.0\": {\"frequency\": 16, \"value\": 69.0}, \"70.0\": {\"frequency\": 12, \"value\": 70.0}, \"71.0\": {\"frequency\": 16, \"value\": 71.0}, \"72.0\": {\"frequency\": 11, \"value\": 72.0}, \"73.0\": {\"frequency\": 21, \"value\": 73.0}, \"74.0\": {\"frequency\": 14, \"value\": 74.0}, \"75.0\": {\"frequency\": 16, \"value\": 75.0}, \"76.0\": {\"frequency\": 12, \"value\": 76.0}, \"77.0\": {\"frequency\": 18, \"value\": 77.0}, \"78.0\": {\"frequency\": 20, \"value\": 78.0}, \"79.0\": {\"frequency\": 19, \"value\": 79.0}, \"80.0\": {\"frequency\": 26, \"value\": 80.0}, \"81.0\": {\"frequency\": 15, \"value\": 81.0}, \"82.0\": {\"frequency\": 20, \"value\": 82.0}, \"83.0\": {\"frequency\": 28, \"value\": 83.0}, \"84.0\": {\"frequency\": 25, \"value\": 84.0}, \"85.0\": {\"frequency\": 32, \"value\": 85.0}, \"86.0\": {\"frequency\": 28, \"value\": 86.0}, \"87.0\": {\"frequency\": 29, \"value\": 87.0}, \"88.0\": {\"frequency\": 30, \"value\": 88.0}, \"89.0\": {\"frequency\": 29, \"value\": 89.0}, \"90.0\": {\"frequency\": 26, \"value\": 90.0}, \"91.0\": {\"frequency\": 21, \"value\": 91.0}, \"92.0\": {\"frequency\": 20, \"value\": 92.0}, \"93.0\": {\"frequency\": 36, \"value\": 93.0}, \"94.0\": {\"frequency\": 28, \"value\": 94.0}, \"95.0\": {\"frequency\": 32, \"value\": 95.0}, \"96.0\": {\"frequency\": 26, \"value\": 96.0}, \"97.0\": {\"frequency\": 23, \"value\": 97.0}, \"98.0\": {\"frequency\": 19, \"value\": 98.0}, \"99.0\": {\"frequency\": 21, \"value\": 99.0}, \"100.0\": {\"frequency\": 23, \"value\": 100.0}, \"101.0\": {\"frequency\": 22, \"value\": 101.0}, \"102.0\": {\"frequency\": 24, \"value\": 102.0}, \"103.0\": {\"frequency\": 25, \"value\": 103.0}, \"104.0\": {\"frequency\": 25, \"value\": 104.0}, \"105.0\": {\"frequency\": 36, \"value\": 105.0}, \"106.0\": {\"frequency\": 17, \"value\": 106.0}, \"107.0\": {\"frequency\": 23, \"value\": 107.0}, \"108.0\": {\"frequency\": 25, \"value\": 108.0}, \"109.0\": {\"frequency\": 28, \"value\": 109.0}, \"110.0\": {\"frequency\": 28, \"value\": 110.0}, \"111.0\": {\"frequency\": 35, \"value\": 111.0}, \"112.0\": {\"frequency\": 28, \"value\": 112.0}, \"113.0\": {\"frequency\": 31, \"value\": 113.0}, \"114.0\": {\"frequency\": 26, \"value\": 114.0}, \"115.0\": {\"frequency\": 32, \"value\": 115.0}, \"116.0\": {\"frequency\": 34, \"value\": 116.0}, \"117.0\": {\"frequency\": 28, \"value\": 117.0}, \"118.0\": {\"frequency\": 25, \"value\": 118.0}, \"119.0\": {\"frequency\": 25, \"value\": 119.0}, \"120.0\": {\"frequency\": 26, \"value\": 120.0}, \"121.0\": {\"frequency\": 19, \"value\": 121.0}, \"122.0\": {\"frequency\": 17, \"value\": 122.0}, \"123.0\": {\"frequency\": 17, \"value\": 123.0}, \"124.0\": {\"frequency\": 20, \"value\": 124.0}, \"125.0\": {\"frequency\": 26, \"value\": 125.0}, \"126.0\": {\"frequency\": 17, \"value\": 126.0}, \"127.0\": {\"frequency\": 14, \"value\": 127.0}, \"128.0\": {\"frequency\": 18, \"value\": 128.0}, \"129.0\": {\"frequency\": 12, \"value\": 129.0}, \"130.0\": {\"frequency\": 24, \"value\": 130.0}, \"131.0\": {\"frequency\": 22, \"value\": 131.0}, \"132.0\": {\"frequency\": 22, \"value\": 132.0}, \"133.0\": {\"frequency\": 25, \"value\": 133.0}, \"134.0\": {\"frequency\": 22, \"value\": 134.0}, \"135.0\": {\"frequency\": 18, \"value\": 135.0}, \"136.0\": {\"frequency\": 19, \"value\": 136.0}, \"137.0\": {\"frequency\": 23, \"value\": 137.0}, \"138.0\": {\"frequency\": 23, \"value\": 138.0}, \"139.0\": {\"frequency\": 16, \"value\": 139.0}, \"140.0\": {\"frequency\": 23, \"value\": 140.0}, \"141.0\": {\"frequency\": 17, \"value\": 141.0}, \"142.0\": {\"frequency\": 12, \"value\": 142.0}, \"143.0\": {\"frequency\": 21, \"value\": 143.0}, \"144.0\": {\"frequency\": 19, \"value\": 144.0}, \"145.0\": {\"frequency\": 15, \"value\": 145.0}, \"146.0\": {\"frequency\": 17, \"value\": 146.0}, \"147.0\": {\"frequency\": 16, \"value\": 147.0}, \"148.0\": {\"frequency\": 14, \"value\": 148.0}, \"149.0\": {\"frequency\": 20, \"value\": 149.0}, \"150.0\": {\"frequency\": 10, \"value\": 150.0}, \"151.0\": {\"frequency\": 10, \"value\": 151.0}, \"152.0\": {\"frequency\": 16, \"value\": 152.0}, \"153.0\": {\"frequency\": 12, \"value\": 153.0}, \"154.0\": {\"frequency\": 13, \"value\": 154.0}, \"155.0\": {\"frequency\": 12, \"value\": 155.0}, \"156.0\": {\"frequency\": 19, \"value\": 156.0}, \"157.0\": {\"frequency\": 8, \"value\": 157.0}, \"158.0\": {\"frequency\": 9, \"value\": 158.0}, \"159.0\": {\"frequency\": 15, \"value\": 159.0}, \"160.0\": {\"frequency\": 14, \"value\": 160.0}, \"161.0\": {\"frequency\": 10, \"value\": 161.0}, \"162.0\": {\"frequency\": 10, \"value\": 162.0}, \"163.0\": {\"frequency\": 14, \"value\": 163.0}, \"164.0\": {\"frequency\": 16, \"value\": 164.0}, \"165.0\": {\"frequency\": 16, \"value\": 165.0}, \"166.0\": {\"frequency\": 14, \"value\": 166.0}, \"167.0\": {\"frequency\": 20, \"value\": 167.0}, \"168.0\": {\"frequency\": 17, \"value\": 168.0}, \"169.0\": {\"frequency\": 13, \"value\": 169.0}, \"170.0\": {\"frequency\": 14, \"value\": 170.0}, \"171.0\": {\"frequency\": 9, \"value\": 171.0}, \"172.0\": {\"frequency\": 8, \"value\": 172.0}, \"173.0\": {\"frequency\": 8, \"value\": 173.0}, \"174.0\": {\"frequency\": 12, \"value\": 174.0}, \"175.0\": {\"frequency\": 11, \"value\": 175.0}, \"176.0\": {\"frequency\": 10, \"value\": 176.0}, \"177.0\": {\"frequency\": 10, \"value\": 177.0}, \"178.0\": {\"frequency\": 13, \"value\": 178.0}, \"179.0\": {\"frequency\": 8, \"value\": 179.0}, \"180.0\": {\"frequency\": 10, \"value\": 180.0}, \"181.0\": {\"frequency\": 10, \"value\": 181.0}, \"182.0\": {\"frequency\": 12, \"value\": 182.0}, \"183.0\": {\"frequency\": 6, \"value\": 183.0}, \"184.0\": {\"frequency\": 7, \"value\": 184.0}, \"185.0\": {\"frequency\": 6, \"value\": 185.0}, \"186.0\": {\"frequency\": 5, \"value\": 186.0}, \"187.0\": {\"frequency\": 6, \"value\": 187.0}, \"188.0\": {\"frequency\": 9, \"value\": 188.0}, \"189.0\": {\"frequency\": 8, \"value\": 189.0}, \"190.0\": {\"frequency\": 3, \"value\": 190.0}, \"191.0\": {\"frequency\": 6, \"value\": 191.0}, \"192.0\": {\"frequency\": 9, \"value\": 192.0}, \"193.0\": {\"frequency\": 3, \"value\": 193.0}, \"194.0\": {\"frequency\": 8, \"value\": 194.0}, \"195.0\": {\"frequency\": 3, \"value\": 195.0}, \"196.0\": {\"frequency\": 3, \"value\": 196.0}, \"197.0\": {\"frequency\": 8, \"value\": 197.0}, \"198.0\": {\"frequency\": 3, \"value\": 198.0}, \"199.0\": {\"frequency\": 2, \"value\": 199.0}, \"200.0\": {\"frequency\": 3, \"value\": 200.0}, \"201.0\": {\"frequency\": 1, \"value\": 201.0}, \"202.0\": {\"frequency\": 2, \"value\": 202.0}, \"203.0\": {\"frequency\": 2, \"value\": 203.0}, \"204.0\": {\"frequency\": 1, \"value\": 204.0}, \"205.0\": {\"frequency\": 2, \"value\": 205.0}, \"207.0\": {\"frequency\": 2, \"value\": 207.0}, \"208.0\": {\"frequency\": 2, \"value\": 208.0}, \"209.0\": {\"frequency\": 2, \"value\": 209.0}, \"210.0\": {\"frequency\": 1, \"value\": 210.0}, \"211.0\": {\"frequency\": 6, \"value\": 211.0}, \"212.0\": {\"frequency\": 1, \"value\": 212.0}, \"213.0\": {\"frequency\": 3, \"value\": 213.0}, \"214.0\": {\"frequency\": 3, \"value\": 214.0}, \"215.0\": {\"frequency\": 3, \"value\": 215.0}, \"216.0\": {\"frequency\": 2, \"value\": 216.0}, \"219.0\": {\"frequency\": 2, \"value\": 219.0}, \"220.0\": {\"frequency\": 1, \"value\": 220.0}, \"221.0\": {\"frequency\": 1, \"value\": 221.0}, \"222.0\": {\"frequency\": 1, \"value\": 222.0}, \"224.0\": {\"frequency\": 3, \"value\": 224.0}, \"225.0\": {\"frequency\": 1, \"value\": 225.0}, \"226.0\": {\"frequency\": 2, \"value\": 226.0}, \"227.0\": {\"frequency\": 1, \"value\": 227.0}, \"228.0\": {\"frequency\": 2, \"value\": 228.0}, \"229.0\": {\"frequency\": 1, \"value\": 229.0}, \"230.0\": {\"frequency\": 2, \"value\": 230.0}, \"231.0\": {\"frequency\": 1, \"value\": 231.0}, \"232.0\": {\"frequency\": 1, \"value\": 232.0}, \"233.0\": {\"frequency\": 1, \"value\": 233.0}, \"234.0\": {\"frequency\": 2, \"value\": 234.0}, \"236.0\": {\"frequency\": 1, \"value\": 236.0}, \"237.0\": {\"frequency\": 3, \"value\": 237.0}, \"240.0\": {\"frequency\": 1, \"value\": 240.0}, \"241.0\": {\"frequency\": 2, \"value\": 241.0}, \"242.0\": {\"frequency\": 2, \"value\": 242.0}, \"245.0\": {\"frequency\": 5, \"value\": 245.0}, \"246.0\": {\"frequency\": 2, \"value\": 246.0}, \"247.0\": {\"frequency\": 3, \"value\": 247.0}, \"249.0\": {\"frequency\": 1, \"value\": 249.0}, \"250.0\": {\"frequency\": 2, \"value\": 250.0}, \"251.0\": {\"frequency\": 1, \"value\": 251.0}, \"252.0\": {\"frequency\": 3, \"value\": 252.0}, \"253.0\": {\"frequency\": 4, \"value\": 253.0}, \"254.0\": {\"frequency\": 1, \"value\": 254.0}, \"255.0\": {\"frequency\": 1, \"value\": 255.0}}, \"mean\": 108.38606770833347}, \"label\": {\"complete\": true, \"numeric\": false, \"num_unique\": 1, \"num_undefined\": 0, \"progress\": 1.0, \"frequent_items\": {\"cat\": {\"frequency\": 1, \"value\": \"cat\"}}, \"size\": 1}}, \"selected_variable\": {\"name\": [\"cat\"], \"descriptives\": {\"rows\": 1, \"columns\": 5}, \"view_component\": \"Summary\", \"view_file\": \"sframe\", \"view_params\": {\"y\": null, \"x\": null, \"columns\": [\"id\", \"image\", \"label\", \"deep_features\", \"image_array\"], \"view\": null}, \"view_components\": [\"Summary\", \"Table\", \"Bar Chart\", \"BoxWhisker Plot\", \"Line Chart\", \"Scatter Plot\", \"Heat Map\", \"Plots\"], \"type\": \"SFrame\", \"columns\": [{\"dtype\": \"int\", \"name\": \"id\"}, {\"dtype\": \"Image\", \"name\": \"image\"}, {\"dtype\": \"str\", \"name\": \"label\"}, {\"dtype\": \"array\", \"name\": \"deep_features\"}, {\"dtype\": \"array\", \"name\": \"image_array\"}], \"column_identifiers\": [\"deep_features\", \"image\", \"id\", \"image_array\", \"label\"]}, \"columns\": [{\"dtype\": \"int\", \"name\": \"id\"}, {\"dtype\": \"Image\", \"name\": \"image\"}, {\"dtype\": \"str\", \"name\": \"label\"}, {\"dtype\": \"array\", \"name\": \"deep_features\"}, {\"dtype\": \"array\", \"name\": \"image_array\"}]}, e);\n",
       "                });\n",
       "            })();\n",
       "        "
      ]
     },
     "metadata": {},
     "output_type": "display_data"
    }
   ],
   "source": [
    "def get_images_from_ids(query_result):\n",
    "    return image_train.filter_by(query_result['reference_label'], 'id')\n",
    "\n",
    "cat = image_test[0:1]\n",
    "cat.show()"
   ]
  },
  {
   "cell_type": "code",
   "execution_count": 41,
   "metadata": {
    "collapsed": false
   },
   "outputs": [
    {
     "data": {
      "text/html": [
       "<pre>Starting pairwise querying.</pre>"
      ],
      "text/plain": [
       "Starting pairwise querying."
      ]
     },
     "metadata": {},
     "output_type": "display_data"
    },
    {
     "data": {
      "text/html": [
       "<pre>+--------------+---------+-------------+--------------+</pre>"
      ],
      "text/plain": [
       "+--------------+---------+-------------+--------------+"
      ]
     },
     "metadata": {},
     "output_type": "display_data"
    },
    {
     "data": {
      "text/html": [
       "<pre>| Query points | # Pairs | % Complete. | Elapsed Time |</pre>"
      ],
      "text/plain": [
       "| Query points | # Pairs | % Complete. | Elapsed Time |"
      ]
     },
     "metadata": {},
     "output_type": "display_data"
    },
    {
     "data": {
      "text/html": [
       "<pre>+--------------+---------+-------------+--------------+</pre>"
      ],
      "text/plain": [
       "+--------------+---------+-------------+--------------+"
      ]
     },
     "metadata": {},
     "output_type": "display_data"
    },
    {
     "data": {
      "text/html": [
       "<pre>| 0            | 1       | 0.196464    | 9.606ms      |</pre>"
      ],
      "text/plain": [
       "| 0            | 1       | 0.196464    | 9.606ms      |"
      ]
     },
     "metadata": {},
     "output_type": "display_data"
    },
    {
     "data": {
      "text/html": [
       "<pre>| Done         |         | 100         | 51.107ms     |</pre>"
      ],
      "text/plain": [
       "| Done         |         | 100         | 51.107ms     |"
      ]
     },
     "metadata": {},
     "output_type": "display_data"
    },
    {
     "data": {
      "text/html": [
       "<pre>+--------------+---------+-------------+--------------+</pre>"
      ],
      "text/plain": [
       "+--------------+---------+-------------+--------------+"
      ]
     },
     "metadata": {},
     "output_type": "display_data"
    },
    {
     "data": {
      "text/html": [
       "<div style=\"max-height:1000px;max-width:1500px;overflow:auto;\"><table frame=\"box\" rules=\"cols\">\n",
       "    <tr>\n",
       "        <th style=\"padding-left: 1em; padding-right: 1em; text-align: center\">query_label</th>\n",
       "        <th style=\"padding-left: 1em; padding-right: 1em; text-align: center\">reference_label</th>\n",
       "        <th style=\"padding-left: 1em; padding-right: 1em; text-align: center\">distance</th>\n",
       "        <th style=\"padding-left: 1em; padding-right: 1em; text-align: center\">rank</th>\n",
       "    </tr>\n",
       "    <tr>\n",
       "        <td style=\"padding-left: 1em; padding-right: 1em; text-align: center; vertical-align: top\">0</td>\n",
       "        <td style=\"padding-left: 1em; padding-right: 1em; text-align: center; vertical-align: top\">16289</td>\n",
       "        <td style=\"padding-left: 1em; padding-right: 1em; text-align: center; vertical-align: top\">34.623719208</td>\n",
       "        <td style=\"padding-left: 1em; padding-right: 1em; text-align: center; vertical-align: top\">1</td>\n",
       "    </tr>\n",
       "    <tr>\n",
       "        <td style=\"padding-left: 1em; padding-right: 1em; text-align: center; vertical-align: top\">0</td>\n",
       "        <td style=\"padding-left: 1em; padding-right: 1em; text-align: center; vertical-align: top\">45646</td>\n",
       "        <td style=\"padding-left: 1em; padding-right: 1em; text-align: center; vertical-align: top\">36.0068799284</td>\n",
       "        <td style=\"padding-left: 1em; padding-right: 1em; text-align: center; vertical-align: top\">2</td>\n",
       "    </tr>\n",
       "    <tr>\n",
       "        <td style=\"padding-left: 1em; padding-right: 1em; text-align: center; vertical-align: top\">0</td>\n",
       "        <td style=\"padding-left: 1em; padding-right: 1em; text-align: center; vertical-align: top\">32139</td>\n",
       "        <td style=\"padding-left: 1em; padding-right: 1em; text-align: center; vertical-align: top\">36.5200813436</td>\n",
       "        <td style=\"padding-left: 1em; padding-right: 1em; text-align: center; vertical-align: top\">3</td>\n",
       "    </tr>\n",
       "    <tr>\n",
       "        <td style=\"padding-left: 1em; padding-right: 1em; text-align: center; vertical-align: top\">0</td>\n",
       "        <td style=\"padding-left: 1em; padding-right: 1em; text-align: center; vertical-align: top\">25713</td>\n",
       "        <td style=\"padding-left: 1em; padding-right: 1em; text-align: center; vertical-align: top\">36.7548502521</td>\n",
       "        <td style=\"padding-left: 1em; padding-right: 1em; text-align: center; vertical-align: top\">4</td>\n",
       "    </tr>\n",
       "    <tr>\n",
       "        <td style=\"padding-left: 1em; padding-right: 1em; text-align: center; vertical-align: top\">0</td>\n",
       "        <td style=\"padding-left: 1em; padding-right: 1em; text-align: center; vertical-align: top\">331</td>\n",
       "        <td style=\"padding-left: 1em; padding-right: 1em; text-align: center; vertical-align: top\">36.8731228168</td>\n",
       "        <td style=\"padding-left: 1em; padding-right: 1em; text-align: center; vertical-align: top\">5</td>\n",
       "    </tr>\n",
       "</table>\n",
       "[5 rows x 4 columns]<br/>\n",
       "</div>"
      ],
      "text/plain": [
       "Columns:\n",
       "\tquery_label\tint\n",
       "\treference_label\tint\n",
       "\tdistance\tfloat\n",
       "\trank\tint\n",
       "\n",
       "Rows: 5\n",
       "\n",
       "Data:\n",
       "+-------------+-----------------+---------------+------+\n",
       "| query_label | reference_label |    distance   | rank |\n",
       "+-------------+-----------------+---------------+------+\n",
       "|      0      |      16289      |  34.623719208 |  1   |\n",
       "|      0      |      45646      | 36.0068799284 |  2   |\n",
       "|      0      |      32139      | 36.5200813436 |  3   |\n",
       "|      0      |      25713      | 36.7548502521 |  4   |\n",
       "|      0      |       331       | 36.8731228168 |  5   |\n",
       "+-------------+-----------------+---------------+------+\n",
       "[5 rows x 4 columns]"
      ]
     },
     "execution_count": 41,
     "metadata": {},
     "output_type": "execute_result"
    }
   ],
   "source": [
    "cat_model.query(cat)"
   ]
  },
  {
   "cell_type": "code",
   "execution_count": 52,
   "metadata": {
    "collapsed": false
   },
   "outputs": [
    {
     "data": {
      "application/javascript": [
       "$(\"head\").append($(\"<link/>\").attr({\n",
       "  rel:  \"stylesheet\",\n",
       "  type: \"text/css\",\n",
       "  href: \"//cdnjs.cloudflare.com/ajax/libs/font-awesome/4.1.0/css/font-awesome.min.css\"\n",
       "}));\n",
       "$(\"head\").append($(\"<link/>\").attr({\n",
       "  rel:  \"stylesheet\",\n",
       "  type: \"text/css\",\n",
       "  href: \"https://static.turi.com/products/graphlab-create/2.1/canvas/css/canvas.css\"\n",
       "}));\n",
       "\n",
       "            (function(){\n",
       "\n",
       "                var e = null;\n",
       "                if (typeof element == 'undefined') {\n",
       "                    var scripts = document.getElementsByTagName('script');\n",
       "                    var thisScriptTag = scripts[scripts.length-1];\n",
       "                    var parentDiv = thisScriptTag.parentNode;\n",
       "                    e = document.createElement('div');\n",
       "                    parentDiv.appendChild(e);\n",
       "                } else {\n",
       "                    e = element[0];\n",
       "                }\n",
       "\n",
       "                if (typeof requirejs !== 'undefined') {\n",
       "                    // disable load timeout; ipython_app.js is large and can take a while to load.\n",
       "                    requirejs.config({waitSeconds: 0});\n",
       "                }\n",
       "\n",
       "                require(['https://static.turi.com/products/graphlab-create/2.1/canvas/js/ipython_app.js'], function(IPythonApp){\n",
       "                    var app = new IPythonApp();\n",
       "                    app.attachView('sarray','Images', {\"ipython\": true, \"rows\": [{\"format\": \"raw\", \"value\": [215, 219, 231, 215, 219, 232, 216, 219, 233, 214, 217, 230, 213, 216, 230, 209, 215, 226, 208, 217, 221, 206, 215, 219, 201, 208, 217, 197, 203, 218, 194, 200, 221, 199, 204, 221, 142, 128, 131, 76, 46, 46, 81, 55, 57, 147, 136, 139, 160, 149, 154, 152, 141, 144, 156, 147, 150, 159, 148, 154, 160, 153, 157, 164, 156, 160, 160, 154, 158, 158, 151, 156, 159, 149, 157, 159, 150, 156, 157, 147, 154, 156, 145, 153, 152, 142, 149, 147, 137, 143, 141, 131, 136, 142, 131, 136, 215, 219, 231, 215, 219, 232, 215, 219, 232, 213, 217, 229, 212, 216, 229, 212, 214, 217, 206, 215, 217, 203, 211, 219, 197, 205, 218, 194, 201, 218, 196, 201, 218, 178, 180, 192, 92, 56, 55, 77, 50, 49, 112, 98, 100, 173, 162, 169, 162, 153, 157, 160, 152, 154, 164, 157, 159, 164, 155, 160, 165, 158, 163, 165, 155, 162, 167, 160, 166, 164, 155, 162, 160, 148, 155, 153, 142, 149, 160, 150, 159, 162, 154, 162, 157, 151, 156, 152, 143, 148, 139, 129, 133, 135, 124, 128, 215, 219, 231, 215, 219, 231, 214, 218, 230, 214, 218, 229, 214, 217, 227, 216, 211, 207, 207, 213, 215, 200, 207, 218, 195, 202, 220, 193, 201, 216, 196, 202, 216, 125, 101, 101, 79, 49, 48, 88, 67, 67, 157, 147, 152, 168, 160, 166, 164, 155, 158, 170, 163, 168, 169, 164, 166, 169, 160, 165, 169, 162, 167, 167, 159, 167, 166, 156, 164, 166, 155, 163, 163, 153, 158, 160, 150, 157, 160, 151, 158, 159, 150, 156, 157, 148, 155, 155, 145, 152, 152, 141, 147, 143, 131, 135, 216, 220, 232, 215, 219, 231, 214, 218, 230, 214, 218, 230, 214, 217, 227, 216, 213, 207, 205, 210, 216, 199, 203, 219, 196, 202, 219, 194, 204, 220, 164, 155, 162, 89, 54, 48, 77, 52, 52, 126, 110, 113, 173, 162, 168, 167, 159, 163, 170, 162, 166, 172, 163, 168, 171, 164, 168, 171, 163, 168, 171, 162, 169, 169, 161, 167, 165, 153, 160, 165, 154, 160, 163, 153, 158, 166, 155, 162, 165, 154, 160, 155, 144, 149, 156, 144, 151, 153, 143, 151, 151, 140, 148, 143, 131, 137, 217, 221, 233, 215, 219, 231, 215, 219, 231, 215, 219, 231, 217, 219, 229, 221, 222, 219, 199, 203, 211, 195, 202, 217, 198, 202, 220, 190, 193, 206, 109, 80, 77, 78, 50, 49, 94, 72, 74, 163, 154, 155, 166, 157, 158, 169, 158, 158, 173, 163, 167, 170, 158, 161, 172, 161, 168, 173, 166, 170, 173, 163, 170, 171, 161, 164, 169, 155, 160, 170, 158, 162, 162, 151, 157, 162, 151, 157, 167, 156, 164, 164, 153, 160, 158, 147, 153, 157, 146, 151, 149, 138, 144, 143, 132, 137, 217, 221, 233, 215, 219, 231, 214, 218, 230, 213, 217, 229, 222, 224, 232, 228, 227, 233, 192, 196, 211, 196, 202, 220, 196, 209, 225, 150, 128, 133, 80, 48, 46, 76, 51, 56, 144, 129, 134, 167, 158, 161, 165, 155, 156, 173, 161, 163, 175, 164, 168, 173, 162, 168, 175, 167, 171, 175, 165, 167, 174, 162, 169, 168, 157, 159, 156, 145, 146, 171, 159, 162, 168, 157, 163, 167, 156, 163, 167, 155, 165, 168, 157, 165, 159, 147, 155, 151, 140, 144, 145, 133, 137, 149, 137, 141, 217, 221, 233, 216, 220, 232, 214, 218, 230, 215, 219, 231, 166, 167, 174, 200, 198, 206, 194, 201, 218, 194, 200, 219, 177, 173, 184, 93, 65, 61, 75, 53, 53, 120, 100, 97, 172, 162, 166, 169, 158, 161, 167, 154, 156, 177, 166, 169, 181, 171, 175, 174, 166, 173, 175, 166, 172, 171, 160, 164, 173, 163, 171, 136, 125, 129, 101, 91, 88, 155, 141, 141, 175, 164, 169, 174, 162, 170, 167, 156, 165, 165, 154, 162, 161, 150, 157, 150, 138, 143, 148, 136, 140, 147, 135, 139, 217, 221, 233, 216, 220, 232, 215, 219, 231, 217, 221, 234, 113, 108, 113, 140, 130, 127, 163, 161, 169, 144, 143, 149, 153, 139, 139, 139, 122, 116, 132, 114, 102, 164, 147, 139, 161, 150, 142, 150, 138, 130, 135, 122, 116, 152, 138, 134, 149, 132, 127, 175, 162, 161, 180, 168, 175, 176, 164, 170, 177, 171, 180, 136, 126, 130, 87, 76, 68, 137, 121, 119, 178, 168, 173, 173, 162, 169, 168, 157, 164, 163, 152, 158, 158, 146, 151, 160, 147, 155, 163, 150, 158, 160, 147, 154, 218, 220, 233, 216, 219, 232, 215, 219, 232, 208, 212, 224, 92, 82, 85, 96, 78, 69, 111, 99, 93, 129, 116, 110, 167, 156, 155, 179, 168, 171, 171, 161, 158, 157, 137, 124, 120, 103, 92, 117, 98, 86, 102, 86, 81, 127, 108, 96, 147, 122, 108, 139, 122, 116, 168, 157, 155, 155, 145, 145, 200, 199, 207, 157, 149, 147, 116, 102, 91, 150, 137, 137, 176, 166, 170, 173, 162, 168, 169, 156, 164, 159, 147, 153, 159, 146, 150, 164, 151, 158, 166, 153, 161, 159, 145, 153, 217, 219, 232, 216, 218, 231, 217, 218, 229, 193, 195, 207, 95, 79, 74, 110, 88, 80, 154, 138, 132, 181, 165, 159, 207, 200, 205, 205, 207, 219, 199, 200, 209, 159, 138, 131, 143, 118, 101, 137, 110, 93, 115, 98, 91, 118, 103, 92, 184, 166, 159, 125, 113, 114, 149, 132, 126, 117, 101, 102, 213, 214, 226, 172, 170, 179, 133, 121, 123, 157, 143, 143, 147, 131, 129, 174, 158, 166, 169, 156, 165, 162, 149, 157, 168, 156, 164, 166, 154, 162, 162, 151, 158, 158, 146, 154, 218, 220, 233, 216, 218, 232, 216, 220, 234, 174, 176, 187, 90, 73, 70, 148, 125, 109, 194, 169, 157, 215, 204, 208, 220, 221, 230, 220, 223, 231, 218, 216, 224, 174, 154, 152, 162, 140, 127, 127, 100, 84, 146, 120, 103, 147, 124, 116, 169, 145, 133, 138, 122, 113, 148, 134, 124, 123, 103, 97, 154, 143, 141, 153, 143, 144, 133, 124, 127, 151, 136, 137, 140, 119, 111, 156, 139, 134, 175, 164, 169, 175, 160, 169, 170, 156, 165, 164, 151, 158, 156, 144, 150, 158, 146, 152, 218, 220, 233, 214, 218, 231, 216, 219, 233, 173, 164, 169, 134, 106, 90, 184, 152, 131, 205, 184, 171, 218, 214, 222, 221, 222, 232, 225, 226, 235, 218, 220, 231, 187, 172, 169, 156, 136, 127, 140, 116, 102, 147, 115, 98, 126, 99, 84, 171, 135, 105, 105, 81, 71, 132, 112, 105, 95, 80, 75, 130, 118, 114, 140, 127, 123, 128, 115, 114, 140, 125, 124, 159, 143, 139, 126, 113, 112, 165, 156, 163, 159, 144, 150, 163, 147, 148, 161, 145, 149, 161, 145, 149, 163, 148, 151, 217, 219, 232, 214, 218, 230, 218, 216, 229, 152, 133, 128, 169, 146, 138, 194, 172, 157, 201, 173, 151, 210, 197, 193, 215, 213, 223, 216, 218, 226, 203, 201, 209, 157, 129, 111, 145, 112, 92, 141, 114, 99, 133, 104, 90, 114, 84, 72, 183, 145, 108, 135, 106, 86, 143, 110, 95, 110, 95, 93, 200, 199, 207, 153, 147, 148, 129, 112, 111, 119, 102, 100, 144, 131, 127, 152, 145, 156, 188, 186, 198, 108, 92, 95, 99, 83, 78, 160, 140, 141, 176, 157, 168, 153, 134, 136, 218, 220, 233, 217, 219, 232, 209, 210, 222, 141, 114, 104, 212, 201, 202, 212, 206, 208, 184, 150, 123, 193, 164, 138, 202, 187, 180, 209, 207, 215, 200, 193, 196, 146, 111, 92, 141, 107, 88, 120, 97, 84, 86, 68, 60, 117, 87, 74, 163, 126, 95, 140, 103, 84, 139, 102, 78, 169, 141, 129, 218, 219, 228, 131, 123, 125, 104, 88, 81, 98, 83, 76, 122, 105, 97, 143, 138, 161, 209, 208, 226, 154, 141, 139, 99, 80, 73, 153, 127, 129, 156, 139, 144, 135, 116, 116, 219, 221, 234, 216, 218, 232, 204, 204, 219, 154, 126, 110, 213, 204, 206, 217, 214, 217, 170, 136, 110, 157, 118, 88, 170, 135, 108, 197, 174, 168, 170, 142, 125, 143, 103, 83, 122, 90, 75, 98, 76, 68, 68, 55, 55, 76, 59, 56, 118, 84, 71, 111, 79, 63, 107, 76, 63, 158, 121, 101, 196, 192, 200, 115, 101, 104, 106, 90, 83, 103, 87, 77, 128, 107, 97, 111, 97, 127, 206, 205, 220, 206, 209, 220, 157, 142, 127, 113, 91, 76, 121, 105, 101, 164, 149, 152, 220, 221, 234, 215, 218, 232, 208, 209, 223, 159, 136, 126, 213, 211, 218, 204, 202, 208, 140, 115, 102, 132, 104, 88, 148, 112, 93, 160, 124, 97, 136, 92, 70, 122, 86, 69, 97, 73, 60, 101, 74, 64, 84, 63, 60, 67, 53, 52, 82, 62, 57, 92, 71, 60, 82, 59, 53, 145, 116, 103, 125, 116, 120, 105, 91, 87, 92, 77, 76, 94, 76, 73, 119, 96, 84, 131, 113, 124, 207, 209, 223, 217, 219, 236, 157, 150, 150, 127, 115, 114, 138, 122, 119, 173, 160, 166, 219, 221, 234, 218, 223, 235, 173, 164, 171, 129, 109, 105, 219, 218, 228, 186, 179, 188, 102, 86, 85, 96, 82, 77, 108, 88, 76, 136, 106, 91, 129, 93, 74, 105, 73, 61, 79, 60, 55, 76, 57, 54, 73, 55, 54, 74, 55, 53, 71, 57, 55, 88, 70, 68, 84, 66, 63, 79, 66, 70, 76, 65, 70, 99, 87, 86, 67, 53, 55, 102, 84, 78, 118, 94, 83, 150, 132, 131, 211, 204, 220, 213, 184, 201, 202, 191, 208, 177, 176, 188, 146, 130, 133, 170, 157, 160, 219, 221, 233, 211, 210, 220, 116, 88, 81, 132, 117, 117, 226, 229, 238, 171, 156, 160, 104, 84, 77, 96, 80, 77, 95, 83, 77, 105, 87, 80, 119, 94, 77, 95, 70, 60, 72, 56, 54, 68, 54, 55, 75, 56, 53, 77, 60, 55, 78, 65, 63, 95, 79, 77, 79, 65, 65, 51, 40, 52, 84, 74, 81, 94, 83, 86, 74, 60, 60, 127, 109, 101, 125, 102, 92, 140, 120, 118, 207, 199, 211, 216, 198, 214, 195, 188, 197, 183, 180, 187, 146, 132, 139, 169, 153, 163, 222, 227, 240, 167, 132, 134, 121, 81, 62, 101, 85, 78, 172, 167, 178, 163, 155, 154, 127, 115, 110, 130, 116, 114, 125, 113, 112, 111, 95, 90, 117, 98, 88, 79, 63, 58, 63, 51, 52, 71, 56, 55, 88, 69, 62, 90, 72, 69, 90, 75, 73, 101, 87, 79, 70, 58, 61, 55, 45, 56, 109, 100, 107, 68, 56, 59, 86, 72, 72, 133, 116, 110, 130, 109, 101, 113, 94, 92, 210, 210, 217, 221, 228, 244, 177, 167, 158, 122, 107, 95, 140, 123, 124, 168, 151, 161, 201, 189, 197, 125, 74, 57, 137, 92, 70, 99, 73, 63, 69, 58, 67, 117, 113, 124, 138, 134, 143, 123, 113, 115, 124, 112, 112, 152, 136, 134, 114, 97, 90, 76, 60, 57, 64, 52, 54, 82, 68, 66, 96, 80, 73, 104, 90, 85, 77, 66, 65, 68, 56, 58, 65, 55, 62, 63, 53, 64, 83, 74, 81, 78, 66, 67, 117, 104, 103, 120, 105, 102, 90, 71, 67, 113, 97, 98, 222, 223, 233, 211, 207, 217, 150, 131, 121, 127, 101, 90, 145, 122, 128, 165, 147, 150, 149, 103, 96, 116, 73, 57, 133, 95, 73, 122, 85, 68, 65, 55, 58, 73, 68, 72, 122, 118, 130, 121, 114, 121, 107, 95, 98, 136, 121, 117, 102, 87, 81, 75, 59, 57, 77, 64, 66, 92, 79, 77, 87, 74, 70, 100, 89, 86, 79, 69, 66, 66, 50, 55, 51, 39, 48, 63, 53, 60, 89, 78, 82, 104, 92, 93, 94, 83, 81, 93, 80, 81, 127, 110, 113, 162, 149, 155, 199, 193, 203, 141, 122, 124, 104, 83, 79, 151, 126, 128, 168, 146, 155, 160, 140, 144, 118, 60, 49, 113, 84, 73, 131, 92, 70, 126, 97, 72, 90, 77, 71, 70, 62, 64, 74, 67, 71, 91, 85, 89, 87, 77, 78, 103, 90, 86, 78, 66, 65, 74, 61, 61, 88, 75, 76, 98, 85, 83, 93, 82, 83, 87, 76, 78, 87, 73, 70, 83, 64, 58, 52, 39, 44, 60, 49, 53, 81, 69, 71, 93, 80, 80, 117, 104, 102, 164, 150, 155, 188, 172, 179, 188, 174, 182, 171, 157, 162, 134, 117, 120, 143, 124, 126, 172, 153, 156, 169, 151, 157, 167, 147, 154, 100, 62, 57, 106, 83, 73, 111, 83, 67, 118, 97, 89, 167, 154, 161, 153, 145, 150, 118, 109, 114, 78, 69, 74, 87, 78, 80, 86, 76, 76, 77, 65, 65, 76, 62, 60, 87, 72, 71, 125, 112, 111, 158, 149, 153, 174, 164, 169, 158, 145, 152, 119, 105, 106, 75, 62, 65, 86, 75, 79, 131, 117, 121, 169, 155, 157, 174, 158, 161, 180, 164, 168, 182, 165, 170, 185, 169, 172, 189, 174, 177, 190, 174, 181, 186, 169, 179, 178, 159, 165, 174, 158, 161, 178, 161, 167, 90, 71, 67, 84, 66, 64, 92, 73, 70, 163, 145, 150, 187, 175, 181, 191, 181, 188, 191, 179, 189, 181, 170, 178, 174, 165, 171, 159, 148, 153, 128, 117, 121, 139, 128, 129, 163, 151, 155, 189, 177, 183, 191, 179, 185, 191, 178, 186, 193, 180, 191, 191, 180, 188, 171, 160, 163, 175, 162, 165, 187, 170, 174, 188, 171, 177, 185, 168, 174, 186, 170, 175, 186, 169, 175, 187, 171, 175, 186, 169, 174, 186, 170, 176, 185, 170, 177, 180, 161, 167, 176, 159, 163, 176, 159, 166, 75, 61, 60, 70, 60, 54, 138, 124, 124, 195, 182, 186, 195, 183, 184, 195, 183, 187, 191, 179, 184, 186, 174, 175, 189, 177, 179, 195, 184, 188, 194, 183, 188, 194, 182, 185, 196, 184, 190, 195, 183, 191, 195, 182, 189, 191, 179, 184, 189, 178, 184, 191, 179, 185, 193, 180, 183, 186, 169, 172, 183, 165, 169, 186, 168, 174, 190, 173, 179, 188, 172, 177, 188, 171, 176, 192, 175, 181, 193, 177, 182, 191, 175, 181, 188, 173, 179, 181, 163, 167, 181, 164, 168, 182, 165, 173, 65, 57, 56, 126, 114, 115, 191, 176, 178, 195, 183, 184, 201, 187, 193, 202, 188, 197, 200, 186, 192, 192, 175, 177, 189, 172, 176, 196, 181, 188, 193, 179, 185, 193, 178, 182, 195, 180, 187, 199, 186, 194, 197, 185, 191, 193, 182, 188, 191, 178, 183, 190, 175, 180, 190, 173, 177, 187, 168, 172, 182, 165, 168, 183, 165, 168, 184, 167, 170, 186, 170, 173, 184, 168, 172, 186, 170, 176, 188, 173, 179, 186, 171, 176, 185, 168, 173, 180, 161, 165, 184, 167, 171, 185, 168, 177, 87, 78, 82, 186, 171, 175, 202, 186, 189, 203, 192, 196, 201, 188, 194, 199, 184, 191, 200, 188, 192, 203, 191, 194, 195, 180, 184, 199, 185, 192, 199, 186, 193, 198, 186, 193, 200, 186, 192, 199, 187, 193, 199, 188, 192, 195, 183, 187, 193, 176, 181, 191, 173, 178, 192, 174, 180, 188, 171, 175, 184, 168, 171, 180, 163, 166, 182, 163, 165, 187, 171, 172, 187, 170, 172, 186, 169, 174, 185, 169, 176, 186, 170, 176, 185, 168, 174, 182, 163, 167, 187, 170, 177, 185, 169, 178, 150, 139, 143, 195, 180, 182, 196, 182, 181, 203, 190, 191, 204, 189, 193, 204, 186, 191, 195, 178, 179, 198, 185, 186, 198, 183, 187, 203, 189, 196, 202, 190, 196, 199, 188, 194, 202, 188, 195, 196, 183, 189, 197, 184, 188, 191, 177, 181, 193, 176, 182, 194, 180, 185, 195, 180, 186, 195, 180, 184, 192, 177, 181, 186, 168, 171, 183, 164, 166, 186, 169, 172, 190, 172, 175, 191, 173, 176, 186, 170, 175, 187, 170, 176, 185, 168, 174, 186, 167, 171, 189, 171, 178, 189, 173, 181, 190, 177, 181, 200, 183, 186, 202, 187, 188, 204, 189, 194, 203, 190, 195, 203, 190, 193, 199, 183, 182, 197, 182, 181, 203, 189, 192, 204, 191, 197, 199, 186, 191, 196, 182, 186, 203, 189, 195, 198, 183, 188, 196, 181, 185, 195, 179, 184, 196, 182, 186, 198, 186, 190, 199, 184, 190, 193, 178, 183, 190, 175, 178, 187, 169, 170, 190, 171, 173, 190, 174, 178, 190, 172, 176, 184, 167, 169, 185, 169, 174, 189, 172, 178, 186, 168, 174, 187, 168, 171, 185, 166, 171, 191, 173, 180, 200, 186, 189, 201, 185, 187, 201, 184, 188, 206, 191, 198, 204, 192, 197, 203, 191, 195, 199, 185, 185, 197, 180, 179, 202, 188, 191, 204, 191, 196, 202, 187, 190, 195, 180, 181, 198, 184, 190, 198, 183, 187, 199, 184, 186, 194, 179, 181, 192, 180, 181, 193, 178, 181, 193, 176, 181, 190, 172, 176, 184, 167, 169, 185, 167, 167, 187, 170, 170, 190, 175, 178, 191, 172, 177, 192, 174, 179, 193, 176, 182, 193, 176, 182, 186, 168, 174, 181, 162, 164, 177, 157, 160, 183, 164, 168, 204, 190, 194, 198, 182, 182, 195, 177, 175, 203, 188, 188, 203, 189, 191, 203, 186, 190, 201, 181, 184, 195, 177, 174, 203, 189, 191, 204, 191, 197, 202, 188, 191, 193, 178, 178, 192, 177, 181, 197, 182, 186, 199, 185, 187, 192, 176, 176, 184, 168, 168, 189, 171, 172, 188, 168, 170, 187, 168, 169, 185, 166, 166, 185, 166, 166, 186, 169, 169, 190, 173, 176, 192, 174, 179, 195, 179, 185, 195, 179, 186, 194, 178, 184, 187, 169, 175, 182, 163, 165, 177, 158, 160, 187, 169, 173, 206, 192, 195, 203, 187, 187, 195, 176, 172, 196, 175, 172, 198, 182, 180, 195, 178, 175, 193, 172, 169, 191, 171, 166, 198, 182, 181, 201, 187, 194, 199, 185, 190, 190, 173, 174, 190, 175, 175, 194, 179, 185, 193, 179, 182, 186, 168, 167, 187, 167, 167, 187, 167, 168, 187, 167, 169, 186, 166, 164, 186, 166, 165, 183, 163, 163, 188, 169, 169, 191, 172, 174, 193, 177, 183, 196, 182, 188, 193, 178, 185, 192, 176, 184, 187, 170, 176, 188, 170, 173, 192, 173, 177, 194, 178, 187], \"height\": 32, \"channels\": 3, \"width\": 32, \"type\": \"image\", \"id\": 4641466576}], \"selected_variable\": {\"name\": [\"<SArray>\"], \"dtype\": \"Image\", \"view_component\": \"Images\", \"view_file\": \"sarray\", \"descriptives\": {\"rows\": 1}, \"type\": \"SArray\", \"view_components\": [\"Images\"]}}, e);\n",
       "                });\n",
       "            })();\n",
       "        "
      ]
     },
     "metadata": {},
     "output_type": "display_data"
    }
   ],
   "source": [
    "image_train[image_train['id'] == 16289]['image'].show()"
   ]
  },
  {
   "cell_type": "code",
   "execution_count": 11,
   "metadata": {
    "collapsed": false
   },
   "outputs": [
    {
     "data": {
      "text/html": [
       "<pre>Starting pairwise querying.</pre>"
      ],
      "text/plain": [
       "Starting pairwise querying."
      ]
     },
     "metadata": {},
     "output_type": "display_data"
    },
    {
     "data": {
      "text/html": [
       "<pre>+--------------+---------+-------------+--------------+</pre>"
      ],
      "text/plain": [
       "+--------------+---------+-------------+--------------+"
      ]
     },
     "metadata": {},
     "output_type": "display_data"
    },
    {
     "data": {
      "text/html": [
       "<pre>| Query points | # Pairs | % Complete. | Elapsed Time |</pre>"
      ],
      "text/plain": [
       "| Query points | # Pairs | % Complete. | Elapsed Time |"
      ]
     },
     "metadata": {},
     "output_type": "display_data"
    },
    {
     "data": {
      "text/html": [
       "<pre>+--------------+---------+-------------+--------------+</pre>"
      ],
      "text/plain": [
       "+--------------+---------+-------------+--------------+"
      ]
     },
     "metadata": {},
     "output_type": "display_data"
    },
    {
     "data": {
      "text/html": [
       "<pre>| 0            | 1       | 0.196464    | 9.684ms      |</pre>"
      ],
      "text/plain": [
       "| 0            | 1       | 0.196464    | 9.684ms      |"
      ]
     },
     "metadata": {},
     "output_type": "display_data"
    },
    {
     "data": {
      "text/html": [
       "<pre>| Done         |         | 100         | 95.099ms     |</pre>"
      ],
      "text/plain": [
       "| Done         |         | 100         | 95.099ms     |"
      ]
     },
     "metadata": {},
     "output_type": "display_data"
    },
    {
     "data": {
      "text/html": [
       "<pre>+--------------+---------+-------------+--------------+</pre>"
      ],
      "text/plain": [
       "+--------------+---------+-------------+--------------+"
      ]
     },
     "metadata": {},
     "output_type": "display_data"
    },
    {
     "data": {
      "text/html": [
       "<div style=\"max-height:1000px;max-width:1500px;overflow:auto;\"><table frame=\"box\" rules=\"cols\">\n",
       "    <tr>\n",
       "        <th style=\"padding-left: 1em; padding-right: 1em; text-align: center\">id</th>\n",
       "        <th style=\"padding-left: 1em; padding-right: 1em; text-align: center\">image</th>\n",
       "        <th style=\"padding-left: 1em; padding-right: 1em; text-align: center\">label</th>\n",
       "        <th style=\"padding-left: 1em; padding-right: 1em; text-align: center\">deep_features</th>\n",
       "        <th style=\"padding-left: 1em; padding-right: 1em; text-align: center\">image_array</th>\n",
       "    </tr>\n",
       "    <tr>\n",
       "        <td style=\"padding-left: 1em; padding-right: 1em; text-align: center; vertical-align: top\">331</td>\n",
       "        <td style=\"padding-left: 1em; padding-right: 1em; text-align: center; vertical-align: top\">Height: 32 Width: 32</td>\n",
       "        <td style=\"padding-left: 1em; padding-right: 1em; text-align: center; vertical-align: top\">cat</td>\n",
       "        <td style=\"padding-left: 1em; padding-right: 1em; text-align: center; vertical-align: top\">[0.0, 0.0,<br>0.510963916779, 0.0,  ...</td>\n",
       "        <td style=\"padding-left: 1em; padding-right: 1em; text-align: center; vertical-align: top\">[45.0, 65.0, 92.0, 72.0,<br>95.0, 110.0, 106.0, ...</td>\n",
       "    </tr>\n",
       "    <tr>\n",
       "        <td style=\"padding-left: 1em; padding-right: 1em; text-align: center; vertical-align: top\">16289</td>\n",
       "        <td style=\"padding-left: 1em; padding-right: 1em; text-align: center; vertical-align: top\">Height: 32 Width: 32</td>\n",
       "        <td style=\"padding-left: 1em; padding-right: 1em; text-align: center; vertical-align: top\">cat</td>\n",
       "        <td style=\"padding-left: 1em; padding-right: 1em; text-align: center; vertical-align: top\">[0.964287519455, 0.0,<br>0.0, 0.0, 1.12515509129, ...</td>\n",
       "        <td style=\"padding-left: 1em; padding-right: 1em; text-align: center; vertical-align: top\">[215.0, 219.0, 231.0,<br>215.0, 219.0, 232.0, ...</td>\n",
       "    </tr>\n",
       "    <tr>\n",
       "        <td style=\"padding-left: 1em; padding-right: 1em; text-align: center; vertical-align: top\">25713</td>\n",
       "        <td style=\"padding-left: 1em; padding-right: 1em; text-align: center; vertical-align: top\">Height: 32 Width: 32</td>\n",
       "        <td style=\"padding-left: 1em; padding-right: 1em; text-align: center; vertical-align: top\">cat</td>\n",
       "        <td style=\"padding-left: 1em; padding-right: 1em; text-align: center; vertical-align: top\">[0.536971271038, 0.0,<br>0.0, 0.0894458889961, ...</td>\n",
       "        <td style=\"padding-left: 1em; padding-right: 1em; text-align: center; vertical-align: top\">[228.0, 222.0, 236.0,<br>224.0, 213.0, 222.0, ...</td>\n",
       "    </tr>\n",
       "    <tr>\n",
       "        <td style=\"padding-left: 1em; padding-right: 1em; text-align: center; vertical-align: top\">32139</td>\n",
       "        <td style=\"padding-left: 1em; padding-right: 1em; text-align: center; vertical-align: top\">Height: 32 Width: 32</td>\n",
       "        <td style=\"padding-left: 1em; padding-right: 1em; text-align: center; vertical-align: top\">cat</td>\n",
       "        <td style=\"padding-left: 1em; padding-right: 1em; text-align: center; vertical-align: top\">[1.29409468174, 0.0, 0.0,<br>0.513800263405, ...</td>\n",
       "        <td style=\"padding-left: 1em; padding-right: 1em; text-align: center; vertical-align: top\">[217.0, 220.0, 205.0,<br>221.0, 227.0, 218.0, ...</td>\n",
       "    </tr>\n",
       "    <tr>\n",
       "        <td style=\"padding-left: 1em; padding-right: 1em; text-align: center; vertical-align: top\">45646</td>\n",
       "        <td style=\"padding-left: 1em; padding-right: 1em; text-align: center; vertical-align: top\">Height: 32 Width: 32</td>\n",
       "        <td style=\"padding-left: 1em; padding-right: 1em; text-align: center; vertical-align: top\">cat</td>\n",
       "        <td style=\"padding-left: 1em; padding-right: 1em; text-align: center; vertical-align: top\">[0.983677506447, 0.0,<br>0.0, 0.0, 0.0, ...</td>\n",
       "        <td style=\"padding-left: 1em; padding-right: 1em; text-align: center; vertical-align: top\">[51.0, 42.0, 26.0, 56.0,<br>47.0, 31.0, 59.0, 50.0, ...</td>\n",
       "    </tr>\n",
       "</table>\n",
       "[5 rows x 5 columns]<br/>\n",
       "</div>"
      ],
      "text/plain": [
       "Columns:\n",
       "\tid\tint\n",
       "\timage\tImage\n",
       "\tlabel\tstr\n",
       "\tdeep_features\tarray\n",
       "\timage_array\tarray\n",
       "\n",
       "Rows: 5\n",
       "\n",
       "Data:\n",
       "+-------+----------------------+-------+-------------------------------+\n",
       "|   id  |        image         | label |         deep_features         |\n",
       "+-------+----------------------+-------+-------------------------------+\n",
       "|  331  | Height: 32 Width: 32 |  cat  | [0.0, 0.0, 0.510963916779,... |\n",
       "| 16289 | Height: 32 Width: 32 |  cat  | [0.964287519455, 0.0, 0.0,... |\n",
       "| 25713 | Height: 32 Width: 32 |  cat  | [0.536971271038, 0.0, 0.0,... |\n",
       "| 32139 | Height: 32 Width: 32 |  cat  | [1.29409468174, 0.0, 0.0, ... |\n",
       "| 45646 | Height: 32 Width: 32 |  cat  | [0.983677506447, 0.0, 0.0,... |\n",
       "+-------+----------------------+-------+-------------------------------+\n",
       "+-------------------------------+\n",
       "|          image_array          |\n",
       "+-------------------------------+\n",
       "| [45.0, 65.0, 92.0, 72.0, 9... |\n",
       "| [215.0, 219.0, 231.0, 215.... |\n",
       "| [228.0, 222.0, 236.0, 224.... |\n",
       "| [217.0, 220.0, 205.0, 221.... |\n",
       "| [51.0, 42.0, 26.0, 56.0, 4... |\n",
       "+-------------------------------+\n",
       "[5 rows x 5 columns]"
      ]
     },
     "execution_count": 11,
     "metadata": {},
     "output_type": "execute_result"
    }
   ],
   "source": [
    "cat_query = cat_model.query(cat)\n",
    "get_images_from_ids(cat_query)"
   ]
  },
  {
   "cell_type": "code",
   "execution_count": 12,
   "metadata": {
    "collapsed": false
   },
   "outputs": [
    {
     "data": {
      "application/javascript": [
       "$(\"head\").append($(\"<link/>\").attr({\n",
       "  rel:  \"stylesheet\",\n",
       "  type: \"text/css\",\n",
       "  href: \"//cdnjs.cloudflare.com/ajax/libs/font-awesome/4.1.0/css/font-awesome.min.css\"\n",
       "}));\n",
       "$(\"head\").append($(\"<link/>\").attr({\n",
       "  rel:  \"stylesheet\",\n",
       "  type: \"text/css\",\n",
       "  href: \"https://static.turi.com/products/graphlab-create/2.1/canvas/css/canvas.css\"\n",
       "}));\n",
       "\n",
       "            (function(){\n",
       "\n",
       "                var e = null;\n",
       "                if (typeof element == 'undefined') {\n",
       "                    var scripts = document.getElementsByTagName('script');\n",
       "                    var thisScriptTag = scripts[scripts.length-1];\n",
       "                    var parentDiv = thisScriptTag.parentNode;\n",
       "                    e = document.createElement('div');\n",
       "                    parentDiv.appendChild(e);\n",
       "                } else {\n",
       "                    e = element[0];\n",
       "                }\n",
       "\n",
       "                if (typeof requirejs !== 'undefined') {\n",
       "                    // disable load timeout; ipython_app.js is large and can take a while to load.\n",
       "                    requirejs.config({waitSeconds: 0});\n",
       "                }\n",
       "\n",
       "                require(['https://static.turi.com/products/graphlab-create/2.1/canvas/js/ipython_app.js'], function(IPythonApp){\n",
       "                    var app = new IPythonApp();\n",
       "                    app.attachView('sarray','Images', {\"ipython\": true, \"rows\": [{\"format\": \"raw\", \"value\": [45, 65, 92, 72, 95, 110, 106, 132, 129, 106, 132, 129, 109, 134, 131, 111, 137, 134, 111, 139, 135, 115, 145, 142, 91, 112, 107, 85, 100, 96, 92, 113, 110, 84, 102, 99, 116, 141, 138, 122, 148, 145, 122, 148, 145, 123, 148, 145, 122, 148, 145, 122, 148, 145, 122, 148, 145, 122, 148, 145, 122, 148, 145, 123, 148, 144, 123, 147, 144, 123, 147, 143, 122, 150, 146, 108, 104, 113, 93, 45, 73, 72, 38, 64, 41, 23, 43, 23, 18, 24, 36, 31, 20, 52, 44, 29, 46, 67, 96, 76, 100, 113, 110, 136, 133, 109, 135, 133, 111, 138, 135, 111, 139, 136, 109, 136, 133, 116, 146, 142, 77, 92, 89, 75, 80, 77, 104, 124, 118, 105, 125, 121, 125, 151, 148, 124, 151, 148, 125, 151, 148, 126, 152, 149, 126, 152, 149, 126, 152, 149, 126, 152, 149, 125, 151, 149, 126, 152, 148, 127, 152, 148, 126, 151, 147, 126, 151, 147, 124, 155, 150, 104, 102, 111, 75, 34, 63, 75, 41, 67, 73, 46, 73, 37, 24, 40, 19, 13, 21, 44, 36, 35, 48, 68, 97, 79, 103, 115, 110, 137, 133, 110, 136, 133, 112, 140, 137, 113, 142, 139, 102, 128, 126, 99, 126, 124, 78, 85, 81, 94, 94, 87, 95, 109, 104, 100, 118, 115, 127, 154, 151, 126, 152, 149, 127, 152, 149, 127, 153, 149, 127, 153, 150, 127, 153, 150, 127, 153, 150, 127, 152, 149, 127, 152, 149, 127, 152, 149, 127, 152, 148, 127, 151, 148, 125, 154, 149, 107, 110, 116, 91, 62, 83, 101, 71, 95, 99, 75, 99, 67, 50, 70, 41, 33, 51, 57, 48, 52, 51, 72, 99, 83, 109, 118, 111, 139, 135, 111, 140, 136, 114, 143, 140, 120, 147, 146, 108, 134, 133, 90, 116, 113, 92, 92, 84, 112, 103, 91, 93, 98, 93, 106, 121, 120, 127, 154, 150, 128, 155, 151, 130, 154, 151, 130, 155, 152, 131, 156, 153, 131, 156, 153, 130, 155, 152, 130, 155, 152, 129, 154, 151, 130, 154, 152, 129, 154, 151, 129, 154, 151, 126, 151, 147, 123, 134, 134, 124, 121, 126, 125, 121, 128, 123, 118, 127, 106, 103, 113, 94, 94, 104, 100, 99, 104, 53, 75, 99, 87, 114, 119, 112, 141, 137, 113, 142, 138, 115, 145, 141, 114, 142, 141, 105, 132, 131, 85, 109, 106, 84, 79, 70, 127, 115, 100, 115, 101, 91, 106, 86, 88, 112, 114, 113, 128, 153, 149, 133, 157, 156, 134, 156, 154, 134, 158, 155, 134, 157, 155, 133, 157, 154, 132, 157, 154, 132, 156, 154, 133, 157, 155, 131, 157, 154, 132, 155, 155, 129, 153, 151, 128, 147, 145, 128, 142, 140, 126, 140, 139, 125, 137, 138, 119, 131, 131, 117, 129, 129, 122, 133, 133, 53, 76, 101, 90, 118, 124, 112, 143, 138, 113, 144, 139, 114, 145, 142, 108, 137, 135, 101, 130, 128, 83, 106, 104, 73, 65, 58, 127, 116, 102, 139, 125, 113, 115, 62, 66, 110, 64, 73, 128, 145, 144, 137, 163, 162, 137, 160, 157, 139, 161, 159, 138, 161, 158, 137, 161, 158, 135, 160, 157, 134, 159, 156, 127, 147, 142, 112, 125, 117, 124, 141, 136, 127, 148, 145, 122, 143, 138, 122, 140, 134, 123, 143, 139, 120, 146, 144, 117, 144, 141, 117, 142, 139, 117, 143, 139, 52, 75, 102, 95, 123, 131, 113, 143, 139, 113, 144, 141, 115, 145, 143, 105, 134, 132, 101, 131, 129, 85, 109, 108, 65, 58, 53, 111, 101, 93, 141, 134, 124, 122, 91, 86, 115, 69, 76, 131, 146, 145, 136, 163, 161, 136, 162, 158, 137, 164, 160, 138, 164, 160, 137, 163, 161, 137, 162, 160, 113, 127, 121, 96, 92, 83, 83, 73, 64, 91, 88, 80, 113, 120, 111, 100, 103, 98, 97, 96, 87, 115, 123, 115, 117, 140, 136, 112, 138, 133, 114, 140, 135, 114, 142, 139, 46, 69, 95, 99, 127, 135, 115, 145, 142, 114, 143, 141, 115, 145, 143, 104, 134, 132, 100, 131, 129, 87, 112, 111, 64, 58, 53, 95, 83, 75, 121, 113, 102, 108, 96, 82, 115, 97, 92, 153, 159, 158, 160, 173, 172, 153, 166, 165, 151, 165, 165, 141, 157, 156, 136, 157, 154, 123, 139, 136, 71, 65, 59, 71, 57, 48, 84, 72, 63, 69, 59, 53, 108, 104, 99, 145, 142, 142, 121, 113, 108, 105, 100, 92, 98, 99, 91, 90, 91, 84, 85, 85, 80, 92, 96, 89, 39, 61, 87, 95, 124, 131, 117, 147, 144, 114, 144, 142, 116, 146, 144, 114, 144, 142, 113, 143, 142, 97, 123, 122, 64, 59, 55, 83, 72, 62, 108, 100, 88, 106, 94, 82, 93, 80, 72, 122, 117, 110, 170, 166, 162, 188, 186, 184, 187, 187, 184, 165, 164, 161, 163, 162, 160, 116, 114, 111, 66, 50, 41, 74, 58, 47, 73, 61, 52, 70, 60, 53, 79, 71, 64, 146, 143, 136, 195, 197, 194, 144, 142, 140, 101, 92, 87, 98, 88, 80, 64, 53, 47, 83, 70, 59, 43, 64, 89, 94, 123, 130, 116, 147, 144, 114, 144, 142, 117, 146, 144, 117, 148, 146, 118, 148, 145, 83, 102, 99, 55, 49, 44, 78, 67, 58, 87, 79, 70, 87, 76, 67, 85, 75, 66, 79, 68, 59, 93, 84, 76, 164, 161, 156, 198, 197, 194, 186, 184, 180, 164, 160, 156, 110, 104, 98, 94, 78, 62, 101, 83, 65, 91, 75, 64, 81, 70, 61, 89, 78, 66, 140, 133, 120, 209, 211, 206, 194, 195, 194, 139, 133, 129, 120, 111, 102, 86, 75, 67, 104, 87, 70, 45, 65, 89, 93, 118, 125, 115, 142, 138, 115, 144, 141, 119, 149, 146, 118, 150, 147, 87, 106, 104, 37, 37, 36, 52, 44, 39, 79, 70, 63, 93, 85, 78, 94, 86, 78, 101, 91, 80, 91, 81, 71, 84, 73, 63, 123, 116, 108, 171, 170, 166, 153, 151, 146, 128, 125, 119, 89, 84, 78, 77, 63, 50, 102, 83, 65, 108, 93, 78, 100, 89, 77, 91, 79, 66, 138, 131, 120, 213, 212, 206, 215, 215, 212, 184, 181, 176, 149, 140, 128, 135, 121, 106, 131, 112, 89, 48, 61, 82, 90, 94, 92, 101, 107, 96, 97, 107, 99, 102, 119, 112, 93, 108, 103, 57, 57, 54, 47, 39, 36, 72, 65, 60, 89, 84, 79, 111, 103, 95, 118, 117, 104, 107, 109, 88, 120, 111, 97, 111, 101, 89, 109, 99, 87, 131, 127, 121, 95, 90, 83, 89, 81, 74, 92, 84, 75, 66, 57, 49, 75, 61, 51, 92, 79, 68, 110, 100, 90, 110, 100, 91, 162, 159, 152, 203, 205, 199, 202, 203, 198, 196, 195, 192, 179, 173, 166, 165, 154, 140, 137, 121, 103, 48, 55, 68, 89, 82, 75, 110, 101, 92, 103, 94, 86, 84, 78, 71, 66, 59, 52, 66, 57, 49, 69, 60, 54, 102, 97, 94, 137, 139, 137, 150, 142, 136, 132, 142, 117, 93, 135, 97, 119, 112, 100, 107, 95, 84, 130, 116, 102, 155, 151, 144, 115, 110, 100, 106, 98, 89, 120, 111, 99, 121, 113, 102, 115, 106, 95, 124, 116, 105, 150, 147, 140, 144, 142, 136, 163, 162, 154, 149, 146, 136, 144, 140, 131, 182, 182, 177, 219, 221, 220, 204, 201, 197, 147, 138, 132, 52, 61, 65, 73, 66, 61, 125, 120, 113, 127, 124, 121, 104, 97, 92, 81, 71, 63, 79, 72, 64, 80, 74, 67, 123, 121, 117, 193, 198, 196, 193, 190, 186, 132, 130, 111, 101, 113, 87, 119, 111, 100, 125, 113, 99, 171, 158, 142, 185, 184, 177, 154, 150, 143, 130, 120, 107, 135, 126, 112, 158, 156, 147, 168, 164, 154, 180, 178, 169, 182, 183, 176, 145, 142, 131, 132, 125, 111, 121, 110, 95, 128, 120, 104, 195, 195, 187, 243, 245, 242, 236, 238, 238, 172, 166, 164, 79, 97, 95, 50, 44, 41, 109, 98, 86, 136, 126, 116, 120, 112, 102, 86, 78, 69, 74, 67, 61, 83, 75, 69, 130, 120, 112, 182, 181, 177, 211, 213, 212, 170, 165, 160, 131, 119, 111, 135, 128, 117, 156, 145, 130, 194, 186, 174, 198, 199, 194, 179, 179, 174, 144, 136, 126, 129, 116, 99, 159, 154, 142, 183, 183, 177, 190, 191, 185, 156, 152, 141, 125, 116, 101, 111, 100, 85, 127, 113, 96, 158, 150, 131, 222, 222, 216, 247, 247, 245, 241, 244, 245, 186, 178, 172, 106, 135, 133, 54, 63, 63, 58, 50, 46, 116, 103, 96, 114, 104, 96, 82, 72, 63, 71, 63, 57, 104, 100, 95, 140, 137, 121, 149, 140, 127, 182, 180, 176, 198, 196, 193, 192, 188, 184, 175, 170, 164, 167, 159, 148, 198, 196, 188, 193, 194, 188, 162, 161, 155, 149, 140, 132, 135, 120, 104, 157, 147, 131, 192, 191, 183, 159, 155, 146, 107, 96, 84, 97, 85, 71, 92, 79, 65, 120, 106, 87, 179, 171, 154, 241, 241, 237, 249, 249, 247, 243, 245, 248, 185, 174, 163, 114, 146, 145, 99, 124, 122, 50, 55, 54, 59, 50, 47, 87, 75, 66, 71, 62, 52, 81, 67, 61, 91, 100, 80, 72, 135, 93, 88, 83, 64, 146, 137, 135, 199, 186, 185, 203, 185, 181, 217, 213, 210, 207, 205, 201, 188, 184, 176, 155, 145, 133, 105, 91, 82, 132, 117, 102, 161, 154, 142, 169, 166, 156, 169, 166, 156, 115, 104, 90, 72, 59, 50, 71, 59, 51, 88, 77, 63, 114, 101, 82, 180, 172, 157, 244, 244, 240, 243, 244, 243, 215, 213, 213, 152, 135, 121, 113, 143, 141, 118, 148, 146, 95, 119, 116, 47, 54, 52, 54, 48, 44, 63, 55, 46, 85, 72, 62, 109, 105, 85, 88, 115, 85, 110, 99, 85, 152, 145, 143, 193, 177, 176, 206, 178, 173, 215, 208, 204, 197, 198, 194, 157, 147, 133, 108, 89, 74, 93, 72, 56, 124, 104, 81, 156, 147, 135, 169, 167, 159, 117, 109, 99, 77, 63, 51, 62, 50, 43, 73, 63, 54, 93, 82, 69, 110, 98, 81, 169, 163, 150, 237, 240, 237, 226, 227, 229, 147, 134, 127, 116, 93, 71, 114, 143, 141, 116, 144, 143, 118, 148, 145, 89, 113, 109, 55, 57, 55, 65, 55, 47, 80, 70, 60, 110, 102, 90, 114, 105, 95, 127, 118, 109, 173, 172, 169, 208, 203, 203, 201, 178, 177, 194, 174, 173, 169, 165, 157, 129, 115, 95, 91, 69, 52, 97, 75, 57, 110, 86, 62, 114, 95, 76, 123, 111, 94, 90, 77, 64, 66, 51, 42, 56, 43, 37, 73, 63, 52, 104, 94, 80, 113, 102, 87, 161, 157, 146, 211, 214, 214, 175, 173, 172, 110, 91, 77, 112, 87, 60, 112, 141, 139, 113, 142, 140, 117, 146, 145, 113, 144, 141, 66, 75, 74, 57, 47, 41, 77, 66, 57, 95, 84, 74, 107, 97, 87, 141, 134, 124, 174, 172, 169, 206, 210, 210, 193, 181, 181, 188, 167, 168, 153, 142, 135, 104, 84, 65, 80, 59, 42, 95, 72, 53, 105, 81, 58, 97, 75, 53, 92, 74, 56, 86, 71, 58, 73, 59, 51, 66, 54, 46, 74, 63, 53, 103, 93, 81, 109, 99, 89, 135, 131, 121, 148, 148, 143, 130, 125, 119, 102, 85, 72, 104, 79, 56, 108, 137, 135, 109, 138, 136, 112, 140, 138, 114, 143, 140, 70, 84, 83, 42, 35, 32, 82, 69, 59, 100, 87, 75, 128, 118, 106, 168, 161, 150, 176, 176, 170, 183, 183, 181, 179, 171, 170, 173, 165, 163, 120, 108, 97, 90, 69, 51, 74, 53, 39, 89, 66, 48, 106, 83, 58, 96, 74, 52, 81, 64, 48, 76, 63, 53, 74, 61, 51, 81, 69, 59, 89, 78, 66, 94, 85, 73, 100, 92, 83, 120, 115, 106, 136, 134, 124, 121, 116, 109, 91, 76, 69, 85, 64, 48, 102, 131, 130, 104, 133, 132, 106, 136, 134, 110, 143, 140, 83, 106, 104, 37, 36, 35, 64, 52, 46, 100, 85, 74, 149, 136, 123, 181, 175, 164, 190, 190, 184, 194, 195, 191, 180, 179, 174, 126, 120, 111, 93, 78, 63, 95, 76, 57, 73, 53, 40, 83, 61, 45, 100, 78, 55, 93, 71, 50, 79, 62, 46, 67, 54, 46, 73, 61, 51, 90, 80, 67, 100, 90, 77, 104, 95, 81, 130, 124, 109, 131, 126, 115, 125, 121, 113, 113, 106, 98, 79, 64, 57, 78, 58, 43, 97, 93, 100, 94, 104, 107, 94, 111, 111, 96, 118, 117, 91, 115, 114, 44, 53, 53, 49, 45, 45, 98, 91, 85, 159, 154, 146, 202, 203, 196, 209, 211, 206, 210, 213, 208, 164, 161, 153, 93, 80, 66, 96, 80, 63, 104, 88, 69, 75, 56, 43, 81, 61, 47, 99, 79, 58, 98, 76, 54, 87, 70, 53, 68, 55, 48, 45, 34, 31, 59, 51, 43, 86, 77, 66, 120, 111, 97, 147, 143, 127, 144, 138, 126, 101, 91, 85, 100, 91, 82, 88, 75, 63, 80, 58, 43, 124, 76, 96, 115, 66, 87, 115, 69, 89, 104, 69, 85, 80, 56, 68, 61, 45, 53, 53, 43, 47, 58, 52, 53, 107, 106, 107, 184, 185, 184, 202, 204, 200, 196, 198, 192, 131, 122, 114, 86, 70, 56, 97, 83, 68, 104, 90, 72, 78, 59, 47, 81, 63, 51, 99, 83, 65, 105, 87, 66, 88, 72, 57, 69, 58, 51, 48, 35, 31, 42, 30, 26, 58, 47, 40, 105, 96, 86, 119, 112, 104, 135, 129, 117, 127, 120, 110, 89, 79, 72, 96, 85, 74, 74, 55, 43, 118, 60, 81, 142, 83, 106, 152, 96, 120, 153, 99, 122, 143, 91, 113, 131, 80, 100, 123, 62, 81, 113, 42, 65, 100, 38, 60, 130, 102, 112, 170, 170, 171, 163, 164, 162, 110, 100, 92, 82, 67, 54, 94, 81, 68, 98, 85, 72, 77, 61, 50, 82, 65, 54, 100, 86, 70, 103, 86, 67, 68, 53, 44, 54, 45, 40, 86, 77, 63, 85, 74, 62, 94, 85, 74, 80, 70, 64, 79, 68, 61, 139, 132, 117, 125, 120, 110, 91, 83, 77, 90, 79, 71, 71, 56, 47, 88, 91, 92, 124, 118, 121, 129, 94, 106, 140, 94, 110, 149, 143, 147, 152, 157, 159, 159, 158, 160, 155, 130, 138, 166, 102, 124, 164, 95, 121, 167, 156, 167, 163, 165, 172, 131, 132, 133, 86, 83, 78, 86, 77, 68, 89, 78, 68, 80, 68, 60, 77, 62, 53, 89, 75, 61, 102, 89, 76, 62, 52, 45, 61, 49, 42, 75, 64, 57, 76, 68, 60, 91, 85, 72, 96, 89, 76, 102, 94, 80, 118, 110, 96, 82, 73, 69, 91, 82, 76, 82, 71, 65, 66, 52, 46, 108, 120, 124, 135, 148, 151, 147, 158, 159, 142, 150, 150, 132, 140, 138, 133, 142, 138, 151, 163, 157, 163, 173, 169, 159, 150, 154, 160, 120, 136, 154, 141, 151, 165, 170, 177, 151, 156, 163, 127, 132, 136, 96, 94, 92, 80, 73, 67, 80, 71, 64, 80, 71, 65, 111, 107, 103, 151, 153, 153, 136, 140, 143, 115, 115, 112, 89, 85, 82, 67, 59, 55, 65, 54, 50, 64, 55, 51, 69, 62, 58, 67, 58, 54, 68, 59, 54, 91, 84, 77, 65, 56, 53, 53, 40, 36, 44, 42, 47, 84, 88, 95, 134, 143, 149, 163, 173, 176, 160, 172, 171, 159, 168, 167, 164, 169, 166, 174, 180, 178, 178, 184, 185, 181, 189, 188, 154, 156, 158, 150, 154, 161, 149, 155, 162, 136, 143, 147, 120, 123, 126, 95, 95, 96, 93, 95, 96, 122, 127, 131, 165, 174, 180, 174, 184, 193, 175, 184, 191, 178, 187, 191, 166, 173, 178, 136, 141, 142, 124, 123, 122, 107, 104, 100, 85, 79, 76, 70, 63, 58, 82, 74, 67, 81, 73, 68, 54, 46, 45, 46, 33, 31, 30, 32, 32, 21, 16, 20, 59, 57, 65, 117, 123, 127, 163, 173, 175, 207, 215, 217, 223, 231, 231, 215, 224, 223, 217, 226, 227, 213, 225, 225, 166, 174, 176, 144, 151, 156, 142, 150, 157, 125, 131, 138, 107, 110, 117, 96, 100, 105, 101, 109, 118, 131, 140, 148, 146, 155, 163, 133, 142, 151, 141, 149, 158, 152, 160, 167, 160, 167, 176, 163, 170, 177, 161, 168, 173, 149, 154, 158, 129, 132, 136, 112, 114, 117, 110, 109, 111, 90, 87, 88, 60, 56, 58, 55, 48, 46, 72, 91, 91, 43, 47, 49, 19, 13, 17, 37, 32, 36, 99, 98, 101, 180, 182, 185, 213, 222, 224, 193, 198, 202, 161, 166, 171, 138, 143, 147, 122, 126, 133, 134, 141, 149, 149, 158, 167, 128, 138, 146, 97, 107, 115, 83, 89, 97, 64, 67, 74, 128, 133, 132, 123, 125, 128, 72, 64, 72, 78, 76, 82, 85, 88, 93, 89, 91, 95, 95, 96, 103, 122, 126, 134, 122, 129, 138, 129, 137, 150, 129, 137, 152, 120, 126, 141, 102, 107, 119, 94, 98, 107, 109, 113, 116, 88, 113, 116, 83, 103, 104, 55, 64, 65, 35, 29, 30, 66, 47, 41, 100, 86, 86, 125, 130, 136, 87, 87, 94, 65, 65, 71, 68, 69, 74, 75, 77, 83, 79, 85, 89, 84, 94, 97, 80, 97, 97, 77, 95, 96, 76, 82, 89, 70, 70, 73, 140, 143, 142, 99, 99, 101, 89, 78, 80, 115, 111, 111, 121, 124, 121, 116, 116, 112, 104, 106, 105, 128, 136, 138, 137, 146, 154, 144, 154, 168, 147, 158, 176, 138, 148, 168, 125, 137, 151, 135, 146, 153, 145, 155, 159, 86, 110, 113, 89, 113, 114, 83, 105, 106, 70, 64, 60, 81, 52, 36, 94, 73, 67, 80, 79, 87, 31, 29, 34, 57, 61, 64, 66, 71, 74, 68, 76, 78, 66, 75, 77, 61, 70, 72, 58, 70, 68, 52, 63, 62, 53, 54, 61, 62, 64, 71, 79, 80, 86, 111, 116, 116, 148, 154, 151, 154, 160, 157, 173, 178, 173, 184, 188, 183, 148, 149, 148, 99, 97, 98, 93, 92, 96, 93, 92, 101, 113, 120, 132, 134, 145, 154, 158, 169, 176, 166, 177, 183, 157, 170, 178], \"height\": 32, \"channels\": 3, \"width\": 32, \"type\": \"image\", \"id\": 5072483792}, {\"format\": \"raw\", \"value\": [215, 219, 231, 215, 219, 232, 216, 219, 233, 214, 217, 230, 213, 216, 230, 209, 215, 226, 208, 217, 221, 206, 215, 219, 201, 208, 217, 197, 203, 218, 194, 200, 221, 199, 204, 221, 142, 128, 131, 76, 46, 46, 81, 55, 57, 147, 136, 139, 160, 149, 154, 152, 141, 144, 156, 147, 150, 159, 148, 154, 160, 153, 157, 164, 156, 160, 160, 154, 158, 158, 151, 156, 159, 149, 157, 159, 150, 156, 157, 147, 154, 156, 145, 153, 152, 142, 149, 147, 137, 143, 141, 131, 136, 142, 131, 136, 215, 219, 231, 215, 219, 232, 215, 219, 232, 213, 217, 229, 212, 216, 229, 212, 214, 217, 206, 215, 217, 203, 211, 219, 197, 205, 218, 194, 201, 218, 196, 201, 218, 178, 180, 192, 92, 56, 55, 77, 50, 49, 112, 98, 100, 173, 162, 169, 162, 153, 157, 160, 152, 154, 164, 157, 159, 164, 155, 160, 165, 158, 163, 165, 155, 162, 167, 160, 166, 164, 155, 162, 160, 148, 155, 153, 142, 149, 160, 150, 159, 162, 154, 162, 157, 151, 156, 152, 143, 148, 139, 129, 133, 135, 124, 128, 215, 219, 231, 215, 219, 231, 214, 218, 230, 214, 218, 229, 214, 217, 227, 216, 211, 207, 207, 213, 215, 200, 207, 218, 195, 202, 220, 193, 201, 216, 196, 202, 216, 125, 101, 101, 79, 49, 48, 88, 67, 67, 157, 147, 152, 168, 160, 166, 164, 155, 158, 170, 163, 168, 169, 164, 166, 169, 160, 165, 169, 162, 167, 167, 159, 167, 166, 156, 164, 166, 155, 163, 163, 153, 158, 160, 150, 157, 160, 151, 158, 159, 150, 156, 157, 148, 155, 155, 145, 152, 152, 141, 147, 143, 131, 135, 216, 220, 232, 215, 219, 231, 214, 218, 230, 214, 218, 230, 214, 217, 227, 216, 213, 207, 205, 210, 216, 199, 203, 219, 196, 202, 219, 194, 204, 220, 164, 155, 162, 89, 54, 48, 77, 52, 52, 126, 110, 113, 173, 162, 168, 167, 159, 163, 170, 162, 166, 172, 163, 168, 171, 164, 168, 171, 163, 168, 171, 162, 169, 169, 161, 167, 165, 153, 160, 165, 154, 160, 163, 153, 158, 166, 155, 162, 165, 154, 160, 155, 144, 149, 156, 144, 151, 153, 143, 151, 151, 140, 148, 143, 131, 137, 217, 221, 233, 215, 219, 231, 215, 219, 231, 215, 219, 231, 217, 219, 229, 221, 222, 219, 199, 203, 211, 195, 202, 217, 198, 202, 220, 190, 193, 206, 109, 80, 77, 78, 50, 49, 94, 72, 74, 163, 154, 155, 166, 157, 158, 169, 158, 158, 173, 163, 167, 170, 158, 161, 172, 161, 168, 173, 166, 170, 173, 163, 170, 171, 161, 164, 169, 155, 160, 170, 158, 162, 162, 151, 157, 162, 151, 157, 167, 156, 164, 164, 153, 160, 158, 147, 153, 157, 146, 151, 149, 138, 144, 143, 132, 137, 217, 221, 233, 215, 219, 231, 214, 218, 230, 213, 217, 229, 222, 224, 232, 228, 227, 233, 192, 196, 211, 196, 202, 220, 196, 209, 225, 150, 128, 133, 80, 48, 46, 76, 51, 56, 144, 129, 134, 167, 158, 161, 165, 155, 156, 173, 161, 163, 175, 164, 168, 173, 162, 168, 175, 167, 171, 175, 165, 167, 174, 162, 169, 168, 157, 159, 156, 145, 146, 171, 159, 162, 168, 157, 163, 167, 156, 163, 167, 155, 165, 168, 157, 165, 159, 147, 155, 151, 140, 144, 145, 133, 137, 149, 137, 141, 217, 221, 233, 216, 220, 232, 214, 218, 230, 215, 219, 231, 166, 167, 174, 200, 198, 206, 194, 201, 218, 194, 200, 219, 177, 173, 184, 93, 65, 61, 75, 53, 53, 120, 100, 97, 172, 162, 166, 169, 158, 161, 167, 154, 156, 177, 166, 169, 181, 171, 175, 174, 166, 173, 175, 166, 172, 171, 160, 164, 173, 163, 171, 136, 125, 129, 101, 91, 88, 155, 141, 141, 175, 164, 169, 174, 162, 170, 167, 156, 165, 165, 154, 162, 161, 150, 157, 150, 138, 143, 148, 136, 140, 147, 135, 139, 217, 221, 233, 216, 220, 232, 215, 219, 231, 217, 221, 234, 113, 108, 113, 140, 130, 127, 163, 161, 169, 144, 143, 149, 153, 139, 139, 139, 122, 116, 132, 114, 102, 164, 147, 139, 161, 150, 142, 150, 138, 130, 135, 122, 116, 152, 138, 134, 149, 132, 127, 175, 162, 161, 180, 168, 175, 176, 164, 170, 177, 171, 180, 136, 126, 130, 87, 76, 68, 137, 121, 119, 178, 168, 173, 173, 162, 169, 168, 157, 164, 163, 152, 158, 158, 146, 151, 160, 147, 155, 163, 150, 158, 160, 147, 154, 218, 220, 233, 216, 219, 232, 215, 219, 232, 208, 212, 224, 92, 82, 85, 96, 78, 69, 111, 99, 93, 129, 116, 110, 167, 156, 155, 179, 168, 171, 171, 161, 158, 157, 137, 124, 120, 103, 92, 117, 98, 86, 102, 86, 81, 127, 108, 96, 147, 122, 108, 139, 122, 116, 168, 157, 155, 155, 145, 145, 200, 199, 207, 157, 149, 147, 116, 102, 91, 150, 137, 137, 176, 166, 170, 173, 162, 168, 169, 156, 164, 159, 147, 153, 159, 146, 150, 164, 151, 158, 166, 153, 161, 159, 145, 153, 217, 219, 232, 216, 218, 231, 217, 218, 229, 193, 195, 207, 95, 79, 74, 110, 88, 80, 154, 138, 132, 181, 165, 159, 207, 200, 205, 205, 207, 219, 199, 200, 209, 159, 138, 131, 143, 118, 101, 137, 110, 93, 115, 98, 91, 118, 103, 92, 184, 166, 159, 125, 113, 114, 149, 132, 126, 117, 101, 102, 213, 214, 226, 172, 170, 179, 133, 121, 123, 157, 143, 143, 147, 131, 129, 174, 158, 166, 169, 156, 165, 162, 149, 157, 168, 156, 164, 166, 154, 162, 162, 151, 158, 158, 146, 154, 218, 220, 233, 216, 218, 232, 216, 220, 234, 174, 176, 187, 90, 73, 70, 148, 125, 109, 194, 169, 157, 215, 204, 208, 220, 221, 230, 220, 223, 231, 218, 216, 224, 174, 154, 152, 162, 140, 127, 127, 100, 84, 146, 120, 103, 147, 124, 116, 169, 145, 133, 138, 122, 113, 148, 134, 124, 123, 103, 97, 154, 143, 141, 153, 143, 144, 133, 124, 127, 151, 136, 137, 140, 119, 111, 156, 139, 134, 175, 164, 169, 175, 160, 169, 170, 156, 165, 164, 151, 158, 156, 144, 150, 158, 146, 152, 218, 220, 233, 214, 218, 231, 216, 219, 233, 173, 164, 169, 134, 106, 90, 184, 152, 131, 205, 184, 171, 218, 214, 222, 221, 222, 232, 225, 226, 235, 218, 220, 231, 187, 172, 169, 156, 136, 127, 140, 116, 102, 147, 115, 98, 126, 99, 84, 171, 135, 105, 105, 81, 71, 132, 112, 105, 95, 80, 75, 130, 118, 114, 140, 127, 123, 128, 115, 114, 140, 125, 124, 159, 143, 139, 126, 113, 112, 165, 156, 163, 159, 144, 150, 163, 147, 148, 161, 145, 149, 161, 145, 149, 163, 148, 151, 217, 219, 232, 214, 218, 230, 218, 216, 229, 152, 133, 128, 169, 146, 138, 194, 172, 157, 201, 173, 151, 210, 197, 193, 215, 213, 223, 216, 218, 226, 203, 201, 209, 157, 129, 111, 145, 112, 92, 141, 114, 99, 133, 104, 90, 114, 84, 72, 183, 145, 108, 135, 106, 86, 143, 110, 95, 110, 95, 93, 200, 199, 207, 153, 147, 148, 129, 112, 111, 119, 102, 100, 144, 131, 127, 152, 145, 156, 188, 186, 198, 108, 92, 95, 99, 83, 78, 160, 140, 141, 176, 157, 168, 153, 134, 136, 218, 220, 233, 217, 219, 232, 209, 210, 222, 141, 114, 104, 212, 201, 202, 212, 206, 208, 184, 150, 123, 193, 164, 138, 202, 187, 180, 209, 207, 215, 200, 193, 196, 146, 111, 92, 141, 107, 88, 120, 97, 84, 86, 68, 60, 117, 87, 74, 163, 126, 95, 140, 103, 84, 139, 102, 78, 169, 141, 129, 218, 219, 228, 131, 123, 125, 104, 88, 81, 98, 83, 76, 122, 105, 97, 143, 138, 161, 209, 208, 226, 154, 141, 139, 99, 80, 73, 153, 127, 129, 156, 139, 144, 135, 116, 116, 219, 221, 234, 216, 218, 232, 204, 204, 219, 154, 126, 110, 213, 204, 206, 217, 214, 217, 170, 136, 110, 157, 118, 88, 170, 135, 108, 197, 174, 168, 170, 142, 125, 143, 103, 83, 122, 90, 75, 98, 76, 68, 68, 55, 55, 76, 59, 56, 118, 84, 71, 111, 79, 63, 107, 76, 63, 158, 121, 101, 196, 192, 200, 115, 101, 104, 106, 90, 83, 103, 87, 77, 128, 107, 97, 111, 97, 127, 206, 205, 220, 206, 209, 220, 157, 142, 127, 113, 91, 76, 121, 105, 101, 164, 149, 152, 220, 221, 234, 215, 218, 232, 208, 209, 223, 159, 136, 126, 213, 211, 218, 204, 202, 208, 140, 115, 102, 132, 104, 88, 148, 112, 93, 160, 124, 97, 136, 92, 70, 122, 86, 69, 97, 73, 60, 101, 74, 64, 84, 63, 60, 67, 53, 52, 82, 62, 57, 92, 71, 60, 82, 59, 53, 145, 116, 103, 125, 116, 120, 105, 91, 87, 92, 77, 76, 94, 76, 73, 119, 96, 84, 131, 113, 124, 207, 209, 223, 217, 219, 236, 157, 150, 150, 127, 115, 114, 138, 122, 119, 173, 160, 166, 219, 221, 234, 218, 223, 235, 173, 164, 171, 129, 109, 105, 219, 218, 228, 186, 179, 188, 102, 86, 85, 96, 82, 77, 108, 88, 76, 136, 106, 91, 129, 93, 74, 105, 73, 61, 79, 60, 55, 76, 57, 54, 73, 55, 54, 74, 55, 53, 71, 57, 55, 88, 70, 68, 84, 66, 63, 79, 66, 70, 76, 65, 70, 99, 87, 86, 67, 53, 55, 102, 84, 78, 118, 94, 83, 150, 132, 131, 211, 204, 220, 213, 184, 201, 202, 191, 208, 177, 176, 188, 146, 130, 133, 170, 157, 160, 219, 221, 233, 211, 210, 220, 116, 88, 81, 132, 117, 117, 226, 229, 238, 171, 156, 160, 104, 84, 77, 96, 80, 77, 95, 83, 77, 105, 87, 80, 119, 94, 77, 95, 70, 60, 72, 56, 54, 68, 54, 55, 75, 56, 53, 77, 60, 55, 78, 65, 63, 95, 79, 77, 79, 65, 65, 51, 40, 52, 84, 74, 81, 94, 83, 86, 74, 60, 60, 127, 109, 101, 125, 102, 92, 140, 120, 118, 207, 199, 211, 216, 198, 214, 195, 188, 197, 183, 180, 187, 146, 132, 139, 169, 153, 163, 222, 227, 240, 167, 132, 134, 121, 81, 62, 101, 85, 78, 172, 167, 178, 163, 155, 154, 127, 115, 110, 130, 116, 114, 125, 113, 112, 111, 95, 90, 117, 98, 88, 79, 63, 58, 63, 51, 52, 71, 56, 55, 88, 69, 62, 90, 72, 69, 90, 75, 73, 101, 87, 79, 70, 58, 61, 55, 45, 56, 109, 100, 107, 68, 56, 59, 86, 72, 72, 133, 116, 110, 130, 109, 101, 113, 94, 92, 210, 210, 217, 221, 228, 244, 177, 167, 158, 122, 107, 95, 140, 123, 124, 168, 151, 161, 201, 189, 197, 125, 74, 57, 137, 92, 70, 99, 73, 63, 69, 58, 67, 117, 113, 124, 138, 134, 143, 123, 113, 115, 124, 112, 112, 152, 136, 134, 114, 97, 90, 76, 60, 57, 64, 52, 54, 82, 68, 66, 96, 80, 73, 104, 90, 85, 77, 66, 65, 68, 56, 58, 65, 55, 62, 63, 53, 64, 83, 74, 81, 78, 66, 67, 117, 104, 103, 120, 105, 102, 90, 71, 67, 113, 97, 98, 222, 223, 233, 211, 207, 217, 150, 131, 121, 127, 101, 90, 145, 122, 128, 165, 147, 150, 149, 103, 96, 116, 73, 57, 133, 95, 73, 122, 85, 68, 65, 55, 58, 73, 68, 72, 122, 118, 130, 121, 114, 121, 107, 95, 98, 136, 121, 117, 102, 87, 81, 75, 59, 57, 77, 64, 66, 92, 79, 77, 87, 74, 70, 100, 89, 86, 79, 69, 66, 66, 50, 55, 51, 39, 48, 63, 53, 60, 89, 78, 82, 104, 92, 93, 94, 83, 81, 93, 80, 81, 127, 110, 113, 162, 149, 155, 199, 193, 203, 141, 122, 124, 104, 83, 79, 151, 126, 128, 168, 146, 155, 160, 140, 144, 118, 60, 49, 113, 84, 73, 131, 92, 70, 126, 97, 72, 90, 77, 71, 70, 62, 64, 74, 67, 71, 91, 85, 89, 87, 77, 78, 103, 90, 86, 78, 66, 65, 74, 61, 61, 88, 75, 76, 98, 85, 83, 93, 82, 83, 87, 76, 78, 87, 73, 70, 83, 64, 58, 52, 39, 44, 60, 49, 53, 81, 69, 71, 93, 80, 80, 117, 104, 102, 164, 150, 155, 188, 172, 179, 188, 174, 182, 171, 157, 162, 134, 117, 120, 143, 124, 126, 172, 153, 156, 169, 151, 157, 167, 147, 154, 100, 62, 57, 106, 83, 73, 111, 83, 67, 118, 97, 89, 167, 154, 161, 153, 145, 150, 118, 109, 114, 78, 69, 74, 87, 78, 80, 86, 76, 76, 77, 65, 65, 76, 62, 60, 87, 72, 71, 125, 112, 111, 158, 149, 153, 174, 164, 169, 158, 145, 152, 119, 105, 106, 75, 62, 65, 86, 75, 79, 131, 117, 121, 169, 155, 157, 174, 158, 161, 180, 164, 168, 182, 165, 170, 185, 169, 172, 189, 174, 177, 190, 174, 181, 186, 169, 179, 178, 159, 165, 174, 158, 161, 178, 161, 167, 90, 71, 67, 84, 66, 64, 92, 73, 70, 163, 145, 150, 187, 175, 181, 191, 181, 188, 191, 179, 189, 181, 170, 178, 174, 165, 171, 159, 148, 153, 128, 117, 121, 139, 128, 129, 163, 151, 155, 189, 177, 183, 191, 179, 185, 191, 178, 186, 193, 180, 191, 191, 180, 188, 171, 160, 163, 175, 162, 165, 187, 170, 174, 188, 171, 177, 185, 168, 174, 186, 170, 175, 186, 169, 175, 187, 171, 175, 186, 169, 174, 186, 170, 176, 185, 170, 177, 180, 161, 167, 176, 159, 163, 176, 159, 166, 75, 61, 60, 70, 60, 54, 138, 124, 124, 195, 182, 186, 195, 183, 184, 195, 183, 187, 191, 179, 184, 186, 174, 175, 189, 177, 179, 195, 184, 188, 194, 183, 188, 194, 182, 185, 196, 184, 190, 195, 183, 191, 195, 182, 189, 191, 179, 184, 189, 178, 184, 191, 179, 185, 193, 180, 183, 186, 169, 172, 183, 165, 169, 186, 168, 174, 190, 173, 179, 188, 172, 177, 188, 171, 176, 192, 175, 181, 193, 177, 182, 191, 175, 181, 188, 173, 179, 181, 163, 167, 181, 164, 168, 182, 165, 173, 65, 57, 56, 126, 114, 115, 191, 176, 178, 195, 183, 184, 201, 187, 193, 202, 188, 197, 200, 186, 192, 192, 175, 177, 189, 172, 176, 196, 181, 188, 193, 179, 185, 193, 178, 182, 195, 180, 187, 199, 186, 194, 197, 185, 191, 193, 182, 188, 191, 178, 183, 190, 175, 180, 190, 173, 177, 187, 168, 172, 182, 165, 168, 183, 165, 168, 184, 167, 170, 186, 170, 173, 184, 168, 172, 186, 170, 176, 188, 173, 179, 186, 171, 176, 185, 168, 173, 180, 161, 165, 184, 167, 171, 185, 168, 177, 87, 78, 82, 186, 171, 175, 202, 186, 189, 203, 192, 196, 201, 188, 194, 199, 184, 191, 200, 188, 192, 203, 191, 194, 195, 180, 184, 199, 185, 192, 199, 186, 193, 198, 186, 193, 200, 186, 192, 199, 187, 193, 199, 188, 192, 195, 183, 187, 193, 176, 181, 191, 173, 178, 192, 174, 180, 188, 171, 175, 184, 168, 171, 180, 163, 166, 182, 163, 165, 187, 171, 172, 187, 170, 172, 186, 169, 174, 185, 169, 176, 186, 170, 176, 185, 168, 174, 182, 163, 167, 187, 170, 177, 185, 169, 178, 150, 139, 143, 195, 180, 182, 196, 182, 181, 203, 190, 191, 204, 189, 193, 204, 186, 191, 195, 178, 179, 198, 185, 186, 198, 183, 187, 203, 189, 196, 202, 190, 196, 199, 188, 194, 202, 188, 195, 196, 183, 189, 197, 184, 188, 191, 177, 181, 193, 176, 182, 194, 180, 185, 195, 180, 186, 195, 180, 184, 192, 177, 181, 186, 168, 171, 183, 164, 166, 186, 169, 172, 190, 172, 175, 191, 173, 176, 186, 170, 175, 187, 170, 176, 185, 168, 174, 186, 167, 171, 189, 171, 178, 189, 173, 181, 190, 177, 181, 200, 183, 186, 202, 187, 188, 204, 189, 194, 203, 190, 195, 203, 190, 193, 199, 183, 182, 197, 182, 181, 203, 189, 192, 204, 191, 197, 199, 186, 191, 196, 182, 186, 203, 189, 195, 198, 183, 188, 196, 181, 185, 195, 179, 184, 196, 182, 186, 198, 186, 190, 199, 184, 190, 193, 178, 183, 190, 175, 178, 187, 169, 170, 190, 171, 173, 190, 174, 178, 190, 172, 176, 184, 167, 169, 185, 169, 174, 189, 172, 178, 186, 168, 174, 187, 168, 171, 185, 166, 171, 191, 173, 180, 200, 186, 189, 201, 185, 187, 201, 184, 188, 206, 191, 198, 204, 192, 197, 203, 191, 195, 199, 185, 185, 197, 180, 179, 202, 188, 191, 204, 191, 196, 202, 187, 190, 195, 180, 181, 198, 184, 190, 198, 183, 187, 199, 184, 186, 194, 179, 181, 192, 180, 181, 193, 178, 181, 193, 176, 181, 190, 172, 176, 184, 167, 169, 185, 167, 167, 187, 170, 170, 190, 175, 178, 191, 172, 177, 192, 174, 179, 193, 176, 182, 193, 176, 182, 186, 168, 174, 181, 162, 164, 177, 157, 160, 183, 164, 168, 204, 190, 194, 198, 182, 182, 195, 177, 175, 203, 188, 188, 203, 189, 191, 203, 186, 190, 201, 181, 184, 195, 177, 174, 203, 189, 191, 204, 191, 197, 202, 188, 191, 193, 178, 178, 192, 177, 181, 197, 182, 186, 199, 185, 187, 192, 176, 176, 184, 168, 168, 189, 171, 172, 188, 168, 170, 187, 168, 169, 185, 166, 166, 185, 166, 166, 186, 169, 169, 190, 173, 176, 192, 174, 179, 195, 179, 185, 195, 179, 186, 194, 178, 184, 187, 169, 175, 182, 163, 165, 177, 158, 160, 187, 169, 173, 206, 192, 195, 203, 187, 187, 195, 176, 172, 196, 175, 172, 198, 182, 180, 195, 178, 175, 193, 172, 169, 191, 171, 166, 198, 182, 181, 201, 187, 194, 199, 185, 190, 190, 173, 174, 190, 175, 175, 194, 179, 185, 193, 179, 182, 186, 168, 167, 187, 167, 167, 187, 167, 168, 187, 167, 169, 186, 166, 164, 186, 166, 165, 183, 163, 163, 188, 169, 169, 191, 172, 174, 193, 177, 183, 196, 182, 188, 193, 178, 185, 192, 176, 184, 187, 170, 176, 188, 170, 173, 192, 173, 177, 194, 178, 187], \"height\": 32, \"channels\": 3, \"width\": 32, \"type\": \"image\", \"id\": 5072483664}, {\"format\": \"raw\", \"value\": [228, 222, 236, 224, 213, 222, 212, 206, 207, 209, 202, 202, 210, 198, 199, 212, 199, 196, 203, 187, 181, 134, 116, 104, 137, 111, 87, 165, 132, 98, 170, 137, 99, 166, 132, 99, 181, 137, 124, 209, 189, 185, 199, 194, 195, 197, 188, 189, 199, 188, 186, 196, 186, 184, 193, 183, 181, 191, 181, 179, 185, 180, 176, 190, 171, 172, 173, 134, 142, 183, 148, 154, 179, 148, 152, 174, 139, 145, 174, 145, 149, 161, 141, 143, 159, 146, 143, 141, 129, 123, 87, 73, 71, 50, 43, 44, 233, 228, 241, 224, 213, 223, 215, 209, 211, 212, 205, 205, 212, 200, 201, 217, 204, 201, 182, 167, 161, 108, 90, 77, 145, 120, 94, 170, 137, 101, 176, 143, 103, 173, 143, 108, 162, 138, 114, 160, 150, 133, 186, 180, 172, 204, 192, 190, 200, 188, 187, 197, 187, 185, 194, 184, 182, 192, 182, 180, 188, 180, 177, 189, 173, 173, 193, 170, 172, 184, 170, 169, 178, 169, 167, 176, 162, 161, 171, 157, 156, 166, 151, 150, 162, 148, 147, 125, 113, 110, 58, 42, 40, 62, 52, 48, 234, 229, 242, 224, 213, 222, 218, 212, 213, 217, 210, 210, 216, 205, 205, 222, 208, 206, 186, 171, 165, 108, 90, 76, 148, 123, 94, 173, 141, 102, 184, 151, 108, 173, 146, 106, 150, 132, 101, 99, 88, 60, 104, 95, 77, 179, 166, 160, 205, 194, 191, 200, 190, 188, 197, 187, 185, 195, 185, 183, 193, 183, 181, 191, 179, 177, 188, 175, 174, 182, 175, 172, 176, 174, 169, 172, 167, 163, 171, 162, 159, 167, 156, 154, 164, 151, 150, 144, 134, 132, 82, 65, 61, 99, 85, 73, 237, 231, 245, 226, 215, 224, 220, 214, 215, 221, 214, 214, 220, 208, 209, 225, 211, 209, 178, 162, 157, 97, 79, 65, 147, 123, 92, 175, 143, 102, 188, 155, 109, 164, 136, 95, 145, 120, 89, 132, 112, 77, 72, 58, 32, 95, 84, 73, 173, 163, 160, 206, 195, 194, 200, 190, 188, 198, 189, 187, 196, 186, 184, 193, 182, 180, 188, 178, 176, 187, 176, 174, 184, 173, 171, 179, 169, 166, 175, 164, 162, 170, 160, 157, 164, 154, 153, 161, 151, 152, 107, 90, 85, 112, 97, 79, 242, 238, 250, 231, 221, 230, 227, 220, 222, 224, 216, 216, 222, 212, 212, 223, 212, 210, 132, 118, 112, 87, 69, 52, 152, 128, 95, 175, 145, 103, 186, 156, 109, 178, 151, 106, 172, 142, 108, 166, 138, 105, 118, 98, 68, 66, 52, 37, 99, 89, 80, 191, 181, 174, 205, 196, 191, 201, 191, 189, 199, 189, 187, 195, 185, 184, 191, 181, 180, 191, 176, 176, 190, 173, 174, 186, 170, 171, 179, 166, 167, 173, 163, 161, 166, 158, 156, 166, 156, 157, 110, 92, 86, 118, 101, 80, 242, 239, 249, 232, 227, 234, 232, 224, 229, 227, 216, 216, 223, 215, 214, 215, 211, 208, 108, 99, 89, 103, 84, 62, 155, 130, 97, 166, 140, 103, 175, 149, 107, 173, 148, 103, 156, 131, 98, 141, 116, 93, 138, 115, 84, 96, 74, 53, 72, 59, 40, 150, 140, 122, 210, 198, 189, 203, 191, 188, 201, 188, 187, 198, 185, 185, 195, 183, 182, 193, 180, 180, 189, 175, 177, 183, 171, 175, 178, 168, 169, 174, 164, 163, 169, 159, 159, 170, 157, 157, 111, 91, 84, 112, 94, 73, 239, 237, 248, 230, 225, 233, 233, 224, 231, 227, 217, 217, 224, 217, 215, 206, 201, 196, 94, 83, 70, 118, 98, 73, 150, 125, 92, 148, 124, 92, 138, 113, 83, 117, 93, 63, 83, 63, 40, 73, 53, 37, 98, 79, 47, 92, 73, 47, 111, 97, 76, 143, 131, 112, 190, 177, 166, 205, 192, 187, 202, 188, 184, 201, 187, 182, 195, 181, 177, 183, 170, 165, 184, 171, 168, 184, 173, 172, 178, 166, 166, 175, 163, 163, 171, 159, 159, 171, 157, 158, 114, 93, 86, 110, 92, 71, 238, 235, 248, 221, 215, 226, 223, 214, 223, 227, 217, 219, 224, 218, 215, 202, 196, 190, 97, 81, 65, 130, 107, 79, 150, 126, 94, 148, 124, 97, 132, 107, 86, 94, 71, 52, 72, 55, 38, 69, 52, 38, 98, 85, 50, 111, 97, 66, 155, 142, 121, 150, 136, 118, 123, 108, 94, 141, 127, 116, 141, 126, 116, 138, 124, 113, 123, 108, 97, 107, 93, 82, 136, 122, 112, 167, 154, 146, 179, 166, 159, 176, 163, 160, 172, 159, 159, 171, 157, 157, 115, 95, 87, 111, 93, 71, 233, 230, 246, 214, 208, 221, 214, 205, 217, 228, 218, 222, 224, 218, 215, 203, 194, 186, 107, 86, 66, 135, 109, 79, 149, 127, 97, 140, 118, 91, 135, 112, 91, 99, 78, 55, 86, 68, 45, 89, 71, 53, 124, 109, 71, 138, 122, 90, 173, 157, 137, 148, 132, 114, 78, 61, 44, 62, 45, 29, 71, 54, 37, 82, 65, 47, 72, 55, 37, 72, 55, 37, 84, 69, 51, 112, 99, 82, 163, 149, 137, 176, 161, 156, 172, 158, 157, 169, 155, 156, 116, 95, 88, 113, 94, 73, 225, 221, 240, 213, 207, 222, 210, 200, 214, 226, 217, 222, 224, 218, 216, 196, 185, 176, 130, 106, 82, 118, 90, 59, 124, 104, 76, 123, 104, 74, 130, 111, 79, 116, 97, 60, 110, 89, 52, 118, 95, 68, 136, 115, 75, 150, 128, 98, 163, 143, 126, 132, 114, 96, 77, 59, 40, 66, 48, 28, 85, 67, 44, 86, 69, 45, 85, 68, 44, 95, 78, 54, 94, 78, 54, 86, 72, 49, 100, 85, 69, 141, 124, 117, 169, 153, 152, 168, 154, 154, 113, 92, 85, 111, 93, 71, 220, 217, 236, 207, 203, 218, 203, 197, 211, 220, 216, 222, 222, 217, 214, 173, 157, 143, 146, 115, 85, 135, 100, 67, 105, 80, 56, 110, 90, 67, 118, 102, 74, 125, 108, 71, 131, 109, 73, 132, 109, 85, 140, 120, 87, 167, 149, 111, 158, 141, 111, 123, 105, 80, 76, 58, 37, 84, 65, 47, 102, 83, 60, 91, 72, 46, 91, 73, 46, 112, 94, 67, 97, 81, 55, 80, 67, 43, 76, 62, 43, 92, 78, 63, 141, 126, 116, 174, 154, 152, 113, 90, 84, 105, 88, 67, 210, 207, 225, 199, 197, 211, 200, 198, 209, 215, 215, 221, 214, 209, 204, 156, 136, 115, 151, 116, 79, 152, 112, 76, 102, 71, 49, 109, 90, 73, 119, 105, 86, 116, 99, 72, 132, 113, 85, 122, 102, 87, 133, 117, 93, 162, 150, 104, 174, 160, 118, 129, 112, 81, 82, 64, 41, 92, 73, 58, 102, 82, 61, 98, 77, 50, 105, 85, 58, 114, 93, 66, 101, 84, 59, 75, 62, 39, 80, 67, 44, 87, 74, 51, 111, 96, 76, 171, 146, 140, 115, 93, 87, 104, 87, 66, 206, 204, 220, 211, 209, 221, 209, 208, 217, 219, 217, 219, 214, 205, 197, 151, 129, 107, 155, 121, 84, 152, 114, 77, 88, 60, 36, 105, 88, 70, 137, 124, 107, 150, 135, 111, 129, 114, 89, 123, 106, 89, 137, 121, 97, 138, 124, 83, 140, 125, 87, 114, 97, 67, 86, 68, 44, 94, 76, 58, 97, 77, 54, 102, 82, 54, 114, 94, 67, 123, 103, 76, 103, 85, 59, 87, 72, 48, 97, 82, 58, 107, 92, 68, 105, 88, 67, 148, 126, 117, 117, 96, 88, 104, 89, 69, 207, 205, 218, 215, 213, 222, 224, 223, 230, 227, 221, 220, 181, 167, 155, 142, 118, 94, 160, 125, 89, 160, 124, 86, 94, 69, 40, 99, 85, 65, 165, 155, 139, 187, 175, 156, 161, 152, 130, 132, 120, 101, 156, 141, 115, 158, 142, 107, 129, 112, 80, 97, 80, 52, 98, 81, 56, 99, 81, 58, 93, 74, 49, 101, 81, 54, 127, 108, 81, 130, 110, 83, 119, 100, 73, 122, 105, 79, 122, 105, 80, 127, 110, 84, 109, 91, 68, 118, 100, 85, 108, 91, 79, 103, 91, 72, 200, 199, 210, 203, 202, 209, 204, 203, 207, 204, 194, 189, 134, 115, 99, 136, 110, 84, 164, 129, 93, 163, 129, 89, 113, 91, 57, 86, 75, 53, 162, 154, 139, 197, 187, 171, 196, 192, 172, 193, 186, 164, 194, 180, 153, 158, 140, 109, 121, 103, 75, 93, 76, 50, 106, 89, 63, 106, 89, 63, 104, 85, 58, 113, 93, 66, 128, 108, 81, 119, 99, 72, 122, 102, 75, 138, 118, 90, 145, 125, 97, 134, 114, 86, 121, 102, 75, 97, 81, 62, 82, 67, 53, 105, 95, 76, 188, 186, 195, 193, 191, 197, 191, 190, 193, 172, 160, 152, 123, 101, 83, 136, 108, 82, 162, 128, 93, 157, 126, 86, 131, 112, 76, 77, 68, 45, 101, 93, 80, 184, 176, 164, 203, 201, 184, 214, 209, 185, 208, 195, 167, 175, 157, 130, 102, 83, 59, 89, 72, 48, 105, 88, 62, 107, 90, 62, 119, 100, 72, 123, 103, 76, 123, 103, 76, 106, 86, 59, 117, 97, 69, 142, 121, 92, 150, 130, 101, 125, 105, 76, 113, 93, 66, 91, 76, 55, 75, 63, 48, 107, 99, 81, 200, 194, 199, 198, 192, 196, 210, 204, 208, 160, 144, 138, 122, 99, 82, 136, 111, 86, 157, 128, 96, 144, 120, 85, 115, 102, 73, 90, 78, 60, 60, 48, 41, 81, 69, 64, 127, 120, 102, 173, 165, 142, 155, 145, 118, 122, 110, 82, 100, 85, 59, 93, 78, 52, 98, 83, 56, 101, 86, 59, 125, 109, 78, 136, 119, 86, 126, 109, 79, 115, 97, 70, 124, 106, 78, 129, 111, 81, 139, 123, 94, 114, 99, 72, 94, 81, 56, 91, 78, 59, 86, 76, 59, 99, 92, 76, 212, 203, 206, 209, 199, 203, 218, 209, 212, 167, 154, 151, 113, 96, 84, 118, 100, 82, 133, 112, 87, 117, 100, 75, 100, 88, 69, 97, 85, 70, 78, 65, 56, 87, 73, 65, 131, 118, 97, 149, 136, 111, 126, 113, 85, 117, 104, 74, 113, 100, 72, 88, 75, 49, 94, 81, 54, 107, 94, 67, 133, 119, 87, 149, 133, 100, 127, 111, 81, 113, 97, 71, 123, 106, 79, 122, 106, 76, 127, 113, 85, 109, 98, 72, 82, 72, 49, 89, 77, 60, 91, 82, 65, 95, 89, 75, 214, 205, 206, 210, 201, 202, 189, 180, 181, 143, 137, 134, 105, 98, 90, 104, 95, 83, 103, 91, 75, 103, 90, 76, 101, 90, 81, 100, 90, 76, 91, 82, 64, 130, 119, 99, 158, 141, 117, 165, 149, 122, 151, 134, 104, 138, 122, 90, 98, 86, 59, 72, 62, 36, 93, 82, 56, 117, 106, 81, 134, 122, 91, 150, 136, 104, 120, 106, 77, 112, 97, 72, 124, 109, 83, 127, 112, 84, 128, 116, 89, 123, 114, 90, 91, 84, 63, 83, 74, 57, 92, 85, 70, 93, 89, 77, 190, 182, 180, 156, 148, 146, 127, 119, 117, 111, 108, 103, 109, 107, 100, 108, 104, 95, 113, 105, 96, 112, 103, 96, 107, 99, 91, 107, 100, 86, 90, 84, 64, 97, 90, 66, 117, 104, 81, 123, 109, 84, 130, 117, 88, 119, 106, 76, 91, 80, 54, 84, 75, 51, 98, 89, 65, 111, 101, 77, 130, 120, 91, 138, 127, 97, 111, 100, 73, 116, 104, 82, 125, 112, 88, 123, 111, 84, 134, 124, 100, 118, 112, 90, 102, 96, 77, 88, 82, 66, 91, 86, 73, 91, 88, 78, 124, 117, 112, 116, 108, 104, 117, 109, 105, 120, 116, 107, 118, 116, 105, 122, 115, 106, 125, 115, 108, 125, 116, 108, 120, 115, 104, 116, 112, 97, 101, 98, 79, 89, 85, 65, 105, 98, 80, 111, 104, 84, 111, 105, 82, 105, 99, 73, 109, 102, 79, 112, 105, 82, 120, 113, 90, 123, 116, 93, 126, 118, 91, 131, 122, 93, 123, 113, 88, 127, 117, 96, 144, 133, 111, 123, 112, 87, 114, 106, 84, 100, 96, 75, 94, 90, 72, 97, 92, 78, 94, 91, 80, 91, 91, 83, 115, 108, 104, 122, 116, 111, 124, 118, 112, 121, 116, 106, 123, 118, 106, 131, 122, 113, 133, 122, 115, 137, 129, 119, 137, 133, 118, 135, 131, 116, 132, 129, 113, 132, 129, 114, 135, 132, 118, 137, 134, 119, 139, 137, 118, 137, 135, 114, 135, 130, 109, 135, 129, 108, 137, 131, 110, 135, 129, 108, 135, 129, 105, 134, 127, 102, 127, 119, 97, 140, 132, 113, 142, 133, 114, 102, 95, 73, 94, 89, 69, 95, 92, 73, 103, 100, 84, 104, 100, 89, 100, 97, 88, 97, 97, 90, 126, 121, 121, 124, 120, 116, 123, 119, 113, 123, 118, 110, 129, 122, 113, 134, 127, 118, 135, 128, 120, 140, 133, 123, 139, 133, 120, 139, 133, 120, 140, 134, 122, 139, 133, 120, 142, 137, 121, 140, 135, 119, 138, 133, 116, 138, 133, 116, 139, 134, 114, 140, 135, 115, 140, 135, 115, 134, 129, 109, 141, 136, 117, 138, 132, 115, 134, 128, 111, 134, 128, 111, 122, 117, 101, 99, 96, 81, 96, 93, 78, 99, 97, 82, 109, 106, 94, 107, 104, 98, 102, 99, 94, 103, 100, 95, 131, 127, 127, 128, 124, 121, 124, 122, 115, 130, 125, 117, 136, 129, 121, 129, 122, 114, 130, 123, 115, 138, 131, 122, 137, 131, 119, 134, 128, 116, 134, 128, 116, 146, 140, 127, 149, 143, 127, 149, 143, 127, 142, 136, 120, 135, 129, 113, 140, 135, 117, 143, 138, 119, 144, 139, 120, 143, 138, 119, 144, 138, 122, 133, 127, 113, 132, 126, 112, 136, 130, 116, 125, 121, 107, 120, 118, 105, 124, 122, 109, 121, 119, 106, 115, 113, 101, 112, 109, 104, 110, 107, 102, 107, 104, 99, 133, 129, 130, 133, 129, 126, 130, 127, 121, 124, 118, 111, 131, 124, 116, 132, 125, 117, 132, 124, 117, 135, 128, 119, 141, 135, 123, 150, 144, 132, 148, 142, 130, 153, 147, 135, 151, 145, 130, 150, 144, 128, 147, 141, 125, 147, 141, 125, 142, 136, 120, 139, 134, 118, 143, 137, 122, 148, 142, 126, 146, 140, 126, 134, 128, 115, 124, 118, 106, 126, 120, 107, 127, 123, 111, 127, 124, 113, 127, 125, 114, 125, 123, 112, 125, 122, 112, 120, 117, 111, 121, 118, 113, 118, 115, 110, 136, 132, 132, 137, 133, 130, 129, 126, 120, 124, 118, 111, 132, 125, 116, 135, 128, 120, 138, 131, 123, 139, 132, 122, 145, 138, 127, 152, 146, 134, 146, 140, 128, 142, 136, 123, 140, 134, 119, 136, 130, 114, 140, 134, 118, 139, 133, 118, 133, 127, 114, 130, 124, 111, 133, 127, 114, 139, 134, 121, 139, 133, 122, 134, 127, 117, 133, 127, 116, 134, 127, 116, 132, 127, 118, 135, 132, 124, 134, 131, 124, 136, 133, 125, 130, 127, 119, 123, 120, 115, 122, 119, 114, 119, 116, 111, 130, 126, 127, 143, 139, 136, 136, 133, 127, 135, 130, 122, 137, 130, 122, 142, 135, 127, 145, 138, 130, 143, 137, 127, 138, 132, 120, 136, 130, 118, 133, 127, 115, 134, 128, 115, 134, 128, 112, 130, 124, 108, 128, 122, 107, 129, 123, 108, 127, 121, 109, 132, 125, 114, 133, 127, 116, 134, 128, 116, 140, 133, 124, 140, 133, 124, 140, 133, 124, 134, 127, 119, 134, 128, 121, 138, 135, 129, 138, 135, 129, 140, 137, 131, 131, 128, 122, 130, 127, 122, 129, 126, 121, 117, 115, 110, 116, 114, 112, 142, 140, 136, 146, 145, 140, 141, 137, 129, 149, 142, 133, 147, 140, 131, 143, 135, 126, 138, 130, 121, 134, 128, 117, 130, 123, 112, 130, 124, 113, 130, 124, 113, 131, 127, 114, 132, 128, 115, 136, 132, 118, 133, 129, 115, 134, 130, 118, 135, 131, 120, 137, 133, 122, 140, 136, 125, 147, 142, 133, 142, 137, 130, 135, 130, 123, 137, 132, 125, 137, 133, 126, 136, 133, 126, 136, 133, 126, 133, 130, 123, 127, 125, 118, 126, 127, 122, 132, 133, 129, 130, 131, 126, 107, 108, 103, 127, 128, 123, 138, 139, 135, 141, 137, 130, 143, 137, 127, 134, 128, 118, 132, 125, 115, 131, 124, 114, 134, 128, 118, 137, 130, 121, 141, 135, 125, 134, 128, 118, 135, 132, 121, 148, 146, 134, 142, 140, 128, 139, 137, 126, 150, 148, 137, 154, 152, 140, 150, 148, 136, 151, 148, 137, 152, 149, 141, 146, 143, 137, 136, 133, 127, 133, 130, 123, 136, 133, 126, 138, 135, 128, 137, 135, 127, 137, 134, 127, 140, 139, 133, 138, 141, 140, 142, 146, 145, 139, 143, 143, 108, 108, 107, 119, 119, 117, 125, 125, 123, 134, 132, 126, 134, 130, 122, 131, 127, 119, 132, 128, 120, 133, 129, 121, 139, 135, 126, 145, 141, 133, 148, 144, 136, 146, 142, 134, 152, 149, 140, 156, 153, 144, 150, 148, 139, 151, 148, 139, 155, 152, 143, 158, 155, 147, 155, 152, 144, 151, 149, 140, 146, 143, 137, 144, 141, 137, 141, 138, 133, 142, 138, 134, 144, 142, 137, 147, 146, 142, 143, 143, 138, 139, 139, 134, 146, 146, 144, 146, 149, 154, 144, 147, 153, 134, 137, 143, 119, 119, 119, 122, 122, 122, 124, 124, 124, 137, 136, 133, 135, 133, 127, 138, 137, 131, 142, 141, 135, 144, 142, 137, 146, 144, 138, 139, 138, 132, 147, 146, 140, 151, 149, 143, 156, 153, 147, 153, 150, 144, 151, 148, 143, 151, 148, 143, 151, 148, 142, 149, 145, 140, 146, 143, 137, 146, 143, 137, 149, 145, 142, 148, 144, 143, 146, 142, 140, 153, 149, 147, 150, 148, 147, 147, 147, 148, 140, 140, 141, 136, 136, 137, 151, 151, 154, 147, 149, 158, 130, 133, 142, 110, 113, 122, 130, 129, 132, 130, 129, 132, 125, 125, 127, 138, 138, 136, 136, 136, 132, 141, 142, 138, 150, 151, 147, 156, 156, 152, 158, 158, 154, 143, 143, 139, 136, 136, 132, 144, 143, 140, 148, 144, 141, 152, 148, 145, 161, 158, 155, 170, 166, 163, 168, 164, 161, 159, 156, 153, 158, 154, 152, 157, 153, 151, 158, 154, 154, 164, 160, 161, 153, 149, 149, 144, 140, 140, 139, 137, 140, 133, 134, 139, 126, 127, 132, 128, 129, 134, 138, 140, 145, 103, 107, 111, 60, 63, 67, 43, 47, 51], \"height\": 32, \"channels\": 3, \"width\": 32, \"type\": \"image\", \"id\": 5072484048}, {\"format\": \"raw\", \"value\": [217, 220, 205, 221, 227, 218, 195, 209, 205, 156, 176, 170, 150, 163, 149, 128, 138, 125, 124, 129, 121, 164, 165, 157, 228, 228, 224, 235, 239, 239, 214, 225, 223, 176, 196, 195, 196, 223, 228, 204, 228, 240, 216, 229, 237, 217, 217, 215, 235, 232, 228, 236, 239, 238, 236, 237, 239, 234, 236, 241, 216, 227, 234, 193, 214, 223, 182, 209, 218, 180, 209, 213, 189, 223, 229, 200, 233, 242, 212, 235, 238, 224, 236, 232, 227, 231, 230, 226, 230, 229, 226, 230, 229, 222, 227, 226, 222, 235, 221, 228, 241, 232, 188, 206, 204, 133, 155, 150, 140, 155, 131, 128, 136, 123, 148, 151, 151, 136, 140, 134, 188, 191, 186, 234, 237, 240, 211, 220, 220, 146, 162, 160, 181, 203, 202, 203, 220, 224, 170, 179, 182, 162, 164, 161, 233, 232, 227, 245, 246, 244, 242, 242, 246, 238, 242, 249, 227, 240, 250, 213, 236, 250, 202, 231, 247, 199, 230, 241, 203, 236, 247, 209, 239, 251, 220, 240, 246, 228, 238, 239, 230, 234, 233, 229, 233, 232, 229, 233, 232, 227, 231, 230, 207, 220, 198, 221, 233, 216, 187, 201, 196, 129, 148, 143, 111, 129, 106, 121, 130, 120, 145, 146, 150, 120, 125, 120, 109, 115, 108, 143, 146, 150, 145, 151, 152, 121, 131, 129, 129, 143, 138, 131, 140, 136, 130, 136, 135, 151, 159, 159, 221, 229, 230, 231, 239, 241, 231, 239, 240, 229, 241, 243, 223, 243, 249, 214, 243, 253, 206, 238, 250, 210, 236, 247, 217, 240, 250, 220, 239, 247, 228, 236, 240, 233, 236, 235, 231, 235, 234, 230, 234, 233, 229, 233, 232, 228, 232, 231, 166, 178, 147, 185, 198, 176, 179, 194, 189, 133, 155, 160, 124, 146, 140, 126, 137, 132, 118, 119, 117, 109, 112, 106, 76, 82, 75, 73, 77, 75, 76, 80, 81, 73, 78, 77, 75, 80, 75, 105, 107, 98, 151, 156, 152, 159, 176, 183, 163, 188, 200, 168, 193, 205, 175, 199, 204, 180, 206, 210, 183, 212, 219, 183, 217, 225, 177, 212, 221, 169, 195, 206, 180, 200, 209, 192, 204, 209, 209, 213, 213, 231, 230, 228, 231, 235, 234, 229, 233, 232, 229, 233, 232, 228, 232, 231, 132, 151, 120, 134, 156, 137, 146, 174, 176, 162, 195, 214, 175, 203, 219, 136, 149, 151, 111, 112, 103, 114, 113, 104, 84, 88, 80, 62, 67, 59, 77, 79, 78, 72, 73, 74, 73, 72, 69, 119, 116, 106, 154, 160, 157, 157, 185, 198, 148, 189, 213, 146, 188, 212, 149, 188, 208, 153, 190, 208, 155, 191, 209, 158, 193, 211, 159, 194, 212, 152, 187, 204, 159, 186, 200, 181, 199, 207, 200, 210, 214, 223, 229, 230, 231, 236, 235, 229, 233, 232, 228, 232, 231, 227, 231, 230, 119, 143, 123, 127, 159, 156, 159, 199, 213, 173, 218, 241, 160, 193, 213, 103, 117, 119, 88, 89, 82, 98, 95, 92, 88, 85, 81, 70, 72, 64, 80, 80, 75, 81, 79, 76, 84, 82, 78, 129, 126, 116, 152, 158, 155, 147, 172, 188, 126, 163, 188, 111, 147, 169, 104, 137, 155, 99, 129, 147, 98, 125, 146, 102, 127, 150, 122, 146, 170, 141, 172, 189, 142, 168, 179, 153, 173, 178, 190, 213, 218, 209, 231, 235, 219, 229, 227, 227, 235, 231, 226, 233, 229, 225, 230, 227, 139, 168, 168, 169, 208, 227, 165, 213, 238, 151, 200, 224, 129, 163, 175, 91, 102, 100, 89, 91, 88, 95, 94, 95, 89, 83, 81, 80, 79, 73, 76, 74, 67, 83, 81, 74, 99, 99, 93, 113, 113, 102, 121, 127, 123, 100, 117, 130, 63, 84, 101, 58, 77, 87, 68, 85, 91, 48, 65, 73, 38, 53, 65, 41, 54, 70, 41, 55, 73, 63, 81, 91, 88, 102, 104, 81, 94, 94, 97, 122, 127, 182, 211, 217, 214, 232, 233, 212, 227, 225, 222, 234, 229, 222, 231, 224, 168, 206, 226, 158, 202, 232, 141, 188, 220, 138, 184, 210, 117, 145, 155, 95, 102, 97, 92, 95, 87, 104, 107, 101, 96, 95, 86, 87, 86, 80, 66, 65, 60, 80, 79, 73, 100, 99, 93, 113, 112, 102, 116, 121, 115, 69, 81, 88, 16, 29, 38, 32, 40, 42, 50, 61, 63, 53, 66, 72, 42, 55, 60, 40, 53, 59, 30, 43, 50, 27, 38, 43, 56, 61, 62, 77, 82, 80, 57, 71, 75, 87, 109, 117, 184, 207, 217, 208, 228, 233, 208, 225, 224, 216, 229, 222, 153, 201, 228, 135, 185, 215, 128, 178, 204, 124, 168, 190, 99, 121, 130, 89, 92, 85, 105, 108, 98, 103, 111, 100, 95, 97, 84, 101, 98, 90, 100, 100, 96, 102, 102, 98, 104, 101, 94, 122, 121, 109, 122, 126, 117, 85, 91, 91, 15, 20, 19, 56, 56, 50, 56, 60, 58, 47, 55, 56, 49, 58, 57, 57, 68, 65, 42, 53, 50, 19, 23, 23, 30, 29, 28, 53, 53, 50, 59, 63, 65, 47, 59, 68, 94, 118, 134, 185, 210, 222, 208, 231, 235, 191, 209, 206, 135, 189, 213, 122, 177, 200, 119, 171, 193, 115, 158, 178, 100, 119, 128, 108, 109, 102, 103, 104, 94, 92, 98, 88, 94, 94, 80, 112, 108, 99, 162, 164, 161, 132, 134, 131, 99, 95, 88, 122, 120, 107, 118, 121, 109, 76, 77, 71, 20, 19, 14, 69, 66, 56, 80, 80, 74, 60, 63, 60, 45, 50, 46, 54, 63, 56, 58, 68, 61, 30, 32, 28, 21, 20, 17, 29, 29, 27, 39, 39, 40, 54, 59, 66, 43, 62, 74, 121, 148, 162, 202, 231, 241, 199, 222, 225, 128, 182, 207, 113, 168, 193, 108, 161, 190, 102, 146, 176, 98, 119, 131, 108, 109, 103, 98, 97, 90, 83, 86, 79, 98, 94, 83, 107, 102, 93, 200, 204, 201, 151, 156, 154, 103, 99, 91, 108, 104, 89, 116, 117, 102, 72, 71, 62, 22, 22, 14, 48, 48, 38, 79, 76, 68, 64, 62, 55, 48, 50, 45, 32, 38, 34, 48, 57, 53, 52, 58, 53, 28, 33, 30, 21, 26, 26, 26, 28, 31, 43, 45, 47, 36, 47, 49, 89, 113, 124, 180, 211, 227, 210, 237, 250, 123, 173, 204, 112, 162, 195, 108, 155, 194, 104, 144, 184, 115, 136, 153, 104, 108, 108, 127, 126, 121, 133, 133, 127, 123, 117, 106, 118, 113, 103, 207, 209, 209, 202, 205, 207, 137, 135, 130, 112, 110, 96, 118, 116, 102, 72, 71, 61, 24, 25, 18, 34, 36, 29, 70, 67, 57, 68, 63, 53, 54, 54, 46, 34, 38, 35, 30, 37, 37, 55, 62, 59, 50, 58, 56, 23, 30, 31, 23, 28, 30, 29, 32, 31, 47, 52, 48, 96, 115, 122, 149, 178, 194, 194, 224, 242, 95, 138, 170, 89, 130, 162, 89, 126, 161, 87, 119, 154, 110, 132, 153, 129, 139, 148, 142, 143, 140, 168, 167, 157, 136, 132, 119, 135, 131, 122, 156, 154, 157, 224, 224, 231, 200, 203, 203, 130, 130, 122, 106, 103, 93, 63, 62, 53, 28, 29, 22, 32, 33, 27, 70, 65, 55, 78, 72, 60, 55, 55, 43, 39, 42, 35, 24, 29, 28, 39, 45, 43, 66, 72, 70, 30, 35, 34, 24, 30, 29, 24, 29, 26, 54, 60, 56, 100, 113, 117, 113, 136, 148, 180, 208, 228, 46, 83, 107, 35, 69, 93, 36, 65, 90, 30, 58, 84, 64, 89, 113, 159, 175, 188, 153, 160, 161, 166, 168, 161, 150, 151, 142, 147, 147, 142, 122, 123, 129, 211, 213, 222, 220, 225, 227, 142, 144, 138, 105, 101, 94, 71, 70, 64, 41, 42, 36, 29, 29, 24, 62, 58, 50, 90, 85, 72, 68, 67, 55, 48, 51, 43, 31, 35, 34, 27, 31, 30, 67, 70, 69, 41, 45, 43, 21, 25, 24, 23, 27, 25, 62, 68, 65, 74, 86, 88, 80, 99, 110, 123, 148, 166, 123, 160, 181, 99, 134, 155, 82, 116, 137, 71, 105, 128, 94, 125, 151, 176, 198, 216, 193, 206, 212, 182, 190, 190, 172, 179, 178, 135, 142, 143, 134, 140, 147, 195, 201, 209, 199, 205, 207, 135, 135, 131, 92, 89, 82, 80, 78, 73, 54, 54, 50, 30, 30, 26, 40, 37, 31, 85, 81, 71, 91, 90, 78, 70, 71, 64, 43, 45, 43, 21, 23, 21, 52, 55, 52, 56, 58, 56, 26, 28, 26, 34, 38, 35, 57, 65, 62, 51, 62, 64, 71, 87, 95, 74, 94, 107, 166, 206, 231, 154, 193, 218, 140, 181, 205, 117, 158, 183, 125, 160, 187, 171, 197, 217, 214, 229, 240, 204, 216, 221, 194, 206, 209, 173, 185, 190, 166, 176, 182, 175, 181, 185, 142, 146, 145, 104, 103, 99, 79, 76, 71, 71, 69, 65, 56, 55, 53, 38, 37, 36, 32, 29, 27, 57, 55, 48, 96, 95, 86, 95, 95, 89, 59, 59, 57, 24, 25, 22, 40, 41, 38, 58, 60, 56, 37, 39, 35, 48, 52, 49, 45, 54, 52, 42, 53, 54, 64, 76, 81, 85, 98, 106, 134, 167, 192, 140, 175, 199, 144, 181, 204, 138, 177, 201, 143, 180, 205, 168, 196, 214, 215, 232, 242, 218, 230, 238, 210, 223, 230, 202, 216, 223, 189, 200, 203, 126, 131, 129, 87, 86, 81, 86, 82, 77, 79, 75, 72, 68, 67, 64, 53, 53, 51, 38, 38, 38, 34, 33, 33, 32, 31, 26, 57, 57, 49, 96, 94, 89, 83, 82, 79, 34, 35, 30, 29, 30, 25, 49, 50, 45, 51, 52, 47, 72, 76, 72, 47, 57, 57, 51, 61, 62, 71, 80, 83, 100, 108, 112, 113, 134, 154, 110, 133, 152, 115, 139, 156, 134, 161, 179, 129, 163, 187, 141, 168, 186, 198, 215, 225, 224, 236, 245, 221, 233, 242, 214, 228, 235, 141, 149, 150, 64, 65, 60, 69, 65, 56, 79, 74, 68, 81, 77, 74, 73, 71, 69, 54, 53, 53, 36, 36, 37, 39, 39, 41, 41, 41, 38, 30, 29, 23, 64, 61, 56, 94, 91, 88, 54, 55, 50, 28, 29, 24, 40, 41, 36, 67, 68, 62, 108, 111, 107, 68, 78, 79, 53, 63, 63, 78, 85, 85, 115, 119, 120, 178, 205, 226, 158, 182, 201, 137, 148, 158, 183, 190, 198, 171, 199, 223, 166, 193, 211, 178, 196, 206, 217, 232, 244, 220, 231, 244, 179, 185, 193, 95, 96, 96, 73, 70, 64, 71, 69, 59, 73, 72, 65, 78, 77, 75, 78, 77, 77, 52, 52, 52, 33, 33, 36, 35, 36, 41, 49, 50, 54, 33, 32, 31, 48, 45, 41, 77, 73, 69, 74, 73, 72, 43, 43, 41, 39, 39, 35, 74, 74, 68, 131, 135, 130, 95, 107, 107, 39, 48, 44, 49, 55, 50, 109, 115, 111, 187, 221, 246, 179, 210, 233, 171, 188, 202, 192, 201, 211, 181, 206, 228, 180, 202, 218, 166, 182, 189, 207, 220, 231, 203, 212, 224, 126, 130, 134, 97, 96, 93, 73, 71, 63, 55, 55, 46, 53, 54, 48, 58, 58, 56, 58, 58, 58, 27, 27, 28, 37, 37, 40, 42, 44, 48, 35, 38, 41, 36, 36, 35, 50, 48, 44, 69, 67, 60, 80, 80, 78, 65, 65, 64, 44, 44, 40, 80, 81, 74, 117, 121, 115, 105, 114, 112, 66, 72, 67, 47, 52, 47, 101, 110, 107, 168, 209, 233, 163, 203, 230, 167, 199, 222, 167, 193, 212, 178, 202, 222, 176, 193, 204, 138, 147, 152, 171, 179, 186, 189, 198, 203, 109, 115, 112, 78, 79, 71, 60, 59, 50, 70, 71, 63, 62, 63, 58, 35, 36, 33, 51, 52, 51, 33, 34, 35, 44, 44, 47, 50, 52, 53, 42, 45, 43, 40, 41, 37, 52, 53, 47, 68, 69, 61, 82, 84, 81, 82, 85, 81, 39, 41, 36, 50, 52, 46, 51, 54, 49, 49, 51, 48, 45, 47, 43, 28, 34, 33, 70, 83, 88, 153, 197, 225, 146, 191, 222, 146, 189, 221, 151, 188, 217, 199, 223, 240, 207, 218, 226, 136, 138, 141, 90, 94, 98, 147, 156, 159, 109, 118, 112, 78, 80, 71, 127, 127, 118, 166, 168, 162, 130, 133, 128, 45, 47, 44, 49, 51, 50, 58, 60, 60, 36, 37, 39, 50, 51, 51, 40, 42, 39, 32, 35, 31, 58, 62, 56, 71, 75, 69, 70, 75, 72, 71, 77, 75, 18, 24, 21, 8, 13, 11, 8, 12, 11, 10, 12, 11, 12, 15, 15, 5, 14, 19, 51, 69, 82, 142, 184, 216, 136, 179, 213, 134, 177, 214, 139, 179, 214, 190, 216, 234, 211, 221, 228, 158, 158, 160, 36, 40, 44, 65, 76, 80, 120, 129, 129, 107, 111, 106, 168, 169, 163, 167, 170, 165, 148, 153, 148, 85, 90, 86, 33, 37, 35, 49, 53, 53, 40, 43, 45, 45, 47, 47, 40, 42, 42, 30, 33, 33, 68, 74, 72, 64, 72, 69, 39, 47, 47, 33, 41, 43, 7, 15, 19, 6, 13, 18, 6, 14, 20, 12, 19, 27, 14, 23, 31, 17, 31, 44, 85, 108, 129, 132, 172, 208, 129, 167, 203, 127, 165, 204, 126, 164, 201, 123, 151, 171, 108, 119, 129, 90, 89, 94, 24, 30, 35, 25, 38, 45, 64, 73, 81, 78, 82, 84, 143, 144, 141, 136, 140, 135, 128, 134, 129, 89, 94, 90, 49, 53, 52, 44, 48, 48, 45, 49, 51, 36, 38, 41, 35, 36, 40, 42, 46, 49, 62, 69, 72, 33, 42, 46, 22, 31, 36, 18, 27, 34, 12, 20, 30, 15, 23, 35, 16, 27, 41, 22, 37, 54, 27, 42, 58, 41, 60, 79, 116, 143, 168, 123, 161, 200, 120, 157, 194, 117, 154, 193, 116, 152, 190, 92, 122, 148, 67, 87, 103, 58, 68, 78, 34, 45, 52, 43, 55, 66, 37, 46, 58, 27, 33, 41, 75, 79, 80, 83, 88, 86, 77, 83, 81, 68, 72, 72, 51, 55, 57, 36, 42, 44, 29, 35, 40, 26, 31, 39, 22, 26, 36, 31, 38, 47, 38, 48, 57, 26, 38, 47, 28, 38, 52, 28, 39, 53, 21, 33, 49, 29, 41, 57, 31, 45, 65, 34, 52, 75, 39, 58, 81, 58, 82, 104, 128, 157, 181, 113, 152, 192, 109, 147, 186, 107, 145, 184, 106, 143, 182, 106, 139, 174, 98, 127, 152, 70, 92, 108, 70, 86, 98, 75, 86, 100, 36, 47, 59, 26, 36, 45, 28, 37, 41, 21, 29, 30, 20, 26, 28, 26, 30, 36, 24, 30, 37, 18, 26, 33, 15, 25, 34, 17, 26, 41, 19, 29, 45, 21, 32, 47, 31, 44, 59, 34, 49, 64, 34, 47, 67, 30, 44, 65, 29, 45, 65, 48, 66, 85, 50, 69, 90, 41, 60, 85, 49, 72, 96, 84, 113, 135, 142, 175, 196, 104, 143, 182, 101, 139, 178, 99, 137, 176, 97, 134, 174, 95, 132, 170, 87, 120, 149, 72, 98, 118, 90, 109, 126, 81, 96, 112, 36, 49, 62, 35, 46, 57, 43, 53, 61, 28, 38, 43, 24, 34, 41, 19, 29, 41, 17, 28, 41, 18, 32, 45, 20, 35, 50, 24, 36, 57, 25, 37, 59, 29, 43, 64, 33, 49, 70, 34, 51, 72, 35, 51, 74, 31, 48, 71, 34, 53, 75, 49, 69, 91, 49, 71, 94, 42, 68, 94, 74, 104, 128, 120, 154, 177, 140, 178, 200, 95, 134, 174, 93, 131, 170, 92, 130, 169, 89, 127, 167, 85, 124, 166, 82, 118, 151, 82, 111, 135, 88, 110, 131, 80, 98, 117, 46, 62, 77, 32, 46, 60, 45, 57, 70, 46, 57, 67, 35, 48, 61, 26, 41, 59, 22, 39, 57, 22, 40, 60, 23, 42, 64, 27, 44, 70, 30, 44, 72, 31, 48, 75, 34, 54, 80, 35, 55, 81, 33, 53, 79, 32, 53, 79, 35, 57, 83, 40, 64, 89, 39, 66, 92, 52, 86, 113, 105, 141, 167, 127, 166, 191, 129, 169, 194, 89, 127, 167, 87, 125, 164, 86, 124, 163, 83, 121, 162, 78, 117, 161, 78, 114, 149, 81, 111, 136, 84, 107, 130, 83, 102, 123, 61, 79, 96, 34, 50, 67, 37, 52, 68, 49, 62, 78, 43, 58, 77, 29, 48, 69, 25, 45, 68, 26, 48, 71, 27, 50, 75, 31, 51, 79, 31, 50, 80, 33, 54, 83, 36, 60, 87, 32, 57, 84, 32, 56, 85, 34, 59, 88, 34, 60, 89, 38, 66, 94, 43, 74, 103, 79, 116, 145, 113, 152, 180, 118, 157, 185, 120, 160, 188, 82, 121, 161, 80, 118, 157, 80, 118, 157, 78, 116, 157, 75, 112, 155, 75, 109, 143, 75, 103, 127, 76, 97, 119, 81, 99, 120, 75, 95, 113, 45, 63, 82, 31, 47, 67, 35, 50, 71, 36, 52, 75, 32, 50, 73, 31, 51, 75, 29, 50, 76, 31, 54, 80, 34, 57, 84, 35, 59, 87, 36, 62, 89, 35, 62, 88, 30, 59, 86, 36, 63, 94, 38, 65, 97, 36, 65, 97, 37, 68, 99, 57, 92, 122, 97, 135, 166, 109, 146, 178, 112, 149, 180, 114, 150, 182, 75, 114, 154, 74, 112, 151, 74, 112, 151, 74, 111, 152, 71, 108, 150, 71, 103, 136, 69, 95, 120, 64, 84, 107, 59, 79, 101, 59, 81, 101, 51, 71, 92, 37, 55, 77, 33, 50, 74, 33, 50, 74, 34, 52, 76, 34, 53, 78, 32, 53, 79, 32, 55, 83, 37, 61, 89, 40, 66, 93, 37, 64, 91, 35, 63, 90, 35, 64, 91, 37, 66, 97, 36, 66, 98, 38, 69, 101, 49, 82, 114, 79, 114, 146, 101, 137, 168, 105, 141, 172, 106, 142, 173, 108, 142, 174, 69, 109, 148, 68, 106, 144, 68, 105, 144, 69, 105, 145, 65, 103, 142, 63, 94, 127, 60, 84, 111, 50, 72, 98, 42, 65, 90, 43, 66, 88, 47, 68, 91, 49, 69, 92, 45, 63, 87, 37, 56, 80, 34, 54, 79, 31, 53, 80, 31, 56, 84, 35, 61, 89, 39, 66, 96, 42, 69, 98, 45, 73, 102, 44, 72, 101, 38, 67, 96, 37, 69, 97, 40, 73, 101, 55, 88, 118, 76, 108, 140, 91, 125, 156, 97, 132, 162, 98, 133, 163, 99, 134, 164, 99, 134, 164], \"height\": 32, \"channels\": 3, \"width\": 32, \"type\": \"image\", \"id\": 5072483728}, {\"format\": \"raw\", \"value\": [51, 42, 26, 56, 47, 31, 59, 50, 34, 60, 50, 34, 63, 53, 37, 64, 55, 38, 64, 56, 37, 68, 60, 41, 71, 63, 45, 72, 64, 45, 73, 64, 46, 75, 67, 49, 77, 69, 50, 79, 70, 52, 79, 71, 53, 78, 70, 52, 71, 61, 42, 35, 21, 11, 25, 10, 4, 59, 48, 32, 118, 115, 93, 122, 123, 106, 76, 69, 51, 79, 70, 51, 78, 70, 51, 76, 68, 50, 78, 70, 52, 76, 69, 50, 70, 63, 44, 64, 58, 39, 59, 52, 35, 52, 42, 31, 57, 48, 32, 61, 52, 35, 63, 54, 38, 65, 57, 39, 65, 56, 39, 67, 58, 40, 69, 61, 43, 72, 64, 45, 76, 68, 49, 77, 69, 50, 80, 71, 53, 82, 73, 56, 82, 73, 55, 85, 76, 58, 86, 77, 60, 84, 75, 58, 80, 72, 54, 50, 37, 26, 25, 10, 3, 63, 54, 37, 119, 117, 100, 122, 119, 99, 83, 73, 55, 82, 73, 54, 79, 71, 52, 79, 70, 51, 79, 71, 52, 77, 69, 50, 70, 63, 44, 65, 56, 38, 61, 49, 32, 63, 45, 28, 61, 53, 36, 64, 56, 38, 66, 58, 41, 68, 60, 43, 70, 62, 45, 73, 65, 47, 75, 67, 49, 75, 67, 48, 78, 71, 52, 83, 75, 57, 86, 77, 60, 86, 77, 60, 85, 76, 59, 88, 80, 62, 87, 79, 62, 89, 80, 63, 89, 81, 63, 66, 55, 41, 28, 14, 7, 57, 48, 32, 112, 108, 88, 140, 134, 106, 86, 77, 57, 87, 78, 61, 81, 73, 55, 75, 62, 44, 69, 51, 35, 60, 44, 28, 64, 46, 27, 74, 51, 31, 81, 56, 36, 92, 66, 42, 65, 57, 40, 67, 60, 42, 67, 60, 41, 70, 63, 45, 76, 68, 51, 76, 69, 50, 76, 69, 50, 77, 70, 51, 82, 75, 56, 86, 79, 62, 89, 80, 63, 88, 79, 62, 90, 82, 64, 91, 84, 66, 91, 84, 66, 94, 86, 68, 94, 88, 69, 79, 72, 55, 34, 21, 12, 56, 46, 33, 118, 112, 88, 150, 137, 100, 92, 82, 65, 89, 81, 65, 86, 65, 51, 80, 53, 36, 80, 54, 34, 78, 51, 33, 92, 65, 45, 103, 76, 56, 110, 83, 63, 111, 85, 66, 68, 61, 44, 70, 64, 45, 71, 64, 45, 74, 67, 49, 77, 71, 53, 79, 72, 54, 79, 72, 54, 81, 74, 56, 88, 81, 63, 91, 84, 68, 90, 83, 66, 92, 85, 67, 96, 88, 70, 97, 90, 72, 98, 90, 73, 98, 91, 73, 97, 91, 73, 89, 82, 64, 44, 33, 19, 57, 47, 34, 122, 115, 89, 145, 137, 105, 93, 89, 70, 86, 79, 62, 93, 71, 56, 111, 82, 65, 112, 87, 73, 116, 88, 72, 116, 93, 73, 112, 91, 73, 105, 84, 65, 99, 78, 59, 71, 65, 48, 72, 67, 48, 74, 69, 50, 77, 72, 53, 81, 75, 57, 84, 77, 59, 85, 78, 60, 84, 77, 59, 90, 83, 67, 91, 83, 68, 93, 86, 69, 95, 88, 70, 98, 91, 73, 99, 92, 74, 101, 94, 76, 100, 92, 74, 97, 90, 72, 98, 90, 71, 58, 48, 32, 37, 26, 15, 106, 100, 80, 122, 123, 103, 83, 84, 71, 105, 93, 62, 111, 96, 69, 93, 85, 70, 100, 82, 55, 98, 81, 64, 94, 79, 64, 94, 79, 63, 89, 73, 56, 81, 65, 47, 73, 67, 51, 76, 71, 54, 79, 73, 56, 80, 74, 57, 83, 76, 60, 86, 79, 62, 86, 79, 61, 90, 83, 66, 92, 86, 70, 98, 90, 74, 99, 92, 74, 99, 92, 74, 102, 94, 76, 103, 96, 77, 101, 95, 76, 102, 94, 75, 103, 96, 77, 102, 95, 76, 65, 54, 38, 19, 8, 2, 62, 57, 42, 111, 105, 71, 98, 95, 72, 92, 82, 45, 110, 99, 62, 91, 90, 72, 108, 96, 60, 107, 100, 76, 96, 88, 70, 88, 78, 61, 75, 65, 51, 75, 67, 50, 77, 71, 55, 78, 72, 56, 82, 75, 59, 85, 78, 62, 87, 80, 65, 89, 82, 65, 90, 83, 65, 96, 89, 72, 98, 91, 73, 104, 97, 78, 106, 99, 80, 104, 97, 78, 107, 100, 81, 106, 99, 80, 105, 98, 79, 107, 100, 81, 109, 102, 83, 108, 101, 82, 74, 63, 48, 18, 6, 2, 41, 34, 25, 123, 116, 87, 142, 137, 106, 107, 101, 77, 73, 63, 45, 62, 56, 45, 84, 76, 59, 112, 100, 72, 117, 111, 88, 87, 76, 55, 72, 64, 51, 69, 68, 58, 79, 73, 57, 81, 75, 59, 84, 77, 61, 88, 81, 65, 88, 81, 66, 93, 86, 69, 81, 74, 59, 77, 70, 58, 94, 87, 70, 94, 87, 69, 101, 94, 76, 101, 94, 75, 104, 97, 78, 108, 100, 81, 109, 101, 82, 113, 106, 87, 110, 103, 84, 110, 103, 84, 90, 80, 63, 27, 15, 8, 29, 20, 12, 101, 94, 65, 147, 144, 115, 134, 129, 102, 102, 96, 79, 70, 66, 55, 70, 59, 49, 97, 81, 61, 114, 103, 65, 105, 95, 62, 102, 102, 84, 114, 113, 90, 83, 77, 61, 87, 81, 65, 89, 82, 66, 90, 83, 67, 91, 84, 67, 98, 91, 73, 76, 70, 56, 28, 24, 20, 40, 34, 25, 50, 42, 28, 75, 66, 49, 97, 89, 69, 107, 99, 79, 115, 107, 88, 112, 104, 85, 114, 107, 86, 115, 108, 87, 116, 110, 89, 103, 94, 76, 37, 25, 15, 23, 15, 11, 88, 84, 64, 111, 106, 86, 96, 91, 74, 103, 92, 58, 99, 94, 65, 108, 105, 86, 111, 104, 83, 123, 113, 76, 132, 128, 100, 132, 127, 97, 135, 115, 61, 86, 80, 64, 90, 84, 68, 92, 85, 69, 90, 84, 67, 91, 84, 68, 96, 89, 71, 93, 88, 69, 35, 31, 23, 27, 19, 8, 52, 41, 23, 67, 56, 36, 79, 67, 47, 84, 74, 56, 101, 93, 74, 114, 107, 88, 117, 111, 90, 118, 112, 90, 113, 108, 86, 110, 104, 83, 60, 48, 35, 38, 30, 20, 104, 104, 85, 92, 87, 68, 37, 26, 19, 35, 18, 6, 50, 40, 29, 86, 73, 44, 73, 65, 39, 103, 101, 85, 94, 85, 74, 66, 50, 36, 75, 52, 26, 87, 81, 65, 88, 81, 65, 90, 84, 67, 90, 83, 67, 93, 86, 71, 102, 95, 78, 87, 82, 65, 30, 23, 15, 50, 39, 21, 85, 71, 45, 93, 79, 55, 86, 74, 54, 80, 69, 51, 81, 71, 53, 105, 96, 75, 121, 114, 91, 121, 115, 93, 121, 115, 93, 115, 109, 87, 56, 45, 33, 63, 53, 34, 115, 107, 83, 161, 161, 148, 131, 127, 119, 61, 51, 39, 56, 48, 35, 63, 51, 36, 68, 60, 47, 79, 69, 56, 90, 69, 54, 93, 69, 54, 114, 86, 69, 88, 82, 66, 91, 84, 69, 93, 86, 71, 97, 90, 74, 98, 91, 76, 104, 97, 81, 75, 69, 55, 23, 15, 9, 56, 44, 26, 91, 76, 50, 102, 87, 60, 94, 79, 57, 88, 75, 56, 86, 74, 55, 110, 96, 71, 125, 113, 85, 127, 120, 98, 126, 121, 100, 116, 109, 88, 52, 41, 28, 52, 42, 30, 128, 121, 90, 214, 214, 201, 205, 206, 196, 124, 118, 98, 117, 112, 90, 118, 112, 92, 117, 111, 91, 111, 106, 86, 115, 105, 86, 118, 105, 86, 119, 105, 86, 90, 84, 68, 94, 87, 72, 98, 90, 76, 102, 95, 78, 102, 95, 80, 109, 103, 87, 74, 68, 55, 21, 15, 8, 52, 43, 27, 88, 75, 53, 81, 69, 48, 68, 59, 43, 72, 62, 45, 78, 65, 45, 110, 95, 68, 134, 118, 88, 131, 121, 99, 128, 124, 103, 125, 119, 98, 85, 75, 57, 66, 57, 39, 85, 80, 59, 175, 173, 162, 180, 179, 168, 122, 117, 97, 126, 120, 99, 125, 120, 98, 121, 115, 93, 122, 116, 94, 121, 114, 95, 118, 111, 93, 115, 109, 89, 94, 88, 72, 97, 91, 75, 103, 96, 80, 106, 100, 82, 107, 101, 84, 114, 108, 92, 81, 76, 61, 25, 20, 11, 38, 33, 21, 72, 61, 45, 73, 64, 47, 65, 59, 44, 77, 66, 46, 82, 70, 48, 91, 79, 56, 124, 109, 84, 149, 142, 123, 138, 136, 120, 115, 109, 87, 109, 95, 68, 76, 69, 47, 66, 61, 44, 121, 110, 86, 140, 133, 115, 126, 118, 96, 125, 119, 97, 126, 121, 98, 127, 122, 100, 125, 120, 98, 124, 119, 98, 122, 116, 97, 123, 117, 97, 101, 95, 79, 104, 98, 82, 104, 98, 83, 108, 102, 87, 113, 108, 91, 120, 116, 96, 93, 87, 68, 33, 27, 16, 35, 31, 21, 63, 55, 41, 78, 69, 51, 95, 83, 61, 89, 76, 52, 82, 72, 53, 81, 72, 54, 98, 86, 65, 140, 135, 118, 140, 135, 117, 138, 122, 86, 150, 127, 84, 94, 84, 54, 89, 85, 70, 106, 99, 72, 123, 117, 95, 124, 117, 96, 126, 120, 98, 136, 129, 107, 133, 127, 105, 130, 124, 103, 130, 126, 105, 130, 126, 106, 128, 123, 103, 101, 95, 79, 110, 104, 89, 108, 102, 88, 110, 104, 90, 115, 110, 93, 120, 116, 96, 106, 100, 81, 45, 38, 26, 40, 34, 20, 63, 54, 37, 76, 66, 47, 87, 74, 53, 108, 93, 67, 85, 75, 58, 74, 65, 50, 95, 82, 62, 107, 96, 73, 119, 106, 78, 171, 146, 99, 162, 133, 87, 103, 82, 55, 132, 128, 107, 141, 140, 123, 133, 126, 111, 125, 112, 88, 118, 105, 77, 120, 111, 91, 126, 119, 98, 128, 122, 100, 131, 126, 105, 133, 129, 108, 128, 124, 104, 108, 102, 85, 110, 104, 88, 109, 103, 88, 111, 105, 89, 117, 111, 95, 120, 115, 97, 116, 111, 93, 66, 57, 41, 43, 34, 20, 54, 44, 30, 71, 60, 44, 84, 71, 52, 98, 84, 59, 83, 72, 53, 83, 72, 53, 111, 95, 65, 108, 93, 63, 112, 101, 75, 143, 122, 85, 118, 92, 64, 96, 74, 51, 131, 120, 104, 152, 144, 124, 156, 150, 135, 124, 110, 87, 112, 90, 63, 102, 89, 71, 128, 117, 100, 140, 134, 114, 135, 128, 106, 133, 128, 108, 128, 124, 104, 106, 100, 84, 108, 102, 86, 110, 104, 88, 116, 110, 93, 124, 119, 102, 123, 119, 103, 123, 119, 102, 94, 88, 72, 38, 33, 22, 35, 29, 21, 72, 61, 42, 103, 88, 62, 90, 77, 54, 76, 67, 48, 95, 84, 62, 128, 109, 73, 109, 91, 59, 94, 86, 64, 106, 89, 71, 105, 85, 68, 155, 146, 129, 188, 178, 167, 197, 192, 177, 172, 161, 144, 136, 122, 101, 125, 107, 83, 109, 90, 78, 138, 121, 107, 157, 151, 134, 135, 130, 108, 137, 132, 111, 135, 131, 111, 108, 102, 86, 109, 104, 88, 114, 109, 92, 122, 116, 98, 124, 120, 103, 121, 117, 100, 123, 119, 102, 120, 116, 99, 57, 53, 41, 42, 33, 21, 80, 65, 41, 100, 84, 56, 91, 77, 54, 84, 73, 50, 110, 96, 67, 142, 119, 81, 112, 92, 60, 96, 86, 63, 98, 73, 53, 97, 77, 61, 194, 194, 185, 220, 217, 211, 206, 201, 197, 164, 151, 133, 136, 112, 80, 126, 97, 62, 95, 70, 52, 142, 119, 100, 165, 156, 139, 141, 137, 114, 140, 135, 115, 138, 133, 113, 113, 107, 92, 113, 107, 91, 119, 114, 96, 122, 117, 100, 124, 120, 104, 124, 120, 103, 123, 118, 102, 126, 122, 104, 93, 89, 74, 52, 42, 26, 84, 66, 38, 87, 71, 48, 90, 77, 54, 111, 95, 66, 126, 107, 73, 144, 120, 77, 114, 95, 61, 101, 87, 63, 104, 82, 58, 112, 96, 77, 129, 126, 118, 179, 174, 166, 192, 184, 171, 145, 132, 108, 126, 101, 71, 118, 85, 48, 119, 92, 61, 150, 131, 109, 151, 145, 129, 142, 138, 118, 143, 138, 118, 141, 136, 116, 114, 110, 94, 116, 111, 94, 119, 113, 96, 119, 115, 99, 127, 123, 107, 128, 124, 107, 124, 120, 103, 129, 125, 108, 126, 122, 105, 81, 73, 55, 76, 59, 32, 76, 61, 37, 88, 73, 46, 104, 85, 53, 120, 98, 61, 134, 111, 70, 98, 83, 57, 97, 85, 65, 104, 95, 77, 126, 120, 101, 119, 113, 100, 139, 131, 113, 174, 166, 147, 149, 134, 110, 155, 133, 103, 126, 113, 91, 129, 117, 98, 143, 135, 115, 138, 134, 110, 145, 139, 119, 147, 142, 122, 140, 136, 116, 123, 120, 104, 124, 121, 104, 124, 119, 103, 125, 120, 104, 128, 123, 106, 129, 126, 108, 138, 134, 117, 140, 136, 119, 137, 133, 114, 130, 124, 105, 91, 80, 57, 75, 58, 33, 96, 75, 45, 106, 84, 50, 124, 99, 60, 113, 91, 58, 81, 71, 51, 90, 83, 67, 98, 91, 75, 129, 122, 103, 133, 125, 107, 125, 107, 79, 110, 98, 81, 95, 86, 69, 144, 131, 105, 151, 144, 118, 151, 147, 126, 156, 151, 131, 144, 140, 119, 148, 143, 123, 150, 145, 125, 145, 141, 121, 123, 119, 102, 123, 119, 102, 126, 121, 104, 123, 119, 102, 127, 124, 106, 134, 131, 113, 137, 133, 116, 141, 136, 120, 144, 139, 120, 150, 145, 126, 135, 129, 109, 104, 94, 71, 98, 82, 55, 103, 79, 46, 109, 84, 49, 93, 75, 50, 75, 66, 48, 82, 76, 61, 99, 91, 74, 131, 124, 103, 114, 105, 85, 106, 89, 63, 73, 64, 53, 66, 61, 48, 105, 97, 77, 155, 147, 122, 166, 160, 138, 159, 153, 133, 152, 147, 127, 153, 148, 128, 150, 145, 125, 146, 141, 122, 125, 122, 105, 126, 122, 104, 129, 125, 107, 128, 125, 108, 134, 131, 112, 136, 132, 113, 136, 133, 113, 138, 134, 115, 146, 141, 122, 150, 145, 126, 151, 147, 127, 145, 142, 121, 128, 122, 100, 108, 97, 73, 92, 78, 53, 74, 61, 38, 58, 50, 36, 62, 56, 44, 85, 79, 63, 125, 119, 99, 96, 88, 70, 74, 65, 49, 50, 46, 40, 57, 51, 40, 82, 72, 51, 116, 105, 83, 144, 136, 118, 149, 143, 124, 155, 150, 128, 158, 153, 133, 156, 151, 131, 150, 146, 126, 129, 124, 108, 127, 123, 106, 132, 129, 112, 138, 134, 116, 141, 136, 117, 144, 139, 119, 144, 140, 120, 147, 142, 122, 150, 145, 127, 154, 149, 130, 156, 151, 132, 158, 154, 134, 161, 157, 137, 154, 149, 128, 140, 132, 109, 126, 117, 95, 94, 88, 68, 54, 48, 35, 68, 64, 52, 114, 110, 90, 84, 76, 59, 55, 48, 38, 49, 42, 32, 73, 63, 45, 92, 77, 53, 91, 72, 44, 80, 65, 44, 110, 100, 82, 161, 156, 135, 162, 157, 137, 159, 154, 134, 156, 152, 131, 128, 124, 107, 127, 123, 106, 132, 128, 111, 138, 134, 116, 143, 139, 120, 145, 142, 121, 145, 142, 123, 154, 150, 131, 152, 146, 128, 155, 150, 132, 158, 153, 134, 161, 157, 137, 165, 161, 142, 169, 164, 144, 168, 162, 142, 170, 164, 144, 163, 158, 136, 119, 113, 93, 83, 78, 63, 92, 83, 63, 88, 77, 56, 73, 65, 52, 67, 54, 38, 104, 86, 57, 112, 92, 60, 122, 97, 57, 96, 78, 46, 112, 99, 75, 163, 157, 137, 164, 160, 141, 158, 154, 135, 151, 147, 128, 126, 123, 106, 129, 126, 109, 136, 132, 113, 138, 138, 115, 142, 139, 121, 145, 143, 123, 140, 138, 118, 146, 142, 123, 152, 147, 128, 160, 155, 136, 164, 159, 140, 160, 155, 136, 166, 161, 142, 168, 163, 144, 165, 160, 141, 165, 160, 141, 167, 161, 143, 165, 161, 141, 114, 106, 87, 78, 61, 37, 89, 71, 47, 84, 76, 59, 59, 45, 28, 109, 91, 57, 122, 106, 71, 145, 127, 94, 160, 150, 125, 166, 161, 136, 160, 157, 134, 162, 158, 138, 149, 144, 124, 150, 145, 125, 126, 123, 106, 130, 127, 110, 137, 132, 117, 131, 132, 115, 140, 138, 120, 150, 146, 128, 150, 148, 128, 153, 149, 129, 160, 155, 136, 158, 153, 134, 161, 156, 137, 160, 155, 136, 164, 159, 140, 166, 161, 142, 169, 164, 145, 170, 165, 146, 172, 167, 148, 142, 137, 123, 81, 69, 53, 79, 61, 34, 95, 76, 47, 95, 85, 60, 98, 90, 68, 145, 138, 113, 161, 156, 132, 165, 160, 138, 164, 161, 139, 171, 166, 143, 170, 164, 144, 156, 150, 131, 151, 145, 126, 158, 153, 132, 127, 125, 107, 126, 119, 106, 145, 125, 138, 120, 144, 144, 147, 156, 143, 161, 160, 143, 154, 151, 132, 155, 151, 132, 158, 152, 134, 158, 153, 135, 160, 155, 136, 161, 155, 136, 165, 160, 141, 170, 165, 146, 171, 166, 147, 170, 166, 147, 172, 166, 147, 128, 119, 102, 71, 58, 40, 109, 96, 71, 140, 129, 103, 155, 148, 126, 168, 163, 142, 171, 165, 145, 164, 159, 138, 169, 165, 143, 169, 164, 144, 168, 163, 142, 165, 160, 139, 156, 152, 133, 158, 154, 134, 160, 157, 136, 132, 130, 112, 128, 121, 108, 140, 128, 141, 151, 169, 170, 159, 169, 161, 163, 164, 152, 158, 158, 143, 159, 158, 138, 158, 153, 133, 160, 154, 136, 158, 152, 133, 163, 156, 138, 170, 164, 146, 171, 166, 147, 168, 163, 144, 170, 166, 146, 171, 165, 145, 155, 147, 125, 137, 129, 106, 155, 150, 130, 173, 168, 147, 176, 170, 150, 171, 165, 146, 171, 165, 145, 169, 164, 142, 171, 166, 144, 168, 163, 144, 164, 159, 140, 162, 158, 136, 159, 154, 133, 163, 158, 137, 161, 156, 136, 131, 129, 111, 129, 121, 111, 145, 141, 102, 176, 187, 101, 156, 165, 116, 157, 160, 147, 181, 190, 179, 178, 181, 163, 161, 156, 136, 163, 157, 137, 159, 153, 133, 164, 159, 139, 173, 168, 148, 172, 167, 147, 165, 160, 140, 171, 165, 146, 174, 169, 149, 173, 168, 148, 172, 169, 151, 163, 161, 143, 170, 165, 146, 175, 169, 150, 168, 162, 143, 170, 165, 145, 175, 170, 150, 172, 167, 147, 169, 164, 144, 165, 160, 139, 166, 161, 139, 164, 159, 138, 164, 160, 138, 164, 160, 140], \"height\": 32, \"channels\": 3, \"width\": 32, \"type\": \"image\", \"id\": 5072483984}], \"selected_variable\": {\"name\": [\"<SArray>\"], \"dtype\": \"Image\", \"view_component\": \"Images\", \"view_file\": \"sarray\", \"descriptives\": {\"rows\": 5}, \"type\": \"SArray\", \"view_components\": [\"Images\"]}}, e);\n",
       "                });\n",
       "            })();\n",
       "        "
      ]
     },
     "metadata": {},
     "output_type": "display_data"
    }
   ],
   "source": [
    "cat_neighbors = get_images_from_ids(cat_query)\n",
    "cat_neighbors['image'].show()"
   ]
  },
  {
   "cell_type": "markdown",
   "metadata": {},
   "source": [
    "* What is the nearest `dog` labeled image in the training data to the cat image above (the first image in the test data)?"
   ]
  },
  {
   "cell_type": "code",
   "execution_count": 53,
   "metadata": {
    "collapsed": false
   },
   "outputs": [
    {
     "data": {
      "text/html": [
       "<pre>Starting pairwise querying.</pre>"
      ],
      "text/plain": [
       "Starting pairwise querying."
      ]
     },
     "metadata": {},
     "output_type": "display_data"
    },
    {
     "data": {
      "text/html": [
       "<pre>+--------------+---------+-------------+--------------+</pre>"
      ],
      "text/plain": [
       "+--------------+---------+-------------+--------------+"
      ]
     },
     "metadata": {},
     "output_type": "display_data"
    },
    {
     "data": {
      "text/html": [
       "<pre>| Query points | # Pairs | % Complete. | Elapsed Time |</pre>"
      ],
      "text/plain": [
       "| Query points | # Pairs | % Complete. | Elapsed Time |"
      ]
     },
     "metadata": {},
     "output_type": "display_data"
    },
    {
     "data": {
      "text/html": [
       "<pre>+--------------+---------+-------------+--------------+</pre>"
      ],
      "text/plain": [
       "+--------------+---------+-------------+--------------+"
      ]
     },
     "metadata": {},
     "output_type": "display_data"
    },
    {
     "data": {
      "text/html": [
       "<pre>| 0            | 1       | 0.196464    | 10.741ms     |</pre>"
      ],
      "text/plain": [
       "| 0            | 1       | 0.196464    | 10.741ms     |"
      ]
     },
     "metadata": {},
     "output_type": "display_data"
    },
    {
     "data": {
      "text/html": [
       "<pre>| Done         |         | 100         | 53.129ms     |</pre>"
      ],
      "text/plain": [
       "| Done         |         | 100         | 53.129ms     |"
      ]
     },
     "metadata": {},
     "output_type": "display_data"
    },
    {
     "data": {
      "text/html": [
       "<pre>+--------------+---------+-------------+--------------+</pre>"
      ],
      "text/plain": [
       "+--------------+---------+-------------+--------------+"
      ]
     },
     "metadata": {},
     "output_type": "display_data"
    },
    {
     "data": {
      "text/html": [
       "<div style=\"max-height:1000px;max-width:1500px;overflow:auto;\"><table frame=\"box\" rules=\"cols\">\n",
       "    <tr>\n",
       "        <th style=\"padding-left: 1em; padding-right: 1em; text-align: center\">query_label</th>\n",
       "        <th style=\"padding-left: 1em; padding-right: 1em; text-align: center\">reference_label</th>\n",
       "        <th style=\"padding-left: 1em; padding-right: 1em; text-align: center\">distance</th>\n",
       "        <th style=\"padding-left: 1em; padding-right: 1em; text-align: center\">rank</th>\n",
       "    </tr>\n",
       "    <tr>\n",
       "        <td style=\"padding-left: 1em; padding-right: 1em; text-align: center; vertical-align: top\">0</td>\n",
       "        <td style=\"padding-left: 1em; padding-right: 1em; text-align: center; vertical-align: top\">16976</td>\n",
       "        <td style=\"padding-left: 1em; padding-right: 1em; text-align: center; vertical-align: top\">37.4642628784</td>\n",
       "        <td style=\"padding-left: 1em; padding-right: 1em; text-align: center; vertical-align: top\">1</td>\n",
       "    </tr>\n",
       "    <tr>\n",
       "        <td style=\"padding-left: 1em; padding-right: 1em; text-align: center; vertical-align: top\">0</td>\n",
       "        <td style=\"padding-left: 1em; padding-right: 1em; text-align: center; vertical-align: top\">13387</td>\n",
       "        <td style=\"padding-left: 1em; padding-right: 1em; text-align: center; vertical-align: top\">37.5666832169</td>\n",
       "        <td style=\"padding-left: 1em; padding-right: 1em; text-align: center; vertical-align: top\">2</td>\n",
       "    </tr>\n",
       "    <tr>\n",
       "        <td style=\"padding-left: 1em; padding-right: 1em; text-align: center; vertical-align: top\">0</td>\n",
       "        <td style=\"padding-left: 1em; padding-right: 1em; text-align: center; vertical-align: top\">35867</td>\n",
       "        <td style=\"padding-left: 1em; padding-right: 1em; text-align: center; vertical-align: top\">37.6047267079</td>\n",
       "        <td style=\"padding-left: 1em; padding-right: 1em; text-align: center; vertical-align: top\">3</td>\n",
       "    </tr>\n",
       "    <tr>\n",
       "        <td style=\"padding-left: 1em; padding-right: 1em; text-align: center; vertical-align: top\">0</td>\n",
       "        <td style=\"padding-left: 1em; padding-right: 1em; text-align: center; vertical-align: top\">44603</td>\n",
       "        <td style=\"padding-left: 1em; padding-right: 1em; text-align: center; vertical-align: top\">37.7065585153</td>\n",
       "        <td style=\"padding-left: 1em; padding-right: 1em; text-align: center; vertical-align: top\">4</td>\n",
       "    </tr>\n",
       "    <tr>\n",
       "        <td style=\"padding-left: 1em; padding-right: 1em; text-align: center; vertical-align: top\">0</td>\n",
       "        <td style=\"padding-left: 1em; padding-right: 1em; text-align: center; vertical-align: top\">6094</td>\n",
       "        <td style=\"padding-left: 1em; padding-right: 1em; text-align: center; vertical-align: top\">38.5113254907</td>\n",
       "        <td style=\"padding-left: 1em; padding-right: 1em; text-align: center; vertical-align: top\">5</td>\n",
       "    </tr>\n",
       "</table>\n",
       "[5 rows x 4 columns]<br/>\n",
       "</div>"
      ],
      "text/plain": [
       "Columns:\n",
       "\tquery_label\tint\n",
       "\treference_label\tint\n",
       "\tdistance\tfloat\n",
       "\trank\tint\n",
       "\n",
       "Rows: 5\n",
       "\n",
       "Data:\n",
       "+-------------+-----------------+---------------+------+\n",
       "| query_label | reference_label |    distance   | rank |\n",
       "+-------------+-----------------+---------------+------+\n",
       "|      0      |      16976      | 37.4642628784 |  1   |\n",
       "|      0      |      13387      | 37.5666832169 |  2   |\n",
       "|      0      |      35867      | 37.6047267079 |  3   |\n",
       "|      0      |      44603      | 37.7065585153 |  4   |\n",
       "|      0      |       6094      | 38.5113254907 |  5   |\n",
       "+-------------+-----------------+---------------+------+\n",
       "[5 rows x 4 columns]"
      ]
     },
     "execution_count": 53,
     "metadata": {},
     "output_type": "execute_result"
    }
   ],
   "source": [
    "dog_model.query(cat)"
   ]
  },
  {
   "cell_type": "code",
   "execution_count": 54,
   "metadata": {
    "collapsed": false
   },
   "outputs": [
    {
     "data": {
      "application/javascript": [
       "$(\"head\").append($(\"<link/>\").attr({\n",
       "  rel:  \"stylesheet\",\n",
       "  type: \"text/css\",\n",
       "  href: \"//cdnjs.cloudflare.com/ajax/libs/font-awesome/4.1.0/css/font-awesome.min.css\"\n",
       "}));\n",
       "$(\"head\").append($(\"<link/>\").attr({\n",
       "  rel:  \"stylesheet\",\n",
       "  type: \"text/css\",\n",
       "  href: \"https://static.turi.com/products/graphlab-create/2.1/canvas/css/canvas.css\"\n",
       "}));\n",
       "\n",
       "            (function(){\n",
       "\n",
       "                var e = null;\n",
       "                if (typeof element == 'undefined') {\n",
       "                    var scripts = document.getElementsByTagName('script');\n",
       "                    var thisScriptTag = scripts[scripts.length-1];\n",
       "                    var parentDiv = thisScriptTag.parentNode;\n",
       "                    e = document.createElement('div');\n",
       "                    parentDiv.appendChild(e);\n",
       "                } else {\n",
       "                    e = element[0];\n",
       "                }\n",
       "\n",
       "                if (typeof requirejs !== 'undefined') {\n",
       "                    // disable load timeout; ipython_app.js is large and can take a while to load.\n",
       "                    requirejs.config({waitSeconds: 0});\n",
       "                }\n",
       "\n",
       "                require(['https://static.turi.com/products/graphlab-create/2.1/canvas/js/ipython_app.js'], function(IPythonApp){\n",
       "                    var app = new IPythonApp();\n",
       "                    app.attachView('sarray','Images', {\"ipython\": true, \"rows\": [{\"format\": \"raw\", \"value\": [16, 17, 11, 18, 19, 13, 20, 21, 15, 24, 25, 19, 26, 27, 21, 22, 23, 17, 19, 20, 14, 19, 20, 15, 16, 17, 12, 12, 13, 8, 11, 12, 8, 28, 17, 6, 88, 44, 8, 84, 41, 13, 84, 46, 31, 91, 51, 34, 97, 56, 36, 101, 61, 40, 85, 51, 33, 74, 45, 28, 79, 47, 29, 92, 54, 35, 96, 53, 33, 103, 58, 34, 86, 48, 27, 86, 52, 34, 107, 68, 51, 90, 61, 48, 101, 93, 92, 116, 130, 145, 103, 110, 123, 98, 94, 100, 12, 13, 9, 15, 16, 12, 20, 21, 17, 23, 24, 19, 27, 28, 22, 24, 25, 19, 20, 21, 15, 21, 22, 16, 16, 17, 12, 13, 14, 9, 12, 13, 9, 25, 15, 5, 81, 41, 10, 80, 41, 14, 83, 45, 25, 100, 55, 33, 108, 61, 39, 100, 57, 36, 67, 31, 16, 62, 30, 19, 75, 39, 25, 99, 57, 37, 112, 65, 43, 99, 55, 31, 74, 38, 19, 80, 45, 29, 102, 62, 43, 98, 66, 53, 105, 95, 95, 114, 126, 142, 102, 108, 123, 97, 92, 99, 19, 19, 17, 22, 22, 20, 20, 20, 17, 23, 25, 19, 28, 29, 23, 26, 27, 21, 21, 22, 16, 21, 22, 16, 16, 17, 12, 16, 16, 11, 14, 16, 12, 23, 18, 13, 78, 45, 25, 102, 68, 50, 94, 59, 39, 102, 57, 34, 108, 61, 37, 112, 67, 43, 100, 61, 40, 105, 64, 45, 111, 66, 47, 114, 67, 46, 124, 75, 52, 103, 61, 36, 81, 46, 29, 78, 43, 28, 102, 61, 40, 99, 72, 61, 108, 103, 105, 118, 133, 149, 103, 109, 123, 96, 94, 100, 23, 23, 21, 70, 70, 69, 64, 63, 60, 29, 29, 24, 25, 26, 21, 26, 27, 22, 22, 23, 17, 22, 23, 18, 18, 19, 14, 16, 16, 12, 15, 17, 15, 46, 44, 46, 112, 84, 75, 106, 78, 70, 96, 65, 52, 105, 64, 42, 107, 64, 38, 118, 73, 46, 121, 80, 52, 123, 82, 55, 122, 80, 53, 120, 80, 53, 121, 82, 54, 107, 67, 41, 87, 52, 37, 82, 45, 30, 101, 59, 37, 83, 63, 54, 84, 85, 88, 108, 123, 135, 88, 93, 102, 77, 77, 82, 29, 28, 28, 78, 77, 81, 116, 104, 102, 104, 94, 91, 37, 35, 32, 25, 25, 21, 24, 23, 20, 23, 23, 20, 19, 19, 17, 16, 15, 14, 22, 23, 24, 97, 90, 89, 151, 118, 108, 111, 87, 81, 111, 85, 77, 111, 70, 48, 110, 66, 40, 114, 70, 43, 115, 72, 45, 119, 80, 51, 123, 78, 50, 114, 71, 46, 113, 72, 43, 110, 66, 40, 86, 49, 34, 81, 41, 24, 97, 54, 32, 70, 49, 41, 49, 44, 44, 61, 62, 66, 56, 54, 60, 52, 49, 51, 29, 28, 28, 49, 48, 52, 108, 92, 88, 156, 139, 128, 90, 83, 72, 31, 30, 21, 23, 23, 18, 40, 39, 34, 60, 57, 53, 68, 63, 60, 66, 61, 58, 130, 111, 102, 135, 95, 80, 122, 95, 86, 126, 105, 100, 103, 70, 55, 94, 60, 40, 92, 58, 39, 94, 59, 40, 99, 61, 38, 101, 57, 33, 93, 51, 28, 91, 51, 29, 87, 47, 25, 74, 40, 25, 73, 41, 28, 88, 53, 40, 63, 45, 40, 51, 44, 43, 52, 49, 49, 53, 49, 52, 53, 48, 49, 27, 26, 24, 56, 56, 59, 105, 88, 82, 137, 105, 88, 139, 114, 97, 109, 95, 84, 98, 87, 81, 117, 110, 105, 162, 153, 146, 158, 144, 136, 117, 100, 89, 127, 96, 79, 128, 84, 67, 123, 93, 80, 129, 113, 109, 92, 75, 69, 55, 38, 29, 55, 38, 30, 63, 44, 34, 83, 53, 38, 94, 61, 42, 101, 63, 38, 92, 59, 37, 103, 71, 49, 89, 59, 37, 63, 44, 36, 67, 47, 46, 55, 41, 40, 52, 48, 46, 55, 53, 53, 58, 54, 55, 58, 54, 54, 26, 25, 22, 64, 64, 65, 99, 82, 75, 130, 92, 76, 161, 127, 112, 164, 140, 131, 168, 149, 144, 173, 160, 154, 211, 196, 186, 172, 149, 136, 122, 93, 75, 144, 106, 87, 143, 101, 87, 135, 104, 89, 120, 108, 106, 90, 85, 87, 38, 33, 34, 31, 26, 28, 46, 38, 38, 86, 67, 59, 106, 87, 72, 140, 105, 73, 129, 99, 69, 138, 113, 82, 147, 118, 81, 65, 57, 45, 49, 42, 45, 50, 41, 41, 54, 53, 51, 60, 60, 58, 63, 58, 58, 64, 59, 58, 31, 31, 27, 67, 66, 66, 116, 99, 93, 143, 114, 102, 181, 158, 147, 194, 179, 171, 196, 182, 177, 198, 185, 177, 206, 187, 174, 156, 127, 109, 131, 97, 75, 162, 126, 108, 152, 115, 104, 151, 120, 104, 125, 115, 112, 79, 79, 84, 37, 37, 41, 21, 22, 26, 24, 23, 26, 58, 49, 44, 103, 93, 77, 160, 127, 88, 149, 121, 83, 144, 120, 79, 177, 149, 99, 85, 82, 64, 41, 40, 45, 51, 47, 49, 56, 56, 56, 63, 62, 61, 66, 61, 61, 68, 64, 63, 29, 29, 29, 70, 66, 66, 118, 103, 100, 160, 141, 133, 180, 168, 159, 185, 172, 167, 206, 195, 192, 196, 183, 172, 174, 153, 133, 141, 112, 90, 148, 123, 105, 175, 150, 137, 172, 139, 123, 178, 150, 133, 142, 130, 126, 65, 65, 67, 29, 30, 32, 19, 20, 23, 18, 18, 21, 57, 52, 45, 142, 124, 100, 186, 156, 120, 166, 145, 104, 175, 158, 118, 185, 168, 126, 87, 81, 67, 42, 44, 50, 47, 49, 57, 46, 46, 52, 60, 59, 62, 69, 65, 67, 70, 67, 66, 51, 51, 52, 77, 72, 74, 117, 103, 102, 156, 142, 135, 156, 147, 137, 138, 123, 114, 154, 140, 131, 159, 141, 132, 136, 110, 98, 126, 99, 87, 166, 147, 140, 201, 184, 176, 183, 158, 143, 201, 177, 163, 142, 130, 126, 46, 46, 47, 18, 19, 21, 17, 18, 20, 22, 22, 25, 43, 38, 34, 138, 119, 97, 166, 136, 107, 185, 162, 122, 157, 147, 114, 173, 168, 135, 98, 94, 82, 46, 47, 49, 50, 53, 62, 45, 45, 53, 51, 49, 54, 70, 66, 69, 76, 72, 72, 60, 58, 59, 79, 74, 77, 127, 115, 116, 143, 132, 126, 143, 136, 124, 143, 125, 112, 128, 110, 94, 105, 86, 72, 127, 100, 88, 142, 123, 110, 167, 151, 144, 209, 197, 190, 176, 159, 148, 195, 175, 165, 149, 137, 134, 44, 42, 45, 23, 24, 28, 30, 31, 34, 33, 33, 38, 42, 37, 39, 74, 60, 50, 121, 95, 74, 177, 144, 103, 173, 147, 109, 193, 179, 144, 124, 119, 108, 46, 50, 52, 52, 55, 63, 45, 45, 53, 43, 42, 46, 68, 64, 67, 80, 76, 75, 59, 56, 56, 71, 68, 70, 131, 121, 123, 147, 135, 130, 137, 128, 117, 150, 130, 119, 128, 110, 95, 94, 77, 63, 140, 112, 103, 156, 143, 129, 162, 146, 136, 196, 181, 173, 182, 167, 156, 175, 158, 148, 132, 120, 114, 50, 49, 51, 32, 34, 38, 39, 40, 44, 44, 44, 50, 48, 46, 53, 44, 41, 40, 98, 80, 65, 176, 139, 97, 150, 117, 83, 145, 128, 101, 101, 98, 94, 45, 50, 56, 48, 52, 61, 42, 42, 50, 39, 38, 42, 68, 64, 67, 87, 80, 81, 65, 61, 60, 73, 69, 71, 135, 125, 127, 149, 134, 128, 113, 101, 92, 111, 92, 85, 129, 114, 105, 116, 105, 101, 128, 103, 105, 112, 99, 95, 134, 111, 105, 195, 174, 167, 193, 177, 167, 167, 151, 140, 118, 108, 99, 51, 50, 52, 40, 41, 47, 42, 43, 49, 50, 51, 56, 47, 50, 58, 52, 56, 60, 114, 101, 90, 180, 144, 101, 126, 103, 83, 94, 89, 82, 69, 70, 75, 55, 57, 65, 53, 55, 64, 40, 41, 48, 37, 36, 40, 69, 65, 66, 90, 82, 83, 71, 66, 67, 88, 80, 81, 119, 107, 106, 130, 115, 104, 135, 119, 112, 128, 114, 108, 152, 144, 142, 158, 152, 152, 140, 124, 124, 114, 93, 91, 159, 125, 110, 200, 176, 164, 198, 182, 173, 170, 156, 149, 114, 107, 104, 53, 53, 58, 46, 49, 56, 44, 47, 54, 46, 49, 55, 39, 40, 46, 57, 58, 65, 132, 119, 107, 190, 152, 106, 178, 140, 102, 133, 115, 102, 68, 67, 68, 54, 58, 68, 46, 50, 60, 31, 36, 40, 37, 38, 39, 69, 63, 63, 92, 83, 83, 78, 73, 74, 89, 80, 80, 87, 76, 74, 94, 81, 71, 121, 103, 98, 141, 126, 119, 146, 138, 137, 160, 150, 152, 164, 144, 143, 168, 141, 138, 179, 140, 125, 200, 172, 156, 197, 177, 164, 167, 152, 145, 106, 101, 102, 54, 56, 62, 53, 57, 64, 49, 52, 59, 43, 46, 53, 42, 45, 51, 63, 64, 72, 105, 93, 84, 156, 126, 89, 152, 121, 90, 123, 108, 101, 71, 73, 75, 73, 79, 91, 50, 54, 66, 34, 39, 45, 36, 37, 39, 70, 64, 64, 98, 89, 90, 85, 79, 81, 89, 81, 80, 65, 57, 54, 72, 61, 55, 130, 111, 108, 167, 149, 140, 132, 122, 119, 128, 121, 124, 170, 154, 149, 199, 178, 172, 205, 175, 163, 207, 177, 161, 192, 169, 152, 154, 141, 132, 86, 84, 88, 53, 56, 63, 57, 60, 67, 51, 54, 61, 47, 51, 57, 49, 53, 60, 54, 55, 61, 75, 66, 60, 114, 96, 74, 139, 124, 111, 136, 130, 134, 95, 99, 105, 90, 96, 108, 64, 69, 81, 43, 49, 56, 40, 41, 44, 71, 65, 66, 106, 96, 97, 90, 83, 84, 90, 82, 82, 73, 66, 63, 97, 87, 84, 164, 142, 141, 165, 144, 132, 97, 87, 82, 88, 83, 87, 181, 166, 159, 206, 189, 180, 201, 179, 170, 218, 194, 183, 193, 174, 159, 137, 127, 119, 67, 67, 74, 51, 54, 62, 55, 58, 65, 52, 55, 62, 50, 53, 60, 46, 49, 53, 47, 44, 44, 93, 83, 77, 130, 118, 109, 140, 129, 123, 152, 145, 150, 144, 145, 148, 103, 106, 115, 71, 74, 87, 47, 53, 61, 45, 46, 51, 78, 72, 75, 116, 107, 108, 88, 79, 81, 90, 84, 83, 93, 88, 85, 105, 97, 96, 148, 127, 125, 152, 128, 116, 81, 66, 61, 77, 65, 70, 164, 141, 136, 186, 162, 155, 191, 166, 161, 211, 190, 185, 184, 169, 158, 117, 110, 103, 57, 58, 66, 52, 55, 65, 55, 58, 65, 54, 57, 64, 49, 52, 59, 42, 42, 45, 69, 61, 56, 129, 116, 109, 162, 150, 146, 124, 112, 108, 142, 129, 129, 161, 155, 153, 107, 107, 113, 67, 71, 83, 50, 56, 65, 45, 46, 52, 89, 83, 85, 122, 112, 114, 96, 87, 88, 99, 90, 91, 105, 98, 97, 107, 100, 98, 115, 99, 96, 121, 96, 90, 98, 74, 67, 102, 83, 79, 132, 107, 103, 153, 126, 121, 175, 148, 142, 189, 163, 156, 158, 142, 137, 89, 86, 84, 50, 52, 58, 47, 50, 60, 47, 50, 59, 47, 49, 57, 43, 43, 50, 46, 45, 49, 85, 77, 75, 151, 136, 132, 162, 148, 144, 125, 114, 112, 145, 129, 122, 151, 138, 131, 115, 115, 120, 77, 84, 94, 62, 70, 79, 51, 53, 59, 94, 88, 88, 121, 110, 112, 106, 97, 98, 108, 99, 100, 111, 102, 103, 95, 89, 86, 72, 59, 56, 115, 95, 91, 139, 118, 112, 152, 131, 121, 186, 162, 153, 178, 154, 147, 165, 146, 138, 158, 140, 137, 107, 98, 98, 53, 54, 57, 43, 47, 54, 42, 46, 55, 41, 44, 53, 36, 37, 44, 36, 36, 42, 46, 46, 49, 87, 81, 81, 158, 146, 145, 171, 159, 158, 131, 121, 118, 165, 148, 140, 171, 155, 147, 131, 127, 129, 83, 86, 92, 63, 67, 74, 60, 60, 65, 104, 97, 97, 120, 110, 112, 104, 95, 96, 107, 98, 99, 111, 103, 103, 107, 102, 99, 100, 89, 86, 136, 122, 120, 149, 135, 131, 181, 162, 152, 228, 206, 197, 194, 176, 169, 157, 147, 141, 101, 95, 96, 56, 56, 60, 44, 50, 54, 43, 47, 54, 44, 46, 54, 44, 45, 52, 37, 36, 42, 38, 37, 42, 46, 45, 48, 77, 72, 71, 146, 136, 134, 182, 173, 173, 143, 133, 129, 168, 151, 142, 185, 168, 160, 143, 134, 131, 92, 87, 89, 61, 59, 63, 73, 70, 75, 114, 106, 108, 123, 112, 115, 104, 95, 96, 108, 99, 100, 115, 106, 107, 114, 108, 106, 113, 104, 102, 84, 74, 74, 76, 70, 68, 149, 139, 138, 168, 155, 156, 136, 126, 126, 96, 93, 92, 48, 48, 51, 44, 48, 52, 44, 49, 53, 44, 46, 51, 49, 50, 57, 46, 46, 53, 44, 42, 48, 41, 39, 43, 54, 51, 49, 79, 71, 66, 115, 104, 99, 150, 141, 139, 163, 151, 146, 174, 156, 146, 174, 157, 146, 166, 151, 145, 132, 120, 118, 85, 77, 79, 94, 89, 93, 125, 116, 118, 126, 115, 118, 108, 99, 100, 111, 102, 103, 113, 104, 105, 115, 109, 107, 114, 106, 105, 86, 78, 78, 81, 78, 78, 76, 73, 79, 59, 55, 63, 73, 69, 75, 64, 65, 67, 42, 45, 48, 48, 52, 56, 49, 51, 53, 52, 50, 52, 59, 57, 62, 55, 54, 60, 47, 46, 51, 42, 39, 41, 64, 56, 50, 107, 95, 86, 130, 116, 108, 128, 117, 111, 168, 155, 148, 189, 173, 164, 171, 153, 143, 169, 151, 142, 170, 155, 149, 117, 107, 107, 104, 97, 102, 127, 118, 122, 129, 118, 122, 107, 98, 99, 110, 101, 102, 111, 102, 103, 115, 107, 105, 118, 110, 108, 119, 111, 109, 120, 114, 112, 79, 76, 77, 40, 38, 44, 64, 62, 68, 48, 49, 50, 42, 43, 47, 53, 52, 57, 71, 68, 69, 93, 87, 87, 70, 64, 66, 59, 57, 62, 57, 56, 61, 57, 51, 51, 93, 79, 73, 134, 117, 109, 151, 134, 126, 135, 118, 111, 152, 138, 131, 188, 176, 170, 182, 167, 160, 169, 150, 138, 178, 163, 154, 137, 128, 127, 118, 111, 115, 131, 121, 127, 131, 122, 125, 109, 100, 101, 112, 103, 104, 112, 103, 104, 117, 109, 107, 120, 112, 110, 121, 113, 110, 123, 115, 113, 108, 103, 102, 64, 60, 63, 61, 58, 61, 50, 50, 50, 63, 62, 64, 95, 92, 94, 97, 90, 89, 125, 116, 113, 103, 94, 93, 86, 80, 81, 79, 73, 75, 83, 74, 73, 126, 111, 109, 155, 137, 135, 164, 147, 145, 148, 131, 129, 147, 132, 126, 171, 158, 151, 177, 161, 152, 166, 144, 131, 172, 150, 140, 153, 138, 134, 130, 120, 120, 132, 122, 123, 135, 125, 128, 111, 102, 103, 110, 101, 103, 114, 105, 106, 119, 111, 110, 120, 112, 110, 122, 114, 112, 125, 117, 115, 125, 117, 117, 97, 90, 90, 58, 53, 52, 64, 61, 60, 87, 82, 82, 131, 124, 123, 112, 102, 98, 125, 113, 107, 133, 119, 114, 137, 123, 118, 100, 88, 85, 103, 92, 91, 139, 125, 127, 154, 138, 141, 155, 139, 142, 154, 138, 140, 156, 140, 136, 180, 162, 154, 176, 155, 144, 150, 126, 114, 144, 118, 107, 139, 120, 114, 128, 116, 114, 131, 121, 119, 133, 123, 125, 111, 102, 103, 111, 102, 104, 116, 107, 108, 119, 111, 109, 121, 113, 111, 125, 117, 115, 129, 121, 119, 130, 120, 120, 115, 106, 103, 93, 86, 81, 102, 96, 94, 118, 110, 108, 152, 141, 138, 142, 128, 122, 139, 123, 114, 136, 117, 108, 141, 120, 111, 116, 98, 90, 117, 104, 101, 144, 130, 131, 152, 137, 138, 152, 137, 139, 144, 129, 130, 145, 129, 124, 152, 130, 121, 135, 108, 96, 117, 92, 80, 125, 104, 93, 124, 108, 102, 131, 119, 119, 137, 124, 124, 133, 123, 125, 112, 103, 104, 112, 103, 104, 117, 108, 109, 119, 111, 110, 124, 116, 114, 126, 118, 117, 127, 119, 117, 129, 116, 115, 139, 128, 122, 127, 118, 111, 119, 111, 106, 133, 121, 115, 154, 139, 131, 154, 137, 128, 148, 130, 119, 140, 118, 105, 129, 104, 92, 124, 103, 93, 131, 117, 113, 147, 134, 133, 147, 134, 133, 146, 134, 133, 148, 135, 134, 145, 130, 127, 142, 120, 113, 129, 104, 95, 127, 105, 97, 137, 122, 115, 136, 124, 121, 136, 125, 127, 138, 125, 127, 133, 123, 126, 111, 101, 102, 112, 103, 104, 117, 108, 109, 121, 112, 113, 124, 115, 116, 123, 114, 115, 126, 117, 117, 126, 113, 109, 131, 118, 111, 131, 119, 110, 121, 110, 99, 141, 123, 111, 150, 129, 116, 158, 138, 125, 156, 134, 121, 148, 123, 108, 131, 107, 94, 119, 101, 92, 144, 130, 125, 147, 136, 135, 143, 133, 132, 143, 133, 131, 144, 133, 132, 144, 130, 130, 147, 132, 131, 145, 130, 129, 142, 127, 127, 139, 128, 128, 138, 129, 129, 137, 127, 128, 132, 122, 123, 133, 123, 126, 109, 100, 101, 110, 101, 102, 114, 105, 106, 116, 107, 109, 119, 110, 111, 121, 112, 113, 122, 113, 113, 124, 115, 113, 125, 113, 108, 128, 114, 105, 122, 105, 93, 129, 107, 94, 134, 111, 97, 149, 126, 112, 155, 132, 118, 144, 120, 108, 135, 114, 104, 136, 119, 112, 145, 131, 128, 144, 134, 133, 143, 133, 133, 141, 131, 131, 141, 131, 130, 143, 130, 131, 142, 129, 130, 140, 127, 128, 138, 125, 126, 136, 125, 127, 133, 123, 124, 133, 123, 123, 129, 119, 120, 128, 119, 121, 105, 96, 97, 107, 98, 99, 111, 102, 103, 114, 105, 106, 119, 110, 111, 120, 111, 112, 118, 109, 110, 119, 113, 113, 126, 117, 114, 123, 108, 100, 123, 103, 92, 121, 98, 86, 124, 101, 89, 130, 107, 95, 129, 106, 94, 131, 111, 103, 139, 121, 115, 146, 131, 128, 142, 129, 128, 142, 132, 133, 143, 133, 134, 141, 131, 132, 141, 131, 132, 138, 127, 129, 138, 126, 128, 135, 123, 126, 132, 121, 123, 133, 122, 124, 130, 120, 121, 128, 118, 119, 127, 117, 118, 127, 117, 120], \"height\": 32, \"channels\": 3, \"width\": 32, \"type\": \"image\", \"id\": 4641466384}], \"selected_variable\": {\"name\": [\"<SArray>\"], \"dtype\": \"Image\", \"view_component\": \"Images\", \"view_file\": \"sarray\", \"descriptives\": {\"rows\": 1}, \"type\": \"SArray\", \"view_components\": [\"Images\"]}}, e);\n",
       "                });\n",
       "            })();\n",
       "        "
      ]
     },
     "metadata": {},
     "output_type": "display_data"
    }
   ],
   "source": [
    "image_train[image_train['id'] == 16976]['image'].show()"
   ]
  },
  {
   "cell_type": "code",
   "execution_count": 14,
   "metadata": {
    "collapsed": false
   },
   "outputs": [
    {
     "data": {
      "text/html": [
       "<pre>Starting pairwise querying.</pre>"
      ],
      "text/plain": [
       "Starting pairwise querying."
      ]
     },
     "metadata": {},
     "output_type": "display_data"
    },
    {
     "data": {
      "text/html": [
       "<pre>+--------------+---------+-------------+--------------+</pre>"
      ],
      "text/plain": [
       "+--------------+---------+-------------+--------------+"
      ]
     },
     "metadata": {},
     "output_type": "display_data"
    },
    {
     "data": {
      "text/html": [
       "<pre>| Query points | # Pairs | % Complete. | Elapsed Time |</pre>"
      ],
      "text/plain": [
       "| Query points | # Pairs | % Complete. | Elapsed Time |"
      ]
     },
     "metadata": {},
     "output_type": "display_data"
    },
    {
     "data": {
      "text/html": [
       "<pre>+--------------+---------+-------------+--------------+</pre>"
      ],
      "text/plain": [
       "+--------------+---------+-------------+--------------+"
      ]
     },
     "metadata": {},
     "output_type": "display_data"
    },
    {
     "data": {
      "text/html": [
       "<pre>| 0            | 1       | 0.196464    | 8.159ms      |</pre>"
      ],
      "text/plain": [
       "| 0            | 1       | 0.196464    | 8.159ms      |"
      ]
     },
     "metadata": {},
     "output_type": "display_data"
    },
    {
     "data": {
      "text/html": [
       "<pre>| Done         |         | 100         | 51.46ms      |</pre>"
      ],
      "text/plain": [
       "| Done         |         | 100         | 51.46ms      |"
      ]
     },
     "metadata": {},
     "output_type": "display_data"
    },
    {
     "data": {
      "text/html": [
       "<pre>+--------------+---------+-------------+--------------+</pre>"
      ],
      "text/plain": [
       "+--------------+---------+-------------+--------------+"
      ]
     },
     "metadata": {},
     "output_type": "display_data"
    },
    {
     "data": {
      "text/html": [
       "<div style=\"max-height:1000px;max-width:1500px;overflow:auto;\"><table frame=\"box\" rules=\"cols\">\n",
       "    <tr>\n",
       "        <th style=\"padding-left: 1em; padding-right: 1em; text-align: center\">id</th>\n",
       "        <th style=\"padding-left: 1em; padding-right: 1em; text-align: center\">image</th>\n",
       "        <th style=\"padding-left: 1em; padding-right: 1em; text-align: center\">label</th>\n",
       "        <th style=\"padding-left: 1em; padding-right: 1em; text-align: center\">deep_features</th>\n",
       "        <th style=\"padding-left: 1em; padding-right: 1em; text-align: center\">image_array</th>\n",
       "    </tr>\n",
       "    <tr>\n",
       "        <td style=\"padding-left: 1em; padding-right: 1em; text-align: center; vertical-align: top\">6094</td>\n",
       "        <td style=\"padding-left: 1em; padding-right: 1em; text-align: center; vertical-align: top\">Height: 32 Width: 32</td>\n",
       "        <td style=\"padding-left: 1em; padding-right: 1em; text-align: center; vertical-align: top\">dog</td>\n",
       "        <td style=\"padding-left: 1em; padding-right: 1em; text-align: center; vertical-align: top\">[0.470533549786, 0.0,<br>0.0, 0.0, 0.0, 0.0, ...</td>\n",
       "        <td style=\"padding-left: 1em; padding-right: 1em; text-align: center; vertical-align: top\">[91.0, 98.0, 71.0, 138.0,<br>123.0, 63.0, 135.0, ...</td>\n",
       "    </tr>\n",
       "    <tr>\n",
       "        <td style=\"padding-left: 1em; padding-right: 1em; text-align: center; vertical-align: top\">13387</td>\n",
       "        <td style=\"padding-left: 1em; padding-right: 1em; text-align: center; vertical-align: top\">Height: 32 Width: 32</td>\n",
       "        <td style=\"padding-left: 1em; padding-right: 1em; text-align: center; vertical-align: top\">dog</td>\n",
       "        <td style=\"padding-left: 1em; padding-right: 1em; text-align: center; vertical-align: top\">[0.366494178772, 0.0,<br>0.0, 0.0, 0.0, 0.0, ...</td>\n",
       "        <td style=\"padding-left: 1em; padding-right: 1em; text-align: center; vertical-align: top\">[255.0, 255.0, 255.0,<br>255.0, 255.0, 255.0, ...</td>\n",
       "    </tr>\n",
       "    <tr>\n",
       "        <td style=\"padding-left: 1em; padding-right: 1em; text-align: center; vertical-align: top\">16976</td>\n",
       "        <td style=\"padding-left: 1em; padding-right: 1em; text-align: center; vertical-align: top\">Height: 32 Width: 32</td>\n",
       "        <td style=\"padding-left: 1em; padding-right: 1em; text-align: center; vertical-align: top\">dog</td>\n",
       "        <td style=\"padding-left: 1em; padding-right: 1em; text-align: center; vertical-align: top\">[0.755595386028, 0.0,<br>0.0, 0.0, 0.0, 0.0, ...</td>\n",
       "        <td style=\"padding-left: 1em; padding-right: 1em; text-align: center; vertical-align: top\">[16.0, 17.0, 11.0, 18.0,<br>19.0, 13.0, 20.0, 21.0, ...</td>\n",
       "    </tr>\n",
       "    <tr>\n",
       "        <td style=\"padding-left: 1em; padding-right: 1em; text-align: center; vertical-align: top\">35867</td>\n",
       "        <td style=\"padding-left: 1em; padding-right: 1em; text-align: center; vertical-align: top\">Height: 32 Width: 32</td>\n",
       "        <td style=\"padding-left: 1em; padding-right: 1em; text-align: center; vertical-align: top\">dog</td>\n",
       "        <td style=\"padding-left: 1em; padding-right: 1em; text-align: center; vertical-align: top\">[0.305321395397, 0.0,<br>0.0, 0.0, 0.0, 0.0, ...</td>\n",
       "        <td style=\"padding-left: 1em; padding-right: 1em; text-align: center; vertical-align: top\">[101.0, 93.0, 9.0, 93.0,<br>88.0, 9.0, 90.0, 86.0, ...</td>\n",
       "    </tr>\n",
       "    <tr>\n",
       "        <td style=\"padding-left: 1em; padding-right: 1em; text-align: center; vertical-align: top\">44603</td>\n",
       "        <td style=\"padding-left: 1em; padding-right: 1em; text-align: center; vertical-align: top\">Height: 32 Width: 32</td>\n",
       "        <td style=\"padding-left: 1em; padding-right: 1em; text-align: center; vertical-align: top\">dog</td>\n",
       "        <td style=\"padding-left: 1em; padding-right: 1em; text-align: center; vertical-align: top\">[0.0, 0.0, 0.0, 0.0, 0.0,<br>0.0, 11.2646656036, 0.0, ...</td>\n",
       "        <td style=\"padding-left: 1em; padding-right: 1em; text-align: center; vertical-align: top\">[8.0, 25.0, 9.0, 29.0,<br>39.0, 22.0, 66.0, 75.0, ...</td>\n",
       "    </tr>\n",
       "</table>\n",
       "[5 rows x 5 columns]<br/>\n",
       "</div>"
      ],
      "text/plain": [
       "Columns:\n",
       "\tid\tint\n",
       "\timage\tImage\n",
       "\tlabel\tstr\n",
       "\tdeep_features\tarray\n",
       "\timage_array\tarray\n",
       "\n",
       "Rows: 5\n",
       "\n",
       "Data:\n",
       "+-------+----------------------+-------+-------------------------------+\n",
       "|   id  |        image         | label |         deep_features         |\n",
       "+-------+----------------------+-------+-------------------------------+\n",
       "|  6094 | Height: 32 Width: 32 |  dog  | [0.470533549786, 0.0, 0.0,... |\n",
       "| 13387 | Height: 32 Width: 32 |  dog  | [0.366494178772, 0.0, 0.0,... |\n",
       "| 16976 | Height: 32 Width: 32 |  dog  | [0.755595386028, 0.0, 0.0,... |\n",
       "| 35867 | Height: 32 Width: 32 |  dog  | [0.305321395397, 0.0, 0.0,... |\n",
       "| 44603 | Height: 32 Width: 32 |  dog  | [0.0, 0.0, 0.0, 0.0, 0.0, ... |\n",
       "+-------+----------------------+-------+-------------------------------+\n",
       "+-------------------------------+\n",
       "|          image_array          |\n",
       "+-------------------------------+\n",
       "| [91.0, 98.0, 71.0, 138.0, ... |\n",
       "| [255.0, 255.0, 255.0, 255.... |\n",
       "| [16.0, 17.0, 11.0, 18.0, 1... |\n",
       "| [101.0, 93.0, 9.0, 93.0, 8... |\n",
       "| [8.0, 25.0, 9.0, 29.0, 39.... |\n",
       "+-------------------------------+\n",
       "[5 rows x 5 columns]"
      ]
     },
     "execution_count": 14,
     "metadata": {},
     "output_type": "execute_result"
    }
   ],
   "source": [
    "cat_query2 = dog_model.query(cat)\n",
    "get_images_from_ids(cat_query2)"
   ]
  },
  {
   "cell_type": "code",
   "execution_count": 15,
   "metadata": {
    "collapsed": false
   },
   "outputs": [
    {
     "data": {
      "application/javascript": [
       "$(\"head\").append($(\"<link/>\").attr({\n",
       "  rel:  \"stylesheet\",\n",
       "  type: \"text/css\",\n",
       "  href: \"//cdnjs.cloudflare.com/ajax/libs/font-awesome/4.1.0/css/font-awesome.min.css\"\n",
       "}));\n",
       "$(\"head\").append($(\"<link/>\").attr({\n",
       "  rel:  \"stylesheet\",\n",
       "  type: \"text/css\",\n",
       "  href: \"https://static.turi.com/products/graphlab-create/2.1/canvas/css/canvas.css\"\n",
       "}));\n",
       "\n",
       "            (function(){\n",
       "\n",
       "                var e = null;\n",
       "                if (typeof element == 'undefined') {\n",
       "                    var scripts = document.getElementsByTagName('script');\n",
       "                    var thisScriptTag = scripts[scripts.length-1];\n",
       "                    var parentDiv = thisScriptTag.parentNode;\n",
       "                    e = document.createElement('div');\n",
       "                    parentDiv.appendChild(e);\n",
       "                } else {\n",
       "                    e = element[0];\n",
       "                }\n",
       "\n",
       "                if (typeof requirejs !== 'undefined') {\n",
       "                    // disable load timeout; ipython_app.js is large and can take a while to load.\n",
       "                    requirejs.config({waitSeconds: 0});\n",
       "                }\n",
       "\n",
       "                require(['https://static.turi.com/products/graphlab-create/2.1/canvas/js/ipython_app.js'], function(IPythonApp){\n",
       "                    var app = new IPythonApp();\n",
       "                    app.attachView('sarray','Images', {\"ipython\": true, \"rows\": [{\"format\": \"raw\", \"value\": [91, 98, 71, 138, 123, 63, 135, 115, 50, 116, 99, 54, 118, 101, 54, 114, 99, 56, 101, 86, 55, 100, 88, 62, 95, 86, 58, 93, 84, 56, 93, 84, 56, 102, 91, 67, 114, 99, 80, 121, 101, 71, 124, 96, 59, 122, 88, 49, 123, 88, 47, 124, 94, 56, 117, 91, 55, 125, 95, 57, 122, 90, 49, 114, 86, 49, 110, 86, 51, 109, 79, 42, 100, 70, 27, 99, 74, 29, 104, 73, 29, 117, 79, 29, 138, 96, 37, 139, 94, 41, 131, 92, 43, 105, 74, 29, 96, 102, 70, 126, 115, 61, 137, 120, 63, 101, 93, 55, 91, 86, 49, 91, 87, 52, 79, 77, 53, 73, 69, 48, 86, 79, 53, 99, 92, 65, 103, 96, 69, 114, 107, 82, 143, 132, 113, 143, 128, 101, 129, 106, 78, 119, 91, 65, 121, 94, 61, 125, 101, 68, 126, 102, 68, 127, 97, 58, 120, 87, 46, 125, 97, 58, 119, 94, 57, 103, 76, 39, 96, 67, 26, 101, 72, 26, 102, 72, 27, 115, 83, 35, 141, 107, 54, 148, 106, 55, 141, 104, 54, 121, 91, 43, 111, 103, 64, 108, 100, 66, 97, 96, 69, 61, 66, 44, 79, 82, 55, 76, 82, 55, 57, 64, 46, 58, 59, 42, 87, 81, 56, 87, 81, 56, 96, 89, 65, 125, 119, 93, 163, 158, 126, 191, 181, 144, 173, 158, 123, 136, 116, 88, 115, 95, 66, 115, 97, 69, 127, 108, 78, 136, 108, 71, 133, 102, 61, 130, 101, 61, 119, 92, 53, 85, 61, 24, 83, 58, 20, 100, 70, 26, 101, 73, 28, 108, 83, 36, 133, 107, 59, 159, 122, 72, 149, 115, 66, 139, 110, 61, 118, 95, 47, 123, 114, 90, 98, 104, 96, 43, 54, 40, 63, 68, 44, 64, 72, 48, 43, 54, 35, 49, 53, 35, 73, 68, 44, 81, 77, 52, 79, 74, 50, 119, 115, 87, 164, 159, 120, 235, 229, 183, 223, 212, 168, 172, 157, 119, 127, 111, 81, 106, 92, 65, 110, 95, 68, 136, 115, 84, 145, 118, 80, 147, 118, 76, 135, 108, 67, 92, 72, 36, 84, 63, 30, 97, 70, 32, 101, 77, 31, 103, 82, 35, 111, 87, 42, 151, 118, 70, 157, 125, 76, 148, 119, 69, 126, 106, 42, 139, 126, 91, 173, 167, 142, 135, 138, 113, 97, 100, 77, 99, 104, 78, 116, 123, 102, 112, 116, 96, 136, 134, 111, 143, 140, 117, 80, 77, 54, 102, 98, 73, 172, 162, 131, 243, 235, 195, 239, 228, 184, 205, 191, 152, 160, 143, 111, 129, 115, 89, 97, 88, 64, 109, 97, 72, 141, 120, 84, 161, 133, 88, 155, 128, 84, 127, 110, 74, 117, 101, 73, 124, 102, 70, 129, 108, 63, 128, 107, 58, 131, 106, 59, 153, 122, 75, 158, 128, 79, 151, 123, 73, 135, 120, 61, 131, 114, 71, 156, 137, 96, 182, 173, 132, 139, 135, 107, 81, 86, 62, 160, 165, 143, 215, 211, 187, 219, 213, 188, 197, 196, 175, 91, 93, 73, 81, 79, 57, 147, 136, 107, 221, 211, 176, 245, 237, 198, 231, 220, 184, 203, 185, 152, 173, 156, 121, 129, 117, 90, 99, 91, 72, 107, 93, 68, 126, 106, 73, 127, 110, 75, 121, 111, 81, 115, 108, 86, 123, 112, 89, 126, 116, 83, 126, 115, 78, 129, 115, 80, 148, 126, 87, 167, 142, 93, 167, 139, 86, 145, 130, 90, 147, 129, 90, 154, 134, 93, 158, 144, 94, 135, 124, 89, 56, 61, 44, 82, 91, 68, 189, 180, 151, 184, 175, 147, 119, 119, 99, 64, 69, 51, 65, 66, 42, 141, 133, 101, 225, 219, 182, 245, 240, 203, 245, 238, 205, 237, 222, 189, 216, 197, 150, 174, 157, 122, 115, 109, 94, 82, 78, 65, 86, 79, 62, 87, 84, 62, 83, 83, 63, 77, 79, 63, 78, 81, 65, 76, 78, 61, 76, 78, 60, 87, 88, 70, 113, 106, 79, 158, 139, 93, 171, 144, 92, 148, 134, 98, 144, 127, 91, 150, 131, 92, 163, 147, 102, 143, 129, 97, 68, 75, 58, 38, 53, 33, 123, 122, 95, 157, 153, 125, 95, 97, 74, 92, 94, 71, 111, 109, 82, 128, 121, 91, 227, 223, 186, 249, 246, 210, 248, 243, 214, 251, 244, 212, 238, 225, 176, 204, 189, 153, 121, 118, 102, 81, 81, 69, 81, 79, 65, 80, 81, 62, 80, 83, 67, 77, 80, 67, 76, 80, 65, 77, 81, 66, 72, 76, 61, 77, 83, 68, 91, 96, 76, 123, 115, 77, 148, 126, 79, 145, 131, 97, 148, 132, 97, 152, 134, 96, 154, 137, 98, 142, 125, 98, 72, 78, 60, 26, 45, 26, 67, 75, 52, 117, 119, 93, 140, 142, 115, 156, 154, 126, 156, 151, 124, 127, 122, 98, 200, 194, 161, 250, 244, 212, 246, 242, 219, 250, 248, 219, 240, 233, 185, 184, 174, 138, 94, 94, 77, 87, 89, 75, 93, 93, 78, 74, 77, 59, 77, 82, 69, 80, 85, 73, 77, 81, 66, 77, 81, 66, 76, 80, 65, 69, 76, 61, 74, 88, 73, 102, 104, 78, 130, 116, 77, 144, 132, 98, 153, 139, 104, 156, 140, 104, 146, 129, 94, 150, 131, 103, 94, 96, 72, 37, 54, 34, 54, 63, 45, 76, 80, 56, 107, 106, 80, 148, 143, 118, 196, 192, 171, 163, 160, 142, 177, 168, 140, 238, 230, 201, 248, 246, 229, 250, 250, 225, 225, 220, 174, 142, 132, 97, 84, 82, 65, 93, 92, 77, 119, 117, 99, 89, 90, 70, 85, 87, 75, 87, 90, 80, 77, 81, 66, 69, 73, 58, 74, 77, 62, 69, 76, 61, 68, 84, 70, 87, 94, 75, 114, 106, 74, 139, 128, 96, 150, 137, 104, 159, 145, 109, 151, 137, 103, 156, 135, 104, 138, 133, 103, 77, 85, 65, 101, 105, 91, 100, 103, 81, 97, 92, 69, 177, 172, 153, 252, 251, 240, 224, 223, 212, 182, 172, 146, 230, 221, 195, 249, 249, 237, 246, 247, 227, 188, 182, 139, 121, 108, 75, 94, 88, 72, 96, 92, 72, 135, 129, 105, 115, 112, 88, 91, 88, 74, 88, 88, 78, 80, 84, 69, 76, 80, 65, 81, 85, 70, 71, 77, 61, 73, 85, 66, 87, 95, 79, 107, 103, 77, 135, 125, 94, 148, 136, 103, 159, 145, 110, 154, 141, 106, 156, 135, 100, 157, 146, 109, 125, 125, 103, 179, 178, 166, 123, 124, 103, 109, 104, 82, 190, 184, 173, 254, 254, 253, 249, 249, 242, 192, 182, 160, 225, 216, 194, 254, 255, 244, 226, 225, 207, 156, 147, 107, 138, 124, 91, 112, 103, 88, 108, 99, 79, 160, 150, 122, 146, 138, 111, 100, 93, 76, 88, 86, 74, 84, 88, 73, 87, 90, 75, 96, 99, 84, 79, 83, 65, 77, 84, 60, 91, 98, 81, 106, 104, 81, 141, 131, 101, 151, 139, 107, 150, 135, 101, 149, 132, 99, 161, 141, 99, 163, 150, 105, 123, 119, 94, 106, 104, 92, 93, 93, 72, 100, 100, 78, 198, 194, 186, 255, 252, 255, 241, 233, 228, 190, 182, 170, 233, 229, 212, 251, 248, 229, 206, 196, 167, 172, 159, 116, 172, 159, 122, 133, 120, 103, 117, 107, 96, 176, 165, 136, 160, 148, 117, 108, 100, 82, 92, 91, 75, 95, 96, 78, 107, 107, 90, 112, 112, 95, 98, 99, 80, 86, 91, 66, 89, 93, 72, 101, 98, 72, 148, 137, 108, 151, 138, 107, 144, 129, 96, 152, 133, 100, 161, 142, 98, 165, 151, 105, 131, 126, 100, 85, 84, 70, 119, 119, 103, 164, 165, 153, 239, 236, 232, 235, 224, 222, 195, 180, 171, 217, 210, 200, 237, 234, 217, 217, 211, 185, 194, 180, 147, 194, 181, 139, 192, 180, 142, 132, 120, 101, 119, 107, 96, 180, 169, 136, 162, 148, 115, 122, 112, 96, 109, 106, 89, 116, 114, 95, 127, 125, 106, 124, 122, 103, 111, 110, 90, 95, 100, 75, 89, 93, 70, 101, 96, 70, 150, 139, 110, 150, 137, 105, 147, 132, 99, 149, 132, 98, 158, 140, 99, 161, 147, 103, 144, 137, 110, 140, 138, 123, 216, 215, 206, 244, 243, 246, 254, 251, 248, 202, 192, 176, 211, 197, 184, 242, 235, 221, 191, 185, 165, 179, 170, 142, 202, 188, 156, 209, 196, 158, 197, 187, 151, 126, 115, 95, 136, 123, 103, 194, 181, 142, 163, 148, 119, 128, 116, 103, 120, 115, 98, 121, 118, 98, 122, 120, 100, 122, 120, 100, 118, 116, 96, 102, 104, 82, 88, 91, 69, 102, 98, 73, 146, 136, 107, 148, 135, 103, 148, 133, 100, 156, 141, 107, 171, 154, 114, 169, 154, 114, 158, 150, 121, 177, 174, 157, 252, 250, 246, 250, 248, 255, 237, 233, 227, 200, 192, 165, 231, 221, 204, 166, 159, 143, 133, 126, 104, 168, 156, 128, 195, 182, 150, 195, 183, 150, 172, 163, 132, 119, 112, 89, 167, 154, 127, 203, 190, 150, 152, 140, 115, 116, 104, 93, 123, 115, 96, 124, 120, 99, 124, 120, 99, 126, 122, 101, 120, 117, 95, 98, 97, 77, 91, 92, 73, 121, 118, 95, 139, 128, 99, 148, 135, 104, 154, 138, 105, 163, 149, 115, 174, 159, 121, 175, 160, 123, 165, 155, 126, 187, 183, 166, 251, 250, 245, 247, 246, 245, 194, 191, 177, 230, 226, 199, 205, 199, 182, 105, 101, 86, 105, 100, 81, 144, 134, 107, 171, 159, 129, 166, 156, 126, 132, 124, 96, 114, 108, 84, 186, 175, 147, 191, 181, 147, 140, 133, 117, 137, 129, 119, 135, 128, 106, 112, 106, 83, 113, 107, 85, 125, 119, 97, 145, 139, 117, 140, 137, 119, 127, 127, 110, 141, 138, 117, 138, 127, 98, 149, 136, 104, 158, 143, 110, 165, 152, 117, 172, 158, 121, 174, 159, 124, 190, 179, 149, 198, 192, 175, 247, 246, 237, 219, 221, 204, 182, 181, 158, 237, 233, 210, 226, 225, 211, 180, 181, 169, 146, 145, 128, 131, 124, 99, 152, 142, 114, 154, 145, 118, 138, 131, 105, 143, 138, 112, 183, 173, 148, 182, 177, 152, 196, 195, 186, 220, 219, 208, 136, 131, 105, 87, 80, 56, 90, 83, 60, 93, 86, 63, 124, 117, 95, 196, 192, 176, 216, 216, 201, 193, 191, 171, 140, 129, 100, 152, 139, 108, 158, 143, 110, 167, 153, 118, 169, 156, 118, 198, 186, 152, 217, 210, 186, 167, 161, 147, 199, 195, 181, 163, 161, 137, 161, 158, 131, 179, 172, 149, 207, 203, 188, 244, 245, 236, 224, 223, 212, 163, 158, 138, 144, 133, 111, 148, 139, 114, 150, 144, 116, 159, 154, 130, 193, 186, 169, 227, 225, 212, 249, 252, 247, 236, 235, 224, 139, 131, 109, 107, 97, 76, 95, 86, 63, 89, 81, 58, 89, 81, 60, 122, 117, 98, 214, 213, 198, 247, 248, 233, 139, 129, 100, 151, 139, 107, 157, 142, 109, 166, 151, 116, 173, 161, 122, 207, 201, 167, 234, 231, 213, 215, 211, 199, 176, 169, 150, 154, 147, 123, 154, 147, 120, 157, 150, 120, 173, 165, 141, 239, 235, 226, 252, 251, 243, 190, 186, 170, 137, 126, 110, 149, 141, 115, 151, 146, 114, 170, 165, 146, 235, 231, 223, 253, 251, 242, 243, 241, 226, 241, 235, 216, 222, 213, 196, 187, 176, 159, 106, 96, 73, 84, 76, 53, 90, 83, 62, 81, 76, 53, 135, 133, 117, 240, 242, 236, 136, 125, 96, 144, 131, 100, 161, 146, 113, 172, 157, 123, 173, 161, 125, 134, 127, 95, 137, 133, 114, 163, 158, 142, 139, 132, 107, 158, 151, 123, 165, 159, 128, 170, 164, 130, 166, 158, 127, 228, 225, 208, 227, 226, 214, 150, 146, 130, 131, 122, 101, 149, 142, 114, 158, 153, 127, 210, 206, 195, 255, 252, 247, 246, 236, 215, 240, 222, 185, 244, 230, 193, 255, 247, 224, 190, 182, 167, 98, 89, 67, 83, 75, 52, 79, 71, 50, 77, 71, 50, 136, 133, 119, 240, 241, 237, 151, 140, 111, 157, 144, 112, 166, 151, 118, 171, 157, 124, 150, 140, 107, 83, 74, 45, 76, 70, 49, 104, 98, 75, 144, 137, 107, 155, 149, 118, 167, 161, 128, 165, 159, 124, 166, 159, 123, 198, 196, 172, 149, 148, 131, 110, 106, 88, 131, 124, 98, 149, 143, 115, 182, 178, 158, 245, 242, 238, 251, 248, 245, 242, 224, 195, 249, 221, 169, 241, 222, 173, 244, 237, 212, 238, 233, 221, 179, 173, 152, 108, 101, 78, 82, 72, 53, 73, 65, 47, 169, 165, 152, 249, 249, 244, 154, 144, 115, 160, 147, 115, 166, 151, 118, 165, 153, 121, 118, 109, 80, 78, 70, 44, 100, 93, 69, 138, 132, 103, 157, 151, 118, 163, 157, 125, 174, 168, 138, 169, 161, 131, 174, 166, 134, 179, 177, 150, 96, 97, 74, 111, 107, 86, 136, 131, 104, 144, 139, 114, 207, 203, 190, 254, 252, 253, 251, 248, 246, 250, 235, 209, 252, 227, 181, 244, 227, 186, 247, 242, 223, 252, 250, 241, 246, 243, 223, 187, 180, 158, 103, 92, 72, 82, 73, 54, 103, 97, 82, 177, 176, 166, 147, 136, 107, 158, 145, 113, 168, 152, 119, 156, 145, 113, 91, 84, 58, 102, 94, 72, 142, 134, 106, 157, 150, 116, 157, 151, 120, 162, 155, 126, 168, 161, 135, 175, 166, 144, 214, 206, 185, 184, 183, 159, 93, 94, 68, 115, 113, 88, 128, 123, 98, 139, 135, 116, 232, 230, 222, 254, 252, 253, 251, 250, 248, 252, 249, 235, 251, 243, 222, 247, 239, 223, 248, 245, 239, 249, 249, 242, 248, 245, 228, 236, 229, 205, 164, 153, 130, 93, 82, 59, 83, 76, 55, 85, 83, 66, 151, 140, 111, 158, 146, 115, 164, 150, 117, 121, 111, 81, 89, 81, 57, 145, 136, 114, 165, 157, 127, 176, 169, 135, 169, 162, 134, 172, 166, 142, 182, 175, 155, 228, 222, 205, 235, 228, 214, 155, 152, 131, 110, 110, 83, 124, 122, 96, 131, 127, 105, 163, 160, 146, 249, 247, 242, 249, 249, 247, 252, 252, 248, 250, 255, 252, 250, 255, 255, 255, 255, 255, 255, 252, 254, 250, 251, 245, 247, 245, 230, 246, 241, 221, 237, 229, 209, 136, 127, 101, 88, 82, 57, 83, 81, 58, 155, 145, 116, 154, 145, 119, 125, 118, 88, 83, 73, 47, 127, 117, 90, 178, 171, 140, 163, 158, 129, 176, 170, 145, 199, 194, 177, 225, 224, 215, 242, 242, 229, 238, 233, 211, 185, 174, 145, 144, 135, 107, 128, 123, 96, 126, 121, 98, 129, 125, 103, 198, 194, 182, 255, 253, 250, 252, 248, 244, 244, 241, 232, 234, 232, 222, 225, 222, 212, 226, 220, 208, 238, 229, 220, 250, 244, 238, 252, 250, 240, 250, 249, 240, 253, 249, 242, 222, 221, 200, 125, 123, 98, 82, 78, 56, 152, 143, 116, 120, 114, 92, 85, 81, 55, 84, 77, 54, 152, 144, 121, 183, 179, 152, 181, 178, 157, 210, 208, 196, 243, 242, 238, 249, 251, 252, 250, 250, 245, 227, 220, 199, 183, 169, 135, 151, 138, 107, 132, 121, 95, 121, 112, 90, 161, 154, 133, 223, 216, 202, 230, 218, 210, 211, 198, 186, 195, 179, 161, 184, 164, 145, 173, 150, 131, 174, 149, 129, 181, 158, 142, 199, 183, 172, 226, 220, 203, 241, 239, 217, 244, 241, 220, 246, 241, 220, 208, 199, 174, 126, 115, 90, 139, 132, 111, 95, 90, 73, 77, 75, 54, 91, 89, 71, 181, 178, 164, 222, 221, 208, 234, 233, 226, 246, 248, 246, 248, 252, 252, 248, 250, 251, 251, 248, 242, 245, 237, 215, 215, 199, 168, 174, 157, 128, 153, 137, 112, 173, 159, 137, 196, 182, 164, 179, 162, 146, 171, 147, 131, 169, 142, 120, 184, 155, 125, 202, 172, 140, 197, 163, 136, 180, 143, 120, 171, 136, 115, 159, 134, 111, 163, 148, 122, 170, 159, 129, 175, 162, 133, 174, 156, 139, 165, 148, 125, 143, 130, 104, 197, 193, 178, 191, 189, 178, 141, 142, 127, 164, 165, 152, 239, 239, 233, 253, 253, 251, 253, 252, 254, 248, 251, 248, 247, 253, 243, 250, 250, 237, 249, 244, 222, 210, 201, 169, 169, 153, 123, 155, 138, 110, 154, 137, 111, 163, 144, 122, 158, 135, 119, 155, 129, 110, 167, 139, 114, 195, 163, 133, 228, 201, 160, 236, 211, 167, 224, 195, 157, 201, 168, 137, 212, 179, 145, 204, 177, 141, 155, 135, 113, 143, 124, 112, 146, 125, 117, 145, 125, 118, 139, 126, 109, 134, 127, 106, 251, 250, 241, 252, 253, 248, 244, 247, 238, 247, 250, 242, 253, 254, 251, 250, 249, 250, 251, 248, 247, 250, 250, 238, 248, 249, 224, 243, 238, 209, 233, 225, 190, 204, 198, 158, 166, 154, 125, 166, 152, 125, 174, 159, 132, 163, 145, 120, 160, 134, 117, 168, 141, 119, 211, 186, 154, 237, 212, 179, 247, 229, 189, 245, 232, 188, 226, 209, 168, 232, 211, 173, 252, 227, 187, 223, 199, 163, 170, 151, 138, 213, 198, 201, 226, 211, 216, 226, 216, 211, 232, 226, 210, 223, 220, 198, 254, 254, 249, 248, 249, 249, 250, 254, 250, 250, 253, 248, 250, 250, 249, 254, 251, 250, 252, 246, 236, 246, 240, 218, 246, 237, 209, 242, 228, 198, 205, 193, 159, 183, 177, 142, 178, 172, 143, 181, 173, 144, 192, 180, 151, 187, 171, 144, 172, 145, 126, 185, 160, 134, 242, 225, 190, 251, 239, 205, 251, 238, 205, 252, 239, 204, 248, 233, 198, 247, 227, 189, 234, 211, 175, 194, 175, 150, 211, 200, 190, 247, 242, 232, 248, 241, 226, 249, 239, 223, 240, 229, 204, 228, 216, 184, 250, 251, 249, 246, 247, 248, 246, 248, 247, 247, 249, 247, 248, 247, 243, 241, 237, 226, 243, 234, 214, 242, 232, 205, 244, 234, 211, 241, 230, 208, 190, 180, 150, 168, 159, 132, 180, 174, 149, 175, 168, 142, 177, 168, 143, 172, 160, 135, 160, 138, 116, 187, 165, 137, 230, 216, 183, 219, 207, 176, 209, 195, 166, 205, 188, 162, 206, 191, 166, 222, 207, 184, 225, 213, 194, 223, 215, 204, 238, 234, 223, 230, 229, 205, 230, 226, 191, 233, 221, 188, 230, 215, 179, 220, 202, 163], \"height\": 32, \"channels\": 3, \"width\": 32, \"type\": \"image\", \"id\": 5072485456}, {\"format\": \"raw\", \"value\": [255, 255, 255, 255, 255, 255, 255, 255, 255, 255, 255, 255, 255, 255, 255, 255, 255, 255, 255, 255, 255, 255, 255, 255, 255, 255, 255, 255, 255, 255, 255, 255, 255, 255, 255, 255, 253, 254, 254, 253, 253, 253, 250, 249, 249, 249, 248, 248, 248, 248, 247, 248, 245, 240, 247, 239, 229, 243, 226, 205, 227, 204, 176, 219, 201, 178, 219, 202, 183, 216, 196, 180, 207, 186, 176, 195, 182, 173, 183, 170, 161, 179, 166, 154, 175, 161, 147, 176, 160, 149, 183, 162, 155, 155, 140, 133, 255, 255, 255, 242, 242, 242, 242, 242, 242, 245, 245, 245, 247, 247, 247, 247, 247, 247, 244, 244, 244, 242, 242, 242, 238, 238, 241, 239, 238, 243, 236, 236, 240, 230, 230, 231, 229, 229, 230, 211, 200, 194, 185, 166, 154, 183, 163, 151, 197, 175, 164, 199, 184, 170, 201, 188, 174, 208, 193, 180, 195, 178, 161, 191, 176, 160, 190, 170, 158, 175, 151, 136, 141, 127, 115, 126, 113, 107, 120, 108, 102, 115, 104, 94, 113, 100, 85, 114, 100, 93, 111, 97, 92, 72, 60, 54, 255, 255, 255, 238, 238, 238, 235, 235, 235, 241, 241, 241, 243, 243, 243, 245, 245, 244, 242, 242, 243, 237, 236, 243, 232, 231, 238, 229, 228, 234, 230, 230, 232, 221, 222, 219, 201, 196, 188, 176, 158, 143, 174, 149, 127, 185, 154, 134, 195, 164, 145, 187, 167, 149, 199, 180, 169, 207, 189, 186, 182, 166, 157, 164, 146, 132, 164, 138, 125, 158, 130, 118, 144, 119, 108, 126, 107, 96, 114, 100, 89, 105, 96, 81, 106, 95, 78, 109, 93, 85, 95, 87, 82, 63, 55, 49, 255, 255, 255, 231, 230, 230, 218, 216, 217, 225, 224, 225, 229, 229, 229, 227, 228, 227, 226, 226, 227, 225, 225, 229, 224, 223, 226, 224, 221, 228, 221, 218, 224, 208, 206, 210, 182, 169, 160, 188, 169, 151, 203, 182, 165, 203, 177, 160, 200, 171, 156, 199, 181, 168, 201, 186, 177, 193, 177, 170, 184, 168, 159, 171, 152, 138, 177, 150, 138, 173, 141, 128, 148, 104, 88, 131, 104, 90, 121, 104, 88, 114, 101, 84, 113, 99, 81, 113, 97, 83, 100, 89, 82, 64, 56, 52, 253, 253, 253, 218, 216, 217, 204, 202, 203, 203, 202, 202, 211, 211, 211, 212, 212, 212, 211, 211, 211, 222, 223, 222, 217, 216, 216, 211, 201, 204, 197, 183, 186, 181, 167, 169, 185, 166, 166, 192, 176, 167, 186, 167, 152, 173, 152, 132, 173, 150, 132, 184, 167, 156, 182, 169, 161, 181, 170, 161, 187, 176, 168, 194, 179, 174, 193, 174, 164, 186, 163, 149, 167, 133, 120, 146, 116, 106, 129, 108, 94, 121, 103, 88, 118, 100, 84, 113, 96, 80, 103, 89, 78, 64, 55, 50, 252, 252, 252, 202, 201, 201, 191, 190, 191, 188, 187, 187, 189, 189, 189, 197, 197, 197, 215, 215, 215, 226, 228, 229, 204, 200, 202, 186, 167, 162, 180, 158, 150, 187, 168, 164, 192, 177, 174, 184, 170, 166, 180, 163, 158, 172, 156, 148, 161, 145, 136, 155, 140, 133, 165, 152, 147, 160, 151, 145, 179, 169, 164, 190, 181, 175, 194, 184, 178, 196, 179, 173, 186, 169, 163, 159, 140, 127, 129, 106, 88, 122, 103, 87, 119, 100, 85, 116, 101, 84, 109, 96, 80, 67, 61, 50, 252, 252, 252, 199, 199, 199, 191, 191, 191, 199, 199, 199, 199, 199, 199, 216, 216, 217, 220, 219, 219, 189, 185, 182, 183, 169, 167, 180, 160, 154, 170, 153, 143, 174, 161, 154, 179, 170, 163, 179, 169, 162, 173, 162, 156, 163, 151, 146, 155, 143, 138, 157, 145, 140, 167, 155, 149, 156, 143, 134, 165, 152, 143, 181, 170, 162, 201, 189, 183, 206, 194, 188, 202, 191, 185, 191, 177, 169, 150, 128, 113, 123, 100, 86, 119, 100, 85, 115, 103, 86, 111, 100, 81, 72, 65, 53, 252, 252, 252, 208, 208, 208, 205, 205, 205, 224, 224, 224, 225, 224, 224, 216, 215, 215, 169, 163, 158, 146, 132, 119, 175, 153, 143, 174, 157, 153, 164, 156, 150, 174, 164, 156, 182, 168, 163, 170, 157, 150, 151, 136, 123, 146, 128, 114, 146, 127, 114, 149, 130, 117, 157, 140, 126, 163, 146, 131, 166, 148, 134, 180, 163, 157, 193, 180, 174, 198, 188, 181, 196, 188, 180, 199, 189, 185, 179, 161, 153, 135, 110, 98, 109, 87, 73, 118, 102, 86, 116, 103, 85, 76, 65, 55, 253, 253, 253, 206, 206, 206, 199, 199, 199, 215, 215, 215, 214, 215, 215, 192, 188, 187, 131, 117, 105, 148, 127, 111, 163, 141, 128, 151, 134, 127, 154, 146, 140, 173, 162, 153, 174, 157, 150, 168, 150, 139, 160, 141, 126, 156, 134, 118, 161, 133, 116, 161, 134, 117, 162, 140, 123, 169, 150, 135, 175, 155, 141, 183, 162, 155, 184, 168, 163, 186, 172, 167, 187, 171, 166, 184, 170, 165, 178, 158, 149, 156, 129, 114, 114, 88, 72, 113, 93, 79, 120, 100, 84, 76, 64, 54, 252, 252, 252, 206, 205, 205, 188, 187, 188, 184, 182, 182, 188, 184, 182, 158, 152, 149, 121, 110, 98, 141, 123, 109, 137, 116, 103, 136, 119, 104, 156, 138, 127, 172, 150, 139, 178, 157, 143, 177, 157, 143, 169, 145, 132, 173, 144, 127, 184, 151, 130, 187, 155, 132, 182, 155, 134, 175, 156, 140, 172, 153, 137, 172, 152, 138, 177, 156, 148, 188, 165, 159, 185, 164, 157, 174, 154, 147, 162, 141, 129, 156, 122, 103, 131, 98, 78, 107, 87, 72, 117, 98, 82, 78, 65, 56, 252, 252, 252, 202, 203, 203, 182, 179, 179, 141, 129, 127, 134, 119, 115, 142, 129, 121, 155, 142, 128, 143, 126, 112, 134, 114, 98, 139, 118, 101, 176, 152, 135, 190, 165, 152, 194, 173, 159, 186, 167, 152, 180, 157, 142, 187, 161, 146, 200, 173, 158, 201, 175, 158, 198, 176, 159, 186, 166, 152, 175, 157, 139, 169, 151, 135, 177, 158, 143, 188, 168, 151, 186, 169, 153, 167, 149, 140, 157, 134, 124, 154, 118, 102, 140, 101, 82, 118, 95, 81, 118, 99, 83, 78, 66, 56, 251, 251, 251, 215, 216, 217, 172, 164, 161, 116, 100, 95, 122, 107, 101, 145, 128, 117, 158, 135, 121, 152, 125, 110, 145, 119, 99, 148, 124, 105, 187, 167, 150, 206, 186, 172, 210, 189, 175, 199, 179, 164, 187, 168, 154, 193, 175, 161, 202, 184, 169, 205, 187, 170, 202, 186, 170, 194, 176, 161, 184, 165, 148, 173, 154, 138, 170, 150, 135, 166, 145, 131, 165, 149, 139, 139, 122, 119, 144, 121, 116, 157, 120, 107, 154, 111, 94, 126, 100, 86, 115, 95, 80, 79, 66, 56, 252, 252, 252, 199, 198, 197, 122, 114, 110, 114, 99, 96, 127, 112, 102, 127, 107, 89, 135, 106, 93, 161, 129, 111, 157, 126, 104, 168, 145, 125, 197, 179, 163, 214, 194, 184, 215, 196, 184, 205, 186, 171, 195, 176, 161, 186, 168, 153, 178, 160, 145, 189, 170, 155, 196, 178, 162, 189, 168, 152, 178, 154, 135, 155, 136, 119, 146, 125, 111, 144, 120, 107, 90, 76, 70, 59, 49, 52, 92, 70, 66, 131, 93, 77, 147, 104, 87, 135, 109, 90, 116, 97, 79, 79, 67, 56, 252, 252, 252, 150, 149, 145, 107, 99, 91, 124, 111, 104, 115, 99, 92, 102, 82, 71, 127, 99, 80, 161, 130, 108, 167, 135, 114, 187, 163, 143, 206, 187, 169, 216, 203, 195, 216, 206, 200, 207, 190, 177, 195, 176, 159, 169, 149, 134, 142, 121, 110, 141, 120, 112, 167, 144, 128, 172, 139, 121, 152, 124, 103, 131, 111, 94, 123, 102, 87, 118, 98, 84, 76, 59, 54, 58, 44, 48, 96, 66, 60, 144, 97, 76, 135, 89, 68, 125, 95, 74, 115, 96, 79, 77, 65, 54, 236, 233, 232, 114, 106, 99, 117, 106, 99, 123, 111, 105, 100, 82, 78, 80, 62, 55, 115, 91, 76, 154, 124, 103, 179, 149, 126, 197, 170, 151, 208, 187, 174, 211, 197, 191, 214, 197, 190, 209, 187, 175, 189, 166, 146, 143, 119, 103, 104, 80, 76, 99, 77, 73, 132, 107, 94, 145, 112, 96, 132, 104, 86, 122, 103, 86, 122, 102, 89, 128, 109, 104, 134, 115, 115, 123, 108, 106, 125, 94, 83, 145, 96, 78, 138, 95, 74, 115, 89, 71, 113, 92, 78, 74, 60, 52, 187, 178, 173, 104, 88, 79, 119, 102, 98, 115, 100, 95, 94, 75, 71, 60, 43, 36, 94, 70, 56, 146, 115, 95, 188, 158, 135, 195, 167, 149, 196, 176, 161, 197, 178, 164, 204, 180, 163, 193, 166, 151, 156, 128, 110, 111, 91, 86, 75, 64, 75, 75, 61, 63, 103, 84, 77, 117, 89, 76, 125, 102, 87, 145, 132, 119, 163, 150, 142, 164, 152, 146, 166, 155, 153, 174, 164, 162, 160, 144, 140, 143, 106, 97, 126, 88, 70, 111, 89, 73, 107, 85, 76, 69, 54, 51, 161, 150, 143, 93, 76, 69, 111, 93, 89, 103, 85, 81, 78, 58, 55, 48, 30, 24, 81, 60, 44, 133, 101, 81, 185, 152, 131, 193, 162, 145, 188, 165, 150, 189, 164, 146, 186, 156, 136, 145, 115, 101, 102, 78, 72, 60, 51, 61, 49, 46, 56, 64, 56, 61, 81, 65, 64, 113, 92, 78, 156, 137, 122, 177, 162, 150, 169, 155, 144, 156, 139, 128, 151, 139, 131, 156, 146, 142, 161, 151, 151, 152, 137, 134, 125, 94, 81, 113, 84, 69, 105, 86, 81, 68, 58, 54, 150, 140, 133, 74, 59, 53, 88, 75, 70, 96, 79, 75, 77, 56, 53, 62, 40, 34, 104, 76, 65, 132, 100, 79, 169, 137, 115, 188, 155, 138, 189, 159, 143, 177, 143, 124, 171, 134, 117, 147, 112, 105, 94, 71, 68, 52, 45, 41, 48, 41, 41, 86, 68, 67, 101, 78, 76, 142, 122, 116, 184, 164, 151, 181, 161, 145, 162, 141, 125, 152, 131, 115, 159, 140, 127, 146, 127, 114, 131, 116, 107, 145, 136, 134, 139, 124, 118, 117, 93, 88, 103, 88, 83, 66, 61, 56, 140, 130, 123, 66, 50, 44, 80, 61, 57, 115, 97, 92, 106, 87, 77, 88, 64, 54, 131, 97, 87, 151, 119, 99, 157, 128, 103, 180, 150, 130, 188, 154, 134, 184, 148, 131, 182, 150, 131, 176, 139, 123, 153, 114, 97, 116, 86, 72, 106, 78, 75, 135, 101, 99, 134, 114, 108, 135, 119, 116, 140, 122, 110, 142, 125, 109, 127, 106, 91, 112, 89, 74, 122, 101, 89, 151, 131, 118, 130, 116, 106, 132, 123, 118, 148, 137, 132, 119, 108, 103, 105, 90, 88, 67, 62, 56, 130, 119, 112, 75, 58, 52, 73, 57, 53, 124, 103, 99, 136, 113, 102, 118, 90, 80, 129, 95, 83, 152, 120, 103, 148, 118, 100, 169, 132, 113, 184, 148, 131, 205, 172, 160, 200, 159, 143, 190, 146, 129, 190, 143, 125, 173, 130, 111, 167, 127, 111, 165, 133, 124, 125, 115, 108, 90, 76, 70, 86, 67, 59, 121, 102, 88, 100, 81, 71, 65, 46, 41, 60, 45, 44, 77, 65, 65, 128, 120, 118, 159, 148, 144, 146, 129, 125, 128, 115, 108, 111, 98, 96, 68, 65, 58, 122, 112, 105, 83, 68, 61, 68, 59, 53, 117, 100, 94, 143, 115, 104, 134, 106, 94, 128, 100, 89, 128, 101, 89, 132, 104, 90, 155, 120, 104, 190, 158, 140, 193, 160, 147, 181, 132, 114, 188, 136, 116, 190, 145, 128, 180, 140, 123, 173, 143, 133, 157, 141, 138, 105, 97, 89, 78, 67, 60, 113, 94, 91, 121, 106, 103, 68, 59, 60, 54, 44, 48, 61, 51, 55, 49, 45, 48, 101, 97, 96, 170, 156, 153, 130, 109, 106, 98, 78, 74, 101, 87, 84, 73, 65, 60, 125, 115, 108, 95, 81, 74, 82, 72, 66, 105, 91, 84, 133, 106, 93, 138, 111, 99, 143, 130, 119, 154, 137, 130, 139, 116, 103, 157, 130, 117, 186, 155, 137, 173, 129, 109, 163, 107, 89, 173, 119, 100, 177, 138, 125, 171, 138, 127, 158, 138, 135, 164, 155, 153, 131, 119, 113, 112, 97, 87, 130, 112, 105, 94, 78, 79, 53, 42, 45, 39, 33, 36, 41, 36, 38, 39, 36, 36, 99, 93, 90, 164, 147, 144, 115, 95, 92, 66, 50, 46, 82, 65, 62, 72, 60, 57, 135, 124, 120, 94, 80, 74, 88, 78, 73, 86, 72, 66, 106, 81, 72, 126, 99, 90, 143, 127, 121, 164, 146, 137, 151, 129, 113, 145, 126, 112, 176, 143, 128, 165, 115, 94, 148, 92, 74, 160, 111, 95, 156, 124, 108, 141, 117, 102, 138, 125, 119, 155, 148, 144, 133, 121, 116, 108, 89, 81, 109, 89, 80, 117, 96, 94, 96, 82, 84, 68, 64, 67, 41, 38, 40, 48, 43, 43, 107, 97, 93, 130, 108, 106, 80, 62, 58, 55, 46, 39, 82, 68, 64, 74, 63, 57, 138, 128, 122, 76, 63, 57, 83, 72, 68, 81, 70, 66, 99, 78, 75, 126, 102, 98, 130, 105, 102, 138, 111, 94, 150, 125, 105, 147, 129, 113, 161, 137, 123, 165, 127, 109, 148, 101, 80, 150, 112, 95, 147, 117, 103, 132, 110, 99, 133, 122, 116, 152, 143, 140, 142, 132, 125, 107, 90, 85, 116, 94, 86, 132, 111, 99, 125, 108, 103, 102, 86, 86, 72, 58, 62, 67, 57, 59, 85, 74, 68, 80, 58, 56, 56, 39, 34, 52, 44, 36, 87, 77, 71, 74, 64, 58, 128, 118, 109, 59, 46, 38, 69, 58, 54, 87, 75, 75, 106, 87, 86, 109, 88, 86, 111, 89, 83, 123, 93, 74, 134, 104, 88, 152, 130, 116, 146, 125, 112, 159, 128, 114, 158, 115, 99, 144, 112, 97, 150, 121, 109, 134, 116, 106, 124, 113, 112, 135, 124, 124, 141, 130, 127, 114, 99, 93, 129, 110, 102, 141, 120, 112, 134, 112, 108, 109, 86, 83, 76, 61, 63, 76, 67, 71, 82, 69, 65, 61, 38, 37, 57, 39, 36, 65, 52, 46, 101, 86, 78, 77, 67, 58, 121, 111, 103, 56, 43, 35, 64, 54, 48, 77, 63, 66, 103, 90, 86, 102, 85, 81, 104, 86, 77, 107, 82, 69, 118, 88, 76, 138, 112, 99, 139, 120, 105, 142, 120, 106, 145, 117, 102, 136, 114, 98, 144, 120, 110, 132, 119, 110, 114, 104, 106, 116, 104, 109, 124, 113, 115, 121, 113, 107, 125, 112, 108, 126, 106, 103, 102, 81, 78, 87, 69, 65, 84, 73, 72, 109, 99, 97, 100, 83, 72, 70, 49, 39, 70, 54, 42, 91, 73, 62, 111, 90, 77, 79, 67, 55, 122, 112, 104, 63, 50, 42, 58, 48, 42, 62, 51, 50, 95, 84, 78, 106, 92, 82, 99, 85, 71, 100, 81, 70, 111, 87, 74, 126, 97, 85, 129, 102, 90, 134, 106, 94, 130, 105, 91, 126, 107, 95, 135, 113, 109, 116, 102, 98, 99, 89, 89, 103, 91, 94, 104, 92, 94, 108, 98, 97, 108, 91, 90, 90, 69, 67, 75, 54, 52, 99, 80, 75, 99, 81, 73, 104, 84, 75, 102, 82, 67, 98, 78, 63, 92, 75, 59, 87, 68, 53, 110, 89, 76, 79, 67, 56, 139, 129, 121, 67, 54, 45, 49, 39, 33, 61, 50, 43, 94, 80, 70, 117, 101, 86, 113, 100, 83, 102, 88, 75, 111, 91, 77, 118, 91, 78, 117, 88, 76, 117, 87, 76, 122, 91, 80, 117, 91, 82, 123, 99, 92, 112, 94, 88, 97, 86, 82, 95, 80, 80, 95, 78, 78, 81, 68, 65, 77, 58, 54, 73, 52, 47, 75, 55, 49, 93, 71, 59, 101, 77, 63, 111, 88, 74, 119, 98, 84, 127, 106, 92, 118, 100, 85, 94, 72, 58, 97, 74, 59, 76, 65, 54, 155, 145, 137, 68, 54, 45, 55, 45, 38, 79, 65, 56, 113, 94, 81, 136, 117, 101, 127, 114, 97, 106, 92, 79, 110, 91, 77, 116, 98, 82, 119, 100, 84, 123, 96, 83, 134, 100, 86, 137, 105, 93, 126, 98, 86, 118, 95, 82, 107, 91, 79, 100, 82, 72, 100, 79, 69, 82, 63, 53, 90, 71, 65, 122, 102, 96, 136, 116, 108, 150, 125, 115, 134, 106, 95, 125, 99, 86, 128, 103, 90, 139, 116, 104, 132, 114, 100, 115, 95, 80, 108, 86, 66, 76, 65, 51, 157, 146, 138, 80, 66, 56, 77, 70, 57, 102, 86, 72, 132, 112, 97, 135, 120, 104, 124, 115, 97, 110, 94, 78, 119, 99, 84, 119, 101, 85, 128, 109, 94, 141, 118, 104, 147, 117, 101, 154, 123, 105, 162, 130, 118, 155, 126, 114, 145, 124, 109, 141, 122, 107, 135, 113, 99, 123, 103, 88, 149, 129, 115, 166, 146, 135, 165, 144, 136, 173, 150, 143, 155, 132, 121, 141, 120, 105, 139, 119, 110, 149, 131, 121, 147, 131, 119, 126, 109, 94, 114, 95, 79, 77, 65, 55, 161, 150, 142, 105, 91, 80, 90, 82, 70, 108, 95, 80, 125, 112, 94, 121, 108, 91, 121, 106, 90, 105, 86, 71, 112, 93, 78, 113, 94, 80, 129, 110, 98, 145, 128, 117, 151, 135, 123, 164, 141, 124, 169, 140, 127, 174, 147, 135, 173, 152, 137, 160, 141, 125, 148, 125, 111, 149, 125, 111, 155, 132, 118, 161, 142, 129, 174, 154, 149, 168, 150, 141, 157, 140, 123, 152, 132, 116, 138, 121, 112, 132, 123, 111, 129, 118, 101, 128, 109, 92, 115, 96, 81, 77, 65, 56, 145, 139, 130, 69, 61, 50, 65, 59, 51, 69, 62, 50, 74, 66, 51, 74, 66, 52, 78, 67, 58, 76, 61, 52, 74, 61, 50, 71, 62, 50, 79, 69, 61, 93, 83, 76, 108, 100, 93, 106, 94, 84, 109, 93, 82, 116, 102, 89, 107, 93, 80, 100, 85, 72, 101, 87, 75, 104, 93, 85, 100, 90, 83, 103, 93, 88, 110, 99, 96, 107, 96, 89, 103, 92, 82, 95, 81, 71, 84, 73, 63, 82, 76, 69, 73, 67, 57, 74, 64, 49, 72, 60, 50, 66, 56, 48], \"height\": 32, \"channels\": 3, \"width\": 32, \"type\": \"image\", \"id\": 5072485328}, {\"format\": \"raw\", \"value\": [16, 17, 11, 18, 19, 13, 20, 21, 15, 24, 25, 19, 26, 27, 21, 22, 23, 17, 19, 20, 14, 19, 20, 15, 16, 17, 12, 12, 13, 8, 11, 12, 8, 28, 17, 6, 88, 44, 8, 84, 41, 13, 84, 46, 31, 91, 51, 34, 97, 56, 36, 101, 61, 40, 85, 51, 33, 74, 45, 28, 79, 47, 29, 92, 54, 35, 96, 53, 33, 103, 58, 34, 86, 48, 27, 86, 52, 34, 107, 68, 51, 90, 61, 48, 101, 93, 92, 116, 130, 145, 103, 110, 123, 98, 94, 100, 12, 13, 9, 15, 16, 12, 20, 21, 17, 23, 24, 19, 27, 28, 22, 24, 25, 19, 20, 21, 15, 21, 22, 16, 16, 17, 12, 13, 14, 9, 12, 13, 9, 25, 15, 5, 81, 41, 10, 80, 41, 14, 83, 45, 25, 100, 55, 33, 108, 61, 39, 100, 57, 36, 67, 31, 16, 62, 30, 19, 75, 39, 25, 99, 57, 37, 112, 65, 43, 99, 55, 31, 74, 38, 19, 80, 45, 29, 102, 62, 43, 98, 66, 53, 105, 95, 95, 114, 126, 142, 102, 108, 123, 97, 92, 99, 19, 19, 17, 22, 22, 20, 20, 20, 17, 23, 25, 19, 28, 29, 23, 26, 27, 21, 21, 22, 16, 21, 22, 16, 16, 17, 12, 16, 16, 11, 14, 16, 12, 23, 18, 13, 78, 45, 25, 102, 68, 50, 94, 59, 39, 102, 57, 34, 108, 61, 37, 112, 67, 43, 100, 61, 40, 105, 64, 45, 111, 66, 47, 114, 67, 46, 124, 75, 52, 103, 61, 36, 81, 46, 29, 78, 43, 28, 102, 61, 40, 99, 72, 61, 108, 103, 105, 118, 133, 149, 103, 109, 123, 96, 94, 100, 23, 23, 21, 70, 70, 69, 64, 63, 60, 29, 29, 24, 25, 26, 21, 26, 27, 22, 22, 23, 17, 22, 23, 18, 18, 19, 14, 16, 16, 12, 15, 17, 15, 46, 44, 46, 112, 84, 75, 106, 78, 70, 96, 65, 52, 105, 64, 42, 107, 64, 38, 118, 73, 46, 121, 80, 52, 123, 82, 55, 122, 80, 53, 120, 80, 53, 121, 82, 54, 107, 67, 41, 87, 52, 37, 82, 45, 30, 101, 59, 37, 83, 63, 54, 84, 85, 88, 108, 123, 135, 88, 93, 102, 77, 77, 82, 29, 28, 28, 78, 77, 81, 116, 104, 102, 104, 94, 91, 37, 35, 32, 25, 25, 21, 24, 23, 20, 23, 23, 20, 19, 19, 17, 16, 15, 14, 22, 23, 24, 97, 90, 89, 151, 118, 108, 111, 87, 81, 111, 85, 77, 111, 70, 48, 110, 66, 40, 114, 70, 43, 115, 72, 45, 119, 80, 51, 123, 78, 50, 114, 71, 46, 113, 72, 43, 110, 66, 40, 86, 49, 34, 81, 41, 24, 97, 54, 32, 70, 49, 41, 49, 44, 44, 61, 62, 66, 56, 54, 60, 52, 49, 51, 29, 28, 28, 49, 48, 52, 108, 92, 88, 156, 139, 128, 90, 83, 72, 31, 30, 21, 23, 23, 18, 40, 39, 34, 60, 57, 53, 68, 63, 60, 66, 61, 58, 130, 111, 102, 135, 95, 80, 122, 95, 86, 126, 105, 100, 103, 70, 55, 94, 60, 40, 92, 58, 39, 94, 59, 40, 99, 61, 38, 101, 57, 33, 93, 51, 28, 91, 51, 29, 87, 47, 25, 74, 40, 25, 73, 41, 28, 88, 53, 40, 63, 45, 40, 51, 44, 43, 52, 49, 49, 53, 49, 52, 53, 48, 49, 27, 26, 24, 56, 56, 59, 105, 88, 82, 137, 105, 88, 139, 114, 97, 109, 95, 84, 98, 87, 81, 117, 110, 105, 162, 153, 146, 158, 144, 136, 117, 100, 89, 127, 96, 79, 128, 84, 67, 123, 93, 80, 129, 113, 109, 92, 75, 69, 55, 38, 29, 55, 38, 30, 63, 44, 34, 83, 53, 38, 94, 61, 42, 101, 63, 38, 92, 59, 37, 103, 71, 49, 89, 59, 37, 63, 44, 36, 67, 47, 46, 55, 41, 40, 52, 48, 46, 55, 53, 53, 58, 54, 55, 58, 54, 54, 26, 25, 22, 64, 64, 65, 99, 82, 75, 130, 92, 76, 161, 127, 112, 164, 140, 131, 168, 149, 144, 173, 160, 154, 211, 196, 186, 172, 149, 136, 122, 93, 75, 144, 106, 87, 143, 101, 87, 135, 104, 89, 120, 108, 106, 90, 85, 87, 38, 33, 34, 31, 26, 28, 46, 38, 38, 86, 67, 59, 106, 87, 72, 140, 105, 73, 129, 99, 69, 138, 113, 82, 147, 118, 81, 65, 57, 45, 49, 42, 45, 50, 41, 41, 54, 53, 51, 60, 60, 58, 63, 58, 58, 64, 59, 58, 31, 31, 27, 67, 66, 66, 116, 99, 93, 143, 114, 102, 181, 158, 147, 194, 179, 171, 196, 182, 177, 198, 185, 177, 206, 187, 174, 156, 127, 109, 131, 97, 75, 162, 126, 108, 152, 115, 104, 151, 120, 104, 125, 115, 112, 79, 79, 84, 37, 37, 41, 21, 22, 26, 24, 23, 26, 58, 49, 44, 103, 93, 77, 160, 127, 88, 149, 121, 83, 144, 120, 79, 177, 149, 99, 85, 82, 64, 41, 40, 45, 51, 47, 49, 56, 56, 56, 63, 62, 61, 66, 61, 61, 68, 64, 63, 29, 29, 29, 70, 66, 66, 118, 103, 100, 160, 141, 133, 180, 168, 159, 185, 172, 167, 206, 195, 192, 196, 183, 172, 174, 153, 133, 141, 112, 90, 148, 123, 105, 175, 150, 137, 172, 139, 123, 178, 150, 133, 142, 130, 126, 65, 65, 67, 29, 30, 32, 19, 20, 23, 18, 18, 21, 57, 52, 45, 142, 124, 100, 186, 156, 120, 166, 145, 104, 175, 158, 118, 185, 168, 126, 87, 81, 67, 42, 44, 50, 47, 49, 57, 46, 46, 52, 60, 59, 62, 69, 65, 67, 70, 67, 66, 51, 51, 52, 77, 72, 74, 117, 103, 102, 156, 142, 135, 156, 147, 137, 138, 123, 114, 154, 140, 131, 159, 141, 132, 136, 110, 98, 126, 99, 87, 166, 147, 140, 201, 184, 176, 183, 158, 143, 201, 177, 163, 142, 130, 126, 46, 46, 47, 18, 19, 21, 17, 18, 20, 22, 22, 25, 43, 38, 34, 138, 119, 97, 166, 136, 107, 185, 162, 122, 157, 147, 114, 173, 168, 135, 98, 94, 82, 46, 47, 49, 50, 53, 62, 45, 45, 53, 51, 49, 54, 70, 66, 69, 76, 72, 72, 60, 58, 59, 79, 74, 77, 127, 115, 116, 143, 132, 126, 143, 136, 124, 143, 125, 112, 128, 110, 94, 105, 86, 72, 127, 100, 88, 142, 123, 110, 167, 151, 144, 209, 197, 190, 176, 159, 148, 195, 175, 165, 149, 137, 134, 44, 42, 45, 23, 24, 28, 30, 31, 34, 33, 33, 38, 42, 37, 39, 74, 60, 50, 121, 95, 74, 177, 144, 103, 173, 147, 109, 193, 179, 144, 124, 119, 108, 46, 50, 52, 52, 55, 63, 45, 45, 53, 43, 42, 46, 68, 64, 67, 80, 76, 75, 59, 56, 56, 71, 68, 70, 131, 121, 123, 147, 135, 130, 137, 128, 117, 150, 130, 119, 128, 110, 95, 94, 77, 63, 140, 112, 103, 156, 143, 129, 162, 146, 136, 196, 181, 173, 182, 167, 156, 175, 158, 148, 132, 120, 114, 50, 49, 51, 32, 34, 38, 39, 40, 44, 44, 44, 50, 48, 46, 53, 44, 41, 40, 98, 80, 65, 176, 139, 97, 150, 117, 83, 145, 128, 101, 101, 98, 94, 45, 50, 56, 48, 52, 61, 42, 42, 50, 39, 38, 42, 68, 64, 67, 87, 80, 81, 65, 61, 60, 73, 69, 71, 135, 125, 127, 149, 134, 128, 113, 101, 92, 111, 92, 85, 129, 114, 105, 116, 105, 101, 128, 103, 105, 112, 99, 95, 134, 111, 105, 195, 174, 167, 193, 177, 167, 167, 151, 140, 118, 108, 99, 51, 50, 52, 40, 41, 47, 42, 43, 49, 50, 51, 56, 47, 50, 58, 52, 56, 60, 114, 101, 90, 180, 144, 101, 126, 103, 83, 94, 89, 82, 69, 70, 75, 55, 57, 65, 53, 55, 64, 40, 41, 48, 37, 36, 40, 69, 65, 66, 90, 82, 83, 71, 66, 67, 88, 80, 81, 119, 107, 106, 130, 115, 104, 135, 119, 112, 128, 114, 108, 152, 144, 142, 158, 152, 152, 140, 124, 124, 114, 93, 91, 159, 125, 110, 200, 176, 164, 198, 182, 173, 170, 156, 149, 114, 107, 104, 53, 53, 58, 46, 49, 56, 44, 47, 54, 46, 49, 55, 39, 40, 46, 57, 58, 65, 132, 119, 107, 190, 152, 106, 178, 140, 102, 133, 115, 102, 68, 67, 68, 54, 58, 68, 46, 50, 60, 31, 36, 40, 37, 38, 39, 69, 63, 63, 92, 83, 83, 78, 73, 74, 89, 80, 80, 87, 76, 74, 94, 81, 71, 121, 103, 98, 141, 126, 119, 146, 138, 137, 160, 150, 152, 164, 144, 143, 168, 141, 138, 179, 140, 125, 200, 172, 156, 197, 177, 164, 167, 152, 145, 106, 101, 102, 54, 56, 62, 53, 57, 64, 49, 52, 59, 43, 46, 53, 42, 45, 51, 63, 64, 72, 105, 93, 84, 156, 126, 89, 152, 121, 90, 123, 108, 101, 71, 73, 75, 73, 79, 91, 50, 54, 66, 34, 39, 45, 36, 37, 39, 70, 64, 64, 98, 89, 90, 85, 79, 81, 89, 81, 80, 65, 57, 54, 72, 61, 55, 130, 111, 108, 167, 149, 140, 132, 122, 119, 128, 121, 124, 170, 154, 149, 199, 178, 172, 205, 175, 163, 207, 177, 161, 192, 169, 152, 154, 141, 132, 86, 84, 88, 53, 56, 63, 57, 60, 67, 51, 54, 61, 47, 51, 57, 49, 53, 60, 54, 55, 61, 75, 66, 60, 114, 96, 74, 139, 124, 111, 136, 130, 134, 95, 99, 105, 90, 96, 108, 64, 69, 81, 43, 49, 56, 40, 41, 44, 71, 65, 66, 106, 96, 97, 90, 83, 84, 90, 82, 82, 73, 66, 63, 97, 87, 84, 164, 142, 141, 165, 144, 132, 97, 87, 82, 88, 83, 87, 181, 166, 159, 206, 189, 180, 201, 179, 170, 218, 194, 183, 193, 174, 159, 137, 127, 119, 67, 67, 74, 51, 54, 62, 55, 58, 65, 52, 55, 62, 50, 53, 60, 46, 49, 53, 47, 44, 44, 93, 83, 77, 130, 118, 109, 140, 129, 123, 152, 145, 150, 144, 145, 148, 103, 106, 115, 71, 74, 87, 47, 53, 61, 45, 46, 51, 78, 72, 75, 116, 107, 108, 88, 79, 81, 90, 84, 83, 93, 88, 85, 105, 97, 96, 148, 127, 125, 152, 128, 116, 81, 66, 61, 77, 65, 70, 164, 141, 136, 186, 162, 155, 191, 166, 161, 211, 190, 185, 184, 169, 158, 117, 110, 103, 57, 58, 66, 52, 55, 65, 55, 58, 65, 54, 57, 64, 49, 52, 59, 42, 42, 45, 69, 61, 56, 129, 116, 109, 162, 150, 146, 124, 112, 108, 142, 129, 129, 161, 155, 153, 107, 107, 113, 67, 71, 83, 50, 56, 65, 45, 46, 52, 89, 83, 85, 122, 112, 114, 96, 87, 88, 99, 90, 91, 105, 98, 97, 107, 100, 98, 115, 99, 96, 121, 96, 90, 98, 74, 67, 102, 83, 79, 132, 107, 103, 153, 126, 121, 175, 148, 142, 189, 163, 156, 158, 142, 137, 89, 86, 84, 50, 52, 58, 47, 50, 60, 47, 50, 59, 47, 49, 57, 43, 43, 50, 46, 45, 49, 85, 77, 75, 151, 136, 132, 162, 148, 144, 125, 114, 112, 145, 129, 122, 151, 138, 131, 115, 115, 120, 77, 84, 94, 62, 70, 79, 51, 53, 59, 94, 88, 88, 121, 110, 112, 106, 97, 98, 108, 99, 100, 111, 102, 103, 95, 89, 86, 72, 59, 56, 115, 95, 91, 139, 118, 112, 152, 131, 121, 186, 162, 153, 178, 154, 147, 165, 146, 138, 158, 140, 137, 107, 98, 98, 53, 54, 57, 43, 47, 54, 42, 46, 55, 41, 44, 53, 36, 37, 44, 36, 36, 42, 46, 46, 49, 87, 81, 81, 158, 146, 145, 171, 159, 158, 131, 121, 118, 165, 148, 140, 171, 155, 147, 131, 127, 129, 83, 86, 92, 63, 67, 74, 60, 60, 65, 104, 97, 97, 120, 110, 112, 104, 95, 96, 107, 98, 99, 111, 103, 103, 107, 102, 99, 100, 89, 86, 136, 122, 120, 149, 135, 131, 181, 162, 152, 228, 206, 197, 194, 176, 169, 157, 147, 141, 101, 95, 96, 56, 56, 60, 44, 50, 54, 43, 47, 54, 44, 46, 54, 44, 45, 52, 37, 36, 42, 38, 37, 42, 46, 45, 48, 77, 72, 71, 146, 136, 134, 182, 173, 173, 143, 133, 129, 168, 151, 142, 185, 168, 160, 143, 134, 131, 92, 87, 89, 61, 59, 63, 73, 70, 75, 114, 106, 108, 123, 112, 115, 104, 95, 96, 108, 99, 100, 115, 106, 107, 114, 108, 106, 113, 104, 102, 84, 74, 74, 76, 70, 68, 149, 139, 138, 168, 155, 156, 136, 126, 126, 96, 93, 92, 48, 48, 51, 44, 48, 52, 44, 49, 53, 44, 46, 51, 49, 50, 57, 46, 46, 53, 44, 42, 48, 41, 39, 43, 54, 51, 49, 79, 71, 66, 115, 104, 99, 150, 141, 139, 163, 151, 146, 174, 156, 146, 174, 157, 146, 166, 151, 145, 132, 120, 118, 85, 77, 79, 94, 89, 93, 125, 116, 118, 126, 115, 118, 108, 99, 100, 111, 102, 103, 113, 104, 105, 115, 109, 107, 114, 106, 105, 86, 78, 78, 81, 78, 78, 76, 73, 79, 59, 55, 63, 73, 69, 75, 64, 65, 67, 42, 45, 48, 48, 52, 56, 49, 51, 53, 52, 50, 52, 59, 57, 62, 55, 54, 60, 47, 46, 51, 42, 39, 41, 64, 56, 50, 107, 95, 86, 130, 116, 108, 128, 117, 111, 168, 155, 148, 189, 173, 164, 171, 153, 143, 169, 151, 142, 170, 155, 149, 117, 107, 107, 104, 97, 102, 127, 118, 122, 129, 118, 122, 107, 98, 99, 110, 101, 102, 111, 102, 103, 115, 107, 105, 118, 110, 108, 119, 111, 109, 120, 114, 112, 79, 76, 77, 40, 38, 44, 64, 62, 68, 48, 49, 50, 42, 43, 47, 53, 52, 57, 71, 68, 69, 93, 87, 87, 70, 64, 66, 59, 57, 62, 57, 56, 61, 57, 51, 51, 93, 79, 73, 134, 117, 109, 151, 134, 126, 135, 118, 111, 152, 138, 131, 188, 176, 170, 182, 167, 160, 169, 150, 138, 178, 163, 154, 137, 128, 127, 118, 111, 115, 131, 121, 127, 131, 122, 125, 109, 100, 101, 112, 103, 104, 112, 103, 104, 117, 109, 107, 120, 112, 110, 121, 113, 110, 123, 115, 113, 108, 103, 102, 64, 60, 63, 61, 58, 61, 50, 50, 50, 63, 62, 64, 95, 92, 94, 97, 90, 89, 125, 116, 113, 103, 94, 93, 86, 80, 81, 79, 73, 75, 83, 74, 73, 126, 111, 109, 155, 137, 135, 164, 147, 145, 148, 131, 129, 147, 132, 126, 171, 158, 151, 177, 161, 152, 166, 144, 131, 172, 150, 140, 153, 138, 134, 130, 120, 120, 132, 122, 123, 135, 125, 128, 111, 102, 103, 110, 101, 103, 114, 105, 106, 119, 111, 110, 120, 112, 110, 122, 114, 112, 125, 117, 115, 125, 117, 117, 97, 90, 90, 58, 53, 52, 64, 61, 60, 87, 82, 82, 131, 124, 123, 112, 102, 98, 125, 113, 107, 133, 119, 114, 137, 123, 118, 100, 88, 85, 103, 92, 91, 139, 125, 127, 154, 138, 141, 155, 139, 142, 154, 138, 140, 156, 140, 136, 180, 162, 154, 176, 155, 144, 150, 126, 114, 144, 118, 107, 139, 120, 114, 128, 116, 114, 131, 121, 119, 133, 123, 125, 111, 102, 103, 111, 102, 104, 116, 107, 108, 119, 111, 109, 121, 113, 111, 125, 117, 115, 129, 121, 119, 130, 120, 120, 115, 106, 103, 93, 86, 81, 102, 96, 94, 118, 110, 108, 152, 141, 138, 142, 128, 122, 139, 123, 114, 136, 117, 108, 141, 120, 111, 116, 98, 90, 117, 104, 101, 144, 130, 131, 152, 137, 138, 152, 137, 139, 144, 129, 130, 145, 129, 124, 152, 130, 121, 135, 108, 96, 117, 92, 80, 125, 104, 93, 124, 108, 102, 131, 119, 119, 137, 124, 124, 133, 123, 125, 112, 103, 104, 112, 103, 104, 117, 108, 109, 119, 111, 110, 124, 116, 114, 126, 118, 117, 127, 119, 117, 129, 116, 115, 139, 128, 122, 127, 118, 111, 119, 111, 106, 133, 121, 115, 154, 139, 131, 154, 137, 128, 148, 130, 119, 140, 118, 105, 129, 104, 92, 124, 103, 93, 131, 117, 113, 147, 134, 133, 147, 134, 133, 146, 134, 133, 148, 135, 134, 145, 130, 127, 142, 120, 113, 129, 104, 95, 127, 105, 97, 137, 122, 115, 136, 124, 121, 136, 125, 127, 138, 125, 127, 133, 123, 126, 111, 101, 102, 112, 103, 104, 117, 108, 109, 121, 112, 113, 124, 115, 116, 123, 114, 115, 126, 117, 117, 126, 113, 109, 131, 118, 111, 131, 119, 110, 121, 110, 99, 141, 123, 111, 150, 129, 116, 158, 138, 125, 156, 134, 121, 148, 123, 108, 131, 107, 94, 119, 101, 92, 144, 130, 125, 147, 136, 135, 143, 133, 132, 143, 133, 131, 144, 133, 132, 144, 130, 130, 147, 132, 131, 145, 130, 129, 142, 127, 127, 139, 128, 128, 138, 129, 129, 137, 127, 128, 132, 122, 123, 133, 123, 126, 109, 100, 101, 110, 101, 102, 114, 105, 106, 116, 107, 109, 119, 110, 111, 121, 112, 113, 122, 113, 113, 124, 115, 113, 125, 113, 108, 128, 114, 105, 122, 105, 93, 129, 107, 94, 134, 111, 97, 149, 126, 112, 155, 132, 118, 144, 120, 108, 135, 114, 104, 136, 119, 112, 145, 131, 128, 144, 134, 133, 143, 133, 133, 141, 131, 131, 141, 131, 130, 143, 130, 131, 142, 129, 130, 140, 127, 128, 138, 125, 126, 136, 125, 127, 133, 123, 124, 133, 123, 123, 129, 119, 120, 128, 119, 121, 105, 96, 97, 107, 98, 99, 111, 102, 103, 114, 105, 106, 119, 110, 111, 120, 111, 112, 118, 109, 110, 119, 113, 113, 126, 117, 114, 123, 108, 100, 123, 103, 92, 121, 98, 86, 124, 101, 89, 130, 107, 95, 129, 106, 94, 131, 111, 103, 139, 121, 115, 146, 131, 128, 142, 129, 128, 142, 132, 133, 143, 133, 134, 141, 131, 132, 141, 131, 132, 138, 127, 129, 138, 126, 128, 135, 123, 126, 132, 121, 123, 133, 122, 124, 130, 120, 121, 128, 118, 119, 127, 117, 118, 127, 117, 120], \"height\": 32, \"channels\": 3, \"width\": 32, \"type\": \"image\", \"id\": 5072485520}, {\"format\": \"raw\", \"value\": [101, 93, 9, 93, 88, 9, 90, 86, 9, 99, 92, 9, 113, 101, 10, 127, 109, 13, 128, 107, 15, 118, 101, 12, 113, 101, 11, 123, 108, 12, 131, 110, 12, 143, 118, 26, 117, 98, 61, 75, 60, 25, 139, 113, 15, 154, 122, 15, 155, 123, 15, 157, 126, 14, 158, 128, 15, 157, 126, 15, 150, 123, 15, 132, 110, 15, 60, 50, 11, 33, 26, 8, 94, 80, 10, 124, 109, 10, 121, 107, 12, 123, 107, 10, 124, 106, 11, 134, 111, 14, 141, 114, 14, 139, 112, 13, 122, 106, 13, 108, 97, 10, 95, 89, 6, 95, 91, 9, 102, 95, 10, 109, 98, 11, 108, 95, 12, 107, 94, 10, 109, 98, 10, 123, 108, 13, 135, 113, 13, 149, 124, 34, 133, 111, 69, 56, 46, 32, 102, 82, 18, 165, 131, 18, 163, 128, 17, 167, 131, 17, 167, 133, 18, 163, 130, 17, 150, 123, 16, 81, 67, 13, 14, 9, 9, 12, 7, 8, 51, 41, 10, 115, 99, 11, 125, 108, 11, 129, 109, 13, 132, 110, 12, 135, 113, 12, 136, 112, 13, 135, 110, 14, 137, 115, 15, 125, 107, 12, 111, 99, 7, 104, 96, 8, 104, 97, 9, 107, 98, 10, 102, 95, 9, 102, 92, 7, 108, 96, 8, 123, 105, 13, 136, 111, 15, 141, 116, 31, 121, 97, 60, 64, 50, 34, 41, 32, 15, 131, 105, 24, 171, 136, 20, 166, 132, 16, 162, 128, 18, 164, 131, 17, 123, 101, 16, 33, 26, 11, 18, 13, 9, 28, 21, 12, 25, 18, 11, 94, 78, 12, 137, 116, 12, 137, 117, 14, 142, 120, 13, 141, 119, 13, 141, 120, 15, 142, 118, 15, 131, 108, 13, 131, 107, 12, 147, 119, 19, 147, 123, 23, 136, 116, 14, 146, 122, 16, 151, 126, 24, 148, 122, 24, 145, 119, 21, 135, 113, 16, 137, 114, 17, 135, 111, 23, 84, 65, 35, 66, 46, 29, 29, 21, 14, 43, 34, 18, 125, 100, 22, 170, 133, 22, 164, 127, 19, 155, 122, 16, 83, 67, 11, 14, 10, 6, 23, 15, 7, 37, 25, 14, 27, 18, 9, 70, 56, 12, 150, 125, 13, 150, 126, 14, 152, 125, 15, 154, 127, 15, 151, 128, 16, 150, 126, 16, 145, 116, 18, 148, 119, 17, 197, 156, 55, 210, 169, 75, 195, 157, 54, 202, 163, 67, 215, 177, 95, 212, 174, 96, 197, 159, 74, 161, 132, 37, 141, 117, 17, 154, 131, 41, 153, 130, 89, 129, 103, 65, 70, 55, 31, 14, 11, 10, 47, 37, 18, 129, 100, 22, 159, 126, 13, 122, 98, 14, 44, 34, 11, 22, 16, 10, 31, 20, 10, 60, 37, 17, 45, 29, 14, 44, 34, 11, 146, 119, 16, 152, 124, 14, 146, 118, 15, 148, 120, 15, 149, 122, 15, 148, 121, 15, 158, 123, 23, 141, 114, 16, 174, 142, 38, 196, 159, 62, 196, 156, 58, 213, 172, 86, 229, 192, 129, 230, 196, 142, 220, 184, 123, 183, 148, 66, 132, 109, 18, 140, 124, 44, 216, 194, 152, 183, 153, 106, 69, 54, 30, 21, 17, 10, 28, 23, 17, 63, 49, 23, 120, 102, 41, 63, 53, 21, 60, 43, 21, 88, 66, 35, 72, 48, 24, 84, 49, 21, 48, 27, 12, 35, 28, 10, 137, 108, 17, 148, 118, 14, 137, 111, 13, 139, 114, 12, 139, 114, 13, 138, 112, 12, 169, 129, 24, 151, 118, 18, 146, 118, 15, 154, 127, 18, 158, 129, 19, 184, 148, 40, 213, 175, 90, 225, 190, 125, 222, 186, 121, 181, 145, 69, 117, 94, 17, 127, 107, 34, 207, 184, 134, 150, 125, 89, 53, 41, 25, 32, 23, 14, 33, 26, 17, 61, 51, 39, 90, 80, 64, 14, 13, 13, 65, 48, 25, 141, 110, 65, 124, 89, 59, 104, 64, 33, 99, 72, 42, 67, 55, 32, 135, 108, 25, 162, 128, 17, 154, 122, 15, 149, 121, 13, 142, 118, 11, 138, 114, 10, 187, 143, 27, 190, 148, 38, 198, 158, 65, 200, 162, 68, 178, 145, 38, 180, 144, 36, 212, 173, 87, 223, 184, 112, 209, 171, 91, 156, 125, 41, 117, 94, 13, 128, 104, 23, 114, 94, 56, 45, 34, 23, 53, 44, 28, 90, 78, 59, 90, 78, 56, 43, 36, 24, 14, 11, 6, 0, 0, 1, 62, 48, 26, 147, 120, 76, 115, 83, 58, 127, 87, 52, 169, 135, 87, 169, 146, 101, 152, 127, 47, 160, 128, 13, 156, 128, 15, 144, 122, 11, 150, 124, 12, 152, 126, 12, 171, 134, 19, 187, 149, 35, 214, 174, 82, 223, 182, 101, 198, 161, 64, 179, 145, 36, 201, 166, 71, 215, 177, 92, 201, 162, 68, 156, 126, 25, 136, 111, 15, 92, 76, 16, 61, 53, 43, 129, 122, 108, 194, 187, 169, 226, 218, 195, 116, 105, 84, 17, 13, 8, 14, 10, 7, 7, 5, 4, 48, 34, 19, 86, 62, 37, 68, 43, 31, 91, 64, 41, 147, 113, 71, 126, 107, 75, 124, 117, 77, 146, 130, 38, 144, 124, 12, 139, 121, 10, 153, 127, 12, 156, 130, 13, 157, 125, 15, 169, 136, 19, 177, 143, 26, 182, 149, 39, 175, 143, 34, 153, 125, 19, 154, 128, 19, 173, 144, 32, 180, 145, 33, 160, 134, 22, 133, 111, 15, 94, 82, 43, 191, 186, 173, 255, 255, 239, 255, 252, 241, 245, 235, 216, 115, 105, 83, 22, 18, 12, 26, 21, 15, 19, 16, 12, 23, 14, 9, 45, 29, 19, 22, 14, 12, 28, 21, 15, 42, 29, 19, 54, 51, 45, 114, 125, 132, 138, 140, 115, 149, 137, 48, 143, 122, 4, 147, 122, 5, 149, 123, 10, 165, 134, 26, 190, 153, 54, 175, 141, 43, 148, 119, 18, 146, 120, 14, 141, 118, 14, 138, 116, 13, 144, 121, 12, 153, 125, 14, 150, 126, 17, 131, 109, 31, 174, 163, 130, 254, 250, 239, 252, 245, 231, 248, 238, 222, 228, 210, 180, 119, 103, 76, 39, 33, 22, 46, 38, 25, 60, 50, 36, 33, 26, 18, 25, 18, 13, 9, 7, 6, 9, 6, 6, 11, 8, 6, 73, 71, 60, 136, 139, 127, 156, 157, 147, 172, 166, 131, 138, 131, 68, 136, 123, 46, 146, 127, 29, 163, 137, 28, 206, 169, 81, 213, 173, 103, 190, 155, 71, 169, 136, 37, 148, 121, 15, 141, 118, 14, 141, 117, 13, 149, 125, 13, 134, 113, 15, 109, 91, 44, 210, 195, 175, 255, 252, 243, 245, 234, 212, 243, 228, 198, 221, 201, 166, 125, 108, 79, 51, 41, 27, 54, 44, 27, 80, 67, 46, 58, 48, 34, 34, 28, 21, 16, 12, 9, 13, 9, 7, 23, 20, 14, 100, 95, 77, 173, 165, 140, 203, 193, 172, 206, 199, 184, 154, 161, 162, 159, 161, 153, 202, 193, 159, 146, 124, 16, 182, 152, 46, 214, 176, 89, 217, 177, 92, 193, 154, 56, 153, 122, 18, 140, 116, 13, 142, 119, 12, 151, 128, 14, 141, 117, 14, 95, 81, 47, 195, 187, 174, 255, 254, 240, 235, 224, 202, 177, 155, 124, 157, 131, 100, 125, 102, 71, 72, 58, 39, 58, 48, 30, 52, 44, 28, 35, 30, 20, 28, 24, 16, 21, 18, 14, 20, 15, 10, 28, 23, 15, 113, 105, 80, 207, 193, 162, 235, 220, 199, 237, 225, 205, 207, 200, 185, 206, 197, 183, 241, 229, 214, 142, 120, 15, 146, 123, 14, 161, 134, 23, 168, 140, 32, 161, 132, 24, 146, 119, 15, 141, 118, 14, 137, 115, 12, 141, 119, 9, 153, 128, 28, 175, 162, 127, 235, 225, 209, 255, 245, 230, 223, 205, 177, 145, 117, 83, 139, 109, 78, 139, 113, 78, 83, 69, 45, 63, 54, 35, 33, 28, 15, 9, 9, 6, 7, 6, 5, 11, 9, 6, 17, 16, 10, 20, 17, 10, 116, 103, 76, 224, 207, 173, 238, 226, 203, 240, 228, 208, 228, 218, 198, 219, 207, 185, 237, 223, 200, 154, 128, 18, 149, 124, 16, 143, 119, 11, 140, 117, 11, 140, 117, 13, 136, 115, 15, 131, 112, 11, 129, 110, 13, 144, 126, 45, 200, 181, 134, 243, 228, 204, 249, 237, 217, 249, 238, 219, 243, 227, 203, 234, 219, 189, 234, 220, 196, 222, 206, 174, 172, 152, 115, 144, 124, 88, 93, 78, 49, 55, 44, 23, 43, 33, 20, 23, 17, 10, 25, 21, 13, 35, 29, 20, 103, 88, 61, 216, 197, 162, 239, 225, 201, 242, 229, 206, 237, 226, 205, 223, 211, 187, 232, 219, 194, 159, 134, 18, 164, 135, 19, 158, 131, 17, 150, 126, 15, 142, 120, 13, 134, 117, 11, 133, 117, 16, 146, 128, 58, 174, 151, 110, 225, 205, 173, 247, 231, 208, 246, 232, 208, 247, 235, 213, 250, 239, 223, 252, 244, 230, 252, 245, 231, 251, 243, 228, 246, 233, 211, 226, 211, 181, 189, 166, 122, 187, 152, 97, 172, 143, 99, 125, 107, 77, 105, 93, 68, 97, 84, 63, 114, 96, 65, 210, 192, 156, 242, 228, 203, 240, 225, 203, 238, 226, 203, 228, 216, 191, 232, 217, 193, 141, 123, 12, 147, 125, 14, 152, 128, 16, 147, 126, 14, 145, 124, 12, 139, 118, 15, 103, 90, 33, 83, 71, 55, 97, 81, 60, 195, 177, 144, 245, 233, 209, 245, 233, 210, 245, 234, 213, 249, 240, 223, 250, 243, 229, 251, 244, 228, 252, 243, 228, 246, 235, 215, 246, 233, 206, 245, 228, 195, 246, 226, 192, 250, 233, 206, 243, 227, 200, 231, 217, 188, 206, 192, 162, 198, 182, 150, 232, 216, 187, 240, 225, 200, 235, 219, 193, 235, 222, 196, 232, 219, 193, 232, 217, 190, 128, 116, 11, 134, 118, 11, 141, 122, 12, 136, 121, 12, 141, 125, 11, 105, 93, 16, 36, 29, 23, 32, 25, 22, 42, 36, 22, 153, 134, 101, 239, 228, 205, 243, 231, 211, 241, 229, 205, 246, 236, 214, 249, 241, 222, 236, 225, 200, 235, 221, 191, 238, 223, 193, 242, 228, 199, 249, 236, 210, 250, 239, 216, 250, 239, 217, 249, 239, 217, 249, 238, 215, 249, 239, 217, 248, 237, 215, 243, 229, 203, 236, 221, 193, 229, 213, 183, 234, 219, 192, 238, 223, 199, 235, 219, 191, 126, 114, 10, 129, 116, 11, 132, 119, 12, 126, 115, 10, 127, 116, 8, 109, 102, 10, 51, 47, 18, 40, 32, 24, 77, 62, 40, 169, 148, 111, 235, 218, 190, 237, 224, 198, 238, 225, 194, 232, 219, 188, 203, 188, 159, 174, 152, 117, 163, 140, 102, 216, 198, 163, 244, 230, 201, 242, 227, 194, 248, 232, 202, 248, 233, 204, 248, 234, 206, 248, 234, 209, 247, 234, 208, 242, 227, 196, 241, 225, 197, 234, 220, 192, 230, 214, 183, 238, 222, 196, 238, 224, 199, 236, 220, 190, 127, 114, 9, 126, 114, 9, 125, 112, 8, 126, 114, 9, 120, 113, 8, 110, 109, 7, 107, 104, 25, 92, 81, 34, 109, 92, 49, 174, 153, 107, 191, 169, 128, 193, 168, 131, 192, 163, 130, 149, 124, 98, 135, 113, 89, 122, 99, 75, 125, 104, 81, 211, 193, 157, 228, 207, 161, 238, 219, 176, 250, 236, 208, 250, 236, 211, 249, 235, 209, 249, 235, 209, 248, 234, 206, 245, 232, 202, 243, 229, 202, 234, 220, 191, 231, 216, 185, 235, 221, 191, 230, 212, 176, 235, 218, 184, 125, 112, 9, 124, 110, 9, 124, 110, 8, 134, 120, 14, 133, 122, 14, 118, 112, 7, 117, 113, 8, 125, 115, 13, 129, 114, 22, 139, 100, 60, 140, 90, 74, 179, 115, 96, 172, 108, 90, 80, 54, 39, 71, 55, 43, 110, 94, 78, 174, 159, 128, 183, 163, 107, 180, 155, 85, 243, 227, 191, 251, 240, 215, 250, 238, 213, 251, 238, 215, 249, 236, 211, 248, 235, 211, 244, 231, 203, 237, 220, 185, 230, 212, 177, 220, 201, 161, 213, 189, 140, 224, 200, 153, 241, 223, 190, 113, 104, 6, 119, 108, 10, 123, 111, 10, 131, 117, 14, 131, 118, 14, 117, 110, 7, 113, 108, 5, 117, 112, 4, 153, 124, 36, 227, 143, 124, 241, 157, 146, 195, 129, 116, 78, 47, 37, 58, 44, 31, 135, 118, 87, 171, 158, 120, 149, 135, 85, 140, 120, 49, 200, 177, 115, 247, 232, 203, 248, 236, 208, 248, 236, 208, 248, 234, 209, 249, 236, 213, 244, 230, 202, 231, 214, 172, 221, 199, 151, 210, 192, 150, 197, 177, 128, 207, 178, 116, 237, 214, 174, 247, 232, 206, 108, 102, 6, 108, 102, 8, 113, 105, 9, 120, 109, 11, 118, 108, 11, 106, 102, 7, 103, 102, 6, 108, 106, 5, 135, 113, 25, 222, 141, 111, 229, 145, 130, 128, 89, 67, 68, 61, 29, 131, 115, 66, 165, 153, 103, 123, 114, 67, 113, 99, 43, 168, 149, 85, 230, 212, 170, 246, 231, 203, 246, 232, 204, 248, 234, 207, 247, 234, 204, 240, 224, 190, 223, 202, 151, 214, 188, 133, 212, 188, 132, 173, 154, 111, 183, 158, 111, 239, 214, 170, 248, 231, 204, 249, 236, 211, 114, 105, 8, 115, 106, 8, 119, 110, 9, 122, 112, 10, 116, 107, 9, 104, 101, 8, 99, 98, 6, 101, 98, 6, 100, 99, 6, 131, 110, 32, 143, 114, 42, 121, 112, 30, 128, 121, 26, 124, 119, 24, 114, 117, 65, 117, 118, 87, 134, 125, 74, 184, 163, 105, 234, 217, 180, 243, 227, 199, 235, 217, 178, 227, 205, 159, 205, 181, 121, 200, 175, 111, 211, 185, 129, 214, 191, 141, 182, 174, 137, 145, 138, 109, 211, 192, 154, 252, 236, 210, 249, 236, 215, 250, 238, 215, 125, 112, 11, 134, 120, 12, 139, 125, 12, 135, 123, 11, 122, 113, 11, 109, 105, 9, 106, 102, 8, 101, 99, 8, 94, 96, 6, 90, 98, 5, 93, 101, 3, 93, 99, 2, 96, 98, 6, 103, 103, 9, 113, 115, 52, 112, 117, 91, 126, 121, 86, 200, 183, 139, 238, 222, 187, 233, 214, 173, 220, 192, 132, 212, 181, 117, 193, 166, 95, 193, 165, 102, 205, 181, 132, 182, 169, 133, 89, 110, 100, 142, 145, 118, 243, 226, 195, 248, 237, 215, 249, 238, 215, 248, 235, 211, 132, 115, 12, 132, 117, 10, 137, 123, 10, 138, 124, 12, 127, 116, 11, 116, 109, 9, 112, 109, 10, 107, 106, 9, 101, 102, 7, 100, 100, 7, 99, 99, 7, 93, 97, 5, 93, 97, 7, 103, 100, 8, 112, 112, 27, 121, 123, 82, 126, 125, 96, 179, 166, 126, 228, 211, 173, 235, 218, 178, 234, 212, 168, 230, 209, 163, 208, 185, 137, 154, 129, 79, 110, 89, 49, 99, 83, 48, 143, 129, 87, 227, 209, 172, 250, 237, 213, 249, 238, 214, 249, 237, 213, 247, 235, 211, 127, 111, 9, 127, 112, 9, 133, 117, 10, 135, 120, 12, 130, 117, 11, 123, 113, 9, 115, 110, 8, 116, 110, 8, 121, 112, 10, 114, 106, 9, 103, 100, 8, 98, 99, 6, 99, 100, 6, 102, 100, 8, 103, 105, 11, 119, 121, 57, 144, 143, 108, 176, 165, 121, 182, 164, 122, 186, 165, 118, 206, 186, 139, 182, 158, 110, 127, 101, 59, 60, 48, 24, 84, 70, 40, 158, 139, 99, 224, 208, 177, 243, 234, 213, 250, 239, 218, 249, 237, 212, 247, 235, 209, 245, 233, 209, 128, 110, 10, 130, 112, 11, 132, 114, 11, 131, 114, 11, 130, 117, 11, 128, 116, 10, 125, 114, 10, 125, 113, 9, 130, 115, 10, 128, 113, 11, 116, 108, 10, 109, 106, 8, 110, 108, 8, 104, 104, 8, 99, 102, 6, 98, 99, 30, 148, 144, 115, 218, 207, 173, 213, 200, 169, 162, 138, 102, 136, 115, 75, 116, 97, 60, 72, 56, 31, 77, 61, 32, 137, 118, 80, 174, 158, 125, 182, 170, 149, 222, 212, 193, 250, 238, 213, 248, 236, 210, 246, 236, 212, 244, 232, 209, 130, 108, 11, 133, 112, 12, 133, 114, 12, 129, 112, 9, 127, 112, 9, 127, 113, 9, 126, 111, 10, 123, 110, 8, 130, 113, 9, 138, 117, 13, 129, 113, 12, 122, 111, 10, 124, 115, 10, 112, 110, 8, 101, 104, 7, 97, 100, 31, 146, 144, 124, 228, 216, 189, 248, 235, 210, 232, 217, 190, 198, 177, 136, 167, 143, 96, 141, 119, 83, 181, 156, 111, 207, 186, 142, 217, 194, 150, 230, 210, 172, 240, 225, 194, 247, 234, 209, 247, 235, 213, 245, 232, 208, 238, 223, 195, 133, 109, 12, 134, 113, 13, 131, 116, 13, 129, 114, 11, 131, 113, 11, 134, 116, 11, 129, 114, 12, 122, 110, 9, 125, 111, 9, 131, 113, 10, 127, 111, 9, 126, 113, 10, 128, 116, 10, 120, 113, 10, 106, 105, 7, 116, 113, 39, 188, 177, 147, 236, 222, 195, 244, 229, 204, 248, 234, 208, 247, 229, 198, 235, 216, 180, 223, 202, 164, 237, 217, 180, 250, 233, 201, 248, 230, 199, 248, 232, 199, 247, 231, 201, 247, 232, 206, 246, 232, 207, 246, 231, 205, 242, 226, 199, 139, 117, 17, 134, 116, 15, 128, 116, 14, 132, 118, 14, 140, 121, 15, 147, 125, 15, 143, 124, 15, 129, 116, 12, 121, 112, 8, 121, 112, 7, 125, 113, 8, 126, 114, 10, 125, 114, 10, 132, 118, 13, 126, 113, 9, 134, 123, 38, 218, 202, 163, 246, 231, 205, 249, 237, 214, 246, 234, 211, 247, 234, 209, 230, 211, 179, 173, 140, 72, 209, 182, 125, 244, 228, 197, 245, 229, 200, 249, 234, 205, 249, 235, 207, 249, 235, 209, 248, 236, 211, 249, 238, 217, 248, 237, 216, 133, 114, 14, 132, 113, 14, 133, 114, 13, 135, 117, 13, 142, 121, 15, 147, 125, 16, 149, 125, 16, 140, 120, 14, 130, 115, 11, 127, 113, 8, 130, 114, 11, 134, 116, 14, 133, 115, 13, 139, 120, 15, 140, 120, 11, 143, 128, 30, 210, 195, 148, 242, 228, 201, 248, 235, 212, 247, 233, 209, 251, 236, 214, 231, 212, 178, 154, 111, 27, 182, 142, 64, 240, 219, 180, 247, 233, 205, 251, 239, 214, 250, 237, 211, 249, 235, 208, 251, 239, 217, 250, 240, 221, 247, 237, 214], \"height\": 32, \"channels\": 3, \"width\": 32, \"type\": \"image\", \"id\": 5072486160}, {\"format\": \"raw\", \"value\": [8, 25, 9, 29, 39, 22, 66, 75, 53, 70, 82, 57, 75, 87, 64, 76, 85, 67, 50, 60, 41, 68, 79, 59, 78, 90, 69, 76, 88, 66, 77, 85, 66, 69, 76, 58, 57, 66, 45, 61, 71, 47, 60, 71, 45, 57, 68, 42, 52, 62, 38, 41, 51, 27, 39, 49, 25, 39, 49, 25, 46, 56, 32, 56, 66, 43, 55, 65, 41, 45, 55, 31, 47, 57, 33, 42, 52, 28, 34, 44, 18, 22, 32, 7, 14, 24, 4, 12, 20, 5, 7, 15, 4, 3, 9, 2, 14, 29, 13, 27, 36, 22, 68, 78, 56, 71, 84, 60, 74, 89, 64, 75, 88, 65, 49, 61, 39, 66, 78, 58, 78, 90, 71, 76, 88, 70, 73, 83, 64, 58, 67, 48, 62, 71, 50, 64, 74, 49, 66, 75, 50, 67, 76, 51, 56, 65, 42, 49, 59, 35, 53, 62, 39, 38, 47, 24, 31, 41, 17, 34, 43, 19, 49, 59, 35, 49, 59, 35, 36, 46, 22, 29, 39, 15, 26, 35, 10, 26, 36, 10, 22, 31, 9, 15, 24, 6, 10, 18, 4, 5, 11, 1, 20, 34, 17, 26, 34, 20, 66, 77, 56, 68, 83, 60, 70, 88, 63, 71, 88, 63, 45, 60, 37, 62, 75, 55, 77, 88, 71, 76, 86, 69, 73, 85, 65, 57, 69, 49, 63, 72, 51, 71, 79, 55, 74, 81, 57, 76, 83, 59, 66, 73, 51, 62, 70, 47, 68, 76, 53, 61, 68, 45, 57, 64, 42, 40, 47, 24, 46, 53, 31, 64, 71, 49, 51, 58, 36, 42, 49, 26, 36, 44, 20, 34, 42, 17, 33, 41, 18, 27, 34, 14, 21, 27, 9, 11, 16, 3, 27, 40, 19, 25, 34, 18, 65, 76, 57, 66, 84, 63, 65, 87, 64, 64, 85, 63, 40, 58, 36, 53, 67, 46, 68, 79, 59, 68, 78, 58, 66, 79, 58, 53, 66, 46, 65, 75, 53, 79, 85, 62, 82, 86, 63, 76, 80, 57, 70, 74, 53, 74, 78, 56, 77, 82, 60, 79, 84, 62, 85, 89, 67, 71, 76, 54, 67, 72, 50, 74, 78, 57, 58, 62, 40, 54, 59, 37, 43, 48, 25, 35, 40, 17, 44, 49, 26, 42, 47, 25, 31, 36, 15, 16, 20, 3, 34, 46, 24, 22, 30, 14, 51, 63, 44, 45, 64, 44, 36, 59, 40, 33, 56, 38, 21, 41, 22, 24, 40, 18, 35, 48, 22, 39, 51, 23, 43, 58, 35, 44, 59, 38, 62, 73, 51, 84, 90, 67, 86, 88, 65, 78, 81, 58, 80, 84, 63, 83, 86, 65, 82, 85, 64, 83, 86, 65, 75, 79, 57, 74, 78, 57, 83, 86, 65, 84, 87, 66, 73, 76, 55, 63, 67, 46, 52, 56, 33, 50, 54, 31, 57, 61, 38, 51, 55, 32, 38, 42, 19, 21, 25, 5, 42, 54, 32, 11, 19, 6, 16, 26, 13, 17, 35, 19, 15, 39, 24, 15, 40, 28, 6, 26, 11, 6, 22, 2, 33, 45, 15, 67, 78, 45, 72, 88, 63, 49, 64, 44, 58, 69, 47, 80, 86, 63, 84, 86, 63, 84, 85, 63, 82, 85, 64, 81, 83, 62, 85, 88, 67, 86, 89, 68, 70, 72, 51, 59, 62, 41, 68, 70, 50, 82, 85, 64, 87, 89, 68, 80, 82, 61, 73, 75, 54, 68, 71, 49, 68, 71, 49, 58, 61, 37, 45, 48, 23, 34, 38, 14, 43, 57, 38, 10, 21, 7, 20, 35, 23, 28, 49, 40, 18, 40, 34, 14, 35, 29, 12, 33, 21, 16, 32, 15, 66, 73, 49, 128, 128, 102, 132, 138, 117, 52, 63, 44, 39, 51, 30, 69, 78, 57, 91, 94, 74, 112, 113, 93, 100, 102, 81, 95, 97, 76, 94, 96, 75, 81, 83, 62, 66, 68, 47, 53, 54, 36, 59, 61, 43, 68, 70, 52, 83, 85, 67, 88, 89, 71, 71, 73, 53, 64, 67, 45, 68, 71, 50, 65, 68, 46, 45, 48, 25, 30, 34, 11, 35, 51, 32, 13, 25, 9, 20, 35, 22, 6, 25, 19, 4, 20, 17, 37, 58, 53, 53, 76, 65, 60, 75, 59, 110, 112, 94, 141, 134, 115, 159, 158, 141, 117, 125, 107, 106, 119, 99, 121, 132, 113, 150, 153, 136, 157, 157, 139, 144, 146, 125, 156, 158, 137, 129, 131, 110, 82, 84, 63, 68, 70, 49, 61, 62, 45, 69, 70, 55, 68, 69, 53, 74, 75, 59, 79, 80, 64, 64, 66, 47, 73, 77, 55, 73, 76, 55, 75, 78, 57, 59, 62, 41, 32, 35, 14, 27, 41, 22, 0, 10, 0, 1, 10, 0, 5, 19, 9, 7, 23, 17, 30, 48, 45, 67, 87, 78, 100, 113, 99, 144, 144, 129, 146, 139, 122, 171, 170, 153, 197, 203, 185, 199, 208, 189, 198, 206, 188, 199, 203, 186, 166, 167, 149, 150, 152, 131, 184, 186, 165, 182, 184, 163, 109, 111, 90, 90, 92, 72, 97, 98, 82, 88, 89, 73, 72, 73, 57, 65, 66, 50, 79, 80, 64, 81, 84, 65, 82, 85, 64, 83, 86, 65, 79, 82, 61, 69, 72, 51, 46, 50, 28, 21, 33, 14, 13, 22, 5, 17, 28, 12, 34, 53, 37, 23, 41, 33, 10, 23, 20, 52, 70, 62, 84, 98, 86, 140, 142, 129, 157, 151, 138, 182, 182, 166, 227, 231, 214, 235, 239, 222, 226, 230, 213, 207, 210, 193, 183, 185, 166, 161, 163, 142, 180, 182, 161, 178, 180, 159, 107, 109, 87, 100, 102, 82, 111, 112, 95, 103, 104, 88, 87, 88, 72, 81, 82, 66, 92, 93, 77, 89, 92, 73, 78, 81, 60, 82, 85, 64, 81, 84, 63, 68, 71, 50, 56, 59, 38, 18, 32, 12, 27, 39, 16, 35, 49, 27, 38, 60, 41, 22, 42, 31, 10, 26, 21, 32, 52, 44, 43, 60, 49, 89, 97, 86, 148, 147, 136, 198, 200, 184, 242, 244, 227, 244, 244, 228, 228, 229, 213, 209, 211, 194, 198, 200, 181, 172, 173, 153, 173, 175, 154, 162, 164, 143, 97, 99, 78, 111, 112, 92, 113, 114, 98, 113, 114, 98, 105, 106, 90, 97, 98, 82, 98, 99, 82, 92, 94, 75, 84, 87, 66, 83, 86, 65, 77, 80, 59, 74, 77, 56, 67, 70, 49, 16, 34, 16, 21, 37, 16, 27, 46, 25, 29, 54, 35, 33, 60, 47, 32, 55, 48, 41, 67, 57, 45, 70, 57, 43, 58, 48, 110, 117, 107, 185, 189, 173, 244, 244, 229, 251, 248, 234, 212, 210, 195, 162, 164, 147, 181, 184, 165, 149, 151, 130, 129, 131, 110, 129, 131, 110, 104, 106, 85, 127, 129, 109, 123, 124, 108, 118, 119, 103, 102, 103, 87, 87, 88, 73, 91, 92, 76, 85, 88, 69, 83, 86, 65, 78, 81, 60, 72, 75, 54, 77, 80, 59, 64, 68, 46, 25, 48, 33, 32, 52, 34, 34, 58, 38, 39, 69, 51, 43, 74, 61, 43, 71, 61, 47, 78, 67, 45, 75, 62, 40, 62, 51, 78, 93, 83, 142, 148, 133, 234, 234, 218, 250, 245, 231, 193, 188, 174, 126, 127, 111, 161, 165, 145, 135, 137, 116, 110, 112, 91, 102, 104, 83, 115, 117, 95, 130, 132, 112, 137, 138, 122, 134, 135, 119, 112, 113, 97, 88, 89, 73, 78, 79, 63, 72, 75, 55, 77, 80, 59, 73, 76, 55, 72, 75, 54, 73, 76, 55, 62, 66, 44, 34, 52, 44, 29, 48, 38, 42, 66, 56, 53, 84, 74, 53, 84, 74, 60, 89, 77, 68, 96, 84, 72, 99, 86, 76, 97, 87, 97, 112, 102, 157, 164, 148, 220, 221, 205, 237, 235, 220, 216, 213, 198, 187, 186, 171, 177, 180, 161, 133, 136, 115, 134, 136, 115, 126, 129, 108, 122, 125, 104, 127, 130, 109, 140, 143, 123, 142, 145, 126, 138, 141, 122, 117, 120, 101, 84, 87, 68, 78, 81, 58, 83, 86, 61, 80, 84, 59, 73, 76, 51, 68, 71, 46, 64, 68, 44, 15, 25, 18, 12, 25, 18, 42, 62, 56, 58, 83, 78, 56, 82, 73, 69, 93, 78, 83, 105, 91, 90, 109, 96, 85, 100, 89, 95, 107, 95, 168, 176, 159, 200, 204, 187, 218, 221, 204, 232, 233, 217, 224, 223, 208, 177, 178, 159, 122, 125, 104, 140, 143, 122, 148, 151, 130, 130, 133, 112, 132, 135, 114, 140, 144, 123, 142, 146, 124, 151, 155, 134, 139, 143, 121, 104, 107, 86, 88, 91, 66, 82, 85, 56, 78, 81, 52, 67, 70, 42, 65, 68, 39, 57, 62, 34, 35, 41, 27, 42, 52, 38, 45, 60, 46, 45, 63, 50, 44, 63, 48, 45, 62, 44, 63, 78, 61, 82, 94, 78, 84, 94, 79, 93, 101, 86, 158, 166, 148, 193, 198, 180, 215, 219, 202, 220, 222, 206, 221, 220, 205, 163, 164, 146, 131, 134, 113, 139, 142, 121, 151, 154, 133, 136, 139, 118, 136, 139, 118, 133, 136, 115, 131, 134, 113, 150, 153, 132, 151, 153, 132, 118, 122, 100, 103, 106, 80, 75, 78, 49, 65, 68, 39, 65, 68, 39, 67, 70, 41, 49, 53, 25, 67, 71, 47, 67, 73, 50, 65, 74, 52, 72, 83, 62, 74, 85, 65, 61, 70, 50, 71, 78, 59, 89, 96, 76, 95, 100, 81, 97, 101, 83, 146, 152, 134, 157, 162, 144, 187, 190, 173, 208, 210, 193, 196, 195, 180, 167, 168, 150, 162, 165, 144, 140, 143, 122, 149, 152, 131, 137, 140, 119, 135, 138, 117, 123, 125, 104, 108, 110, 89, 123, 125, 104, 129, 131, 110, 115, 118, 96, 113, 116, 91, 76, 79, 52, 67, 70, 43, 63, 66, 38, 56, 59, 31, 37, 40, 15, 74, 76, 48, 70, 73, 47, 76, 81, 56, 82, 88, 65, 90, 95, 73, 89, 92, 72, 94, 96, 76, 104, 107, 87, 94, 97, 77, 99, 103, 83, 97, 103, 85, 50, 55, 38, 97, 100, 83, 191, 192, 176, 175, 174, 159, 172, 173, 155, 181, 184, 163, 146, 149, 128, 145, 148, 127, 133, 136, 115, 130, 132, 111, 121, 121, 100, 104, 104, 84, 103, 102, 82, 93, 92, 72, 90, 89, 69, 104, 106, 83, 77, 79, 54, 65, 67, 42, 56, 59, 34, 51, 53, 28, 45, 48, 24, 76, 79, 53, 77, 79, 56, 76, 79, 58, 68, 70, 51, 75, 76, 58, 93, 93, 75, 107, 108, 90, 103, 106, 87, 93, 98, 79, 104, 110, 90, 76, 83, 65, 29, 34, 17, 84, 87, 70, 180, 181, 165, 165, 164, 149, 185, 186, 168, 191, 194, 173, 154, 157, 136, 138, 141, 120, 120, 123, 102, 113, 115, 94, 106, 104, 84, 96, 93, 74, 101, 98, 79, 92, 90, 71, 91, 89, 69, 89, 89, 68, 65, 67, 44, 61, 63, 41, 60, 62, 40, 60, 62, 39, 61, 63, 40, 64, 69, 49, 65, 69, 51, 69, 71, 56, 66, 68, 55, 72, 72, 59, 84, 82, 67, 93, 94, 79, 105, 109, 93, 102, 109, 92, 99, 108, 90, 90, 97, 79, 60, 65, 48, 108, 111, 94, 151, 152, 136, 160, 159, 144, 197, 198, 180, 192, 195, 174, 161, 164, 143, 123, 126, 105, 97, 100, 79, 85, 87, 66, 89, 87, 68, 92, 89, 70, 90, 87, 68, 87, 84, 65, 87, 84, 65, 76, 75, 55, 60, 62, 41, 59, 61, 39, 71, 73, 51, 101, 103, 81, 96, 97, 76, 66, 70, 51, 80, 84, 67, 91, 93, 78, 95, 97, 82, 95, 94, 81, 96, 94, 80, 86, 87, 73, 98, 103, 87, 102, 111, 94, 88, 99, 81, 109, 115, 97, 106, 109, 91, 110, 113, 95, 135, 137, 120, 174, 173, 157, 187, 189, 170, 179, 182, 162, 160, 164, 144, 113, 116, 96, 86, 89, 69, 78, 81, 61, 81, 80, 61, 86, 84, 65, 86, 84, 66, 87, 86, 67, 87, 86, 67, 82, 83, 63, 75, 77, 56, 66, 68, 47, 95, 95, 74, 146, 143, 124, 140, 137, 117, 82, 84, 64, 93, 95, 75, 102, 104, 84, 111, 113, 93, 111, 111, 94, 108, 106, 92, 98, 99, 84, 108, 112, 95, 110, 118, 100, 98, 107, 88, 139, 142, 124, 149, 151, 133, 150, 151, 133, 169, 170, 152, 172, 173, 155, 169, 172, 153, 177, 181, 161, 169, 173, 153, 118, 122, 103, 90, 94, 74, 85, 88, 69, 84, 84, 66, 83, 83, 65, 77, 77, 59, 75, 76, 58, 79, 80, 61, 74, 77, 57, 77, 80, 58, 87, 87, 67, 128, 125, 106, 163, 156, 138, 157, 150, 132, 91, 93, 72, 96, 98, 77, 102, 104, 83, 104, 106, 85, 105, 105, 87, 107, 106, 91, 110, 111, 95, 119, 122, 105, 117, 123, 105, 114, 120, 102, 143, 146, 126, 168, 169, 150, 172, 173, 153, 158, 159, 140, 155, 156, 137, 184, 186, 166, 199, 202, 182, 171, 174, 154, 115, 118, 98, 95, 98, 78, 96, 99, 78, 102, 103, 83, 99, 99, 79, 83, 82, 63, 81, 81, 61, 76, 76, 56, 58, 60, 40, 90, 92, 71, 122, 121, 101, 140, 137, 117, 154, 149, 130, 153, 146, 128, 96, 98, 77, 103, 105, 84, 105, 107, 86, 98, 100, 79, 109, 110, 90, 118, 117, 100, 120, 121, 103, 129, 130, 113, 121, 123, 105, 116, 119, 100, 147, 149, 128, 163, 165, 143, 147, 149, 127, 129, 131, 110, 165, 167, 145, 210, 212, 191, 200, 202, 181, 149, 151, 129, 126, 128, 107, 121, 124, 102, 118, 120, 98, 126, 125, 104, 123, 122, 101, 100, 99, 78, 98, 97, 76, 102, 101, 81, 81, 81, 60, 123, 123, 103, 136, 134, 115, 126, 123, 104, 127, 123, 104, 132, 128, 109, 99, 101, 80, 112, 114, 93, 117, 119, 98, 119, 121, 100, 127, 129, 108, 130, 132, 111, 124, 125, 105, 135, 135, 115, 132, 132, 112, 124, 124, 104, 149, 151, 129, 160, 162, 140, 141, 143, 121, 140, 142, 120, 181, 183, 161, 212, 213, 191, 175, 175, 154, 132, 132, 111, 124, 124, 103, 117, 117, 96, 122, 121, 100, 130, 129, 108, 133, 132, 111, 138, 136, 115, 145, 143, 122, 136, 135, 114, 129, 126, 107, 136, 134, 115, 133, 130, 111, 131, 129, 110, 125, 123, 103, 124, 122, 103, 112, 114, 93, 120, 122, 101, 124, 126, 105, 132, 134, 113, 139, 141, 119, 146, 148, 126, 144, 145, 124, 141, 139, 118, 144, 141, 121, 149, 146, 126, 151, 152, 129, 139, 142, 118, 140, 142, 118, 140, 142, 118, 152, 154, 130, 172, 172, 149, 150, 148, 125, 125, 124, 101, 122, 120, 98, 129, 127, 104, 136, 134, 111, 136, 132, 110, 147, 142, 120, 193, 188, 166, 209, 204, 182, 189, 184, 162, 178, 173, 154, 172, 167, 149, 162, 158, 139, 149, 147, 127, 134, 135, 114, 127, 128, 107, 110, 112, 91, 117, 119, 98, 127, 129, 108, 135, 137, 116, 142, 144, 122, 151, 153, 131, 150, 149, 127, 139, 136, 115, 148, 142, 122, 150, 144, 124, 145, 145, 120, 132, 135, 109, 141, 144, 118, 147, 150, 123, 143, 146, 120, 144, 144, 119, 144, 142, 117, 139, 137, 113, 141, 139, 114, 148, 146, 121, 141, 139, 114, 138, 133, 109, 180, 174, 151, 233, 227, 204, 236, 230, 206, 228, 222, 199, 220, 213, 194, 211, 204, 186, 194, 190, 171, 173, 173, 153, 154, 156, 135, 137, 140, 119, 121, 123, 101, 121, 123, 101, 130, 132, 111, 140, 142, 121, 148, 150, 129, 157, 158, 136, 151, 150, 129, 140, 137, 116, 137, 133, 113, 130, 126, 105, 139, 141, 114, 148, 151, 124, 154, 157, 130, 160, 163, 136, 155, 158, 131, 150, 151, 124, 151, 151, 124, 148, 147, 121, 147, 147, 121, 151, 151, 124, 146, 144, 119, 161, 154, 131, 224, 216, 193, 248, 240, 217, 243, 235, 212, 239, 232, 209, 234, 226, 206, 225, 217, 199, 211, 206, 186, 191, 190, 169, 174, 176, 154, 159, 161, 140, 120, 122, 100, 117, 119, 98, 133, 135, 113, 151, 153, 131, 165, 166, 145, 174, 172, 153, 169, 167, 149, 165, 165, 146, 158, 160, 140, 150, 152, 131, 156, 159, 132, 161, 164, 135, 161, 164, 136, 164, 167, 138, 162, 165, 137, 157, 160, 131, 155, 158, 129, 156, 158, 130, 155, 157, 129, 156, 159, 130, 157, 156, 129, 187, 178, 156, 242, 231, 211, 246, 235, 215, 239, 228, 207, 234, 223, 203, 231, 222, 201, 225, 217, 197, 214, 208, 187, 202, 198, 176, 188, 188, 164, 174, 175, 152, 112, 114, 92, 134, 136, 114, 147, 149, 127, 148, 150, 128, 158, 158, 138, 166, 163, 145, 170, 168, 150, 175, 176, 157, 177, 180, 161, 176, 180, 159, 165, 169, 142, 162, 165, 136, 163, 166, 137, 167, 170, 141, 166, 169, 140, 162, 165, 136, 161, 164, 135, 162, 165, 136, 157, 160, 131, 159, 163, 134, 165, 165, 138, 183, 174, 153, 230, 219, 199, 244, 233, 213, 236, 225, 205, 229, 218, 198, 223, 213, 193, 218, 211, 190, 215, 209, 187, 205, 201, 178, 194, 193, 169, 181, 181, 158, 131, 133, 111, 157, 159, 136, 149, 151, 129, 136, 139, 116, 141, 141, 120, 148, 146, 126, 169, 167, 147, 177, 178, 157, 179, 182, 160, 190, 194, 171, 178, 181, 153, 166, 169, 140, 165, 168, 139, 170, 173, 144, 169, 172, 143, 168, 171, 142, 168, 171, 142, 167, 170, 141, 165, 168, 139, 168, 171, 142, 172, 173, 145, 188, 181, 159, 219, 209, 189, 235, 226, 205, 239, 229, 209, 235, 226, 205, 226, 217, 196, 214, 207, 186, 206, 200, 178, 197, 193, 170, 186, 185, 161, 173, 174, 150, 126, 128, 106, 146, 148, 127, 147, 149, 127, 135, 137, 115, 143, 143, 122, 161, 159, 138, 179, 177, 157, 180, 182, 160, 177, 181, 158, 187, 191, 167, 185, 188, 161, 180, 183, 154, 176, 179, 150, 177, 180, 151, 179, 182, 153, 181, 184, 155, 180, 183, 155, 174, 177, 148, 169, 172, 143, 169, 172, 144, 174, 175, 147, 190, 184, 162, 199, 192, 170, 190, 184, 162, 203, 196, 175, 221, 215, 193, 226, 218, 197, 216, 208, 187, 200, 194, 173, 183, 179, 157, 166, 165, 142, 152, 153, 129], \"height\": 32, \"channels\": 3, \"width\": 32, \"type\": \"image\", \"id\": 5072484688}], \"selected_variable\": {\"name\": [\"<SArray>\"], \"dtype\": \"Image\", \"view_component\": \"Images\", \"view_file\": \"sarray\", \"descriptives\": {\"rows\": 5}, \"type\": \"SArray\", \"view_components\": [\"Images\"]}}, e);\n",
       "                });\n",
       "            })();\n",
       "        "
      ]
     },
     "metadata": {},
     "output_type": "display_data"
    }
   ],
   "source": [
    "cat_neighbors2 = get_images_from_ids(cat_query2)\n",
    "cat_neighbors2['image'].show()"
   ]
  },
  {
   "cell_type": "markdown",
   "metadata": {},
   "source": [
    "** 3. A simple example of nearest-neighbors classification:** When we queried a nearest neighbors model, the `distance` column in the table above shows the computed distance between the input and each of the retrieved neighbors. In this question, you will use these distances to perform a classification task, using the idea of a nearest-neighbors classifier."
   ]
  },
  {
   "cell_type": "code",
   "execution_count": 16,
   "metadata": {
    "collapsed": false
   },
   "outputs": [
    {
     "data": {
      "text/html": [
       "<pre>Starting brute force nearest neighbors model training.</pre>"
      ],
      "text/plain": [
       "Starting brute force nearest neighbors model training."
      ]
     },
     "metadata": {},
     "output_type": "display_data"
    }
   ],
   "source": [
    "knn_model = graphlab.nearest_neighbors.create(image_train, features=['deep_features'], label='id')"
   ]
  },
  {
   "cell_type": "markdown",
   "metadata": {},
   "source": [
    "* For the first image in the test data (`image_test[0:1]`), which we used above, compute the mean distance between this image at its 5 nearest neighbors that were labeled `cat` in the training data (similarly to what you did in the previous question)."
   ]
  },
  {
   "cell_type": "code",
   "execution_count": 17,
   "metadata": {
    "collapsed": false
   },
   "outputs": [
    {
     "data": {
      "text/html": [
       "<pre>Starting pairwise querying.</pre>"
      ],
      "text/plain": [
       "Starting pairwise querying."
      ]
     },
     "metadata": {},
     "output_type": "display_data"
    },
    {
     "data": {
      "text/html": [
       "<pre>+--------------+---------+-------------+--------------+</pre>"
      ],
      "text/plain": [
       "+--------------+---------+-------------+--------------+"
      ]
     },
     "metadata": {},
     "output_type": "display_data"
    },
    {
     "data": {
      "text/html": [
       "<pre>| Query points | # Pairs | % Complete. | Elapsed Time |</pre>"
      ],
      "text/plain": [
       "| Query points | # Pairs | % Complete. | Elapsed Time |"
      ]
     },
     "metadata": {},
     "output_type": "display_data"
    },
    {
     "data": {
      "text/html": [
       "<pre>+--------------+---------+-------------+--------------+</pre>"
      ],
      "text/plain": [
       "+--------------+---------+-------------+--------------+"
      ]
     },
     "metadata": {},
     "output_type": "display_data"
    },
    {
     "data": {
      "text/html": [
       "<pre>| 0            | 1       | 0.0498753   | 14.329ms     |</pre>"
      ],
      "text/plain": [
       "| 0            | 1       | 0.0498753   | 14.329ms     |"
      ]
     },
     "metadata": {},
     "output_type": "display_data"
    },
    {
     "data": {
      "text/html": [
       "<pre>| Done         |         | 100         | 133.822ms    |</pre>"
      ],
      "text/plain": [
       "| Done         |         | 100         | 133.822ms    |"
      ]
     },
     "metadata": {},
     "output_type": "display_data"
    },
    {
     "data": {
      "text/html": [
       "<pre>+--------------+---------+-------------+--------------+</pre>"
      ],
      "text/plain": [
       "+--------------+---------+-------------+--------------+"
      ]
     },
     "metadata": {},
     "output_type": "display_data"
    },
    {
     "data": {
      "text/plain": [
       "36.15573070978294"
      ]
     },
     "execution_count": 17,
     "metadata": {},
     "output_type": "execute_result"
    }
   ],
   "source": [
    "cat = image_test[0:1]\n",
    "knn_cat_query = knn_model.query(cat)\n",
    "sum(knn_cat_query['distance']) / len(knn_cat_query)"
   ]
  },
  {
   "cell_type": "code",
   "execution_count": 18,
   "metadata": {
    "collapsed": false
   },
   "outputs": [
    {
     "data": {
      "text/html": [
       "<pre>Starting pairwise querying.</pre>"
      ],
      "text/plain": [
       "Starting pairwise querying."
      ]
     },
     "metadata": {},
     "output_type": "display_data"
    },
    {
     "data": {
      "text/html": [
       "<pre>+--------------+---------+-------------+--------------+</pre>"
      ],
      "text/plain": [
       "+--------------+---------+-------------+--------------+"
      ]
     },
     "metadata": {},
     "output_type": "display_data"
    },
    {
     "data": {
      "text/html": [
       "<pre>| Query points | # Pairs | % Complete. | Elapsed Time |</pre>"
      ],
      "text/plain": [
       "| Query points | # Pairs | % Complete. | Elapsed Time |"
      ]
     },
     "metadata": {},
     "output_type": "display_data"
    },
    {
     "data": {
      "text/html": [
       "<pre>+--------------+---------+-------------+--------------+</pre>"
      ],
      "text/plain": [
       "+--------------+---------+-------------+--------------+"
      ]
     },
     "metadata": {},
     "output_type": "display_data"
    },
    {
     "data": {
      "text/html": [
       "<pre>| 0            | 1       | 0.196464    | 8.741ms      |</pre>"
      ],
      "text/plain": [
       "| 0            | 1       | 0.196464    | 8.741ms      |"
      ]
     },
     "metadata": {},
     "output_type": "display_data"
    },
    {
     "data": {
      "text/html": [
       "<pre>| Done         |         | 100         | 52.617ms     |</pre>"
      ],
      "text/plain": [
       "| Done         |         | 100         | 52.617ms     |"
      ]
     },
     "metadata": {},
     "output_type": "display_data"
    },
    {
     "data": {
      "text/html": [
       "<pre>+--------------+---------+-------------+--------------+</pre>"
      ],
      "text/plain": [
       "+--------------+---------+-------------+--------------+"
      ]
     },
     "metadata": {},
     "output_type": "display_data"
    },
    {
     "data": {
      "text/plain": [
       "36.15573070978294"
      ]
     },
     "execution_count": 18,
     "metadata": {},
     "output_type": "execute_result"
    }
   ],
   "source": [
    "knn_cat_query2 = cat_model.query(cat)\n",
    "sum(knn_cat_query2['distance']) / len(knn_cat_query2)"
   ]
  },
  {
   "cell_type": "markdown",
   "metadata": {},
   "source": [
    "* Similarly, for the first image in the test data (`image_test[0:1]`), which we used above, compute the mean distance between this image at its 5 nearest neighbors that were labeled `dog` in the training data (similarly to what you did in the previous question)."
   ]
  },
  {
   "cell_type": "code",
   "execution_count": 19,
   "metadata": {
    "collapsed": false
   },
   "outputs": [
    {
     "data": {
      "text/html": [
       "<pre>Starting pairwise querying.</pre>"
      ],
      "text/plain": [
       "Starting pairwise querying."
      ]
     },
     "metadata": {},
     "output_type": "display_data"
    },
    {
     "data": {
      "text/html": [
       "<pre>+--------------+---------+-------------+--------------+</pre>"
      ],
      "text/plain": [
       "+--------------+---------+-------------+--------------+"
      ]
     },
     "metadata": {},
     "output_type": "display_data"
    },
    {
     "data": {
      "text/html": [
       "<pre>| Query points | # Pairs | % Complete. | Elapsed Time |</pre>"
      ],
      "text/plain": [
       "| Query points | # Pairs | % Complete. | Elapsed Time |"
      ]
     },
     "metadata": {},
     "output_type": "display_data"
    },
    {
     "data": {
      "text/html": [
       "<pre>+--------------+---------+-------------+--------------+</pre>"
      ],
      "text/plain": [
       "+--------------+---------+-------------+--------------+"
      ]
     },
     "metadata": {},
     "output_type": "display_data"
    },
    {
     "data": {
      "text/html": [
       "<pre>| 0            | 1       | 0.196464    | 7.345ms      |</pre>"
      ],
      "text/plain": [
       "| 0            | 1       | 0.196464    | 7.345ms      |"
      ]
     },
     "metadata": {},
     "output_type": "display_data"
    },
    {
     "data": {
      "text/html": [
       "<pre>| Done         |         | 100         | 46.752ms     |</pre>"
      ],
      "text/plain": [
       "| Done         |         | 100         | 46.752ms     |"
      ]
     },
     "metadata": {},
     "output_type": "display_data"
    },
    {
     "data": {
      "text/html": [
       "<pre>+--------------+---------+-------------+--------------+</pre>"
      ],
      "text/plain": [
       "+--------------+---------+-------------+--------------+"
      ]
     },
     "metadata": {},
     "output_type": "display_data"
    },
    {
     "data": {
      "text/plain": [
       "37.77071136184157"
      ]
     },
     "execution_count": 19,
     "metadata": {},
     "output_type": "execute_result"
    }
   ],
   "source": [
    "knn_cat_query3 = dog_model.query(cat)\n",
    "sum(knn_cat_query3['distance']) / len(knn_cat_query3)"
   ]
  },
  {
   "cell_type": "markdown",
   "metadata": {},
   "source": [
    "** 4. Computing nearest neighbors accuracy using SFrame operations:** A nearest neighbor classifier predicts the label of a point as the most common label of its nearest neighbors. In this question, we will measure the accuracy of a 1-nearest-neighbor classifier, i.e., predict the output as the label of the nearest neighbor in the training data. Although there are simpler ways of computing this result, we will go step-by-step here to introduce you to more concepts in nearest neighbors and SFrames, which will be useful later in this Specialization.\n",
    "\n",
    "* **Training models:** For this question, you will need the nearest neighbors models you learned above on the training data, i.e., the `dog_model`, `cat_model`, `automobile_model` and `bird_model`.\n",
    "* **Spliting test data by label:** Above, you split the train data SFrame into one SFrame for images labeled `dog`, another for those labeled `cat`, etc. Now, do the same for the test data. You can call the resulting SFrames\n",
    "\n",
    "```python\n",
    "image_test_cat, image_test_dog, image_test_bird, image_test_automobile\n",
    "```\n",
    "\n",
    "* **Finding nearest neighbors in the training set for each part of the test set:** Thus far, we have queried, e.g.,\n",
    "\n",
    "```python\n",
    "dog_model.query()\n",
    "```\n",
    "\n",
    "our nearest neighbors models with a single image as the input, but you can actually query with a whole set of data, and it will find the nearest neighbors for each data point. Note that the input index will be stored in the `query_label` column of the output SFrame.\n",
    "\n",
    "Using this knowledge find the closest neighbor in to the dog test data using each of the trained models, e.g.,\n",
    "\n",
    "```python\n",
    "dog_cat_neighbors = cat_model.query(image_test_dog, k=1)\n",
    "```\n",
    "\n",
    "finds 1 neighbor (that’s what k=1 does) to the dog test images (`image_test_dog`) in the cat portion of the training data (used to train the `cat_model`).\n",
    "\n",
    "Now, do this for every combination of the labels in the training and test data."
   ]
  },
  {
   "cell_type": "code",
   "execution_count": 20,
   "metadata": {
    "collapsed": false
   },
   "outputs": [],
   "source": [
    "image_test_cat = image_test[image_test['label'] == 'cat']\n",
    "image_test_dog = image_test[image_test['label'] == 'dog']\n",
    "image_test_bird = image_test[image_test['label'] == 'bird']\n",
    "image_test_automobile = image_test[image_test['label'] == 'automobile']"
   ]
  },
  {
   "cell_type": "code",
   "execution_count": 21,
   "metadata": {
    "collapsed": false
   },
   "outputs": [
    {
     "data": {
      "text/html": [
       "<pre>Starting blockwise querying.</pre>"
      ],
      "text/plain": [
       "Starting blockwise querying."
      ]
     },
     "metadata": {},
     "output_type": "display_data"
    },
    {
     "data": {
      "text/html": [
       "<pre>max rows per data block: 4348</pre>"
      ],
      "text/plain": [
       "max rows per data block: 4348"
      ]
     },
     "metadata": {},
     "output_type": "display_data"
    },
    {
     "data": {
      "text/html": [
       "<pre>number of reference data blocks: 8</pre>"
      ],
      "text/plain": [
       "number of reference data blocks: 8"
      ]
     },
     "metadata": {},
     "output_type": "display_data"
    },
    {
     "data": {
      "text/html": [
       "<pre>number of query data blocks: 1</pre>"
      ],
      "text/plain": [
       "number of query data blocks: 1"
      ]
     },
     "metadata": {},
     "output_type": "display_data"
    },
    {
     "data": {
      "text/html": [
       "<pre>+--------------+---------+-------------+--------------+</pre>"
      ],
      "text/plain": [
       "+--------------+---------+-------------+--------------+"
      ]
     },
     "metadata": {},
     "output_type": "display_data"
    },
    {
     "data": {
      "text/html": [
       "<pre>| Query points | # Pairs | % Complete. | Elapsed Time |</pre>"
      ],
      "text/plain": [
       "| Query points | # Pairs | % Complete. | Elapsed Time |"
      ]
     },
     "metadata": {},
     "output_type": "display_data"
    },
    {
     "data": {
      "text/html": [
       "<pre>+--------------+---------+-------------+--------------+</pre>"
      ],
      "text/plain": [
       "+--------------+---------+-------------+--------------+"
      ]
     },
     "metadata": {},
     "output_type": "display_data"
    },
    {
     "data": {
      "text/html": [
       "<pre>| 1000         | 63000   | 12.3772     | 335.786ms    |</pre>"
      ],
      "text/plain": [
       "| 1000         | 63000   | 12.3772     | 335.786ms    |"
      ]
     },
     "metadata": {},
     "output_type": "display_data"
    },
    {
     "data": {
      "text/html": [
       "<pre>| Done         | 509000  | 100         | 379.717ms    |</pre>"
      ],
      "text/plain": [
       "| Done         | 509000  | 100         | 379.717ms    |"
      ]
     },
     "metadata": {},
     "output_type": "display_data"
    },
    {
     "data": {
      "text/html": [
       "<pre>+--------------+---------+-------------+--------------+</pre>"
      ],
      "text/plain": [
       "+--------------+---------+-------------+--------------+"
      ]
     },
     "metadata": {},
     "output_type": "display_data"
    },
    {
     "data": {
      "text/html": [
       "<pre>Starting blockwise querying.</pre>"
      ],
      "text/plain": [
       "Starting blockwise querying."
      ]
     },
     "metadata": {},
     "output_type": "display_data"
    },
    {
     "data": {
      "text/html": [
       "<pre>max rows per data block: 4348</pre>"
      ],
      "text/plain": [
       "max rows per data block: 4348"
      ]
     },
     "metadata": {},
     "output_type": "display_data"
    },
    {
     "data": {
      "text/html": [
       "<pre>number of reference data blocks: 8</pre>"
      ],
      "text/plain": [
       "number of reference data blocks: 8"
      ]
     },
     "metadata": {},
     "output_type": "display_data"
    },
    {
     "data": {
      "text/html": [
       "<pre>number of query data blocks: 1</pre>"
      ],
      "text/plain": [
       "number of query data blocks: 1"
      ]
     },
     "metadata": {},
     "output_type": "display_data"
    },
    {
     "data": {
      "text/html": [
       "<pre>+--------------+---------+-------------+--------------+</pre>"
      ],
      "text/plain": [
       "+--------------+---------+-------------+--------------+"
      ]
     },
     "metadata": {},
     "output_type": "display_data"
    },
    {
     "data": {
      "text/html": [
       "<pre>| Query points | # Pairs | % Complete. | Elapsed Time |</pre>"
      ],
      "text/plain": [
       "| Query points | # Pairs | % Complete. | Elapsed Time |"
      ]
     },
     "metadata": {},
     "output_type": "display_data"
    },
    {
     "data": {
      "text/html": [
       "<pre>+--------------+---------+-------------+--------------+</pre>"
      ],
      "text/plain": [
       "+--------------+---------+-------------+--------------+"
      ]
     },
     "metadata": {},
     "output_type": "display_data"
    },
    {
     "data": {
      "text/html": [
       "<pre>| 1000         | 63000   | 12.3772     | 288.92ms     |</pre>"
      ],
      "text/plain": [
       "| 1000         | 63000   | 12.3772     | 288.92ms     |"
      ]
     },
     "metadata": {},
     "output_type": "display_data"
    },
    {
     "data": {
      "text/html": [
       "<pre>| Done         | 509000  | 100         | 312.661ms    |</pre>"
      ],
      "text/plain": [
       "| Done         | 509000  | 100         | 312.661ms    |"
      ]
     },
     "metadata": {},
     "output_type": "display_data"
    },
    {
     "data": {
      "text/html": [
       "<pre>+--------------+---------+-------------+--------------+</pre>"
      ],
      "text/plain": [
       "+--------------+---------+-------------+--------------+"
      ]
     },
     "metadata": {},
     "output_type": "display_data"
    },
    {
     "data": {
      "text/html": [
       "<pre>Starting blockwise querying.</pre>"
      ],
      "text/plain": [
       "Starting blockwise querying."
      ]
     },
     "metadata": {},
     "output_type": "display_data"
    },
    {
     "data": {
      "text/html": [
       "<pre>max rows per data block: 4348</pre>"
      ],
      "text/plain": [
       "max rows per data block: 4348"
      ]
     },
     "metadata": {},
     "output_type": "display_data"
    },
    {
     "data": {
      "text/html": [
       "<pre>number of reference data blocks: 8</pre>"
      ],
      "text/plain": [
       "number of reference data blocks: 8"
      ]
     },
     "metadata": {},
     "output_type": "display_data"
    },
    {
     "data": {
      "text/html": [
       "<pre>number of query data blocks: 1</pre>"
      ],
      "text/plain": [
       "number of query data blocks: 1"
      ]
     },
     "metadata": {},
     "output_type": "display_data"
    },
    {
     "data": {
      "text/html": [
       "<pre>+--------------+---------+-------------+--------------+</pre>"
      ],
      "text/plain": [
       "+--------------+---------+-------------+--------------+"
      ]
     },
     "metadata": {},
     "output_type": "display_data"
    },
    {
     "data": {
      "text/html": [
       "<pre>| Query points | # Pairs | % Complete. | Elapsed Time |</pre>"
      ],
      "text/plain": [
       "| Query points | # Pairs | % Complete. | Elapsed Time |"
      ]
     },
     "metadata": {},
     "output_type": "display_data"
    },
    {
     "data": {
      "text/html": [
       "<pre>+--------------+---------+-------------+--------------+</pre>"
      ],
      "text/plain": [
       "+--------------+---------+-------------+--------------+"
      ]
     },
     "metadata": {},
     "output_type": "display_data"
    },
    {
     "data": {
      "text/html": [
       "<pre>| 1000         | 60000   | 12.5523     | 270.343ms    |</pre>"
      ],
      "text/plain": [
       "| 1000         | 60000   | 12.5523     | 270.343ms    |"
      ]
     },
     "metadata": {},
     "output_type": "display_data"
    },
    {
     "data": {
      "text/html": [
       "<pre>| Done         | 478000  | 100         | 324.873ms    |</pre>"
      ],
      "text/plain": [
       "| Done         | 478000  | 100         | 324.873ms    |"
      ]
     },
     "metadata": {},
     "output_type": "display_data"
    },
    {
     "data": {
      "text/html": [
       "<pre>+--------------+---------+-------------+--------------+</pre>"
      ],
      "text/plain": [
       "+--------------+---------+-------------+--------------+"
      ]
     },
     "metadata": {},
     "output_type": "display_data"
    },
    {
     "data": {
      "text/html": [
       "<pre>Starting blockwise querying.</pre>"
      ],
      "text/plain": [
       "Starting blockwise querying."
      ]
     },
     "metadata": {},
     "output_type": "display_data"
    },
    {
     "data": {
      "text/html": [
       "<pre>max rows per data block: 4348</pre>"
      ],
      "text/plain": [
       "max rows per data block: 4348"
      ]
     },
     "metadata": {},
     "output_type": "display_data"
    },
    {
     "data": {
      "text/html": [
       "<pre>number of reference data blocks: 8</pre>"
      ],
      "text/plain": [
       "number of reference data blocks: 8"
      ]
     },
     "metadata": {},
     "output_type": "display_data"
    },
    {
     "data": {
      "text/html": [
       "<pre>number of query data blocks: 1</pre>"
      ],
      "text/plain": [
       "number of query data blocks: 1"
      ]
     },
     "metadata": {},
     "output_type": "display_data"
    },
    {
     "data": {
      "text/html": [
       "<pre>+--------------+---------+-------------+--------------+</pre>"
      ],
      "text/plain": [
       "+--------------+---------+-------------+--------------+"
      ]
     },
     "metadata": {},
     "output_type": "display_data"
    },
    {
     "data": {
      "text/html": [
       "<pre>| Query points | # Pairs | % Complete. | Elapsed Time |</pre>"
      ],
      "text/plain": [
       "| Query points | # Pairs | % Complete. | Elapsed Time |"
      ]
     },
     "metadata": {},
     "output_type": "display_data"
    },
    {
     "data": {
      "text/html": [
       "<pre>+--------------+---------+-------------+--------------+</pre>"
      ],
      "text/plain": [
       "+--------------+---------+-------------+--------------+"
      ]
     },
     "metadata": {},
     "output_type": "display_data"
    },
    {
     "data": {
      "text/html": [
       "<pre>| 1000         | 63000   | 12.3772     | 327.162ms    |</pre>"
      ],
      "text/plain": [
       "| 1000         | 63000   | 12.3772     | 327.162ms    |"
      ]
     },
     "metadata": {},
     "output_type": "display_data"
    },
    {
     "data": {
      "text/html": [
       "<pre>| Done         | 509000  | 100         | 351.901ms    |</pre>"
      ],
      "text/plain": [
       "| Done         | 509000  | 100         | 351.901ms    |"
      ]
     },
     "metadata": {},
     "output_type": "display_data"
    },
    {
     "data": {
      "text/html": [
       "<pre>+--------------+---------+-------------+--------------+</pre>"
      ],
      "text/plain": [
       "+--------------+---------+-------------+--------------+"
      ]
     },
     "metadata": {},
     "output_type": "display_data"
    }
   ],
   "source": [
    "dog_cat_neighbors = cat_model.query(image_test_dog, k=1)\n",
    "dog_dog_neighbors = dog_model.query(image_test_dog, k=1)\n",
    "dog_bird_neighbors = bird_model.query(image_test_dog, k=1)\n",
    "dog_automobile_neighbors = automobile_model.query(image_test_dog, k=1)"
   ]
  },
  {
   "cell_type": "markdown",
   "metadata": {},
   "source": [
    "* **Create an SFrame with the distances from `dog` test examples to the respective nearest neighbors in each class in the training data:** The `distance` column in `dog_cat_neighbors` above contains the distance between each `dog` image in the test set and its nearest `cat` image in the training set. The question we want to answer is how many of the test set `dog` images are closer to a `dog` in the training set than to a `cat`, `automobile` or `bird`. So, next we will create an SFrame containing just these distances per data point. The goal is to create an SFrame called `dog_distances` with 4 columns:\n",
    "\n",
    "\n",
    "1. `dog_distances[‘dog-dog’]` ---- storing `dog_dog_neighbors[‘distance’]`\n",
    "\n",
    "2. `dog_distances[‘dog-cat’]` ---- storing `dog_cat_neighbors[‘distance’]`\n",
    "\n",
    "3. `dog_distances[‘dog-automobile’]` ---- storing `dog_automobile_neighbors[‘distance’]`\n",
    "\n",
    "4. `dog_distances[‘dog-bird’]` ---- storing `dog_bird_neighbors[‘distance’]`"
   ]
  },
  {
   "cell_type": "code",
   "execution_count": 33,
   "metadata": {
    "collapsed": false
   },
   "outputs": [
    {
     "data": {
      "text/html": [
       "<div style=\"max-height:1000px;max-width:1500px;overflow:auto;\"><table frame=\"box\" rules=\"cols\">\n",
       "    <tr>\n",
       "        <th style=\"padding-left: 1em; padding-right: 1em; text-align: center\">dog-automobile</th>\n",
       "        <th style=\"padding-left: 1em; padding-right: 1em; text-align: center\">dog-bird</th>\n",
       "        <th style=\"padding-left: 1em; padding-right: 1em; text-align: center\">dog-cat</th>\n",
       "        <th style=\"padding-left: 1em; padding-right: 1em; text-align: center\">dog-dog</th>\n",
       "    </tr>\n",
       "    <tr>\n",
       "        <td style=\"padding-left: 1em; padding-right: 1em; text-align: center; vertical-align: top\">41.9579761457</td>\n",
       "        <td style=\"padding-left: 1em; padding-right: 1em; text-align: center; vertical-align: top\">41.7538647304</td>\n",
       "        <td style=\"padding-left: 1em; padding-right: 1em; text-align: center; vertical-align: top\">36.4196077068</td>\n",
       "        <td style=\"padding-left: 1em; padding-right: 1em; text-align: center; vertical-align: top\">33.4773590373</td>\n",
       "    </tr>\n",
       "    <tr>\n",
       "        <td style=\"padding-left: 1em; padding-right: 1em; text-align: center; vertical-align: top\">46.0021331807</td>\n",
       "        <td style=\"padding-left: 1em; padding-right: 1em; text-align: center; vertical-align: top\">41.3382958925</td>\n",
       "        <td style=\"padding-left: 1em; padding-right: 1em; text-align: center; vertical-align: top\">38.8353268874</td>\n",
       "        <td style=\"padding-left: 1em; padding-right: 1em; text-align: center; vertical-align: top\">32.8458495684</td>\n",
       "    </tr>\n",
       "    <tr>\n",
       "        <td style=\"padding-left: 1em; padding-right: 1em; text-align: center; vertical-align: top\">42.9462290692</td>\n",
       "        <td style=\"padding-left: 1em; padding-right: 1em; text-align: center; vertical-align: top\">38.6157590853</td>\n",
       "        <td style=\"padding-left: 1em; padding-right: 1em; text-align: center; vertical-align: top\">36.9763410854</td>\n",
       "        <td style=\"padding-left: 1em; padding-right: 1em; text-align: center; vertical-align: top\">35.0397073189</td>\n",
       "    </tr>\n",
       "    <tr>\n",
       "        <td style=\"padding-left: 1em; padding-right: 1em; text-align: center; vertical-align: top\">41.6866060048</td>\n",
       "        <td style=\"padding-left: 1em; padding-right: 1em; text-align: center; vertical-align: top\">37.0892269954</td>\n",
       "        <td style=\"padding-left: 1em; padding-right: 1em; text-align: center; vertical-align: top\">34.5750072914</td>\n",
       "        <td style=\"padding-left: 1em; padding-right: 1em; text-align: center; vertical-align: top\">33.9010327697</td>\n",
       "    </tr>\n",
       "    <tr>\n",
       "        <td style=\"padding-left: 1em; padding-right: 1em; text-align: center; vertical-align: top\">39.2269664935</td>\n",
       "        <td style=\"padding-left: 1em; padding-right: 1em; text-align: center; vertical-align: top\">38.272288694</td>\n",
       "        <td style=\"padding-left: 1em; padding-right: 1em; text-align: center; vertical-align: top\">34.778824791</td>\n",
       "        <td style=\"padding-left: 1em; padding-right: 1em; text-align: center; vertical-align: top\">37.4849250909</td>\n",
       "    </tr>\n",
       "    <tr>\n",
       "        <td style=\"padding-left: 1em; padding-right: 1em; text-align: center; vertical-align: top\">40.5845117698</td>\n",
       "        <td style=\"padding-left: 1em; padding-right: 1em; text-align: center; vertical-align: top\">39.1462089236</td>\n",
       "        <td style=\"padding-left: 1em; padding-right: 1em; text-align: center; vertical-align: top\">35.1171578292</td>\n",
       "        <td style=\"padding-left: 1em; padding-right: 1em; text-align: center; vertical-align: top\">34.945165344</td>\n",
       "    </tr>\n",
       "    <tr>\n",
       "        <td style=\"padding-left: 1em; padding-right: 1em; text-align: center; vertical-align: top\">45.1067352961</td>\n",
       "        <td style=\"padding-left: 1em; padding-right: 1em; text-align: center; vertical-align: top\">40.523040106</td>\n",
       "        <td style=\"padding-left: 1em; padding-right: 1em; text-align: center; vertical-align: top\">40.6095830913</td>\n",
       "        <td style=\"padding-left: 1em; padding-right: 1em; text-align: center; vertical-align: top\">39.0957278345</td>\n",
       "    </tr>\n",
       "    <tr>\n",
       "        <td style=\"padding-left: 1em; padding-right: 1em; text-align: center; vertical-align: top\">41.3221140974</td>\n",
       "        <td style=\"padding-left: 1em; padding-right: 1em; text-align: center; vertical-align: top\">38.1947918393</td>\n",
       "        <td style=\"padding-left: 1em; padding-right: 1em; text-align: center; vertical-align: top\">39.9036867306</td>\n",
       "        <td style=\"padding-left: 1em; padding-right: 1em; text-align: center; vertical-align: top\">37.7696131032</td>\n",
       "    </tr>\n",
       "    <tr>\n",
       "        <td style=\"padding-left: 1em; padding-right: 1em; text-align: center; vertical-align: top\">41.8244654995</td>\n",
       "        <td style=\"padding-left: 1em; padding-right: 1em; text-align: center; vertical-align: top\">40.1567131661</td>\n",
       "        <td style=\"padding-left: 1em; padding-right: 1em; text-align: center; vertical-align: top\">38.0674700168</td>\n",
       "        <td style=\"padding-left: 1em; padding-right: 1em; text-align: center; vertical-align: top\">35.1089144603</td>\n",
       "    </tr>\n",
       "    <tr>\n",
       "        <td style=\"padding-left: 1em; padding-right: 1em; text-align: center; vertical-align: top\">45.4976929401</td>\n",
       "        <td style=\"padding-left: 1em; padding-right: 1em; text-align: center; vertical-align: top\">45.5597962603</td>\n",
       "        <td style=\"padding-left: 1em; padding-right: 1em; text-align: center; vertical-align: top\">42.7258732951</td>\n",
       "        <td style=\"padding-left: 1em; padding-right: 1em; text-align: center; vertical-align: top\">43.2422832585</td>\n",
       "    </tr>\n",
       "</table>\n",
       "[10 rows x 4 columns]<br/>\n",
       "</div>"
      ],
      "text/plain": [
       "Columns:\n",
       "\tdog-automobile\tfloat\n",
       "\tdog-bird\tfloat\n",
       "\tdog-cat\tfloat\n",
       "\tdog-dog\tfloat\n",
       "\n",
       "Rows: 10\n",
       "\n",
       "Data:\n",
       "+----------------+---------------+---------------+---------------+\n",
       "| dog-automobile |    dog-bird   |    dog-cat    |    dog-dog    |\n",
       "+----------------+---------------+---------------+---------------+\n",
       "| 41.9579761457  | 41.7538647304 | 36.4196077068 | 33.4773590373 |\n",
       "| 46.0021331807  | 41.3382958925 | 38.8353268874 | 32.8458495684 |\n",
       "| 42.9462290692  | 38.6157590853 | 36.9763410854 | 35.0397073189 |\n",
       "| 41.6866060048  | 37.0892269954 | 34.5750072914 | 33.9010327697 |\n",
       "| 39.2269664935  |  38.272288694 |  34.778824791 | 37.4849250909 |\n",
       "| 40.5845117698  | 39.1462089236 | 35.1171578292 |  34.945165344 |\n",
       "| 45.1067352961  |  40.523040106 | 40.6095830913 | 39.0957278345 |\n",
       "| 41.3221140974  | 38.1947918393 | 39.9036867306 | 37.7696131032 |\n",
       "| 41.8244654995  | 40.1567131661 | 38.0674700168 | 35.1089144603 |\n",
       "| 45.4976929401  | 45.5597962603 | 42.7258732951 | 43.2422832585 |\n",
       "+----------------+---------------+---------------+---------------+\n",
       "[10 rows x 4 columns]"
      ]
     },
     "execution_count": 33,
     "metadata": {},
     "output_type": "execute_result"
    }
   ],
   "source": [
    "dog_distances = graphlab.SFrame({\n",
    "        'dog-cat': dog_cat_neighbors['distance'],\n",
    "        'dog-dog': dog_dog_neighbors['distance'],\n",
    "        'dog-bird': dog_bird_neighbors['distance'],\n",
    "        'dog-automobile': dog_automobile_neighbors['distance']})\n",
    "\n",
    "dog_distances.head()"
   ]
  },
  {
   "cell_type": "markdown",
   "metadata": {},
   "source": [
    "* **Computing the number of correct predictions using 1-nearest neighbors for the dog class:** Now that you have created the SFrame `dog_distances`, you will learn to use the method `.apply()` on this SFrame to iterate line by line and compute the number of `dog` test examples where the distance to the nearest `dog` was lower than that to the other classes. You will do this in three steps:"
   ]
  },
  {
   "cell_type": "markdown",
   "metadata": {},
   "source": [
    "I. Consider one row of the SFrame `dog_distances`. Let’s call this variable row. You can access each distance by calling, for example, `row['dog-cat']` which, in example table above, will have value equal to 36.4196077068 for the first row. Create a function starting with \n",
    "\n",
    "```python\n",
    "def is_dog_correct(row):\n",
    "```\n",
    "which returns 1 if the value for `row[‘dog-dog’]` is lower than that of the other columns, and 0 otherwise. That is, returns 1 if this row is correctly classified by 1-nearest neighbors, and 0 otherwise."
   ]
  },
  {
   "cell_type": "code",
   "execution_count": 34,
   "metadata": {
    "collapsed": false
   },
   "outputs": [],
   "source": [
    "def is_dog_correct(row):\n",
    "    return 1 if row['dog-dog'] <= min(row.values()) else 0"
   ]
  },
  {
   "cell_type": "markdown",
   "metadata": {},
   "source": [
    "II. Using the function `is_dog_correct(row)`, you can check if 1 row is correctly classified. Now, you want to count how many rows are correctly classified. You could do a for loop iterating through each row and applying the function `is_dog_correct(row)`. This method will be really slow, because the SFrame is not optimized for this type of operation.\n",
    "\n",
    "Instead, we will use the `.apply()` method to iterate the function is_dog_correct for each row of the SFrame. Read about using the `.apply()` method [here](https://turi.com/learn/userguide/sframe/tabular-data.html)."
   ]
  },
  {
   "cell_type": "markdown",
   "metadata": {},
   "source": [
    "III. Computing the number of correct predictions for `dog`: You can now call:\n",
    "\n",
    "```python\n",
    "dog_distances.apply(is_dog_correct)\n",
    "```\n",
    "\n",
    "which will return an SArray (a column of data) with a 1 for every correct row and a 0 for every incorrect one. You can call:\n",
    "\n",
    "```python\n",
    ".sum()\n",
    "```"
   ]
  },
  {
   "cell_type": "code",
   "execution_count": 37,
   "metadata": {
    "collapsed": false
   },
   "outputs": [
    {
     "data": {
      "text/plain": [
       "dtype: int\n",
       "Rows: 1000\n",
       "[1, 1, 1, 1, 0, 1, 1, 1, 1, 0, 1, 0, 0, 1, 1, 1, 1, 0, 0, 1, 0, 0, 0, 0, 1, 1, 0, 1, 1, 0, 1, 1, 0, 1, 1, 1, 1, 1, 0, 0, 1, 1, 0, 1, 1, 0, 1, 1, 1, 1, 0, 0, 1, 1, 0, 1, 1, 1, 0, 0, 1, 0, 0, 1, 0, 1, 0, 0, 0, 1, 1, 1, 1, 0, 0, 0, 1, 1, 1, 1, 1, 1, 0, 0, 1, 1, 1, 1, 1, 1, 1, 0, 1, 1, 1, 1, 1, 1, 0, 0, ... ]"
      ]
     },
     "execution_count": 37,
     "metadata": {},
     "output_type": "execute_result"
    }
   ],
   "source": [
    "dog_distances.apply(is_dog_correct)"
   ]
  },
  {
   "cell_type": "code",
   "execution_count": 38,
   "metadata": {
    "collapsed": false
   },
   "outputs": [
    {
     "data": {
      "text/plain": [
       "678"
      ]
     },
     "execution_count": 38,
     "metadata": {},
     "output_type": "execute_result"
    }
   ],
   "source": [
    "dog_distances.apply(is_dog_correct).sum()"
   ]
  },
  {
   "cell_type": "code",
   "execution_count": 39,
   "metadata": {
    "collapsed": false
   },
   "outputs": [
    {
     "data": {
      "text/plain": [
       "0.678"
      ]
     },
     "execution_count": 39,
     "metadata": {},
     "output_type": "execute_result"
    }
   ],
   "source": [
    "dog_distances.apply(is_dog_correct).sum() / float(len(dog_distances))"
   ]
  }
 ],
 "metadata": {
  "kernelspec": {
   "display_name": "Python 2",
   "language": "python",
   "name": "python2"
  },
  "language_info": {
   "codemirror_mode": {
    "name": "ipython",
    "version": 2
   },
   "file_extension": ".py",
   "mimetype": "text/x-python",
   "name": "python",
   "nbconvert_exporter": "python",
   "pygments_lexer": "ipython2",
   "version": "2.7.11"
  }
 },
 "nbformat": 4,
 "nbformat_minor": 0
}
