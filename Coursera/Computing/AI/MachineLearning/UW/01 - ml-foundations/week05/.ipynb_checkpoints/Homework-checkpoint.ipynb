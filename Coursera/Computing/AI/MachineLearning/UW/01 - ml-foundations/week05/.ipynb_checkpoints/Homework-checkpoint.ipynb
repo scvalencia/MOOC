{
 "cells": [
  {
   "cell_type": "markdown",
   "metadata": {},
   "source": [
    "# Homework"
   ]
  },
  {
   "cell_type": "code",
   "execution_count": 1,
   "metadata": {
    "collapsed": true
   },
   "outputs": [],
   "source": [
    "import graphlab"
   ]
  },
  {
   "cell_type": "code",
   "execution_count": 31,
   "metadata": {
    "collapsed": false
   },
   "outputs": [],
   "source": [
    "song_data = graphlab.SFrame('song_data.gl/')\n",
    "graphlab.canvas.set_target('ipynb')"
   ]
  },
  {
   "cell_type": "markdown",
   "metadata": {},
   "source": [
    "**1. Counting unique users:** The method `.unique()` can be used to select the unique elements in a column of data. In this question, you will compute the number of unique users who have listened to songs by various artists. For example, to find out the number of unique users who listened to songs by *Kanye West*, all you need to do is select the rows of the song data where the artist is *Kanye West*, and then count the number of unique entries in the `user_id` column. Compute the number of unique users for each of these artists: *Kanye West, *Foo Fighters*, *Taylor Swift* and *Lady GaGa*."
   ]
  },
  {
   "cell_type": "code",
   "execution_count": 32,
   "metadata": {
    "collapsed": false
   },
   "outputs": [
    {
     "data": {
      "text/html": [
       "<div style=\"max-height:1000px;max-width:1500px;overflow:auto;\"><table frame=\"box\" rules=\"cols\">\n",
       "    <tr>\n",
       "        <th style=\"padding-left: 1em; padding-right: 1em; text-align: center\">user_id</th>\n",
       "        <th style=\"padding-left: 1em; padding-right: 1em; text-align: center\">song_id</th>\n",
       "        <th style=\"padding-left: 1em; padding-right: 1em; text-align: center\">listen_count</th>\n",
       "        <th style=\"padding-left: 1em; padding-right: 1em; text-align: center\">title</th>\n",
       "        <th style=\"padding-left: 1em; padding-right: 1em; text-align: center\">artist</th>\n",
       "    </tr>\n",
       "    <tr>\n",
       "        <td style=\"padding-left: 1em; padding-right: 1em; text-align: center; vertical-align: top\">b80344d063b5ccb3212f76538<br>f3d9e43d87dca9e ...</td>\n",
       "        <td style=\"padding-left: 1em; padding-right: 1em; text-align: center; vertical-align: top\">SOAKIMP12A8C130995</td>\n",
       "        <td style=\"padding-left: 1em; padding-right: 1em; text-align: center; vertical-align: top\">1</td>\n",
       "        <td style=\"padding-left: 1em; padding-right: 1em; text-align: center; vertical-align: top\">The Cove</td>\n",
       "        <td style=\"padding-left: 1em; padding-right: 1em; text-align: center; vertical-align: top\">Jack Johnson</td>\n",
       "    </tr>\n",
       "    <tr>\n",
       "        <td style=\"padding-left: 1em; padding-right: 1em; text-align: center; vertical-align: top\">b80344d063b5ccb3212f76538<br>f3d9e43d87dca9e ...</td>\n",
       "        <td style=\"padding-left: 1em; padding-right: 1em; text-align: center; vertical-align: top\">SOBBMDR12A8C13253B</td>\n",
       "        <td style=\"padding-left: 1em; padding-right: 1em; text-align: center; vertical-align: top\">2</td>\n",
       "        <td style=\"padding-left: 1em; padding-right: 1em; text-align: center; vertical-align: top\">Entre Dos Aguas</td>\n",
       "        <td style=\"padding-left: 1em; padding-right: 1em; text-align: center; vertical-align: top\">Paco De Lucia</td>\n",
       "    </tr>\n",
       "    <tr>\n",
       "        <td style=\"padding-left: 1em; padding-right: 1em; text-align: center; vertical-align: top\">b80344d063b5ccb3212f76538<br>f3d9e43d87dca9e ...</td>\n",
       "        <td style=\"padding-left: 1em; padding-right: 1em; text-align: center; vertical-align: top\">SOBXHDL12A81C204C0</td>\n",
       "        <td style=\"padding-left: 1em; padding-right: 1em; text-align: center; vertical-align: top\">1</td>\n",
       "        <td style=\"padding-left: 1em; padding-right: 1em; text-align: center; vertical-align: top\">Stronger</td>\n",
       "        <td style=\"padding-left: 1em; padding-right: 1em; text-align: center; vertical-align: top\">Kanye West</td>\n",
       "    </tr>\n",
       "    <tr>\n",
       "        <td style=\"padding-left: 1em; padding-right: 1em; text-align: center; vertical-align: top\">b80344d063b5ccb3212f76538<br>f3d9e43d87dca9e ...</td>\n",
       "        <td style=\"padding-left: 1em; padding-right: 1em; text-align: center; vertical-align: top\">SOBYHAJ12A6701BF1D</td>\n",
       "        <td style=\"padding-left: 1em; padding-right: 1em; text-align: center; vertical-align: top\">1</td>\n",
       "        <td style=\"padding-left: 1em; padding-right: 1em; text-align: center; vertical-align: top\">Constellations</td>\n",
       "        <td style=\"padding-left: 1em; padding-right: 1em; text-align: center; vertical-align: top\">Jack Johnson</td>\n",
       "    </tr>\n",
       "    <tr>\n",
       "        <td style=\"padding-left: 1em; padding-right: 1em; text-align: center; vertical-align: top\">b80344d063b5ccb3212f76538<br>f3d9e43d87dca9e ...</td>\n",
       "        <td style=\"padding-left: 1em; padding-right: 1em; text-align: center; vertical-align: top\">SODACBL12A8C13C273</td>\n",
       "        <td style=\"padding-left: 1em; padding-right: 1em; text-align: center; vertical-align: top\">1</td>\n",
       "        <td style=\"padding-left: 1em; padding-right: 1em; text-align: center; vertical-align: top\">Learn To Fly</td>\n",
       "        <td style=\"padding-left: 1em; padding-right: 1em; text-align: center; vertical-align: top\">Foo Fighters</td>\n",
       "    </tr>\n",
       "    <tr>\n",
       "        <td style=\"padding-left: 1em; padding-right: 1em; text-align: center; vertical-align: top\">b80344d063b5ccb3212f76538<br>f3d9e43d87dca9e ...</td>\n",
       "        <td style=\"padding-left: 1em; padding-right: 1em; text-align: center; vertical-align: top\">SODDNQT12A6D4F5F7E</td>\n",
       "        <td style=\"padding-left: 1em; padding-right: 1em; text-align: center; vertical-align: top\">5</td>\n",
       "        <td style=\"padding-left: 1em; padding-right: 1em; text-align: center; vertical-align: top\">Apuesta Por El Rock 'N'<br>Roll ...</td>\n",
       "        <td style=\"padding-left: 1em; padding-right: 1em; text-align: center; vertical-align: top\">Héroes del Silencio</td>\n",
       "    </tr>\n",
       "    <tr>\n",
       "        <td style=\"padding-left: 1em; padding-right: 1em; text-align: center; vertical-align: top\">b80344d063b5ccb3212f76538<br>f3d9e43d87dca9e ...</td>\n",
       "        <td style=\"padding-left: 1em; padding-right: 1em; text-align: center; vertical-align: top\">SODXRTY12AB0180F3B</td>\n",
       "        <td style=\"padding-left: 1em; padding-right: 1em; text-align: center; vertical-align: top\">1</td>\n",
       "        <td style=\"padding-left: 1em; padding-right: 1em; text-align: center; vertical-align: top\">Paper Gangsta</td>\n",
       "        <td style=\"padding-left: 1em; padding-right: 1em; text-align: center; vertical-align: top\">Lady GaGa</td>\n",
       "    </tr>\n",
       "    <tr>\n",
       "        <td style=\"padding-left: 1em; padding-right: 1em; text-align: center; vertical-align: top\">b80344d063b5ccb3212f76538<br>f3d9e43d87dca9e ...</td>\n",
       "        <td style=\"padding-left: 1em; padding-right: 1em; text-align: center; vertical-align: top\">SOFGUAY12AB017B0A8</td>\n",
       "        <td style=\"padding-left: 1em; padding-right: 1em; text-align: center; vertical-align: top\">1</td>\n",
       "        <td style=\"padding-left: 1em; padding-right: 1em; text-align: center; vertical-align: top\">Stacked Actors</td>\n",
       "        <td style=\"padding-left: 1em; padding-right: 1em; text-align: center; vertical-align: top\">Foo Fighters</td>\n",
       "    </tr>\n",
       "    <tr>\n",
       "        <td style=\"padding-left: 1em; padding-right: 1em; text-align: center; vertical-align: top\">b80344d063b5ccb3212f76538<br>f3d9e43d87dca9e ...</td>\n",
       "        <td style=\"padding-left: 1em; padding-right: 1em; text-align: center; vertical-align: top\">SOFRQTD12A81C233C0</td>\n",
       "        <td style=\"padding-left: 1em; padding-right: 1em; text-align: center; vertical-align: top\">1</td>\n",
       "        <td style=\"padding-left: 1em; padding-right: 1em; text-align: center; vertical-align: top\">Sehr kosmisch</td>\n",
       "        <td style=\"padding-left: 1em; padding-right: 1em; text-align: center; vertical-align: top\">Harmonia</td>\n",
       "    </tr>\n",
       "    <tr>\n",
       "        <td style=\"padding-left: 1em; padding-right: 1em; text-align: center; vertical-align: top\">b80344d063b5ccb3212f76538<br>f3d9e43d87dca9e ...</td>\n",
       "        <td style=\"padding-left: 1em; padding-right: 1em; text-align: center; vertical-align: top\">SOHQWYZ12A6D4FA701</td>\n",
       "        <td style=\"padding-left: 1em; padding-right: 1em; text-align: center; vertical-align: top\">1</td>\n",
       "        <td style=\"padding-left: 1em; padding-right: 1em; text-align: center; vertical-align: top\">Heaven's gonna burn your<br>eyes ...</td>\n",
       "        <td style=\"padding-left: 1em; padding-right: 1em; text-align: center; vertical-align: top\">Thievery Corporation<br>feat. Emiliana Torrini ...</td>\n",
       "    </tr>\n",
       "</table>\n",
       "<table frame=\"box\" rules=\"cols\">\n",
       "    <tr>\n",
       "        <th style=\"padding-left: 1em; padding-right: 1em; text-align: center\">song</th>\n",
       "    </tr>\n",
       "    <tr>\n",
       "        <td style=\"padding-left: 1em; padding-right: 1em; text-align: center; vertical-align: top\">The Cove - Jack Johnson</td>\n",
       "    </tr>\n",
       "    <tr>\n",
       "        <td style=\"padding-left: 1em; padding-right: 1em; text-align: center; vertical-align: top\">Entre Dos Aguas - Paco De<br>Lucia ...</td>\n",
       "    </tr>\n",
       "    <tr>\n",
       "        <td style=\"padding-left: 1em; padding-right: 1em; text-align: center; vertical-align: top\">Stronger - Kanye West</td>\n",
       "    </tr>\n",
       "    <tr>\n",
       "        <td style=\"padding-left: 1em; padding-right: 1em; text-align: center; vertical-align: top\">Constellations - Jack<br>Johnson ...</td>\n",
       "    </tr>\n",
       "    <tr>\n",
       "        <td style=\"padding-left: 1em; padding-right: 1em; text-align: center; vertical-align: top\">Learn To Fly - Foo<br>Fighters ...</td>\n",
       "    </tr>\n",
       "    <tr>\n",
       "        <td style=\"padding-left: 1em; padding-right: 1em; text-align: center; vertical-align: top\">Apuesta Por El Rock 'N'<br>Roll - Héroes del ...</td>\n",
       "    </tr>\n",
       "    <tr>\n",
       "        <td style=\"padding-left: 1em; padding-right: 1em; text-align: center; vertical-align: top\">Paper Gangsta - Lady GaGa</td>\n",
       "    </tr>\n",
       "    <tr>\n",
       "        <td style=\"padding-left: 1em; padding-right: 1em; text-align: center; vertical-align: top\">Stacked Actors - Foo<br>Fighters ...</td>\n",
       "    </tr>\n",
       "    <tr>\n",
       "        <td style=\"padding-left: 1em; padding-right: 1em; text-align: center; vertical-align: top\">Sehr kosmisch - Harmonia</td>\n",
       "    </tr>\n",
       "    <tr>\n",
       "        <td style=\"padding-left: 1em; padding-right: 1em; text-align: center; vertical-align: top\">Heaven's gonna burn your<br>eyes - Thievery ...</td>\n",
       "    </tr>\n",
       "</table>\n",
       "[10 rows x 6 columns]<br/>\n",
       "</div>"
      ],
      "text/plain": [
       "Columns:\n",
       "\tuser_id\tstr\n",
       "\tsong_id\tstr\n",
       "\tlisten_count\tint\n",
       "\ttitle\tstr\n",
       "\tartist\tstr\n",
       "\tsong\tstr\n",
       "\n",
       "Rows: 10\n",
       "\n",
       "Data:\n",
       "+-------------------------------+--------------------+--------------+\n",
       "|            user_id            |      song_id       | listen_count |\n",
       "+-------------------------------+--------------------+--------------+\n",
       "| b80344d063b5ccb3212f76538f... | SOAKIMP12A8C130995 |      1       |\n",
       "| b80344d063b5ccb3212f76538f... | SOBBMDR12A8C13253B |      2       |\n",
       "| b80344d063b5ccb3212f76538f... | SOBXHDL12A81C204C0 |      1       |\n",
       "| b80344d063b5ccb3212f76538f... | SOBYHAJ12A6701BF1D |      1       |\n",
       "| b80344d063b5ccb3212f76538f... | SODACBL12A8C13C273 |      1       |\n",
       "| b80344d063b5ccb3212f76538f... | SODDNQT12A6D4F5F7E |      5       |\n",
       "| b80344d063b5ccb3212f76538f... | SODXRTY12AB0180F3B |      1       |\n",
       "| b80344d063b5ccb3212f76538f... | SOFGUAY12AB017B0A8 |      1       |\n",
       "| b80344d063b5ccb3212f76538f... | SOFRQTD12A81C233C0 |      1       |\n",
       "| b80344d063b5ccb3212f76538f... | SOHQWYZ12A6D4FA701 |      1       |\n",
       "+-------------------------------+--------------------+--------------+\n",
       "+-------------------------------+-------------------------------+\n",
       "|             title             |             artist            |\n",
       "+-------------------------------+-------------------------------+\n",
       "|            The Cove           |          Jack Johnson         |\n",
       "|        Entre Dos Aguas        |         Paco De Lucia         |\n",
       "|            Stronger           |           Kanye West          |\n",
       "|         Constellations        |          Jack Johnson         |\n",
       "|          Learn To Fly         |          Foo Fighters         |\n",
       "|  Apuesta Por El Rock 'N' Roll |      Héroes del Silencio      |\n",
       "|         Paper Gangsta         |           Lady GaGa           |\n",
       "|         Stacked Actors        |          Foo Fighters         |\n",
       "|         Sehr kosmisch         |            Harmonia           |\n",
       "| Heaven's gonna burn your eyes | Thievery Corporation feat.... |\n",
       "+-------------------------------+-------------------------------+\n",
       "+-------------------------------+\n",
       "|              song             |\n",
       "+-------------------------------+\n",
       "|    The Cove - Jack Johnson    |\n",
       "| Entre Dos Aguas - Paco De ... |\n",
       "|     Stronger - Kanye West     |\n",
       "| Constellations - Jack Johnson |\n",
       "|  Learn To Fly - Foo Fighters  |\n",
       "| Apuesta Por El Rock 'N' Ro... |\n",
       "|   Paper Gangsta - Lady GaGa   |\n",
       "| Stacked Actors - Foo Fighters |\n",
       "|    Sehr kosmisch - Harmonia   |\n",
       "| Heaven's gonna burn your e... |\n",
       "+-------------------------------+\n",
       "[10 rows x 6 columns]"
      ]
     },
     "execution_count": 32,
     "metadata": {},
     "output_type": "execute_result"
    }
   ],
   "source": [
    "song_data.head()"
   ]
  },
  {
   "cell_type": "code",
   "execution_count": 23,
   "metadata": {
    "collapsed": false
   },
   "outputs": [
    {
     "name": "stdout",
     "output_type": "stream",
     "text": [
      "Unique users count for Kanye West: 2522\n",
      "Unique users count for Foo Fighters: 2055\n",
      "Unique users count for Taylor Swift: 3246\n",
      "Unique users count for Lady GaGa: 2928\n"
     ]
    }
   ],
   "source": [
    "artists = ['Kanye West', 'Foo Fighters', 'Taylor Swift', 'Lady GaGa']\n",
    "\n",
    "for artist in artists:\n",
    "    users_per_artist = song_data[song_data['artist'] == artist]['user_id']\n",
    "    \n",
    "    print \"Unique users count for %s: %d\" % (artist, len(users_per_artist.unique()))"
   ]
  },
  {
   "cell_type": "markdown",
   "metadata": {},
   "source": [
    "** 2. Using groupby-aggregate to find the most popular and least popular artist:** each row of `song_data` contains the number of times a user listened to particular song by a particular artist. If we would like to know how many times any song by *Kanye West* was listened to, we need to select all the rows where `'artist’ == 'Kanye West'` and sum the `listen_count` column. If we would like to find the most popular artist, we would need to follow this procedure for each artist, which would be very slow. Instead, you will learn about a very important method:\n",
    "\n",
    "```python\n",
    ".groupby()\n",
    "```\n",
    "\n",
    "You can read the documentation about `groupby` [here](https://turi.com/products/create/docs/generated/graphlab.SFrame.groupby.html#graphlab.SFrame.groupby). The `.groupby` method computes an aggregate (in our case, the sum of the `listen_count`) for each distinct value in a column (in our case, the `artist` column).\n",
    "\n",
    "Follow these steps to find the most popular artist in the dataset:\n",
    "\n",
    "The `.groupby` method has two important parameters:\n",
    "1. `key_columns`, which takes the column we want to group, in our case, `artist`\n",
    "2. `operations`, where we define the aggregation operation we using, in our case, we want to sum over the `listen_count`.\n",
    "\n",
    "With this in mind, the following command will compute the sum `listen_count` for each artist and return an SFrame with the results:\n",
    "\n",
    "```python\n",
    "song_data.groupby(\n",
    "    key_columns='artist', \n",
    "    operations={'total_count': graphlab.aggregate.SUM('listen_count')})\n",
    "```\n",
    "\n",
    "the total number of listens for each artist will be stored in `total_count`.\n",
    "\n",
    "Sort the resulting SFrame according to the `total_count`, and find the artist with the most popular and least popular artist in the dataset.\n"
   ]
  },
  {
   "cell_type": "code",
   "execution_count": 46,
   "metadata": {
    "collapsed": false
   },
   "outputs": [
    {
     "name": "stdout",
     "output_type": "stream",
     "text": [
      "The least popular artist is William Tabbert with 14\n"
     ]
    }
   ],
   "source": [
    "total_count_per_artist = song_data.groupby(\n",
    "    key_columns='artist', \n",
    "    operations={'total_count': graphlab.aggregate.SUM('listen_count')})\n",
    "\n",
    "comparing_artists = ['William Tabbert', 'Velvet Underground & Nico', 'Kanye West', 'The Cool Kids']\n",
    "least_popular = ('', 40000)\n",
    "\n",
    "for artist in comparing_artists:\n",
    "    row = total_count_per_artist[total_count_per_artist['artist'] == artist]\n",
    "    count = row['total_count'][0]\n",
    "    \n",
    "    if count < least_popular[1]:\n",
    "        least_popular = (artist, count)\n",
    "        \n",
    "\n",
    "print 'The least popular artist is %s with %d' % least_popular "
   ]
  },
  {
   "cell_type": "code",
   "execution_count": 47,
   "metadata": {
    "collapsed": false
   },
   "outputs": [
    {
     "data": {
      "text/html": [
       "<div style=\"max-height:1000px;max-width:1500px;overflow:auto;\"><table frame=\"box\" rules=\"cols\">\n",
       "    <tr>\n",
       "        <th style=\"padding-left: 1em; padding-right: 1em; text-align: center\">artist</th>\n",
       "        <th style=\"padding-left: 1em; padding-right: 1em; text-align: center\">total_count</th>\n",
       "    </tr>\n",
       "    <tr>\n",
       "        <td style=\"padding-left: 1em; padding-right: 1em; text-align: center; vertical-align: top\">Kings Of Leon</td>\n",
       "        <td style=\"padding-left: 1em; padding-right: 1em; text-align: center; vertical-align: top\">43218</td>\n",
       "    </tr>\n",
       "    <tr>\n",
       "        <td style=\"padding-left: 1em; padding-right: 1em; text-align: center; vertical-align: top\">Dwight Yoakam</td>\n",
       "        <td style=\"padding-left: 1em; padding-right: 1em; text-align: center; vertical-align: top\">40619</td>\n",
       "    </tr>\n",
       "    <tr>\n",
       "        <td style=\"padding-left: 1em; padding-right: 1em; text-align: center; vertical-align: top\">Björk</td>\n",
       "        <td style=\"padding-left: 1em; padding-right: 1em; text-align: center; vertical-align: top\">38889</td>\n",
       "    </tr>\n",
       "    <tr>\n",
       "        <td style=\"padding-left: 1em; padding-right: 1em; text-align: center; vertical-align: top\">Coldplay</td>\n",
       "        <td style=\"padding-left: 1em; padding-right: 1em; text-align: center; vertical-align: top\">35362</td>\n",
       "    </tr>\n",
       "    <tr>\n",
       "        <td style=\"padding-left: 1em; padding-right: 1em; text-align: center; vertical-align: top\">Florence + The Machine</td>\n",
       "        <td style=\"padding-left: 1em; padding-right: 1em; text-align: center; vertical-align: top\">33387</td>\n",
       "    </tr>\n",
       "    <tr>\n",
       "        <td style=\"padding-left: 1em; padding-right: 1em; text-align: center; vertical-align: top\">Justin Bieber</td>\n",
       "        <td style=\"padding-left: 1em; padding-right: 1em; text-align: center; vertical-align: top\">29715</td>\n",
       "    </tr>\n",
       "    <tr>\n",
       "        <td style=\"padding-left: 1em; padding-right: 1em; text-align: center; vertical-align: top\">Alliance Ethnik</td>\n",
       "        <td style=\"padding-left: 1em; padding-right: 1em; text-align: center; vertical-align: top\">26689</td>\n",
       "    </tr>\n",
       "    <tr>\n",
       "        <td style=\"padding-left: 1em; padding-right: 1em; text-align: center; vertical-align: top\">OneRepublic</td>\n",
       "        <td style=\"padding-left: 1em; padding-right: 1em; text-align: center; vertical-align: top\">25754</td>\n",
       "    </tr>\n",
       "    <tr>\n",
       "        <td style=\"padding-left: 1em; padding-right: 1em; text-align: center; vertical-align: top\">Train</td>\n",
       "        <td style=\"padding-left: 1em; padding-right: 1em; text-align: center; vertical-align: top\">25402</td>\n",
       "    </tr>\n",
       "    <tr>\n",
       "        <td style=\"padding-left: 1em; padding-right: 1em; text-align: center; vertical-align: top\">The Black Keys</td>\n",
       "        <td style=\"padding-left: 1em; padding-right: 1em; text-align: center; vertical-align: top\">22184</td>\n",
       "    </tr>\n",
       "</table>\n",
       "[3375 rows x 2 columns]<br/>Note: Only the head of the SFrame is printed.<br/>You can use print_rows(num_rows=m, num_columns=n) to print more rows and columns.\n",
       "</div>"
      ],
      "text/plain": [
       "Columns:\n",
       "\tartist\tstr\n",
       "\ttotal_count\tint\n",
       "\n",
       "Rows: 3375\n",
       "\n",
       "Data:\n",
       "+------------------------+-------------+\n",
       "|         artist         | total_count |\n",
       "+------------------------+-------------+\n",
       "|     Kings Of Leon      |    43218    |\n",
       "|     Dwight Yoakam      |    40619    |\n",
       "|         Björk          |    38889    |\n",
       "|        Coldplay        |    35362    |\n",
       "| Florence + The Machine |    33387    |\n",
       "|     Justin Bieber      |    29715    |\n",
       "|    Alliance Ethnik     |    26689    |\n",
       "|      OneRepublic       |    25754    |\n",
       "|         Train          |    25402    |\n",
       "|     The Black Keys     |    22184    |\n",
       "+------------------------+-------------+\n",
       "[3375 rows x 2 columns]\n",
       "Note: Only the head of the SFrame is printed.\n",
       "You can use print_rows(num_rows=m, num_columns=n) to print more rows and columns."
      ]
     },
     "execution_count": 47,
     "metadata": {},
     "output_type": "execute_result"
    }
   ],
   "source": [
    "total_count_per_artist.sort('total_count', ascending=False)"
   ]
  },
  {
   "cell_type": "markdown",
   "metadata": {},
   "source": [
    " ** 3. Using groupby-aggregate to find the most recommended songs:** Now that we learned how to use `.groupby()` to compute aggregates for each value in a column, let’s use to find the song that is most recommended by the `personalized_model` model we learned in the iPython notebook above. Follow these steps to find the most recommended song:"
   ]
  },
  {
   "cell_type": "markdown",
   "metadata": {},
   "source": [
    "* Split the data into 80% training, 20% testing, using seed=0, as was done in the iPython notebook above."
   ]
  },
  {
   "cell_type": "code",
   "execution_count": 26,
   "metadata": {
    "collapsed": true
   },
   "outputs": [],
   "source": [
    "train_data, test_data = song_data.random_split(.8, seed=0)"
   ]
  },
  {
   "cell_type": "markdown",
   "metadata": {},
   "source": [
    "* Train an `item_similarity_recommender`, as done in the iPython notebook, using the training data."
   ]
  },
  {
   "cell_type": "code",
   "execution_count": 27,
   "metadata": {
    "collapsed": false
   },
   "outputs": [
    {
     "data": {
      "text/html": [
       "<pre>Recsys training: model = item_similarity</pre>"
      ],
      "text/plain": [
       "Recsys training: model = item_similarity"
      ]
     },
     "metadata": {},
     "output_type": "display_data"
    },
    {
     "data": {
      "text/html": [
       "<pre>Warning: Ignoring columns song_id, listen_count, title, artist;</pre>"
      ],
      "text/plain": [
       "Warning: Ignoring columns song_id, listen_count, title, artist;"
      ]
     },
     "metadata": {},
     "output_type": "display_data"
    },
    {
     "data": {
      "text/html": [
       "<pre>    To use one of these as a target column, set target = <column_name></pre>"
      ],
      "text/plain": [
       "    To use one of these as a target column, set target = <column_name>"
      ]
     },
     "metadata": {},
     "output_type": "display_data"
    },
    {
     "data": {
      "text/html": [
       "<pre>    and use a method that allows the use of a target.</pre>"
      ],
      "text/plain": [
       "    and use a method that allows the use of a target."
      ]
     },
     "metadata": {},
     "output_type": "display_data"
    },
    {
     "data": {
      "text/html": [
       "<pre>Preparing data set.</pre>"
      ],
      "text/plain": [
       "Preparing data set."
      ]
     },
     "metadata": {},
     "output_type": "display_data"
    },
    {
     "data": {
      "text/html": [
       "<pre>    Data has 893580 observations with 66085 users and 9952 items.</pre>"
      ],
      "text/plain": [
       "    Data has 893580 observations with 66085 users and 9952 items."
      ]
     },
     "metadata": {},
     "output_type": "display_data"
    },
    {
     "data": {
      "text/html": [
       "<pre>    Data prepared in: 0.9202s</pre>"
      ],
      "text/plain": [
       "    Data prepared in: 0.9202s"
      ]
     },
     "metadata": {},
     "output_type": "display_data"
    },
    {
     "data": {
      "text/html": [
       "<pre>Training model from provided data.</pre>"
      ],
      "text/plain": [
       "Training model from provided data."
      ]
     },
     "metadata": {},
     "output_type": "display_data"
    },
    {
     "data": {
      "text/html": [
       "<pre>Gathering per-item and per-user statistics.</pre>"
      ],
      "text/plain": [
       "Gathering per-item and per-user statistics."
      ]
     },
     "metadata": {},
     "output_type": "display_data"
    },
    {
     "data": {
      "text/html": [
       "<pre>+--------------------------------+------------+</pre>"
      ],
      "text/plain": [
       "+--------------------------------+------------+"
      ]
     },
     "metadata": {},
     "output_type": "display_data"
    },
    {
     "data": {
      "text/html": [
       "<pre>| Elapsed Time (Item Statistics) | % Complete |</pre>"
      ],
      "text/plain": [
       "| Elapsed Time (Item Statistics) | % Complete |"
      ]
     },
     "metadata": {},
     "output_type": "display_data"
    },
    {
     "data": {
      "text/html": [
       "<pre>+--------------------------------+------------+</pre>"
      ],
      "text/plain": [
       "+--------------------------------+------------+"
      ]
     },
     "metadata": {},
     "output_type": "display_data"
    },
    {
     "data": {
      "text/html": [
       "<pre>| 1.931ms                        | 1.5        |</pre>"
      ],
      "text/plain": [
       "| 1.931ms                        | 1.5        |"
      ]
     },
     "metadata": {},
     "output_type": "display_data"
    },
    {
     "data": {
      "text/html": [
       "<pre>| 29.833ms                       | 100        |</pre>"
      ],
      "text/plain": [
       "| 29.833ms                       | 100        |"
      ]
     },
     "metadata": {},
     "output_type": "display_data"
    },
    {
     "data": {
      "text/html": [
       "<pre>+--------------------------------+------------+</pre>"
      ],
      "text/plain": [
       "+--------------------------------+------------+"
      ]
     },
     "metadata": {},
     "output_type": "display_data"
    },
    {
     "data": {
      "text/html": [
       "<pre>Setting up lookup tables.</pre>"
      ],
      "text/plain": [
       "Setting up lookup tables."
      ]
     },
     "metadata": {},
     "output_type": "display_data"
    },
    {
     "data": {
      "text/html": [
       "<pre>Processing data in one pass using dense lookup tables.</pre>"
      ],
      "text/plain": [
       "Processing data in one pass using dense lookup tables."
      ]
     },
     "metadata": {},
     "output_type": "display_data"
    },
    {
     "data": {
      "text/html": [
       "<pre>+-------------------------------------+------------------+-----------------+</pre>"
      ],
      "text/plain": [
       "+-------------------------------------+------------------+-----------------+"
      ]
     },
     "metadata": {},
     "output_type": "display_data"
    },
    {
     "data": {
      "text/html": [
       "<pre>| Elapsed Time (Constructing Lookups) | Total % Complete | Items Processed |</pre>"
      ],
      "text/plain": [
       "| Elapsed Time (Constructing Lookups) | Total % Complete | Items Processed |"
      ]
     },
     "metadata": {},
     "output_type": "display_data"
    },
    {
     "data": {
      "text/html": [
       "<pre>+-------------------------------------+------------------+-----------------+</pre>"
      ],
      "text/plain": [
       "+-------------------------------------+------------------+-----------------+"
      ]
     },
     "metadata": {},
     "output_type": "display_data"
    },
    {
     "data": {
      "text/html": [
       "<pre>| 281.729ms                           | 0                | 0               |</pre>"
      ],
      "text/plain": [
       "| 281.729ms                           | 0                | 0               |"
      ]
     },
     "metadata": {},
     "output_type": "display_data"
    },
    {
     "data": {
      "text/html": [
       "<pre>| 730.808ms                           | 100              | 9952            |</pre>"
      ],
      "text/plain": [
       "| 730.808ms                           | 100              | 9952            |"
      ]
     },
     "metadata": {},
     "output_type": "display_data"
    },
    {
     "data": {
      "text/html": [
       "<pre>+-------------------------------------+------------------+-----------------+</pre>"
      ],
      "text/plain": [
       "+-------------------------------------+------------------+-----------------+"
      ]
     },
     "metadata": {},
     "output_type": "display_data"
    },
    {
     "data": {
      "text/html": [
       "<pre>Finalizing lookup tables.</pre>"
      ],
      "text/plain": [
       "Finalizing lookup tables."
      ]
     },
     "metadata": {},
     "output_type": "display_data"
    },
    {
     "data": {
      "text/html": [
       "<pre>Generating candidate set for working with new users.</pre>"
      ],
      "text/plain": [
       "Generating candidate set for working with new users."
      ]
     },
     "metadata": {},
     "output_type": "display_data"
    },
    {
     "data": {
      "text/html": [
       "<pre>Finished training in 1.78997s</pre>"
      ],
      "text/plain": [
       "Finished training in 1.78997s"
      ]
     },
     "metadata": {},
     "output_type": "display_data"
    }
   ],
   "source": [
    "personalized_model = graphlab.item_similarity_recommender.create(train_data,\n",
    "                                                                user_id='user_id',\n",
    "                                                                item_id='song')"
   ]
  },
  {
   "cell_type": "markdown",
   "metadata": {},
   "source": [
    "* Next, we are going to make recommendations for the users in the test data, but there are over 200,000 users (58,628 unique users) in the test set. Computing recommendations for these many users can be slow in some computers. Thus, we will use only the first 10,000 users only in this question. Using this command to select this subset of users:"
   ]
  },
  {
   "cell_type": "code",
   "execution_count": 28,
   "metadata": {
    "collapsed": true
   },
   "outputs": [],
   "source": [
    "subset_test_users = test_data['user_id'].unique()[0:10000]"
   ]
  },
  {
   "cell_type": "markdown",
   "metadata": {},
   "source": [
    "* Let’s compute one recommended song for each of these test users. Use this command to compute these recommendations:"
   ]
  },
  {
   "cell_type": "code",
   "execution_count": 34,
   "metadata": {
    "collapsed": false
   },
   "outputs": [
    {
     "data": {
      "text/html": [
       "<pre>recommendations finished on 1000/10000 queries. users per second: 21921.7</pre>"
      ],
      "text/plain": [
       "recommendations finished on 1000/10000 queries. users per second: 21921.7"
      ]
     },
     "metadata": {},
     "output_type": "display_data"
    },
    {
     "data": {
      "text/html": [
       "<pre>recommendations finished on 2000/10000 queries. users per second: 25958.2</pre>"
      ],
      "text/plain": [
       "recommendations finished on 2000/10000 queries. users per second: 25958.2"
      ]
     },
     "metadata": {},
     "output_type": "display_data"
    },
    {
     "data": {
      "text/html": [
       "<pre>recommendations finished on 3000/10000 queries. users per second: 28029</pre>"
      ],
      "text/plain": [
       "recommendations finished on 3000/10000 queries. users per second: 28029"
      ]
     },
     "metadata": {},
     "output_type": "display_data"
    },
    {
     "data": {
      "text/html": [
       "<pre>recommendations finished on 4000/10000 queries. users per second: 29531.4</pre>"
      ],
      "text/plain": [
       "recommendations finished on 4000/10000 queries. users per second: 29531.4"
      ]
     },
     "metadata": {},
     "output_type": "display_data"
    },
    {
     "data": {
      "text/html": [
       "<pre>recommendations finished on 5000/10000 queries. users per second: 30564.6</pre>"
      ],
      "text/plain": [
       "recommendations finished on 5000/10000 queries. users per second: 30564.6"
      ]
     },
     "metadata": {},
     "output_type": "display_data"
    },
    {
     "data": {
      "text/html": [
       "<pre>recommendations finished on 6000/10000 queries. users per second: 31450.5</pre>"
      ],
      "text/plain": [
       "recommendations finished on 6000/10000 queries. users per second: 31450.5"
      ]
     },
     "metadata": {},
     "output_type": "display_data"
    },
    {
     "data": {
      "text/html": [
       "<pre>recommendations finished on 7000/10000 queries. users per second: 32190.3</pre>"
      ],
      "text/plain": [
       "recommendations finished on 7000/10000 queries. users per second: 32190.3"
      ]
     },
     "metadata": {},
     "output_type": "display_data"
    },
    {
     "data": {
      "text/html": [
       "<pre>recommendations finished on 8000/10000 queries. users per second: 32529.3</pre>"
      ],
      "text/plain": [
       "recommendations finished on 8000/10000 queries. users per second: 32529.3"
      ]
     },
     "metadata": {},
     "output_type": "display_data"
    },
    {
     "data": {
      "text/html": [
       "<pre>recommendations finished on 9000/10000 queries. users per second: 32716</pre>"
      ],
      "text/plain": [
       "recommendations finished on 9000/10000 queries. users per second: 32716"
      ]
     },
     "metadata": {},
     "output_type": "display_data"
    },
    {
     "data": {
      "text/html": [
       "<pre>recommendations finished on 10000/10000 queries. users per second: 32851.3</pre>"
      ],
      "text/plain": [
       "recommendations finished on 10000/10000 queries. users per second: 32851.3"
      ]
     },
     "metadata": {},
     "output_type": "display_data"
    },
    {
     "data": {
      "text/html": [
       "<div style=\"max-height:1000px;max-width:1500px;overflow:auto;\"><table frame=\"box\" rules=\"cols\">\n",
       "    <tr>\n",
       "        <th style=\"padding-left: 1em; padding-right: 1em; text-align: center\">user_id</th>\n",
       "        <th style=\"padding-left: 1em; padding-right: 1em; text-align: center\">song</th>\n",
       "        <th style=\"padding-left: 1em; padding-right: 1em; text-align: center\">score</th>\n",
       "        <th style=\"padding-left: 1em; padding-right: 1em; text-align: center\">rank</th>\n",
       "    </tr>\n",
       "    <tr>\n",
       "        <td style=\"padding-left: 1em; padding-right: 1em; text-align: center; vertical-align: top\">c067c22072a17d33310d7223d<br>7b79f819e48cf42 ...</td>\n",
       "        <td style=\"padding-left: 1em; padding-right: 1em; text-align: center; vertical-align: top\">Grind With Me (Explicit<br>Version) - Pretty Ricky ...</td>\n",
       "        <td style=\"padding-left: 1em; padding-right: 1em; text-align: center; vertical-align: top\">0.0459424376488</td>\n",
       "        <td style=\"padding-left: 1em; padding-right: 1em; text-align: center; vertical-align: top\">1</td>\n",
       "    </tr>\n",
       "    <tr>\n",
       "        <td style=\"padding-left: 1em; padding-right: 1em; text-align: center; vertical-align: top\">696787172dd3f5169dc94deef<br>97e427cee86147d ...</td>\n",
       "        <td style=\"padding-left: 1em; padding-right: 1em; text-align: center; vertical-align: top\">Senza Una Donna (Without<br>A Woman) - Zucchero / ...</td>\n",
       "        <td style=\"padding-left: 1em; padding-right: 1em; text-align: center; vertical-align: top\">0.017026577677</td>\n",
       "        <td style=\"padding-left: 1em; padding-right: 1em; text-align: center; vertical-align: top\">1</td>\n",
       "    </tr>\n",
       "    <tr>\n",
       "        <td style=\"padding-left: 1em; padding-right: 1em; text-align: center; vertical-align: top\">532e98155cbfd1e1a474a28ed<br>96e59e50f7c5baf ...</td>\n",
       "        <td style=\"padding-left: 1em; padding-right: 1em; text-align: center; vertical-align: top\">Jive Talkin' (Album<br>Version) - Bee Gees ...</td>\n",
       "        <td style=\"padding-left: 1em; padding-right: 1em; text-align: center; vertical-align: top\">0.0118288653237</td>\n",
       "        <td style=\"padding-left: 1em; padding-right: 1em; text-align: center; vertical-align: top\">1</td>\n",
       "    </tr>\n",
       "    <tr>\n",
       "        <td style=\"padding-left: 1em; padding-right: 1em; text-align: center; vertical-align: top\">18325842a941bc58449ee71d6<br>59a08d1c1bd2383 ...</td>\n",
       "        <td style=\"padding-left: 1em; padding-right: 1em; text-align: center; vertical-align: top\">Goodnight And Goodbye -<br>Jonas Brothers ...</td>\n",
       "        <td style=\"padding-left: 1em; padding-right: 1em; text-align: center; vertical-align: top\">0.0159257985651</td>\n",
       "        <td style=\"padding-left: 1em; padding-right: 1em; text-align: center; vertical-align: top\">1</td>\n",
       "    </tr>\n",
       "    <tr>\n",
       "        <td style=\"padding-left: 1em; padding-right: 1em; text-align: center; vertical-align: top\">507433946f534f5d25ad1be30<br>2edb9a2376f503c ...</td>\n",
       "        <td style=\"padding-left: 1em; padding-right: 1em; text-align: center; vertical-align: top\">Find The Cost Of Freedom<br>- Crosby_ Stills_ Nash &amp; ...</td>\n",
       "        <td style=\"padding-left: 1em; padding-right: 1em; text-align: center; vertical-align: top\">0.0165806589303</td>\n",
       "        <td style=\"padding-left: 1em; padding-right: 1em; text-align: center; vertical-align: top\">1</td>\n",
       "    </tr>\n",
       "    <tr>\n",
       "        <td style=\"padding-left: 1em; padding-right: 1em; text-align: center; vertical-align: top\">18fafad477f9d72ff86f7d0bd<br>838a6573de0f64a ...</td>\n",
       "        <td style=\"padding-left: 1em; padding-right: 1em; text-align: center; vertical-align: top\">Rabbit Heart (Raise It<br>Up) - Florence + The ...</td>\n",
       "        <td style=\"padding-left: 1em; padding-right: 1em; text-align: center; vertical-align: top\">0.0799399726093</td>\n",
       "        <td style=\"padding-left: 1em; padding-right: 1em; text-align: center; vertical-align: top\">1</td>\n",
       "    </tr>\n",
       "    <tr>\n",
       "        <td style=\"padding-left: 1em; padding-right: 1em; text-align: center; vertical-align: top\">fe85b96ba1983219b296f6b48<br>69dd29eb2b72ff9 ...</td>\n",
       "        <td style=\"padding-left: 1em; padding-right: 1em; text-align: center; vertical-align: top\">Secrets - OneRepublic</td>\n",
       "        <td style=\"padding-left: 1em; padding-right: 1em; text-align: center; vertical-align: top\">0.0788827141126</td>\n",
       "        <td style=\"padding-left: 1em; padding-right: 1em; text-align: center; vertical-align: top\">1</td>\n",
       "    </tr>\n",
       "    <tr>\n",
       "        <td style=\"padding-left: 1em; padding-right: 1em; text-align: center; vertical-align: top\">225ea420b4bede50919d1bfe2<br>4a599691522d176 ...</td>\n",
       "        <td style=\"padding-left: 1em; padding-right: 1em; text-align: center; vertical-align: top\">Clocks - Coldplay</td>\n",
       "        <td style=\"padding-left: 1em; padding-right: 1em; text-align: center; vertical-align: top\">0.0271030251796</td>\n",
       "        <td style=\"padding-left: 1em; padding-right: 1em; text-align: center; vertical-align: top\">1</td>\n",
       "    </tr>\n",
       "    <tr>\n",
       "        <td style=\"padding-left: 1em; padding-right: 1em; text-align: center; vertical-align: top\">95dc7e2b188b1148b2d25f4e6<br>b6e94afacc4efc3 ...</td>\n",
       "        <td style=\"padding-left: 1em; padding-right: 1em; text-align: center; vertical-align: top\">Bust a Move - Infected<br>Mushroom ...</td>\n",
       "        <td style=\"padding-left: 1em; padding-right: 1em; text-align: center; vertical-align: top\">0.0534738540649</td>\n",
       "        <td style=\"padding-left: 1em; padding-right: 1em; text-align: center; vertical-align: top\">1</td>\n",
       "    </tr>\n",
       "    <tr>\n",
       "        <td style=\"padding-left: 1em; padding-right: 1em; text-align: center; vertical-align: top\">4a3a1ae2748f12f7ab921a47d<br>6d79abf82e3e325 ...</td>\n",
       "        <td style=\"padding-left: 1em; padding-right: 1em; text-align: center; vertical-align: top\">Isis (Spam Remix) -<br>Alaska Y Dinarama ...</td>\n",
       "        <td style=\"padding-left: 1em; padding-right: 1em; text-align: center; vertical-align: top\">0.04180302118</td>\n",
       "        <td style=\"padding-left: 1em; padding-right: 1em; text-align: center; vertical-align: top\">1</td>\n",
       "    </tr>\n",
       "</table>\n",
       "[10000 rows x 4 columns]<br/>Note: Only the head of the SFrame is printed.<br/>You can use print_rows(num_rows=m, num_columns=n) to print more rows and columns.\n",
       "</div>"
      ],
      "text/plain": [
       "Columns:\n",
       "\tuser_id\tstr\n",
       "\tsong\tstr\n",
       "\tscore\tfloat\n",
       "\trank\tint\n",
       "\n",
       "Rows: 10000\n",
       "\n",
       "Data:\n",
       "+-------------------------------+-------------------------------+\n",
       "|            user_id            |              song             |\n",
       "+-------------------------------+-------------------------------+\n",
       "| c067c22072a17d33310d7223d7... | Grind With Me (Explicit Ve... |\n",
       "| 696787172dd3f5169dc94deef9... | Senza Una Donna (Without A... |\n",
       "| 532e98155cbfd1e1a474a28ed9... | Jive Talkin' (Album Versio... |\n",
       "| 18325842a941bc58449ee71d65... | Goodnight And Goodbye - Jo... |\n",
       "| 507433946f534f5d25ad1be302... | Find The Cost Of Freedom -... |\n",
       "| 18fafad477f9d72ff86f7d0bd8... | Rabbit Heart (Raise It Up)... |\n",
       "| fe85b96ba1983219b296f6b486... |     Secrets - OneRepublic     |\n",
       "| 225ea420b4bede50919d1bfe24... |       Clocks - Coldplay       |\n",
       "| 95dc7e2b188b1148b2d25f4e6b... | Bust a Move - Infected Mus... |\n",
       "| 4a3a1ae2748f12f7ab921a47d6... | Isis (Spam Remix) - Alaska... |\n",
       "+-------------------------------+-------------------------------+\n",
       "+-----------------+------+\n",
       "|      score      | rank |\n",
       "+-----------------+------+\n",
       "| 0.0459424376488 |  1   |\n",
       "|  0.017026577677 |  1   |\n",
       "| 0.0118288653237 |  1   |\n",
       "| 0.0159257985651 |  1   |\n",
       "| 0.0165806589303 |  1   |\n",
       "| 0.0799399726093 |  1   |\n",
       "| 0.0788827141126 |  1   |\n",
       "| 0.0271030251796 |  1   |\n",
       "| 0.0534738540649 |  1   |\n",
       "|  0.04180302118  |  1   |\n",
       "+-----------------+------+\n",
       "[10000 rows x 4 columns]\n",
       "Note: Only the head of the SFrame is printed.\n",
       "You can use print_rows(num_rows=m, num_columns=n) to print more rows and columns."
      ]
     },
     "execution_count": 34,
     "metadata": {},
     "output_type": "execute_result"
    }
   ],
   "source": [
    "recommended_songs = personalized_model.recommend(subset_test_users, k=1)\n",
    "recommended_songs"
   ]
  },
  {
   "cell_type": "markdown",
   "metadata": {},
   "source": [
    "* Finally, we can use `.groupby()` to find the most recommended song! :) When we used `.groupby()` in the previous question, we summed up the total `listen_count` for each artist, by setting the parameter `SUM` in the aggregator:\n",
    "\n",
    "```python\n",
    "operations={'total_count': graphlab.aggregate.SUM('listen_count')}\n",
    "```\n",
    "\n",
    "For this question, we simply want to count how often each song is recommended, so we will use the `COUNT` aggregator instead of `SUM`, and store the results in a column we will call `count` by using:\n",
    "\n",
    "```python\n",
    "operations={'count': graphlab.aggregate.COUNT()}\n",
    "```\n",
    "\n",
    "And, since we want to use the song titles as the key to the aggregator instead of of the `artist`, we use:\n",
    "\n",
    "```python\n",
    "key_columns='song'\n",
    "```\n",
    "\n",
    "* By sorting the results, you will find out the most recommended song to the first 10,000 users in the test data! **Due to randomness in train-test split, the most recommended song may come out differently for different people. This is why we chose not to assign a quiz question for this section.**"
   ]
  },
  {
   "cell_type": "code",
   "execution_count": 36,
   "metadata": {
    "collapsed": false
   },
   "outputs": [
    {
     "data": {
      "text/html": [
       "<div style=\"max-height:1000px;max-width:1500px;overflow:auto;\"><table frame=\"box\" rules=\"cols\">\n",
       "    <tr>\n",
       "        <th style=\"padding-left: 1em; padding-right: 1em; text-align: center\">song</th>\n",
       "        <th style=\"padding-left: 1em; padding-right: 1em; text-align: center\">count</th>\n",
       "    </tr>\n",
       "    <tr>\n",
       "        <td style=\"padding-left: 1em; padding-right: 1em; text-align: center; vertical-align: top\">Undo - Björk</td>\n",
       "        <td style=\"padding-left: 1em; padding-right: 1em; text-align: center; vertical-align: top\">415</td>\n",
       "    </tr>\n",
       "    <tr>\n",
       "        <td style=\"padding-left: 1em; padding-right: 1em; text-align: center; vertical-align: top\">Secrets - OneRepublic</td>\n",
       "        <td style=\"padding-left: 1em; padding-right: 1em; text-align: center; vertical-align: top\">381</td>\n",
       "    </tr>\n",
       "    <tr>\n",
       "        <td style=\"padding-left: 1em; padding-right: 1em; text-align: center; vertical-align: top\">Revelry - Kings Of Leon</td>\n",
       "        <td style=\"padding-left: 1em; padding-right: 1em; text-align: center; vertical-align: top\">229</td>\n",
       "    </tr>\n",
       "    <tr>\n",
       "        <td style=\"padding-left: 1em; padding-right: 1em; text-align: center; vertical-align: top\">You're The One - Dwight<br>Yoakam ...</td>\n",
       "        <td style=\"padding-left: 1em; padding-right: 1em; text-align: center; vertical-align: top\">164</td>\n",
       "    </tr>\n",
       "    <tr>\n",
       "        <td style=\"padding-left: 1em; padding-right: 1em; text-align: center; vertical-align: top\">Fireflies - Charttraxx<br>Karaoke ...</td>\n",
       "        <td style=\"padding-left: 1em; padding-right: 1em; text-align: center; vertical-align: top\">110</td>\n",
       "    </tr>\n",
       "    <tr>\n",
       "        <td style=\"padding-left: 1em; padding-right: 1em; text-align: center; vertical-align: top\">Sehr kosmisch - Harmonia</td>\n",
       "        <td style=\"padding-left: 1em; padding-right: 1em; text-align: center; vertical-align: top\">107</td>\n",
       "    </tr>\n",
       "    <tr>\n",
       "        <td style=\"padding-left: 1em; padding-right: 1em; text-align: center; vertical-align: top\">Hey_ Soul Sister - Train</td>\n",
       "        <td style=\"padding-left: 1em; padding-right: 1em; text-align: center; vertical-align: top\">106</td>\n",
       "    </tr>\n",
       "    <tr>\n",
       "        <td style=\"padding-left: 1em; padding-right: 1em; text-align: center; vertical-align: top\">Horn Concerto No. 4 in E<br>flat K495: II. Romance ...</td>\n",
       "        <td style=\"padding-left: 1em; padding-right: 1em; text-align: center; vertical-align: top\">90</td>\n",
       "    </tr>\n",
       "    <tr>\n",
       "        <td style=\"padding-left: 1em; padding-right: 1em; text-align: center; vertical-align: top\">OMG - Usher featuring<br>will.i.am ...</td>\n",
       "        <td style=\"padding-left: 1em; padding-right: 1em; text-align: center; vertical-align: top\">60</td>\n",
       "    </tr>\n",
       "    <tr>\n",
       "        <td style=\"padding-left: 1em; padding-right: 1em; text-align: center; vertical-align: top\">Bigger - Justin Bieber</td>\n",
       "        <td style=\"padding-left: 1em; padding-right: 1em; text-align: center; vertical-align: top\">43</td>\n",
       "    </tr>\n",
       "</table>\n",
       "[3151 rows x 2 columns]<br/>Note: Only the head of the SFrame is printed.<br/>You can use print_rows(num_rows=m, num_columns=n) to print more rows and columns.\n",
       "</div>"
      ],
      "text/plain": [
       "Columns:\n",
       "\tsong\tstr\n",
       "\tcount\tint\n",
       "\n",
       "Rows: 3151\n",
       "\n",
       "Data:\n",
       "+--------------------------------+-------+\n",
       "|              song              | count |\n",
       "+--------------------------------+-------+\n",
       "|          Undo - Björk          |  415  |\n",
       "|     Secrets - OneRepublic      |  381  |\n",
       "|    Revelry - Kings Of Leon     |  229  |\n",
       "| You're The One - Dwight Yoakam |  164  |\n",
       "| Fireflies - Charttraxx Karaoke |  110  |\n",
       "|    Sehr kosmisch - Harmonia    |  107  |\n",
       "|    Hey_ Soul Sister - Train    |  106  |\n",
       "| Horn Concerto No. 4 in E f...  |   90  |\n",
       "| OMG - Usher featuring will...  |   60  |\n",
       "|     Bigger - Justin Bieber     |   43  |\n",
       "+--------------------------------+-------+\n",
       "[3151 rows x 2 columns]\n",
       "Note: Only the head of the SFrame is printed.\n",
       "You can use print_rows(num_rows=m, num_columns=n) to print more rows and columns."
      ]
     },
     "execution_count": 36,
     "metadata": {},
     "output_type": "execute_result"
    }
   ],
   "source": [
    "recommended_songs.groupby(\n",
    "    key_columns='song', \n",
    "    operations={'count': graphlab.aggregate.COUNT()}).sort('count', ascending=False)"
   ]
  }
 ],
 "metadata": {
  "kernelspec": {
   "display_name": "Python 2",
   "language": "python",
   "name": "python2"
  },
  "language_info": {
   "codemirror_mode": {
    "name": "ipython",
    "version": 2
   },
   "file_extension": ".py",
   "mimetype": "text/x-python",
   "name": "python",
   "nbconvert_exporter": "python",
   "pygments_lexer": "ipython2",
   "version": "2.7.11"
  }
 },
 "nbformat": 4,
 "nbformat_minor": 0
}
